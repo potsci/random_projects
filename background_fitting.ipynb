{
 "cells": [
  {
   "cell_type": "code",
   "execution_count": 70,
   "id": "384d6131",
   "metadata": {
    "scrolled": true
   },
   "outputs": [],
   "source": [
    "from matplotlib import pyplot as plt #for plots\n",
    "import numpy as np\n",
    "import pandas as pd #data\n",
    "import tkinter\n",
    "from tkinter.filedialog import askopenfilename\n",
    "import seaborn as sns #for the more beautiful plots\n",
    "import math\n",
    "from matplotlib.colors import LogNorm\n",
    "import scipy.io as scpio\n",
    "import scipy.signal\n",
    "import glob\n",
    "import cv2\n",
    "import matplotlib.image as mpimg\n",
    "from matplotlib.widgets import Slider, Button\n",
    "import os\n",
    "import glob\n",
    "import re\n",
    "import matplotlib as mpl\n",
    "import scipy\n",
    "from pathlib import Path"
   ]
  },
  {
   "cell_type": "code",
   "execution_count": 2,
   "id": "4b5e0264",
   "metadata": {},
   "outputs": [],
   "source": [
    "plt.rcParams['figure.figsize']=(20,20)\n",
    "plt.rcParams['axes.labelsize']=12\n",
    "plt.rcParams['xtick.labelsize']=12\n",
    "plt.rcParams['ytick.labelsize']=12\n",
    "plt.rcParams['legend.fontsize']=12\n",
    "plt.rcParams['legend.title_fontsize']=14\n",
    "plt.rcParams['legend.markerscale']=1\n",
    "plt.rcParams['legend.loc']='upper right'\n",
    "sns.set_style('white')"
   ]
  },
  {
   "cell_type": "code",
   "execution_count": null,
   "id": "8367c216",
   "metadata": {},
   "outputs": [],
   "source": [
    "path=\"E:\\RWTH_Aachen\\Promo\\iNano\\WTH\\\\indents_area_xx\\\\area29\" ##double \\\\ if number ist after\\\n",
    "file=\"area29_overview.tif\""
   ]
  },
  {
   "cell_type": "code",
   "execution_count": null,
   "id": "e7f6fba1",
   "metadata": {},
   "outputs": [],
   "source": [
    "print(easygui.fileopenbox())"
   ]
  },
  {
   "cell_type": "code",
   "execution_count": 3,
   "id": "9dd7f955",
   "metadata": {},
   "outputs": [
    {
     "ename": "NameError",
     "evalue": "name 'path' is not defined",
     "output_type": "error",
     "traceback": [
      "\u001b[1;31m---------------------------------------------------------------------------\u001b[0m",
      "\u001b[1;31mNameError\u001b[0m                                 Traceback (most recent call last)",
      "\u001b[1;32m~\\AppData\\Local\\Temp/ipykernel_7696/4280333381.py\u001b[0m in \u001b[0;36m<module>\u001b[1;34m\u001b[0m\n\u001b[0;32m      1\u001b[0m \u001b[0mget_ipython\u001b[0m\u001b[1;33m(\u001b[0m\u001b[1;33m)\u001b[0m\u001b[1;33m.\u001b[0m\u001b[0mrun_line_magic\u001b[0m\u001b[1;33m(\u001b[0m\u001b[1;34m'matplotlib'\u001b[0m\u001b[1;33m,\u001b[0m \u001b[1;34m'inline'\u001b[0m\u001b[1;33m)\u001b[0m\u001b[1;33m\u001b[0m\u001b[1;33m\u001b[0m\u001b[0m\n\u001b[1;32m----> 2\u001b[1;33m \u001b[0mimg\u001b[0m \u001b[1;33m=\u001b[0m \u001b[0mmpimg\u001b[0m\u001b[1;33m.\u001b[0m\u001b[0mimread\u001b[0m\u001b[1;33m(\u001b[0m\u001b[0mpath\u001b[0m\u001b[1;33m+\u001b[0m\u001b[1;34m'\\\\'\u001b[0m\u001b[1;33m+\u001b[0m\u001b[0mfile\u001b[0m\u001b[1;33m)\u001b[0m\u001b[1;33m\u001b[0m\u001b[1;33m\u001b[0m\u001b[0m\n\u001b[0m\u001b[0;32m      3\u001b[0m \u001b[0mimgplot\u001b[0m \u001b[1;33m=\u001b[0m \u001b[0mplt\u001b[0m\u001b[1;33m.\u001b[0m\u001b[0mimshow\u001b[0m\u001b[1;33m(\u001b[0m\u001b[0mimg\u001b[0m\u001b[1;33m)\u001b[0m\u001b[1;33m\u001b[0m\u001b[1;33m\u001b[0m\u001b[0m\n\u001b[0;32m      4\u001b[0m \u001b[0mplt\u001b[0m\u001b[1;33m.\u001b[0m\u001b[0mshow\u001b[0m\u001b[1;33m(\u001b[0m\u001b[1;33m)\u001b[0m\u001b[1;33m\u001b[0m\u001b[1;33m\u001b[0m\u001b[0m\n",
      "\u001b[1;31mNameError\u001b[0m: name 'path' is not defined"
     ]
    }
   ],
   "source": [
    "%matplotlib inline\n",
    "img = mpimg.imread(path+'\\\\'+file)\n",
    "imgplot = plt.imshow(img)\n",
    "plt.show()"
   ]
  },
  {
   "cell_type": "code",
   "execution_count": 4,
   "id": "674261c0",
   "metadata": {},
   "outputs": [],
   "source": [
    "indents_y=1 # grid shape of the indents\n",
    "indents_x=25"
   ]
  },
  {
   "cell_type": "code",
   "execution_count": 5,
   "id": "afafb209",
   "metadata": {
    "scrolled": true
   },
   "outputs": [
    {
     "ename": "NameError",
     "evalue": "name 'img' is not defined",
     "output_type": "error",
     "traceback": [
      "\u001b[1;31m---------------------------------------------------------------------------\u001b[0m",
      "\u001b[1;31mNameError\u001b[0m                                 Traceback (most recent call last)",
      "\u001b[1;32m~\\AppData\\Local\\Temp/ipykernel_7696/132631416.py\u001b[0m in \u001b[0;36m<module>\u001b[1;34m\u001b[0m\n\u001b[1;32m----> 1\u001b[1;33m \u001b[0msize_x\u001b[0m\u001b[1;33m=\u001b[0m\u001b[0mimg\u001b[0m\u001b[1;33m.\u001b[0m\u001b[0mshape\u001b[0m\u001b[1;33m[\u001b[0m\u001b[1;36m0\u001b[0m\u001b[1;33m]\u001b[0m\u001b[1;33m\u001b[0m\u001b[1;33m\u001b[0m\u001b[0m\n\u001b[0m\u001b[0;32m      2\u001b[0m \u001b[0msize_y\u001b[0m\u001b[1;33m=\u001b[0m\u001b[0mimg\u001b[0m\u001b[1;33m.\u001b[0m\u001b[0mshape\u001b[0m\u001b[1;33m[\u001b[0m\u001b[1;36m1\u001b[0m\u001b[1;33m]\u001b[0m\u001b[1;33m\u001b[0m\u001b[1;33m\u001b[0m\u001b[0m\n",
      "\u001b[1;31mNameError\u001b[0m: name 'img' is not defined"
     ]
    }
   ],
   "source": [
    "size_x=img.shape[0]\n",
    "size_y=img.shape[1]"
   ]
  },
  {
   "cell_type": "code",
   "execution_count": 20,
   "id": "0568c083",
   "metadata": {},
   "outputs": [],
   "source": [
    "init=Path('J:/Users/Berners, Lukas/Thetascan')\n",
    "file = Path(askopenfilename(initialdir=init, title='´Select the folder, with images you want to normalise and select first image'))\n"
   ]
  },
  {
   "cell_type": "code",
   "execution_count": 21,
   "id": "3520ff97",
   "metadata": {
    "scrolled": true
   },
   "outputs": [],
   "source": [
    "#file = Path(askopenfilename(initialdir='I:\\LEO', title='´Select the folder, with images you want to normalise and select first image'))\n",
    "#paths=list(file.parent.glob('**/pano*.tif'))\n",
    "#os.mkdir(file.parent / 'normalised')\n",
    "\n",
    "# path='I:\\\\XRD\\\\Thetascan\\\\Martina'\n",
    "# file='Mg2Ca_merged.txt'\n",
    "\n",
    "# prof=np.loadtxt(path + '\\\\' +file)\n",
    "\n",
    "\n",
    "# path='I:\\\\XRD\\\\Thetascan\\\\Nadia\\\\1503\\\\2'\n",
    "# file='1503_2mm_exported.xy'\n",
    "prof2=np.loadtxt(file,skiprows=1)"
   ]
  },
  {
   "cell_type": "code",
   "execution_count": 22,
   "id": "125ea0b0",
   "metadata": {},
   "outputs": [
    {
     "name": "stdout",
     "output_type": "stream",
     "text": [
      "Using matplotlib backend: Qt5Agg\n"
     ]
    },
    {
     "data": {
      "text/plain": [
       "[<matplotlib.lines.Line2D at 0x198308745e0>]"
      ]
     },
     "execution_count": 22,
     "metadata": {},
     "output_type": "execute_result"
    }
   ],
   "source": [
    "%matplotlib\n",
    "\n",
    "#plt.plot(prof[:,0],prof[:,1])\n",
    "plt.plot(prof2[:,0],prof2[:,1])"
   ]
  },
  {
   "cell_type": "code",
   "execution_count": null,
   "id": "23157e66",
   "metadata": {
    "scrolled": true
   },
   "outputs": [],
   "source": [
    "prof[:,0]"
   ]
  },
  {
   "cell_type": "code",
   "execution_count": 30,
   "id": "6c7e9fb1",
   "metadata": {
    "scrolled": false
   },
   "outputs": [
    {
     "data": {
      "text/plain": [
       "array([[3.50917339e+01, 4.02723960e+05],\n",
       "       [3.76480511e+01, 3.24907621e+05],\n",
       "       [5.10350806e+01, 1.31582651e+05],\n",
       "       [8.17781586e+01, 3.43122265e+04],\n",
       "       [1.00950538e+02, 2.70169447e+04],\n",
       "       [1.08484946e+02, 2.58010644e+04],\n",
       "       [1.24764651e+02, 2.09375431e+04]])"
      ]
     },
     "execution_count": 30,
     "metadata": {},
     "output_type": "execute_result"
    }
   ],
   "source": [
    "crds=get_coords(prof,20)\n",
    "crds"
   ]
  },
  {
   "cell_type": "code",
   "execution_count": 67,
   "id": "bec63b95",
   "metadata": {
    "scrolled": true
   },
   "outputs": [
    {
     "ename": "RuntimeError",
     "evalue": "Optimal parameters not found: Number of calls to function has reached maxfev = 1200.",
     "output_type": "error",
     "traceback": [
      "\u001b[1;31m---------------------------------------------------------------------------\u001b[0m",
      "\u001b[1;31mRuntimeError\u001b[0m                              Traceback (most recent call last)",
      "\u001b[1;32m~\\AppData\\Local\\Temp/ipykernel_7696/894212097.py\u001b[0m in \u001b[0;36m<module>\u001b[1;34m\u001b[0m\n\u001b[1;32m----> 1\u001b[1;33m \u001b[0mparams\u001b[0m\u001b[1;33m=\u001b[0m\u001b[0mscipy\u001b[0m\u001b[1;33m.\u001b[0m\u001b[0moptimize\u001b[0m\u001b[1;33m.\u001b[0m\u001b[0mcurve_fit\u001b[0m\u001b[1;33m(\u001b[0m\u001b[0mquadr_bkg\u001b[0m\u001b[1;33m,\u001b[0m\u001b[0mprof\u001b[0m\u001b[1;33m[\u001b[0m\u001b[1;33m:\u001b[0m\u001b[1;33m,\u001b[0m\u001b[1;36m0\u001b[0m\u001b[1;33m]\u001b[0m\u001b[1;33m,\u001b[0m\u001b[0mprof\u001b[0m\u001b[1;33m[\u001b[0m\u001b[1;33m:\u001b[0m\u001b[1;33m,\u001b[0m\u001b[1;36m1\u001b[0m\u001b[1;33m]\u001b[0m\u001b[1;33m)\u001b[0m\u001b[1;33m\u001b[0m\u001b[1;33m\u001b[0m\u001b[0m\n\u001b[0m",
      "\u001b[1;32mC:\\ProgramData\\Anaconda3\\lib\\site-packages\\scipy\\optimize\\minpack.py\u001b[0m in \u001b[0;36mcurve_fit\u001b[1;34m(f, xdata, ydata, p0, sigma, absolute_sigma, check_finite, bounds, method, jac, **kwargs)\u001b[0m\n\u001b[0;32m    792\u001b[0m         \u001b[0mcost\u001b[0m \u001b[1;33m=\u001b[0m \u001b[0mnp\u001b[0m\u001b[1;33m.\u001b[0m\u001b[0msum\u001b[0m\u001b[1;33m(\u001b[0m\u001b[0minfodict\u001b[0m\u001b[1;33m[\u001b[0m\u001b[1;34m'fvec'\u001b[0m\u001b[1;33m]\u001b[0m \u001b[1;33m**\u001b[0m \u001b[1;36m2\u001b[0m\u001b[1;33m)\u001b[0m\u001b[1;33m\u001b[0m\u001b[1;33m\u001b[0m\u001b[0m\n\u001b[0;32m    793\u001b[0m         \u001b[1;32mif\u001b[0m \u001b[0mier\u001b[0m \u001b[1;32mnot\u001b[0m \u001b[1;32min\u001b[0m \u001b[1;33m[\u001b[0m\u001b[1;36m1\u001b[0m\u001b[1;33m,\u001b[0m \u001b[1;36m2\u001b[0m\u001b[1;33m,\u001b[0m \u001b[1;36m3\u001b[0m\u001b[1;33m,\u001b[0m \u001b[1;36m4\u001b[0m\u001b[1;33m]\u001b[0m\u001b[1;33m:\u001b[0m\u001b[1;33m\u001b[0m\u001b[1;33m\u001b[0m\u001b[0m\n\u001b[1;32m--> 794\u001b[1;33m             \u001b[1;32mraise\u001b[0m \u001b[0mRuntimeError\u001b[0m\u001b[1;33m(\u001b[0m\u001b[1;34m\"Optimal parameters not found: \"\u001b[0m \u001b[1;33m+\u001b[0m \u001b[0merrmsg\u001b[0m\u001b[1;33m)\u001b[0m\u001b[1;33m\u001b[0m\u001b[1;33m\u001b[0m\u001b[0m\n\u001b[0m\u001b[0;32m    795\u001b[0m     \u001b[1;32melse\u001b[0m\u001b[1;33m:\u001b[0m\u001b[1;33m\u001b[0m\u001b[1;33m\u001b[0m\u001b[0m\n\u001b[0;32m    796\u001b[0m         \u001b[1;31m# Rename maxfev (leastsq) to max_nfev (least_squares), if specified.\u001b[0m\u001b[1;33m\u001b[0m\u001b[1;33m\u001b[0m\u001b[0m\n",
      "\u001b[1;31mRuntimeError\u001b[0m: Optimal parameters not found: Number of calls to function has reached maxfev = 1200."
     ]
    }
   ],
   "source": [
    "params=scipy.optimize.curve_fit(quadr_bkg,prof[:,0],prof[:,1])"
   ]
  },
  {
   "cell_type": "code",
   "execution_count": 76,
   "id": "27b9cdfa",
   "metadata": {},
   "outputs": [
    {
     "data": {
      "text/plain": [
       "<matplotlib.collections.PathCollection at 0x198308bbb50>"
      ]
     },
     "execution_count": 76,
     "metadata": {},
     "output_type": "execute_result"
    }
   ],
   "source": [
    "pks=scipy.signal.find_peaks_cwt(prof[:,1],widths=5)\n",
    "plt.plot(prof[:,0],prof[:,1])\n",
    "plt.scatter(prof[pks,0],prof[pks,1])"
   ]
  },
  {
   "cell_type": "code",
   "execution_count": 68,
   "id": "e5d0ccbe",
   "metadata": {},
   "outputs": [
    {
     "data": {
      "text/plain": [
       "(array([ 9.93504252e+05, -2.03871457e+04,  1.05055567e+02,  1.00000000e+00,\n",
       "         1.00000000e+00]),\n",
       " array([[inf, inf, inf, inf, inf],\n",
       "        [inf, inf, inf, inf, inf],\n",
       "        [inf, inf, inf, inf, inf],\n",
       "        [inf, inf, inf, inf, inf],\n",
       "        [inf, inf, inf, inf, inf]]))"
      ]
     },
     "execution_count": 68,
     "metadata": {},
     "output_type": "execute_result"
    }
   ],
   "source": [
    "params\n"
   ]
  },
  {
   "cell_type": "code",
   "execution_count": 63,
   "id": "b1715865",
   "metadata": {},
   "outputs": [],
   "source": [
    "cheb=np.polynomial.chebyshev.chebfit(crds[:,0],crds[:,1],2)"
   ]
  },
  {
   "cell_type": "code",
   "execution_count": 64,
   "id": "deb8c1b4",
   "metadata": {},
   "outputs": [
    {
     "data": {
      "text/plain": [
       "[<matplotlib.lines.Line2D at 0x1983110a6a0>]"
      ]
     },
     "execution_count": 64,
     "metadata": {},
     "output_type": "execute_result"
    }
   ],
   "source": [
    "plt.plot(prof[:,0],prof[:,1])\n",
    "x=np.arange(35,135,1)\n",
    "#plt.plot(crds[:,0],quadr_bkg(crds[:,0],cheb[0],cheb[1],cheb[2],cheb[3],cheb[4]))\n",
    "plt.plot(x,quadr_bkg(x,params[0][0],params[0][1],params[0][2],params[0][3],params[0][4]))#,params[0][5]))\n",
    "#plt.plot(prof[:,0],np.polynomial.chebyshev.chebval(prof[:,0],cheb))"
   ]
  },
  {
   "cell_type": "code",
   "execution_count": 48,
   "id": "6d3f234d",
   "metadata": {},
   "outputs": [
    {
     "data": {
      "text/plain": [
       "array([ 35,  36,  37,  38,  39,  40,  41,  42,  43,  44,  45,  46,  47,\n",
       "        48,  49,  50,  51,  52,  53,  54,  55,  56,  57,  58,  59,  60,\n",
       "        61,  62,  63,  64,  65,  66,  67,  68,  69,  70,  71,  72,  73,\n",
       "        74,  75,  76,  77,  78,  79,  80,  81,  82,  83,  84,  85,  86,\n",
       "        87,  88,  89,  90,  91,  92,  93,  94,  95,  96,  97,  98,  99,\n",
       "       100, 101, 102, 103, 104, 105, 106, 107, 108, 109, 110, 111, 112,\n",
       "       113, 114, 115, 116, 117, 118, 119, 120, 121, 122, 123, 124, 125,\n",
       "       126, 127, 128, 129, 130, 131, 132, 133, 134])"
      ]
     },
     "execution_count": 48,
     "metadata": {},
     "output_type": "execute_result"
    }
   ],
   "source": [
    "x"
   ]
  },
  {
   "cell_type": "code",
   "execution_count": 41,
   "id": "042a3883",
   "metadata": {
    "scrolled": true
   },
   "outputs": [
    {
     "data": {
      "text/plain": [
       "[<matplotlib.lines.Line2D at 0x1983049c9a0>]"
      ]
     },
     "execution_count": 41,
     "metadata": {},
     "output_type": "execute_result"
    }
   ],
   "source": [
    "plt.plot(prof[:,0],)"
   ]
  },
  {
   "cell_type": "code",
   "execution_count": 42,
   "id": "23f967b6",
   "metadata": {},
   "outputs": [],
   "source": [
    "np.savetxt('background.txt',(prof[:,0],np.polynomial.chebyshev.chebval(prof[:,0],cheb)),newline='\\n')"
   ]
  },
  {
   "cell_type": "code",
   "execution_count": 54,
   "id": "d556968a",
   "metadata": {},
   "outputs": [
    {
     "data": {
      "text/plain": [
       "(array([ 35.  ,  35.01,  35.02, ..., 125.98, 125.99, 126.  ]),\n",
       " array([356960.07398301, 356850.06900873, 356740.08092764, ...,\n",
       "         55213.16770993,  55256.85699744,  55300.56317813]))"
      ]
     },
     "execution_count": 54,
     "metadata": {},
     "output_type": "execute_result"
    }
   ],
   "source": [
    "(prof[:,0],np.polynomial.chebyshev.chebval(prof[:,0],cheb))"
   ]
  },
  {
   "cell_type": "code",
   "execution_count": 66,
   "id": "003f81a0",
   "metadata": {},
   "outputs": [],
   "source": [
    "def quadr_bkg(x,c0,c1,c2,c3=0,c4=0):\n",
    "    return c0+c1*x+c2*x**+c3*x**3+c4*x**4"
   ]
  },
  {
   "cell_type": "markdown",
   "id": "31dff74c",
   "metadata": {},
   "source": [
    "__Make some nice Function definitons__"
   ]
  },
  {
   "cell_type": "code",
   "execution_count": 24,
   "id": "50168852",
   "metadata": {},
   "outputs": [],
   "source": [
    "global ix, iy\n",
    "def onclick(event):\n",
    "    ix, iy = event.xdata, event.ydata\n",
    "    print('x = %d, y = %d'.format(ix, iy))\n",
    "\n",
    "    global coords\n",
    "    coords.append([ix, iy])\n",
    "\n",
    "    if len(coords) == 2:\n",
    "        fig.canvas.mpl_disconnect(cid)"
   ]
  },
  {
   "cell_type": "code",
   "execution_count": 25,
   "id": "581ae6f9",
   "metadata": {},
   "outputs": [],
   "source": [
    "def get_coords(profile,no=2):\n",
    "    #%matplotlib\n",
    "    fig, ax = plt.subplots()\n",
    "    ax.plot(profile[:,0],profile[:,1])\n",
    "    coords=fig.ginput(n=no,timeout=no*5)\n",
    "    #cid = fig.canvas.mpl_connect('button_press_event', onclick)\n",
    "    crds=np.array(coords)\n",
    "\n",
    "    return crds"
   ]
  },
  {
   "cell_type": "code",
   "execution_count": 26,
   "id": "fc740cba",
   "metadata": {},
   "outputs": [],
   "source": [
    "def linfunc(pos,parallel,x):\n",
    "    m=(parallel[0,1]-parallel[1,1])/(parallel[0,0]-parallel[1,0])\n",
    "    #print(m)\n",
    "    b=pos[1]-m*pos[0]\n",
    "    #print(x)\n",
    "    return m*x+b"
   ]
  },
  {
   "cell_type": "code",
   "execution_count": 27,
   "id": "2a4a7e1b",
   "metadata": {},
   "outputs": [],
   "source": [
    "def get_scale_img(img,real_length=20):\n",
    "    print('please press the coords of the scalebar')\n",
    "    bar=get_coords(img)\n",
    "    scale_length=abs(bar[0,0]-bar[1,0])\n",
    "    micppx=real_length/scale_length\n",
    "    size_mic_x=micppx*img.shape[0]\n",
    "    size_mic_y=micppx*img.shape[1]\n",
    "    return micppx,[size_mic_x,size_mic_y]"
   ]
  },
  {
   "cell_type": "code",
   "execution_count": 28,
   "id": "c7620365",
   "metadata": {},
   "outputs": [
    {
     "name": "stdout",
     "output_type": "stream",
     "text": [
      "Using matplotlib backend: Qt5Agg\n"
     ]
    },
    {
     "ename": "NameError",
     "evalue": "name 'img' is not defined",
     "output_type": "error",
     "traceback": [
      "\u001b[1;31m---------------------------------------------------------------------------\u001b[0m",
      "\u001b[1;31mNameError\u001b[0m                                 Traceback (most recent call last)",
      "\u001b[1;32m~\\AppData\\Local\\Temp/ipykernel_7696/288194198.py\u001b[0m in \u001b[0;36m<module>\u001b[1;34m\u001b[0m\n\u001b[0;32m      1\u001b[0m \u001b[0mget_ipython\u001b[0m\u001b[1;33m(\u001b[0m\u001b[1;33m)\u001b[0m\u001b[1;33m.\u001b[0m\u001b[0mrun_line_magic\u001b[0m\u001b[1;33m(\u001b[0m\u001b[1;34m'matplotlib'\u001b[0m\u001b[1;33m,\u001b[0m \u001b[1;34m''\u001b[0m\u001b[1;33m)\u001b[0m\u001b[1;33m\u001b[0m\u001b[1;33m\u001b[0m\u001b[0m\n\u001b[1;32m----> 2\u001b[1;33m \u001b[0mmicppx\u001b[0m\u001b[1;33m,\u001b[0m\u001b[0msize_mic\u001b[0m\u001b[1;33m=\u001b[0m\u001b[0mget_scale_img\u001b[0m\u001b[1;33m(\u001b[0m\u001b[0mimg\u001b[0m\u001b[1;33m,\u001b[0m\u001b[1;36m20\u001b[0m\u001b[1;33m)\u001b[0m\u001b[1;33m\u001b[0m\u001b[1;33m\u001b[0m\u001b[0m\n\u001b[0m",
      "\u001b[1;31mNameError\u001b[0m: name 'img' is not defined"
     ]
    }
   ],
   "source": [
    "%matplotlib\n",
    "micppx,size_mic=get_scale_img(img,20)"
   ]
  },
  {
   "cell_type": "code",
   "execution_count": 29,
   "id": "55aef796",
   "metadata": {},
   "outputs": [
    {
     "ename": "NameError",
     "evalue": "name 'img' is not defined",
     "output_type": "error",
     "traceback": [
      "\u001b[1;31m---------------------------------------------------------------------------\u001b[0m",
      "\u001b[1;31mNameError\u001b[0m                                 Traceback (most recent call last)",
      "\u001b[1;32m~\\AppData\\Local\\Temp/ipykernel_7696/3045839622.py\u001b[0m in \u001b[0;36m<module>\u001b[1;34m\u001b[0m\n\u001b[0;32m      1\u001b[0m \u001b[0mfig\u001b[0m\u001b[1;33m,\u001b[0m \u001b[0max\u001b[0m \u001b[1;33m=\u001b[0m \u001b[0mplt\u001b[0m\u001b[1;33m.\u001b[0m\u001b[0msubplots\u001b[0m\u001b[1;33m(\u001b[0m\u001b[1;33m)\u001b[0m\u001b[1;33m\u001b[0m\u001b[1;33m\u001b[0m\u001b[0m\n\u001b[1;32m----> 2\u001b[1;33m \u001b[0max\u001b[0m\u001b[1;33m.\u001b[0m\u001b[0mimshow\u001b[0m\u001b[1;33m(\u001b[0m\u001b[0mimg\u001b[0m\u001b[1;33m)\u001b[0m\u001b[1;33m\u001b[0m\u001b[1;33m\u001b[0m\u001b[0m\n\u001b[0m\u001b[0;32m      3\u001b[0m \u001b[0mif_coords\u001b[0m\u001b[1;33m=\u001b[0m\u001b[0mfig\u001b[0m\u001b[1;33m.\u001b[0m\u001b[0mginput\u001b[0m\u001b[1;33m(\u001b[0m\u001b[0mn\u001b[0m\u001b[1;33m=\u001b[0m\u001b[1;36m2\u001b[0m\u001b[1;33m)\u001b[0m\u001b[1;33m\u001b[0m\u001b[1;33m\u001b[0m\u001b[0m\n\u001b[0;32m      4\u001b[0m \u001b[0minf\u001b[0m\u001b[1;33m=\u001b[0m\u001b[0mnp\u001b[0m\u001b[1;33m.\u001b[0m\u001b[0marray\u001b[0m\u001b[1;33m(\u001b[0m\u001b[0mif_coords\u001b[0m\u001b[1;33m)\u001b[0m\u001b[1;33m\u001b[0m\u001b[1;33m\u001b[0m\u001b[0m\n",
      "\u001b[1;31mNameError\u001b[0m: name 'img' is not defined"
     ]
    }
   ],
   "source": [
    "\n",
    "fig, ax = plt.subplots()\n",
    "ax.imshow(img)\n",
    "if_coords=fig.ginput(n=2)\n",
    "inf=np.array(if_coords)"
   ]
  },
  {
   "cell_type": "code",
   "execution_count": null,
   "id": "9eaf6d2d",
   "metadata": {},
   "outputs": [],
   "source": [
    "inf[0,0]"
   ]
  },
  {
   "cell_type": "markdown",
   "id": "a30bfe3c",
   "metadata": {},
   "source": [
    "__Try to name the indents based on coordinates clicked with the mouse__"
   ]
  },
  {
   "cell_type": "code",
   "execution_count": null,
   "id": "4548c43d",
   "metadata": {
    "scrolled": false
   },
   "outputs": [],
   "source": [
    "%matplotlib\n",
    "print('please press the coords of the first two indents scheme:') ## 1 -> 2 -> x next to 1 i.e. if the grid is 15x3 it would be 1st, 2nd and 4th indent\n",
    "if indents_y>1:\n",
    "    no=3\n",
    "else:\n",
    "    no=2\n",
    "crds=get_coords(img,no)\n",
    "\n",
    "array = np.arange(indents_y*indents_x).reshape((indents_x,indents_y))\n",
    "if no==3: #yes this is not the most logical setup xD\n",
    "    dely=crds[0]-crds[1]\n",
    "    delx=crds[0]-crds[2]\n",
    "else:\n",
    "    delx=crds[0]-crds[1]\n",
    "    dely=[0,0]\n",
    "#plt.plot(crds[:,0],crds[:,1])\n",
    "distances=[]\n",
    "for i in range(len(array)):\n",
    "    for j in array[i]:\n",
    "        #print(j)\n",
    "        #print(dely[0])\n",
    "        if indents_y>1:\n",
    "            posx=crds[0,0]-dely[0]*(j%indents_y)/(indents_y-1)-delx[0]*i/(indents_x-1)\n",
    "            posy=crds[0,1]-dely[1]*(j%indents_y)/(indents_y-1)-delx[1]*i/(indents_x-1)\n",
    "        else:\n",
    "            posx=crds[0,0]-delx[0]*i/(indents_x-1)\n",
    "            posy=crds[0,1]-delx[1]*i/(indents_x-1)\n",
    "        dist=abs( (inf[1,0]-inf[0,0])*(inf[0,1]-posy) - (inf[0,0]-posx)*(inf[1,1]-inf[0,1]) )/ np.sqrt( (inf[1,0]-inf[0,0])**2 + (inf[1,1]-inf[0,1])**2) #https://en.wikipedia.org/wiki/Distance_from_a_point_to_a_line\n",
    "        #print(dist*micppx)\n",
    "        distances.append([j,dist*micppx])\n",
    "        plt.annotate(j+1,(posx,posy),bbox=dict(facecolor='white', alpha=0.5))\n",
    "plt.savefig(path + '\\\\' +re.split('\\.',file)[0] + '_named.' + re.split('\\.',file)[1],bbox_inches='tight')\n",
    "        #plt.plot((crds[0,0]-dely[0]*(j%4)/(indents_y-1)-delx[0]*i/(indents_x-1),crds[0,1]-dely[1]*(j%4)/(indents_y-1)-delx[1]*i/(indents_x-1)))\n",
    "        #(crds[0]-crds[1])*array"
   ]
  },
  {
   "cell_type": "code",
   "execution_count": null,
   "id": "deabd44b",
   "metadata": {},
   "outputs": [],
   "source": []
  },
  {
   "cell_type": "code",
   "execution_count": null,
   "id": "bb468f9c",
   "metadata": {},
   "outputs": [],
   "source": [
    "\n",
    "fig, ax = plt.subplots()\n",
    "ax.imshow(img)\n",
    "if_coords=fig.ginput(n=2)\n",
    "inf=np.array(if_coords)"
   ]
  },
  {
   "cell_type": "code",
   "execution_count": null,
   "id": "4a71fed3",
   "metadata": {},
   "outputs": [],
   "source": []
  },
  {
   "cell_type": "markdown",
   "id": "efd29fa2",
   "metadata": {},
   "source": [
    "__Load in the indentation data__"
   ]
  },
  {
   "cell_type": "code",
   "execution_count": null,
   "id": "47704a1a",
   "metadata": {},
   "outputs": [],
   "source": []
  },
  {
   "cell_type": "code",
   "execution_count": null,
   "id": "b18b0fe8",
   "metadata": {},
   "outputs": [],
   "source": [
    "usrpath=\"E:\\RWTH_Aachen\\Promo\\iNano\\iNano\"\n",
    "#icurr=11\n",
    "#folder=usrpath+'\\\\{}\\DB_Files\\{}\\Cole\\Mapping\\EBSD\\{}\\{}'.format(foldername,usr,proj_name,samp_name)\n",
    "areas=os.listdir(usrpath)\n",
    "csvs=glob.glob(usrpath+\"*\\\\**\\\\*.csv\",recursive=True)\n"
   ]
  },
  {
   "cell_type": "code",
   "execution_count": null,
   "id": "456cb7bf",
   "metadata": {},
   "outputs": [],
   "source": []
  },
  {
   "cell_type": "code",
   "execution_count": null,
   "id": "1d2fe807",
   "metadata": {},
   "outputs": [],
   "source": [
    "indents=pd.DataFrame()\n",
    "for key in csvs: \n",
    "    if re.match(r'.*_Test.*',key):\n",
    "            #print(key)\n",
    "            df1=pd.read_csv(key,header=[0,1],sep=\",\")\n",
    "            df1['name']=key\n",
    "            #print(df1.loc[0:1])\n",
    "            indents=pd.concat([indents,df1],ignore_index=True)\n",
    "\n",
    "indents[['Area','Test']]=indents.name.str.extract(r'((?<=area)\\d*).*((?<=Test)\\d*)')"
   ]
  },
  {
   "cell_type": "code",
   "execution_count": null,
   "id": "696e5547",
   "metadata": {},
   "outputs": [],
   "source": [
    "curr=indents[indents['Area']=='27']"
   ]
  },
  {
   "cell_type": "code",
   "execution_count": null,
   "id": "2525c561",
   "metadata": {},
   "outputs": [],
   "source": [
    "curr['dist']=\"\"\n",
    "for i in range(len(distances)):\n",
    "    #print(i)\n",
    "    curr.loc[curr['Test']==str(i),'dist']=distances[i][1]\n",
    "    print(distances[i][1])"
   ]
  },
  {
   "cell_type": "code",
   "execution_count": null,
   "id": "3bfc34d5",
   "metadata": {},
   "outputs": [],
   "source": [
    "curr"
   ]
  },
  {
   "cell_type": "code",
   "execution_count": null,
   "id": "d63dc06f",
   "metadata": {
    "scrolled": false
   },
   "outputs": [],
   "source": [
    "cmap=mpl.cm.viridis\n",
    "dis=np.array(distances)\n",
    "curr=indents[indents['Area']=='29'] #select the area from above\n",
    "curr=curr[curr['name'].str.contains('lower')]\n",
    "curr['dist']=\"\"\n",
    "for i in range(len(distances)):\n",
    "    #print(i)\n",
    "    curr.loc[curr['Test']==str(i),'dist']=distances[i][1]\n",
    "    print(distances[i][1])\n",
    "curr_n=curr[~curr['Test'].isin(str(i) for i in [8,9,13,14,22,23,24,25])]\n",
    "curr_n=curr\n",
    "i=0\n",
    "for i in range(len(dis)):\n",
    "    df=curr_n[curr_n['Test']==str(i)]\n",
    "    plt.plot(df['DEPTH'],df['Load'],color=cmap(dis[i,1]/max(curr_n['dist'])))\n",
    "    #print(i)\n",
    "    i=i+1\n",
    "norm = mpl.colors.Normalize(vmin=0, vmax=max(curr_n['dist']))\n",
    "  \n",
    "# creating ScalarMappable\n",
    "sm = plt.cm.ScalarMappable(cmap=cmap, norm=norm)\n",
    "sm.set_array([])\n",
    "plt.xlabel(\"Depth / nm\")\n",
    "plt.ylabel('Load / mN')\n",
    "plt.colorbar(sm, ticks=np.linspace(0, max(curr_n['dist']),7),label='Distance from Surface / nm')"
   ]
  },
  {
   "cell_type": "code",
   "execution_count": null,
   "id": "9d73a215",
   "metadata": {},
   "outputs": [],
   "source": [
    "curr[curr['name'].str.contains('lower')]\n",
    "#curr['name']"
   ]
  },
  {
   "cell_type": "code",
   "execution_count": null,
   "id": "9d71f797",
   "metadata": {},
   "outputs": [],
   "source": [
    "clen(curr['Test'].unique())"
   ]
  },
  {
   "cell_type": "code",
   "execution_count": null,
   "id": "2cffad62",
   "metadata": {},
   "outputs": [],
   "source": [
    "curr_n=curr[~curr['Test'].isin(str(i) for i in [9,10,13,16,17,18,19,20,21,22,23,24,25])]\n",
    "curr_n"
   ]
  },
  {
   "cell_type": "code",
   "execution_count": null,
   "id": "78abea8b",
   "metadata": {},
   "outputs": [],
   "source": [
    "cmap = mpl.cm.cool\n",
    "norm = mpl.colors.Normalize(vmin=0, vmax=max(dis[:,1]))"
   ]
  },
  {
   "cell_type": "code",
   "execution_count": null,
   "id": "24b678b7",
   "metadata": {},
   "outputs": [],
   "source": [
    "cmap(0.5)"
   ]
  },
  {
   "cell_type": "code",
   "execution_count": null,
   "id": "da722937",
   "metadata": {},
   "outputs": [],
   "source": [
    "fig, ax = plt.subplots(figsize=(6, 1))\n",
    "fig.subplots_adjust(bottom=0.5)\n",
    "fig.colorbar(mpl.cm.ScalarMappable(norm=norm, cmap=cmap),\n",
    "             cax=ax, orientation='horizontal', label='Some Units')"
   ]
  },
  {
   "cell_type": "code",
   "execution_count": null,
   "id": "7c9527c6",
   "metadata": {},
   "outputs": [],
   "source": []
  },
  {
   "cell_type": "code",
   "execution_count": null,
   "id": "64582819",
   "metadata": {},
   "outputs": [],
   "source": [
    "for i in range(len(pal)):\n",
    "    print(pal[i])"
   ]
  },
  {
   "cell_type": "code",
   "execution_count": null,
   "id": "c196e663",
   "metadata": {},
   "outputs": [],
   "source": [
    "curr['dist']"
   ]
  },
  {
   "cell_type": "code",
   "execution_count": null,
   "id": "e217b695",
   "metadata": {},
   "outputs": [],
   "source": [
    "for i in range(len(distances)):\n",
    "    #print(i)\n",
    "    curr.loc[curr['Test']==str(i),'dist']=distances[i][1]\n",
    "    print(distances[i][1])"
   ]
  },
  {
   "cell_type": "code",
   "execution_count": null,
   "id": "9dc172a0",
   "metadata": {
    "scrolled": false
   },
   "outputs": [],
   "source": [
    "type(distances[i][1])"
   ]
  },
  {
   "cell_type": "code",
   "execution_count": null,
   "id": "de4ad501",
   "metadata": {},
   "outputs": [],
   "source": [
    "distances[i][1]"
   ]
  },
  {
   "cell_type": "code",
   "execution_count": null,
   "id": "15af199a",
   "metadata": {},
   "outputs": [],
   "source": []
  },
  {
   "cell_type": "code",
   "execution_count": null,
   "id": "71c88d5e",
   "metadata": {},
   "outputs": [],
   "source": []
  },
  {
   "cell_type": "code",
   "execution_count": null,
   "id": "f76cf1c9",
   "metadata": {},
   "outputs": [],
   "source": []
  },
  {
   "cell_type": "code",
   "execution_count": null,
   "id": "cfb43445",
   "metadata": {
    "scrolled": false
   },
   "outputs": [],
   "source": []
  },
  {
   "cell_type": "code",
   "execution_count": null,
   "id": "b05c3bed",
   "metadata": {},
   "outputs": [],
   "source": []
  },
  {
   "cell_type": "code",
   "execution_count": null,
   "id": "0de16a52",
   "metadata": {},
   "outputs": [],
   "source": []
  },
  {
   "cell_type": "code",
   "execution_count": null,
   "id": "25ec93f8",
   "metadata": {},
   "outputs": [],
   "source": []
  },
  {
   "cell_type": "code",
   "execution_count": null,
   "id": "7cb92154",
   "metadata": {},
   "outputs": [],
   "source": []
  },
  {
   "cell_type": "code",
   "execution_count": null,
   "id": "8c1cc71a",
   "metadata": {},
   "outputs": [],
   "source": [
    "pip install jupyter_contrib_nbextensions"
   ]
  },
  {
   "cell_type": "code",
   "execution_count": null,
   "id": "bc96c80a",
   "metadata": {},
   "outputs": [],
   "source": []
  },
  {
   "cell_type": "code",
   "execution_count": null,
   "id": "12339912",
   "metadata": {},
   "outputs": [],
   "source": [
    "\n",
    "print('please press the coords of the first two indents scheme:') ## 1 -> 2 -> x next to 1 i.e. if the grid is 15x3 it would be 1st, 2nd and 4th indent\n",
    "if indents_y>1:\n",
    "    no=3\n",
    "else:\n",
    "    no=2\n",
    "crds=get_coords(img,no)\n",
    "\n",
    "array = np.arange(indents_y*indents_x).reshape((indents_x,indents_y))\n",
    "if no==3: #yes this is not the most logical setup xD\n",
    "    dely=crds[0]-crds[1]\n",
    "    delx=crds[0]-crds[2]\n",
    "else:\n",
    "    delx=crds[0]-crds[1]\n",
    "    dely=[0,0]\n",
    "#plt.plot(crds[:,0],crds[:,1])\n",
    "for i in range(len(array)):\n",
    "    for j in array[i]:\n",
    "        #print(j)\n",
    "        #print(dely[0])\n",
    "        if indents_y>1:\n",
    "            posx=crds[0,0]-dely[0]*(j%indents_y)/(indents_y-1)-delx[0]*i/(indents_x-1)\n",
    "            posy=crds[0,1]-dely[1]*(j%indents_y)/(indents_y-1)-delx[1]*i/(indents_x-1)\n",
    "        else:\n",
    "            posx=crds[0,0]-delx[0]*i/(indents_x-1)\n",
    "            posy=crds[0,1]-delx[1]*i/(indents_x-1)\n",
    "        plt.scatter(posx,posy,marker=\"2\",color='black')\n"
   ]
  },
  {
   "cell_type": "code",
   "execution_count": null,
   "id": "f830134e",
   "metadata": {},
   "outputs": [],
   "source": []
  },
  {
   "cell_type": "code",
   "execution_count": null,
   "id": "9ff4a754",
   "metadata": {},
   "outputs": [],
   "source": []
  },
  {
   "cell_type": "code",
   "execution_count": null,
   "id": "77a2d7a8",
   "metadata": {},
   "outputs": [],
   "source": []
  },
  {
   "cell_type": "code",
   "execution_count": null,
   "id": "bb9303df",
   "metadata": {},
   "outputs": [],
   "source": []
  },
  {
   "cell_type": "code",
   "execution_count": null,
   "id": "cbbfd181",
   "metadata": {},
   "outputs": [],
   "source": []
  },
  {
   "cell_type": "code",
   "execution_count": null,
   "id": "4ea672b5",
   "metadata": {},
   "outputs": [],
   "source": []
  }
 ],
 "metadata": {
  "kernelspec": {
   "display_name": "Python 3 (ipykernel)",
   "language": "python",
   "name": "python3"
  },
  "language_info": {
   "codemirror_mode": {
    "name": "ipython",
    "version": 3
   },
   "file_extension": ".py",
   "mimetype": "text/x-python",
   "name": "python",
   "nbconvert_exporter": "python",
   "pygments_lexer": "ipython3",
   "version": "3.9.7"
  },
  "toc": {
   "base_numbering": 1,
   "nav_menu": {},
   "number_sections": false,
   "sideBar": false,
   "skip_h1_title": false,
   "title_cell": "Table of Contents",
   "title_sidebar": "Contents",
   "toc_cell": false,
   "toc_position": {},
   "toc_section_display": false,
   "toc_window_display": false
  },
  "varInspector": {
   "cols": {
    "lenName": 16,
    "lenType": 16,
    "lenVar": 40
   },
   "kernels_config": {
    "python": {
     "delete_cmd_postfix": "",
     "delete_cmd_prefix": "del ",
     "library": "var_list.py",
     "varRefreshCmd": "print(var_dic_list())"
    },
    "r": {
     "delete_cmd_postfix": ") ",
     "delete_cmd_prefix": "rm(",
     "library": "var_list.r",
     "varRefreshCmd": "cat(var_dic_list()) "
    }
   },
   "types_to_exclude": [
    "module",
    "function",
    "builtin_function_or_method",
    "instance",
    "_Feature"
   ],
   "window_display": false
  }
 },
 "nbformat": 4,
 "nbformat_minor": 5
}
