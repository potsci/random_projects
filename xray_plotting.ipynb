{
 "cells": [
  {
   "cell_type": "code",
   "execution_count": 11,
   "id": "b6d5c436",
   "metadata": {},
   "outputs": [],
   "source": [
    "from matplotlib import pyplot as plt\n",
    "import numpy as np\n",
    "import pandas as pd\n",
    "from tkinter.filedialog import askopenfilename\n",
    "from pathlib import *\n",
    "import os"
   ]
  },
  {
   "cell_type": "code",
   "execution_count": 9,
   "id": "ad9603c5",
   "metadata": {},
   "outputs": [],
   "source": [
    "refpath=Path(\"I:\\XRD\\Thetascan\")"
   ]
  },
  {
   "cell_type": "code",
   "execution_count": 161,
   "id": "de1963d2",
   "metadata": {},
   "outputs": [],
   "source": [
    "file = Path(askopenfilename(initialdir=refpath, title='´Select the folder, with images you want to normalise and select first image'))\n",
    "\n"
   ]
  },
  {
   "cell_type": "code",
   "execution_count": 208,
   "id": "05c3883e",
   "metadata": {},
   "outputs": [
    {
     "data": {
      "text/plain": [
       "[WindowsPath('I:/XRD/Thetascan/C02/HT/30min/../15min'),\n",
       " WindowsPath('I:/XRD/Thetascan/C02/HT/30min/../30min'),\n",
       " WindowsPath('I:/XRD/Thetascan/C02/HT/30min/../4h_A'),\n",
       " WindowsPath('I:/XRD/Thetascan/C02/HT/30min/../as_cast')]"
      ]
     },
     "execution_count": 208,
     "metadata": {},
     "output_type": "execute_result"
    }
   ],
   "source": [
    "paths=list(file.parent.glob('../**/*_exported_*.xy'))\n",
    "folder=list(file.parent.glob('../*'))\n",
    "folder"
   ]
  },
  {
   "cell_type": "code",
   "execution_count": 309,
   "id": "56b8bdbc",
   "metadata": {
    "scrolled": true
   },
   "outputs": [],
   "source": [
    "df=pd.DataFrame(columns=['values'])\n",
    "df['values'].astype(object)\n",
    "m_vals=[0,58.5,78,99,120]\n",
    "i=0\n",
    "\n",
    "for key in folder:\n",
    "    path=list(key.glob('*_exported_*.xy'))\n",
    "    df.loc[i,'sample_name']=key\n",
    "    tmp_all_x=[]\n",
    "    tmp_all_y=[]\n",
    "    for file in path:\n",
    "        tmp=np.genfromtxt(file,skip_header=1)\n",
    "        split=file.stem.split('_exported_')\n",
    "        k=int(split[1])\n",
    "        a=m_vals[k-1]<tmp[:,0]\n",
    "        b=m_vals[k]>=tmp[:,0]\n",
    "        tmp=tmp[a&b]\n",
    "        tmp_all_x=np.append(tmp_all_x,(tmp[:,0]))\n",
    "        tmp_all_y=np.append(tmp_all_y,(tmp[:,1]))\n",
    "        np.savetxt(key.joinpath(f'{split[0]}_summed.xy'),np.c_[tmp_all_x,tmp_all_y],delimiter='\\t')\n",
    "\n",
    "        #         df.loc[i,'values']=[[[0,1,2,3],[0,1,2,3]]]\n",
    "#         df.loc[i,'values']=[tmp]\n",
    "#         print(type(tmp))\n",
    "    \n",
    "# #     if split[1]=='1':\n",
    "        \n",
    "# #     elif split[1]=='2':\n",
    "# #     elif split[1]=='3':\n",
    "        \n",
    "# #     elif split[1]=='4':\n",
    "#     i=i+1"
   ]
  },
  {
   "cell_type": "code",
   "execution_count": 296,
   "id": "9766b2d2",
   "metadata": {},
   "outputs": [
    {
     "name": "stdout",
     "output_type": "stream",
     "text": [
      "Using matplotlib backend: Qt5Agg\n"
     ]
    },
    {
     "data": {
      "text/plain": [
       "<matplotlib.collections.PathCollection at 0x2018bc03130>"
      ]
     },
     "execution_count": 296,
     "metadata": {},
     "output_type": "execute_result"
    }
   ],
   "source": [
    "%matplotlib\n",
    "plt.scatter(tmp_all_x,tmp_all_y)"
   ]
  },
  {
   "cell_type": "code",
   "execution_count": 303,
   "id": "e40809b5",
   "metadata": {},
   "outputs": [
    {
     "data": {
      "text/plain": [
       "WindowsPath('I:/XRD/Thetascan/C02/HT/30min/../as_cast/C2ht500Cac_summed.xy')"
      ]
     },
     "execution_count": 303,
     "metadata": {},
     "output_type": "execute_result"
    }
   ],
   "source": [
    "key.joinpath(f'{split[0]}_summed.xy')"
   ]
  },
  {
   "cell_type": "code",
   "execution_count": 250,
   "id": "b3d5575e",
   "metadata": {},
   "outputs": [
    {
     "ename": "TypeError",
     "evalue": "concatenate() got multiple values for argument 'axis'",
     "output_type": "error",
     "traceback": [
      "\u001b[1;31m---------------------------------------------------------------------------\u001b[0m",
      "\u001b[1;31mTypeError\u001b[0m                                 Traceback (most recent call last)",
      "\u001b[1;32m~\\AppData\\Local\\Temp/ipykernel_10848/3139537287.py\u001b[0m in \u001b[0;36m<module>\u001b[1;34m\u001b[0m\n\u001b[0;32m      1\u001b[0m \u001b[0mtmp_all\u001b[0m\u001b[1;33m=\u001b[0m\u001b[1;33m[\u001b[0m\u001b[1;33m]\u001b[0m\u001b[1;33m\u001b[0m\u001b[1;33m\u001b[0m\u001b[0m\n\u001b[1;32m----> 2\u001b[1;33m \u001b[0mnp\u001b[0m\u001b[1;33m.\u001b[0m\u001b[0mconcatenate\u001b[0m\u001b[1;33m(\u001b[0m\u001b[0mtmp_all\u001b[0m\u001b[1;33m,\u001b[0m\u001b[0mtmp\u001b[0m\u001b[1;33m,\u001b[0m\u001b[0maxis\u001b[0m\u001b[1;33m=\u001b[0m\u001b[1;36m2\u001b[0m\u001b[1;33m)\u001b[0m\u001b[1;33m\u001b[0m\u001b[1;33m\u001b[0m\u001b[0m\n\u001b[0m",
      "\u001b[1;32m<__array_function__ internals>\u001b[0m in \u001b[0;36mconcatenate\u001b[1;34m(*args, **kwargs)\u001b[0m\n",
      "\u001b[1;31mTypeError\u001b[0m: concatenate() got multiple values for argument 'axis'"
     ]
    }
   ],
   "source": []
  },
  {
   "cell_type": "code",
   "execution_count": null,
   "id": "55f4da34",
   "metadata": {},
   "outputs": [],
   "source": []
  },
  {
   "cell_type": "code",
   "execution_count": null,
   "id": "6e91befd",
   "metadata": {},
   "outputs": [],
   "source": []
  },
  {
   "cell_type": "code",
   "execution_count": null,
   "id": "2512644e",
   "metadata": {},
   "outputs": [],
   "source": []
  },
  {
   "cell_type": "code",
   "execution_count": null,
   "id": "b8e6938a",
   "metadata": {},
   "outputs": [],
   "source": []
  }
 ],
 "metadata": {
  "kernelspec": {
   "display_name": "Python 3 (ipykernel)",
   "language": "python",
   "name": "python3"
  },
  "language_info": {
   "codemirror_mode": {
    "name": "ipython",
    "version": 3
   },
   "file_extension": ".py",
   "mimetype": "text/x-python",
   "name": "python",
   "nbconvert_exporter": "python",
   "pygments_lexer": "ipython3",
   "version": "3.9.7"
  },
  "varInspector": {
   "cols": {
    "lenName": 16,
    "lenType": 16,
    "lenVar": 40
   },
   "kernels_config": {
    "python": {
     "delete_cmd_postfix": "",
     "delete_cmd_prefix": "del ",
     "library": "var_list.py",
     "varRefreshCmd": "print(var_dic_list())"
    },
    "r": {
     "delete_cmd_postfix": ") ",
     "delete_cmd_prefix": "rm(",
     "library": "var_list.r",
     "varRefreshCmd": "cat(var_dic_list()) "
    }
   },
   "types_to_exclude": [
    "module",
    "function",
    "builtin_function_or_method",
    "instance",
    "_Feature"
   ],
   "window_display": false
  }
 },
 "nbformat": 4,
 "nbformat_minor": 5
}
