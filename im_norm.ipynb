{
 "cells": [
  {
   "cell_type": "code",
   "execution_count": 1,
   "id": "984a0ab4",
   "metadata": {},
   "outputs": [],
   "source": [
    "#import cv2 as cv\n",
    "import numpy as np\n",
    "import tkinter\n",
    "from tkinter.filedialog import askopenfilename\n",
    "from pathlib import *\n",
    "from glob import glob\n",
    "import os\n",
    "import matplotlib.pyplot as plt\n",
    "from skimage import data\n",
    "from skimage import exposure\n",
    "from skimage.exposure import match_histograms\n",
    "from skimage.io import imsave, imread"
   ]
  },
  {
   "cell_type": "code",
   "execution_count": null,
   "id": "ecca1168",
   "metadata": {},
   "outputs": [],
   "source": []
  },
  {
   "cell_type": "code",
   "execution_count": 8,
   "id": "fabea94d",
   "metadata": {},
   "outputs": [
    {
     "data": {
      "text/plain": [
       "WindowsPath('J:/Users/Berners, Lukas/LEO/quasi-in_situ/C02/50_45/head/eps0_speck_pat_good/pano000.tif')"
      ]
     },
     "execution_count": 8,
     "metadata": {},
     "output_type": "execute_result"
    }
   ],
   "source": [
    "file"
   ]
  },
  {
   "cell_type": "code",
   "execution_count": 2,
   "id": "d0209d16",
   "metadata": {},
   "outputs": [],
   "source": [
    "refpath=Path(\"I:/LEO/quasi-in_situ//C02//50_45//5mm/eps0/old/panorama000.tif\")"
   ]
  },
  {
   "cell_type": "code",
   "execution_count": 11,
   "id": "8ec638fb",
   "metadata": {
    "scrolled": true
   },
   "outputs": [
    {
     "ename": "FileExistsError",
     "evalue": "[WinError 183] Eine Datei kann nicht erstellt werden, wenn sie bereits vorhanden ist: 'J:\\\\Users\\\\Berners, Lukas\\\\LEO\\\\quasi-in_situ\\\\C02\\\\50_45\\\\head\\\\eps5\\\\New folder\\\\normalised'",
     "output_type": "error",
     "traceback": [
      "\u001b[1;31m---------------------------------------------------------------------------\u001b[0m",
      "\u001b[1;31mFileExistsError\u001b[0m                           Traceback (most recent call last)",
      "\u001b[1;32m~\\AppData\\Local\\Temp/ipykernel_11796/2343286738.py\u001b[0m in \u001b[0;36m<module>\u001b[1;34m\u001b[0m\n\u001b[0;32m      1\u001b[0m \u001b[0mfile\u001b[0m \u001b[1;33m=\u001b[0m \u001b[0mPath\u001b[0m\u001b[1;33m(\u001b[0m\u001b[0maskopenfilename\u001b[0m\u001b[1;33m(\u001b[0m\u001b[0minitialdir\u001b[0m\u001b[1;33m=\u001b[0m\u001b[1;34m'I:\\LEO'\u001b[0m\u001b[1;33m,\u001b[0m \u001b[0mtitle\u001b[0m\u001b[1;33m=\u001b[0m\u001b[1;34m'´Select the folder, with images you want to normalise and select first image'\u001b[0m\u001b[1;33m)\u001b[0m\u001b[1;33m)\u001b[0m\u001b[1;33m\u001b[0m\u001b[1;33m\u001b[0m\u001b[0m\n\u001b[0;32m      2\u001b[0m \u001b[0mpaths\u001b[0m\u001b[1;33m=\u001b[0m\u001b[0mlist\u001b[0m\u001b[1;33m(\u001b[0m\u001b[0mfile\u001b[0m\u001b[1;33m.\u001b[0m\u001b[0mparent\u001b[0m\u001b[1;33m.\u001b[0m\u001b[0mglob\u001b[0m\u001b[1;33m(\u001b[0m\u001b[1;34m'**/pano*.tif'\u001b[0m\u001b[1;33m)\u001b[0m\u001b[1;33m)\u001b[0m\u001b[1;33m\u001b[0m\u001b[1;33m\u001b[0m\u001b[0m\n\u001b[1;32m----> 3\u001b[1;33m \u001b[0mos\u001b[0m\u001b[1;33m.\u001b[0m\u001b[0mmkdir\u001b[0m\u001b[1;33m(\u001b[0m\u001b[0mfile\u001b[0m\u001b[1;33m.\u001b[0m\u001b[0mparent\u001b[0m \u001b[1;33m/\u001b[0m \u001b[1;34m'normalised'\u001b[0m\u001b[1;33m)\u001b[0m\u001b[1;33m\u001b[0m\u001b[1;33m\u001b[0m\u001b[0m\n\u001b[0m",
      "\u001b[1;31mFileExistsError\u001b[0m: [WinError 183] Eine Datei kann nicht erstellt werden, wenn sie bereits vorhanden ist: 'J:\\\\Users\\\\Berners, Lukas\\\\LEO\\\\quasi-in_situ\\\\C02\\\\50_45\\\\head\\\\eps5\\\\New folder\\\\normalised'"
     ]
    }
   ],
   "source": [
    "file = Path(askopenfilename(initialdir='I:\\LEO', title='´Select the folder, with images you want to normalise and select first image'))\n",
    "paths=list(file.parent.glob('**/pano*.tif'))\n",
    "os.mkdir(file.parent / 'normalised')"
   ]
  },
  {
   "cell_type": "code",
   "execution_count": 12,
   "id": "a8df5075",
   "metadata": {},
   "outputs": [
    {
     "name": "stdout",
     "output_type": "stream",
     "text": [
      "J:\\Users\\Berners, Lukas\\LEO\\quasi-in_situ\\C02\\50_45\\head\\eps5\\New folder\\normalised\\pano_000.tif\n",
      "J:\\Users\\Berners, Lukas\\LEO\\quasi-in_situ\\C02\\50_45\\head\\eps5\\New folder\\normalised\\pano_001.tif\n",
      "J:\\Users\\Berners, Lukas\\LEO\\quasi-in_situ\\C02\\50_45\\head\\eps5\\New folder\\normalised\\pano_002.tif\n",
      "J:\\Users\\Berners, Lukas\\LEO\\quasi-in_situ\\C02\\50_45\\head\\eps5\\New folder\\normalised\\pano_003.tif\n",
      "J:\\Users\\Berners, Lukas\\LEO\\quasi-in_situ\\C02\\50_45\\head\\eps5\\New folder\\normalised\\pano_004.tif\n",
      "J:\\Users\\Berners, Lukas\\LEO\\quasi-in_situ\\C02\\50_45\\head\\eps5\\New folder\\normalised\\pano_005.tif\n",
      "J:\\Users\\Berners, Lukas\\LEO\\quasi-in_situ\\C02\\50_45\\head\\eps5\\New folder\\normalised\\pano_006.tif\n",
      "J:\\Users\\Berners, Lukas\\LEO\\quasi-in_situ\\C02\\50_45\\head\\eps5\\New folder\\normalised\\pano_007.tif\n",
      "J:\\Users\\Berners, Lukas\\LEO\\quasi-in_situ\\C02\\50_45\\head\\eps5\\New folder\\normalised\\pano_008.tif\n",
      "J:\\Users\\Berners, Lukas\\LEO\\quasi-in_situ\\C02\\50_45\\head\\eps5\\New folder\\normalised\\pano_009.tif\n",
      "J:\\Users\\Berners, Lukas\\LEO\\quasi-in_situ\\C02\\50_45\\head\\eps5\\New folder\\normalised\\pano_010.tif\n",
      "J:\\Users\\Berners, Lukas\\LEO\\quasi-in_situ\\C02\\50_45\\head\\eps5\\New folder\\normalised\\pano_011.tif\n",
      "J:\\Users\\Berners, Lukas\\LEO\\quasi-in_situ\\C02\\50_45\\head\\eps5\\New folder\\normalised\\pano_012.tif\n",
      "J:\\Users\\Berners, Lukas\\LEO\\quasi-in_situ\\C02\\50_45\\head\\eps5\\New folder\\normalised\\pano_013.tif\n",
      "J:\\Users\\Berners, Lukas\\LEO\\quasi-in_situ\\C02\\50_45\\head\\eps5\\New folder\\normalised\\pano_014.tif\n",
      "J:\\Users\\Berners, Lukas\\LEO\\quasi-in_situ\\C02\\50_45\\head\\eps5\\New folder\\normalised\\pano_015.tif\n",
      "J:\\Users\\Berners, Lukas\\LEO\\quasi-in_situ\\C02\\50_45\\head\\eps5\\New folder\\normalised\\pano_016.tif\n",
      "J:\\Users\\Berners, Lukas\\LEO\\quasi-in_situ\\C02\\50_45\\head\\eps5\\New folder\\normalised\\pano_017.tif\n",
      "J:\\Users\\Berners, Lukas\\LEO\\quasi-in_situ\\C02\\50_45\\head\\eps5\\New folder\\normalised\\pano_018.tif\n",
      "J:\\Users\\Berners, Lukas\\LEO\\quasi-in_situ\\C02\\50_45\\head\\eps5\\New folder\\normalised\\pano_019.tif\n",
      "J:\\Users\\Berners, Lukas\\LEO\\quasi-in_situ\\C02\\50_45\\head\\eps5\\New folder\\normalised\\pano_020.tif\n",
      "J:\\Users\\Berners, Lukas\\LEO\\quasi-in_situ\\C02\\50_45\\head\\eps5\\New folder\\normalised\\pano_021.tif\n",
      "J:\\Users\\Berners, Lukas\\LEO\\quasi-in_situ\\C02\\50_45\\head\\eps5\\New folder\\normalised\\pano_022.tif\n",
      "J:\\Users\\Berners, Lukas\\LEO\\quasi-in_situ\\C02\\50_45\\head\\eps5\\New folder\\normalised\\pano_023.tif\n",
      "J:\\Users\\Berners, Lukas\\LEO\\quasi-in_situ\\C02\\50_45\\head\\eps5\\New folder\\normalised\\pano_024.tif\n",
      "J:\\Users\\Berners, Lukas\\LEO\\quasi-in_situ\\C02\\50_45\\head\\eps5\\New folder\\normalised\\pano_025.tif\n",
      "J:\\Users\\Berners, Lukas\\LEO\\quasi-in_situ\\C02\\50_45\\head\\eps5\\New folder\\normalised\\pano_026.tif\n",
      "J:\\Users\\Berners, Lukas\\LEO\\quasi-in_situ\\C02\\50_45\\head\\eps5\\New folder\\normalised\\pano_027.tif\n",
      "J:\\Users\\Berners, Lukas\\LEO\\quasi-in_situ\\C02\\50_45\\head\\eps5\\New folder\\normalised\\pano_028.tif\n",
      "J:\\Users\\Berners, Lukas\\LEO\\quasi-in_situ\\C02\\50_45\\head\\eps5\\New folder\\normalised\\pano_029.tif\n",
      "J:\\Users\\Berners, Lukas\\LEO\\quasi-in_situ\\C02\\50_45\\head\\eps5\\New folder\\normalised\\pano_030.tif\n",
      "J:\\Users\\Berners, Lukas\\LEO\\quasi-in_situ\\C02\\50_45\\head\\eps5\\New folder\\normalised\\pano_031.tif\n",
      "J:\\Users\\Berners, Lukas\\LEO\\quasi-in_situ\\C02\\50_45\\head\\eps5\\New folder\\normalised\\pano_032.tif\n",
      "J:\\Users\\Berners, Lukas\\LEO\\quasi-in_situ\\C02\\50_45\\head\\eps5\\New folder\\normalised\\pano_033.tif\n",
      "J:\\Users\\Berners, Lukas\\LEO\\quasi-in_situ\\C02\\50_45\\head\\eps5\\New folder\\normalised\\pano_034.tif\n",
      "J:\\Users\\Berners, Lukas\\LEO\\quasi-in_situ\\C02\\50_45\\head\\eps5\\New folder\\normalised\\pano_035.tif\n",
      "J:\\Users\\Berners, Lukas\\LEO\\quasi-in_situ\\C02\\50_45\\head\\eps5\\New folder\\normalised\\pano_036.tif\n",
      "J:\\Users\\Berners, Lukas\\LEO\\quasi-in_situ\\C02\\50_45\\head\\eps5\\New folder\\normalised\\pano_037.tif\n",
      "J:\\Users\\Berners, Lukas\\LEO\\quasi-in_situ\\C02\\50_45\\head\\eps5\\New folder\\normalised\\pano_038.tif\n",
      "J:\\Users\\Berners, Lukas\\LEO\\quasi-in_situ\\C02\\50_45\\head\\eps5\\New folder\\normalised\\pano_039.tif\n",
      "J:\\Users\\Berners, Lukas\\LEO\\quasi-in_situ\\C02\\50_45\\head\\eps5\\New folder\\normalised\\pano_040.tif\n",
      "J:\\Users\\Berners, Lukas\\LEO\\quasi-in_situ\\C02\\50_45\\head\\eps5\\New folder\\normalised\\pano_041.tif\n",
      "J:\\Users\\Berners, Lukas\\LEO\\quasi-in_situ\\C02\\50_45\\head\\eps5\\New folder\\normalised\\pano_042.tif\n",
      "J:\\Users\\Berners, Lukas\\LEO\\quasi-in_situ\\C02\\50_45\\head\\eps5\\New folder\\normalised\\pano_043.tif\n",
      "J:\\Users\\Berners, Lukas\\LEO\\quasi-in_situ\\C02\\50_45\\head\\eps5\\New folder\\normalised\\pano_044.tif\n",
      "J:\\Users\\Berners, Lukas\\LEO\\quasi-in_situ\\C02\\50_45\\head\\eps5\\New folder\\normalised\\pano_045.tif\n",
      "J:\\Users\\Berners, Lukas\\LEO\\quasi-in_situ\\C02\\50_45\\head\\eps5\\New folder\\normalised\\pano_046.tif\n",
      "J:\\Users\\Berners, Lukas\\LEO\\quasi-in_situ\\C02\\50_45\\head\\eps5\\New folder\\normalised\\pano_047.tif\n",
      "J:\\Users\\Berners, Lukas\\LEO\\quasi-in_situ\\C02\\50_45\\head\\eps5\\New folder\\normalised\\pano_048.tif\n",
      "J:\\Users\\Berners, Lukas\\LEO\\quasi-in_situ\\C02\\50_45\\head\\eps5\\New folder\\normalised\\pano_049.tif\n",
      "J:\\Users\\Berners, Lukas\\LEO\\quasi-in_situ\\C02\\50_45\\head\\eps5\\New folder\\normalised\\pano_050.tif\n",
      "J:\\Users\\Berners, Lukas\\LEO\\quasi-in_situ\\C02\\50_45\\head\\eps5\\New folder\\normalised\\pano_051.tif\n",
      "J:\\Users\\Berners, Lukas\\LEO\\quasi-in_situ\\C02\\50_45\\head\\eps5\\New folder\\normalised\\pano_052.tif\n",
      "J:\\Users\\Berners, Lukas\\LEO\\quasi-in_situ\\C02\\50_45\\head\\eps5\\New folder\\normalised\\pano_053.tif\n",
      "J:\\Users\\Berners, Lukas\\LEO\\quasi-in_situ\\C02\\50_45\\head\\eps5\\New folder\\normalised\\pano_054.tif\n",
      "J:\\Users\\Berners, Lukas\\LEO\\quasi-in_situ\\C02\\50_45\\head\\eps5\\New folder\\normalised\\pano_055.tif\n",
      "J:\\Users\\Berners, Lukas\\LEO\\quasi-in_situ\\C02\\50_45\\head\\eps5\\New folder\\normalised\\pano_056.tif\n",
      "J:\\Users\\Berners, Lukas\\LEO\\quasi-in_situ\\C02\\50_45\\head\\eps5\\New folder\\normalised\\pano_057.tif\n",
      "J:\\Users\\Berners, Lukas\\LEO\\quasi-in_situ\\C02\\50_45\\head\\eps5\\New folder\\normalised\\pano_058.tif\n",
      "J:\\Users\\Berners, Lukas\\LEO\\quasi-in_situ\\C02\\50_45\\head\\eps5\\New folder\\normalised\\pano_059.tif\n",
      "J:\\Users\\Berners, Lukas\\LEO\\quasi-in_situ\\C02\\50_45\\head\\eps5\\New folder\\normalised\\pano_060.tif\n",
      "J:\\Users\\Berners, Lukas\\LEO\\quasi-in_situ\\C02\\50_45\\head\\eps5\\New folder\\normalised\\pano_061.tif\n",
      "J:\\Users\\Berners, Lukas\\LEO\\quasi-in_situ\\C02\\50_45\\head\\eps5\\New folder\\normalised\\pano_062.tif\n",
      "J:\\Users\\Berners, Lukas\\LEO\\quasi-in_situ\\C02\\50_45\\head\\eps5\\New folder\\normalised\\pano_063.tif\n",
      "J:\\Users\\Berners, Lukas\\LEO\\quasi-in_situ\\C02\\50_45\\head\\eps5\\New folder\\normalised\\pano_064.tif\n",
      "J:\\Users\\Berners, Lukas\\LEO\\quasi-in_situ\\C02\\50_45\\head\\eps5\\New folder\\normalised\\pano_065.tif\n",
      "J:\\Users\\Berners, Lukas\\LEO\\quasi-in_situ\\C02\\50_45\\head\\eps5\\New folder\\normalised\\pano_066.tif\n",
      "J:\\Users\\Berners, Lukas\\LEO\\quasi-in_situ\\C02\\50_45\\head\\eps5\\New folder\\normalised\\pano_067.tif\n",
      "J:\\Users\\Berners, Lukas\\LEO\\quasi-in_situ\\C02\\50_45\\head\\eps5\\New folder\\normalised\\pano_068.tif\n",
      "J:\\Users\\Berners, Lukas\\LEO\\quasi-in_situ\\C02\\50_45\\head\\eps5\\New folder\\normalised\\pano_069.tif\n",
      "J:\\Users\\Berners, Lukas\\LEO\\quasi-in_situ\\C02\\50_45\\head\\eps5\\New folder\\normalised\\pano_070.tif\n",
      "J:\\Users\\Berners, Lukas\\LEO\\quasi-in_situ\\C02\\50_45\\head\\eps5\\New folder\\normalised\\pano_071.tif\n",
      "J:\\Users\\Berners, Lukas\\LEO\\quasi-in_situ\\C02\\50_45\\head\\eps5\\New folder\\normalised\\pano_072.tif\n",
      "J:\\Users\\Berners, Lukas\\LEO\\quasi-in_situ\\C02\\50_45\\head\\eps5\\New folder\\normalised\\pano_073.tif\n",
      "J:\\Users\\Berners, Lukas\\LEO\\quasi-in_situ\\C02\\50_45\\head\\eps5\\New folder\\normalised\\pano_074.tif\n",
      "J:\\Users\\Berners, Lukas\\LEO\\quasi-in_situ\\C02\\50_45\\head\\eps5\\New folder\\normalised\\pano_075.tif\n",
      "J:\\Users\\Berners, Lukas\\LEO\\quasi-in_situ\\C02\\50_45\\head\\eps5\\New folder\\normalised\\pano_076.tif\n",
      "J:\\Users\\Berners, Lukas\\LEO\\quasi-in_situ\\C02\\50_45\\head\\eps5\\New folder\\normalised\\pano_077.tif\n",
      "J:\\Users\\Berners, Lukas\\LEO\\quasi-in_situ\\C02\\50_45\\head\\eps5\\New folder\\normalised\\pano_078.tif\n",
      "J:\\Users\\Berners, Lukas\\LEO\\quasi-in_situ\\C02\\50_45\\head\\eps5\\New folder\\normalised\\pano_079.tif\n",
      "J:\\Users\\Berners, Lukas\\LEO\\quasi-in_situ\\C02\\50_45\\head\\eps5\\New folder\\normalised\\pano_080.tif\n",
      "J:\\Users\\Berners, Lukas\\LEO\\quasi-in_situ\\C02\\50_45\\head\\eps5\\New folder\\normalised\\pano_081.tif\n",
      "J:\\Users\\Berners, Lukas\\LEO\\quasi-in_situ\\C02\\50_45\\head\\eps5\\New folder\\normalised\\pano_082.tif\n",
      "J:\\Users\\Berners, Lukas\\LEO\\quasi-in_situ\\C02\\50_45\\head\\eps5\\New folder\\normalised\\pano_083.tif\n",
      "J:\\Users\\Berners, Lukas\\LEO\\quasi-in_situ\\C02\\50_45\\head\\eps5\\New folder\\normalised\\pano_084.tif\n"
     ]
    },
    {
     "name": "stdout",
     "output_type": "stream",
     "text": [
      "J:\\Users\\Berners, Lukas\\LEO\\quasi-in_situ\\C02\\50_45\\head\\eps5\\New folder\\normalised\\pano_085.tif\n",
      "J:\\Users\\Berners, Lukas\\LEO\\quasi-in_situ\\C02\\50_45\\head\\eps5\\New folder\\normalised\\pano_086.tif\n",
      "J:\\Users\\Berners, Lukas\\LEO\\quasi-in_situ\\C02\\50_45\\head\\eps5\\New folder\\normalised\\pano_087.tif\n",
      "J:\\Users\\Berners, Lukas\\LEO\\quasi-in_situ\\C02\\50_45\\head\\eps5\\New folder\\normalised\\pano_088.tif\n",
      "J:\\Users\\Berners, Lukas\\LEO\\quasi-in_situ\\C02\\50_45\\head\\eps5\\New folder\\normalised\\pano_089.tif\n",
      "J:\\Users\\Berners, Lukas\\LEO\\quasi-in_situ\\C02\\50_45\\head\\eps5\\New folder\\normalised\\pano_090.tif\n",
      "J:\\Users\\Berners, Lukas\\LEO\\quasi-in_situ\\C02\\50_45\\head\\eps5\\New folder\\normalised\\pano_091.tif\n",
      "J:\\Users\\Berners, Lukas\\LEO\\quasi-in_situ\\C02\\50_45\\head\\eps5\\New folder\\normalised\\pano_092.tif\n",
      "J:\\Users\\Berners, Lukas\\LEO\\quasi-in_situ\\C02\\50_45\\head\\eps5\\New folder\\normalised\\pano_093.tif\n",
      "J:\\Users\\Berners, Lukas\\LEO\\quasi-in_situ\\C02\\50_45\\head\\eps5\\New folder\\normalised\\pano_094.tif\n",
      "J:\\Users\\Berners, Lukas\\LEO\\quasi-in_situ\\C02\\50_45\\head\\eps5\\New folder\\normalised\\pano_095.tif\n",
      "J:\\Users\\Berners, Lukas\\LEO\\quasi-in_situ\\C02\\50_45\\head\\eps5\\New folder\\normalised\\pano_096.tif\n",
      "J:\\Users\\Berners, Lukas\\LEO\\quasi-in_situ\\C02\\50_45\\head\\eps5\\New folder\\normalised\\pano_097.tif\n",
      "J:\\Users\\Berners, Lukas\\LEO\\quasi-in_situ\\C02\\50_45\\head\\eps5\\New folder\\normalised\\pano_098.tif\n",
      "J:\\Users\\Berners, Lukas\\LEO\\quasi-in_situ\\C02\\50_45\\head\\eps5\\New folder\\normalised\\pano_099.tif\n",
      "J:\\Users\\Berners, Lukas\\LEO\\quasi-in_situ\\C02\\50_45\\head\\eps5\\New folder\\normalised\\pano_100.tif\n",
      "J:\\Users\\Berners, Lukas\\LEO\\quasi-in_situ\\C02\\50_45\\head\\eps5\\New folder\\normalised\\pano_101.tif\n",
      "J:\\Users\\Berners, Lukas\\LEO\\quasi-in_situ\\C02\\50_45\\head\\eps5\\New folder\\normalised\\pano_102.tif\n",
      "J:\\Users\\Berners, Lukas\\LEO\\quasi-in_situ\\C02\\50_45\\head\\eps5\\New folder\\normalised\\pano_103.tif\n",
      "J:\\Users\\Berners, Lukas\\LEO\\quasi-in_situ\\C02\\50_45\\head\\eps5\\New folder\\normalised\\pano_104.tif\n",
      "J:\\Users\\Berners, Lukas\\LEO\\quasi-in_situ\\C02\\50_45\\head\\eps5\\New folder\\normalised\\pano_105.tif\n",
      "J:\\Users\\Berners, Lukas\\LEO\\quasi-in_situ\\C02\\50_45\\head\\eps5\\New folder\\normalised\\pano_106.tif\n",
      "J:\\Users\\Berners, Lukas\\LEO\\quasi-in_situ\\C02\\50_45\\head\\eps5\\New folder\\normalised\\pano_107.tif\n",
      "J:\\Users\\Berners, Lukas\\LEO\\quasi-in_situ\\C02\\50_45\\head\\eps5\\New folder\\normalised\\pano_108.tif\n",
      "J:\\Users\\Berners, Lukas\\LEO\\quasi-in_situ\\C02\\50_45\\head\\eps5\\New folder\\normalised\\pano_109.tif\n",
      "J:\\Users\\Berners, Lukas\\LEO\\quasi-in_situ\\C02\\50_45\\head\\eps5\\New folder\\normalised\\pano_110.tif\n",
      "J:\\Users\\Berners, Lukas\\LEO\\quasi-in_situ\\C02\\50_45\\head\\eps5\\New folder\\normalised\\pano_111.tif\n",
      "J:\\Users\\Berners, Lukas\\LEO\\quasi-in_situ\\C02\\50_45\\head\\eps5\\New folder\\normalised\\pano_112.tif\n",
      "J:\\Users\\Berners, Lukas\\LEO\\quasi-in_situ\\C02\\50_45\\head\\eps5\\New folder\\normalised\\pano_113.tif\n",
      "J:\\Users\\Berners, Lukas\\LEO\\quasi-in_situ\\C02\\50_45\\head\\eps5\\New folder\\normalised\\pano_114.tif\n",
      "J:\\Users\\Berners, Lukas\\LEO\\quasi-in_situ\\C02\\50_45\\head\\eps5\\New folder\\normalised\\pano_115.tif\n",
      "J:\\Users\\Berners, Lukas\\LEO\\quasi-in_situ\\C02\\50_45\\head\\eps5\\New folder\\normalised\\pano_117.tif\n",
      "J:\\Users\\Berners, Lukas\\LEO\\quasi-in_situ\\C02\\50_45\\head\\eps5\\New folder\\normalised\\pano_118.tif\n",
      "J:\\Users\\Berners, Lukas\\LEO\\quasi-in_situ\\C02\\50_45\\head\\eps5\\New folder\\normalised\\pano_119.tif\n",
      "J:\\Users\\Berners, Lukas\\LEO\\quasi-in_situ\\C02\\50_45\\head\\eps5\\New folder\\normalised\\pano_120.tif\n",
      "J:\\Users\\Berners, Lukas\\LEO\\quasi-in_situ\\C02\\50_45\\head\\eps5\\New folder\\normalised\\pano_121.tif\n",
      "J:\\Users\\Berners, Lukas\\LEO\\quasi-in_situ\\C02\\50_45\\head\\eps5\\New folder\\normalised\\pano_122.tif\n",
      "J:\\Users\\Berners, Lukas\\LEO\\quasi-in_situ\\C02\\50_45\\head\\eps5\\New folder\\normalised\\pano_123.tif\n",
      "J:\\Users\\Berners, Lukas\\LEO\\quasi-in_situ\\C02\\50_45\\head\\eps5\\New folder\\normalised\\pano_124.tif\n",
      "J:\\Users\\Berners, Lukas\\LEO\\quasi-in_situ\\C02\\50_45\\head\\eps5\\New folder\\normalised\\pano_125.tif\n",
      "J:\\Users\\Berners, Lukas\\LEO\\quasi-in_situ\\C02\\50_45\\head\\eps5\\New folder\\normalised\\pano_126.tif\n",
      "J:\\Users\\Berners, Lukas\\LEO\\quasi-in_situ\\C02\\50_45\\head\\eps5\\New folder\\normalised\\pano_127.tif\n",
      "J:\\Users\\Berners, Lukas\\LEO\\quasi-in_situ\\C02\\50_45\\head\\eps5\\New folder\\normalised\\pano_128.tif\n",
      "J:\\Users\\Berners, Lukas\\LEO\\quasi-in_situ\\C02\\50_45\\head\\eps5\\New folder\\normalised\\pano_129.tif\n",
      "J:\\Users\\Berners, Lukas\\LEO\\quasi-in_situ\\C02\\50_45\\head\\eps5\\New folder\\normalised\\pano_130.tif\n",
      "J:\\Users\\Berners, Lukas\\LEO\\quasi-in_situ\\C02\\50_45\\head\\eps5\\New folder\\normalised\\pano_131.tif\n",
      "J:\\Users\\Berners, Lukas\\LEO\\quasi-in_situ\\C02\\50_45\\head\\eps5\\New folder\\normalised\\pano_132.tif\n",
      "J:\\Users\\Berners, Lukas\\LEO\\quasi-in_situ\\C02\\50_45\\head\\eps5\\New folder\\normalised\\pano_133.tif\n",
      "J:\\Users\\Berners, Lukas\\LEO\\quasi-in_situ\\C02\\50_45\\head\\eps5\\New folder\\normalised\\pano_134.tif\n",
      "J:\\Users\\Berners, Lukas\\LEO\\quasi-in_situ\\C02\\50_45\\head\\eps5\\New folder\\normalised\\pano_135.tif\n",
      "J:\\Users\\Berners, Lukas\\LEO\\quasi-in_situ\\C02\\50_45\\head\\eps5\\New folder\\normalised\\pano_136.tif\n",
      "J:\\Users\\Berners, Lukas\\LEO\\quasi-in_situ\\C02\\50_45\\head\\eps5\\New folder\\normalised\\pano_137.tif\n",
      "J:\\Users\\Berners, Lukas\\LEO\\quasi-in_situ\\C02\\50_45\\head\\eps5\\New folder\\normalised\\pano_138.tif\n",
      "J:\\Users\\Berners, Lukas\\LEO\\quasi-in_situ\\C02\\50_45\\head\\eps5\\New folder\\normalised\\pano_139.tif\n",
      "J:\\Users\\Berners, Lukas\\LEO\\quasi-in_situ\\C02\\50_45\\head\\eps5\\New folder\\normalised\\pano_140.tif\n",
      "J:\\Users\\Berners, Lukas\\LEO\\quasi-in_situ\\C02\\50_45\\head\\eps5\\New folder\\normalised\\pano_141.tif\n",
      "J:\\Users\\Berners, Lukas\\LEO\\quasi-in_situ\\C02\\50_45\\head\\eps5\\New folder\\normalised\\pano_142.tif\n",
      "J:\\Users\\Berners, Lukas\\LEO\\quasi-in_situ\\C02\\50_45\\head\\eps5\\New folder\\normalised\\pano_143.tif\n",
      "J:\\Users\\Berners, Lukas\\LEO\\quasi-in_situ\\C02\\50_45\\head\\eps5\\New folder\\normalised\\pano_144.tif\n",
      "J:\\Users\\Berners, Lukas\\LEO\\quasi-in_situ\\C02\\50_45\\head\\eps5\\New folder\\normalised\\pano_145.tif\n",
      "J:\\Users\\Berners, Lukas\\LEO\\quasi-in_situ\\C02\\50_45\\head\\eps5\\New folder\\normalised\\pano_146.tif\n",
      "J:\\Users\\Berners, Lukas\\LEO\\quasi-in_situ\\C02\\50_45\\head\\eps5\\New folder\\normalised\\pano_147.tif\n",
      "J:\\Users\\Berners, Lukas\\LEO\\quasi-in_situ\\C02\\50_45\\head\\eps5\\New folder\\normalised\\pano_148.tif\n",
      "J:\\Users\\Berners, Lukas\\LEO\\quasi-in_situ\\C02\\50_45\\head\\eps5\\New folder\\normalised\\pano_149.tif\n",
      "J:\\Users\\Berners, Lukas\\LEO\\quasi-in_situ\\C02\\50_45\\head\\eps5\\New folder\\normalised\\pano_150.tif\n",
      "J:\\Users\\Berners, Lukas\\LEO\\quasi-in_situ\\C02\\50_45\\head\\eps5\\New folder\\normalised\\pano_151.tif\n",
      "J:\\Users\\Berners, Lukas\\LEO\\quasi-in_situ\\C02\\50_45\\head\\eps5\\New folder\\normalised\\pano_152.tif\n",
      "J:\\Users\\Berners, Lukas\\LEO\\quasi-in_situ\\C02\\50_45\\head\\eps5\\New folder\\normalised\\pano_153.tif\n",
      "J:\\Users\\Berners, Lukas\\LEO\\quasi-in_situ\\C02\\50_45\\head\\eps5\\New folder\\normalised\\pano_154.tif\n"
     ]
    }
   ],
   "source": [
    "reference = imread(refpath)\n",
    "for img_path in paths:   \n",
    "    image = imread(img_path)\n",
    "    matched = match_histograms(image, reference)\n",
    "    matched_uint8 = matched.astype(np.uint8)\n",
    "    imsave(str(img_path.parent /'normalised' / img_path.parts[-1]), matched_uint8)\n",
    "    \n",
    "    print(str(img_path.parent /'normalised' / img_path.parts[-1]))\n",
    "# fig, (ax1, ax2, ax3) = plt.subplots(nrows=1, ncols=3, figsize=(8, 3),\n",
    "#                                     sharex=True, sharey=True)\n",
    "# for aa in (ax1, ax2, ax3):\n",
    "#     aa.set_axis_off()\n",
    "\n",
    "# ax1.imshow(image,cmap='Greys_r')\n",
    "# ax1.set_title('Source')\n",
    "# ax2.imshow(reference,cmap='Greys_r')\n",
    "# ax2.set_title('Reference')\n",
    "# ax3.imshow(matched,cmap='Greys_r')\n",
    "# ax3.set_title('Matched')\n",
    "\n",
    "#plt.tight_layout()\n",
    "#plt.show()"
   ]
  },
  {
   "cell_type": "code",
   "execution_count": 72,
   "id": "1dd2b2da",
   "metadata": {},
   "outputs": [],
   "source": []
  },
  {
   "cell_type": "code",
   "execution_count": null,
   "id": "de39d57f",
   "metadata": {
    "scrolled": false
   },
   "outputs": [],
   "source": []
  },
  {
   "cell_type": "code",
   "execution_count": null,
   "id": "28ee3da1",
   "metadata": {},
   "outputs": [],
   "source": []
  },
  {
   "cell_type": "code",
   "execution_count": null,
   "id": "c459e6b0",
   "metadata": {},
   "outputs": [],
   "source": []
  },
  {
   "cell_type": "code",
   "execution_count": null,
   "id": "b218c19c",
   "metadata": {},
   "outputs": [],
   "source": []
  },
  {
   "cell_type": "code",
   "execution_count": null,
   "id": "a8f93a33",
   "metadata": {},
   "outputs": [],
   "source": []
  },
  {
   "cell_type": "code",
   "execution_count": null,
   "id": "683b542c",
   "metadata": {},
   "outputs": [],
   "source": [
    "0.16838,1.00000,0.00000,1.000,0.005\n",
    "0.00000,0.00000,0.16495,1.000,0.005\n",
    "0.33333,0.66667,0.32288,1.000,0.005\n",
    "0.33333,0.66667,0.01045,1.000,0.005\n",
    "0.33333,0.66667,0.21758,1.000,0.005\n",
    "0.33333,0.66667,0.11575,1.000,0.005\n",
    "0.33333,0.66667,0.50172,1.000,0.005\n",
    "0.66667,0.33333,0.49828,1.000,0.005\n",
    "0.00000,0.00000,0.65621,1.000,0.005\n",
    "0.00000,0.00000,0.34379,1.000,0.005\n",
    "0.00000,0.00000,0.55091,1.000,0.005\n",
    "0.00000,0.00000,0.44909,1.000,0.005\n",
    "0.00000,0.00000,0.83505,1.000,0.005\n",
    "0.33333,0.66667,0.83162,1.000,0.005\n",
    "0.66667,0.33333,0.98955,1.000,0.005\n",
    "0.66667,0.33333,0.67712,1.000,0.005\n",
    "0.66667,0.33333,0.88424,1.000,0.005\n",
    "0.66667,0.33333,0.78242,1.000,0.005\n",
    "\n",
    "0.00000,0.00000,0.00000,1.000,0.005\n",
    "0.83465,0.16535,0.07586,1.000,0.005\n",
    "0.83465,0.66930,0.07586,1.000,0.005\n",
    "0.33070,0.16535,0.07586,1.000,0.005\n",
    "0.83202,0.16798,0.25748,1.000,0.005\n",
    "0.83202,0.66403,0.25748,1.000,0.005\n",
    "0.33597,0.16798,0.25748,1.000,0.005\n",
    "0.66667,0.33333,0.33333,1.000,0.005\n",
    "0.50132,0.49868,0.40919,1.000,0.005\n",
    "0.50132,0.00263,0.40919,1.000,0.005\n",
    "0.99737,0.49868,0.40919,1.000,0.005\n",
    "0.49868,0.50132,0.59081,1.000,0.005\n",
    "0.49868,0.99737,0.59081,1.000,0.005\n",
    "0.00263,0.50132,0.59081,1.000,0.005\n",
    "0.33333,0.66667,0.66667,1.000,0.005\n",
    "0.16798,0.83202,0.74252,1.000,0.005\n",
    "0.16798,0.33597,0.74252,1.000,0.005\n",
    "0.66403,0.83202,0.74252,1.000,0.005\n",
    "0.16535,0.83465,0.92414,1.000,0.005\n",
    "0.16535,0.33070,0.92414,1.000,0.005\n",
    "0.66930,0.83465,0.92414,1.000,0.005\n"
   ]
  },
  {
   "cell_type": "code",
   "execution_count": null,
   "id": "bf51e13f",
   "metadata": {},
   "outputs": [],
   "source": []
  },
  {
   "cell_type": "code",
   "execution_count": null,
   "id": "6f5fe1cc",
   "metadata": {},
   "outputs": [],
   "source": []
  },
  {
   "cell_type": "code",
   "execution_count": null,
   "id": "852e3acb",
   "metadata": {},
   "outputs": [],
   "source": []
  },
  {
   "cell_type": "code",
   "execution_count": null,
   "id": "8075e9d8",
   "metadata": {},
   "outputs": [],
   "source": []
  },
  {
   "cell_type": "code",
   "execution_count": null,
   "id": "70868913",
   "metadata": {},
   "outputs": [],
   "source": []
  },
  {
   "cell_type": "code",
   "execution_count": 53,
   "id": "9d3454e6",
   "metadata": {},
   "outputs": [],
   "source": [
    "reference = imread(refpath)"
   ]
  },
  {
   "cell_type": "code",
   "execution_count": null,
   "id": "18bc6e0f",
   "metadata": {},
   "outputs": [],
   "source": []
  },
  {
   "cell_type": "code",
   "execution_count": null,
   "id": "d8639eb0",
   "metadata": {},
   "outputs": [],
   "source": []
  },
  {
   "cell_type": "code",
   "execution_count": 25,
   "id": "8f6b956d",
   "metadata": {},
   "outputs": [],
   "source": []
  },
  {
   "cell_type": "code",
   "execution_count": null,
   "id": "b34b6b0e",
   "metadata": {},
   "outputs": [],
   "source": []
  },
  {
   "cell_type": "code",
   "execution_count": null,
   "id": "08a70e3b",
   "metadata": {},
   "outputs": [],
   "source": []
  }
 ],
 "metadata": {
  "kernelspec": {
   "display_name": "Python 3 (ipykernel)",
   "language": "python",
   "name": "python3"
  },
  "language_info": {
   "codemirror_mode": {
    "name": "ipython",
    "version": 3
   },
   "file_extension": ".py",
   "mimetype": "text/x-python",
   "name": "python",
   "nbconvert_exporter": "python",
   "pygments_lexer": "ipython3",
   "version": "3.9.7"
  },
  "toc": {
   "base_numbering": 1,
   "nav_menu": {},
   "number_sections": false,
   "sideBar": false,
   "skip_h1_title": false,
   "title_cell": "Table of Contents",
   "title_sidebar": "Contents",
   "toc_cell": false,
   "toc_position": {},
   "toc_section_display": false,
   "toc_window_display": false
  },
  "varInspector": {
   "cols": {
    "lenName": 16,
    "lenType": 16,
    "lenVar": 40
   },
   "kernels_config": {
    "python": {
     "delete_cmd_postfix": "",
     "delete_cmd_prefix": "del ",
     "library": "var_list.py",
     "varRefreshCmd": "print(var_dic_list())"
    },
    "r": {
     "delete_cmd_postfix": ") ",
     "delete_cmd_prefix": "rm(",
     "library": "var_list.r",
     "varRefreshCmd": "cat(var_dic_list()) "
    }
   },
   "types_to_exclude": [
    "module",
    "function",
    "builtin_function_or_method",
    "instance",
    "_Feature"
   ],
   "window_display": false
  }
 },
 "nbformat": 4,
 "nbformat_minor": 5
}
