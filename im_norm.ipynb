{
 "cells": [
  {
   "cell_type": "code",
   "execution_count": 59,
   "id": "984a0ab4",
   "metadata": {},
   "outputs": [],
   "source": [
    "import cv2 as cv\n",
    "import numpy as np\n",
    "import tkinter\n",
    "from tkinter.filedialog import askopenfilename\n",
    "from pathlib import *\n",
    "from glob import glob\n",
    "import os"
   ]
  },
  {
   "cell_type": "code",
   "execution_count": null,
   "id": "683b542c",
   "metadata": {},
   "outputs": [],
   "source": []
  },
  {
   "cell_type": "code",
   "execution_count": null,
   "id": "ecca1168",
   "metadata": {},
   "outputs": [],
   "source": []
  },
  {
   "cell_type": "code",
   "execution_count": null,
   "id": "fabea94d",
   "metadata": {},
   "outputs": [],
   "source": []
  },
  {
   "cell_type": "code",
   "execution_count": null,
   "id": "d0209d16",
   "metadata": {},
   "outputs": [],
   "source": []
  },
  {
   "cell_type": "code",
   "execution_count": 73,
   "id": "8ec638fb",
   "metadata": {
    "scrolled": true
   },
   "outputs": [
    {
     "ename": "FileExistsError",
     "evalue": "[WinError 183] Eine Datei kann nicht erstellt werden, wenn sie bereits vorhanden ist: 'I:\\\\LEO\\\\quasi-in_situ\\\\C02\\\\head\\\\eps0\\\\normalised'",
     "output_type": "error",
     "traceback": [
      "\u001b[1;31m---------------------------------------------------------------------------\u001b[0m",
      "\u001b[1;31mFileExistsError\u001b[0m                           Traceback (most recent call last)",
      "\u001b[1;32m~\\AppData\\Local\\Temp/ipykernel_7504/2343286738.py\u001b[0m in \u001b[0;36m<module>\u001b[1;34m\u001b[0m\n\u001b[0;32m      1\u001b[0m \u001b[0mfile\u001b[0m \u001b[1;33m=\u001b[0m \u001b[0mPath\u001b[0m\u001b[1;33m(\u001b[0m\u001b[0maskopenfilename\u001b[0m\u001b[1;33m(\u001b[0m\u001b[0minitialdir\u001b[0m\u001b[1;33m=\u001b[0m\u001b[1;34m'I:\\LEO'\u001b[0m\u001b[1;33m,\u001b[0m \u001b[0mtitle\u001b[0m\u001b[1;33m=\u001b[0m\u001b[1;34m'´Select the folder, with images you want to normalise and select first image'\u001b[0m\u001b[1;33m)\u001b[0m\u001b[1;33m)\u001b[0m\u001b[1;33m\u001b[0m\u001b[1;33m\u001b[0m\u001b[0m\n\u001b[0;32m      2\u001b[0m \u001b[0mpaths\u001b[0m\u001b[1;33m=\u001b[0m\u001b[0mlist\u001b[0m\u001b[1;33m(\u001b[0m\u001b[0mfile\u001b[0m\u001b[1;33m.\u001b[0m\u001b[0mparent\u001b[0m\u001b[1;33m.\u001b[0m\u001b[0mglob\u001b[0m\u001b[1;33m(\u001b[0m\u001b[1;34m'**/pano*.tif'\u001b[0m\u001b[1;33m)\u001b[0m\u001b[1;33m)\u001b[0m\u001b[1;33m\u001b[0m\u001b[1;33m\u001b[0m\u001b[0m\n\u001b[1;32m----> 3\u001b[1;33m \u001b[0mos\u001b[0m\u001b[1;33m.\u001b[0m\u001b[0mmkdir\u001b[0m\u001b[1;33m(\u001b[0m\u001b[0mfile\u001b[0m\u001b[1;33m.\u001b[0m\u001b[0mparent\u001b[0m \u001b[1;33m/\u001b[0m \u001b[1;34m'normalised'\u001b[0m\u001b[1;33m)\u001b[0m\u001b[1;33m\u001b[0m\u001b[1;33m\u001b[0m\u001b[0m\n\u001b[0m",
      "\u001b[1;31mFileExistsError\u001b[0m: [WinError 183] Eine Datei kann nicht erstellt werden, wenn sie bereits vorhanden ist: 'I:\\\\LEO\\\\quasi-in_situ\\\\C02\\\\head\\\\eps0\\\\normalised'"
     ]
    }
   ],
   "source": [
    "file = Path(askopenfilename(initialdir='I:\\LEO', title='´Select the folder, with images you want to normalise and select first image'))\n",
    "paths=list(file.parent.glob('**/pano*.tif'))\n",
    "os.mkdir(file.parent / 'normalised')"
   ]
  },
  {
   "cell_type": "code",
   "execution_count": 72,
   "id": "1dd2b2da",
   "metadata": {},
   "outputs": [],
   "source": [
    "os.mkdir(file.parent / 'normalised')\n",
    "\n",
    "#paths=list(file.parent.glob('**/pano*.tif'))"
   ]
  },
  {
   "cell_type": "code",
   "execution_count": 84,
   "id": "de39d57f",
   "metadata": {
    "scrolled": true
   },
   "outputs": [
    {
     "name": "stdout",
     "output_type": "stream",
     "text": [
      "I:\\LEO\\quasi-in_situ\\C02\\head\\eps0\\panoramic_c02_head_eps0_000.tif\n",
      "I:\\LEO\\quasi-in_situ\\C02\\head\\eps0\\panoramic_c02_head_eps0_001.tif\n",
      "I:\\LEO\\quasi-in_situ\\C02\\head\\eps0\\panoramic_c02_head_eps0_002.tif\n",
      "I:\\LEO\\quasi-in_situ\\C02\\head\\eps0\\panoramic_c02_head_eps0_003.tif\n",
      "I:\\LEO\\quasi-in_situ\\C02\\head\\eps0\\panoramic_c02_head_eps0_004.tif\n",
      "I:\\LEO\\quasi-in_situ\\C02\\head\\eps0\\panoramic_c02_head_eps0_005.tif\n",
      "I:\\LEO\\quasi-in_situ\\C02\\head\\eps0\\panoramic_c02_head_eps0_006.tif\n",
      "I:\\LEO\\quasi-in_situ\\C02\\head\\eps0\\panoramic_c02_head_eps0_007.tif\n",
      "I:\\LEO\\quasi-in_situ\\C02\\head\\eps0\\panoramic_c02_head_eps0_008.tif\n",
      "I:\\LEO\\quasi-in_situ\\C02\\head\\eps0\\panoramic_c02_head_eps0_009.tif\n",
      "I:\\LEO\\quasi-in_situ\\C02\\head\\eps0\\panoramic_c02_head_eps0_011.tif\n",
      "I:\\LEO\\quasi-in_situ\\C02\\head\\eps0\\panoramic_c02_head_eps0_013.tif\n",
      "I:\\LEO\\quasi-in_situ\\C02\\head\\eps0\\panoramic_c02_head_eps0_015.tif\n",
      "I:\\LEO\\quasi-in_situ\\C02\\head\\eps0\\panoramic_c02_head_eps0_017.tif\n",
      "I:\\LEO\\quasi-in_situ\\C02\\head\\eps0\\panoramic_c02_head_eps0_019.tif\n",
      "I:\\LEO\\quasi-in_situ\\C02\\head\\eps0\\panoramic_c02_head_eps0_021.tif\n",
      "I:\\LEO\\quasi-in_situ\\C02\\head\\eps0\\panoramic_c02_head_eps0_022.tif\n",
      "I:\\LEO\\quasi-in_situ\\C02\\head\\eps0\\panoramic_c02_head_eps0_024.tif\n",
      "I:\\LEO\\quasi-in_situ\\C02\\head\\eps0\\panoramic_c02_head_eps0_026.tif\n",
      "I:\\LEO\\quasi-in_situ\\C02\\head\\eps0\\panoramic_c02_head_eps0_028.tif\n",
      "I:\\LEO\\quasi-in_situ\\C02\\head\\eps0\\panoramic_c02_head_eps0_030.tif\n",
      "I:\\LEO\\quasi-in_situ\\C02\\head\\eps0\\panoramic_c02_head_eps0_032.tif\n",
      "I:\\LEO\\quasi-in_situ\\C02\\head\\eps0\\panoramic_c02_head_eps0_034.tif\n",
      "I:\\LEO\\quasi-in_situ\\C02\\head\\eps0\\panoramic_c02_head_eps0_036.tif\n",
      "I:\\LEO\\quasi-in_situ\\C02\\head\\eps0\\panoramic_c02_head_eps0_038.tif\n",
      "I:\\LEO\\quasi-in_situ\\C02\\head\\eps0\\panoramic_c02_head_eps0_040.tif\n",
      "I:\\LEO\\quasi-in_situ\\C02\\head\\eps0\\panoramic_c02_head_eps0_042.tif\n",
      "I:\\LEO\\quasi-in_situ\\C02\\head\\eps0\\panoramic_c02_head_eps0_044.tif\n",
      "I:\\LEO\\quasi-in_situ\\C02\\head\\eps0\\panoramic_c02_head_eps0_046.tif\n",
      "I:\\LEO\\quasi-in_situ\\C02\\head\\eps0\\panoramic_c02_head_eps0_048.tif\n",
      "I:\\LEO\\quasi-in_situ\\C02\\head\\eps0\\panoramic_c02_head_eps0_050.tif\n",
      "I:\\LEO\\quasi-in_situ\\C02\\head\\eps0\\panoramic_c02_head_eps0_052.tif\n",
      "I:\\LEO\\quasi-in_situ\\C02\\head\\eps0\\panoramic_c02_head_eps0_054.tif\n",
      "I:\\LEO\\quasi-in_situ\\C02\\head\\eps0\\panoramic_c02_head_eps0_056.tif\n",
      "I:\\LEO\\quasi-in_situ\\C02\\head\\eps0\\panoramic_c02_head_eps0_058.tif\n",
      "I:\\LEO\\quasi-in_situ\\C02\\head\\eps0\\panoramic_c02_head_eps0_060.tif\n",
      "I:\\LEO\\quasi-in_situ\\C02\\head\\eps0\\panoramic_c02_head_eps0_062.tif\n",
      "I:\\LEO\\quasi-in_situ\\C02\\head\\eps0\\panoramic_c02_head_eps0_064.tif\n",
      "I:\\LEO\\quasi-in_situ\\C02\\head\\eps0\\panoramic_c02_head_eps0_066.tif\n",
      "I:\\LEO\\quasi-in_situ\\C02\\head\\eps0\\panoramic_c02_head_eps0_068.tif\n",
      "I:\\LEO\\quasi-in_situ\\C02\\head\\eps0\\panoramic_c02_head_eps0_070.tif\n",
      "I:\\LEO\\quasi-in_situ\\C02\\head\\eps0\\panoramic_c02_head_eps0_072.tif\n",
      "I:\\LEO\\quasi-in_situ\\C02\\head\\eps0\\panoramic_c02_head_eps0_074.tif\n",
      "I:\\LEO\\quasi-in_situ\\C02\\head\\eps0\\panoramic_c02_head_eps0_076.tif\n",
      "I:\\LEO\\quasi-in_situ\\C02\\head\\eps0\\panoramic_c02_head_eps0_078.tif\n",
      "I:\\LEO\\quasi-in_situ\\C02\\head\\eps0\\panoramic_c02_head_eps0_080.tif\n",
      "I:\\LEO\\quasi-in_situ\\C02\\head\\eps0\\panoramic_c02_head_eps0_082.tif\n",
      "I:\\LEO\\quasi-in_situ\\C02\\head\\eps0\\panoramic_c02_head_eps0_084.tif\n",
      "I:\\LEO\\quasi-in_situ\\C02\\head\\eps0\\panoramic_c02_head_eps0_086.tif\n",
      "I:\\LEO\\quasi-in_situ\\C02\\head\\eps0\\panoramic_c02_head_eps0_088.tif\n",
      "I:\\LEO\\quasi-in_situ\\C02\\head\\eps0\\panoramic_c02_head_eps0_090.tif\n",
      "I:\\LEO\\quasi-in_situ\\C02\\head\\eps0\\panoramic_c02_head_eps0_092.tif\n",
      "I:\\LEO\\quasi-in_situ\\C02\\head\\eps0\\panoramic_c02_head_eps0_094.tif\n",
      "I:\\LEO\\quasi-in_situ\\C02\\head\\eps0\\panoramic_c02_head_eps0_096.tif\n",
      "I:\\LEO\\quasi-in_situ\\C02\\head\\eps0\\panoramic_c02_head_eps0_097.tif\n",
      "I:\\LEO\\quasi-in_situ\\C02\\head\\eps0\\panoramic_c02_head_eps0_099.tif\n",
      "I:\\LEO\\quasi-in_situ\\C02\\head\\eps0\\panoramic_c02_head_eps0_101.tif\n",
      "I:\\LEO\\quasi-in_situ\\C02\\head\\eps0\\panoramic_c02_head_eps0_103.tif\n",
      "I:\\LEO\\quasi-in_situ\\C02\\head\\eps0\\panoramic_c02_head_eps0_105.tif\n",
      "I:\\LEO\\quasi-in_situ\\C02\\head\\eps0\\panoramic_c02_head_eps0_107.tif\n",
      "I:\\LEO\\quasi-in_situ\\C02\\head\\eps0\\panoramic_c02_head_eps0_109.tif\n",
      "I:\\LEO\\quasi-in_situ\\C02\\head\\eps0\\panoramic_c02_head_eps0_111.tif\n",
      "I:\\LEO\\quasi-in_situ\\C02\\head\\eps0\\panoramic_c02_head_eps0_113.tif\n",
      "I:\\LEO\\quasi-in_situ\\C02\\head\\eps0\\panoramic_c02_head_eps0_115.tif\n",
      "I:\\LEO\\quasi-in_situ\\C02\\head\\eps0\\panoramic_c02_head_eps0_117.tif\n",
      "I:\\LEO\\quasi-in_situ\\C02\\head\\eps0\\panoramic_c02_head_eps0_119.tif\n",
      "I:\\LEO\\quasi-in_situ\\C02\\head\\eps0\\panoramic_c02_head_eps0_121.tif\n",
      "I:\\LEO\\quasi-in_situ\\C02\\head\\eps0\\panoramic_c02_head_eps0_123.tif\n",
      "I:\\LEO\\quasi-in_situ\\C02\\head\\eps0\\panoramic_c02_head_eps0_125.tif\n",
      "I:\\LEO\\quasi-in_situ\\C02\\head\\eps0\\panoramic_c02_head_eps0_127.tif\n",
      "I:\\LEO\\quasi-in_situ\\C02\\head\\eps0\\panoramic_c02_head_eps0_129.tif\n",
      "I:\\LEO\\quasi-in_situ\\C02\\head\\eps0\\panoramic_c02_head_eps0_131.tif\n",
      "I:\\LEO\\quasi-in_situ\\C02\\head\\eps0\\panoramic_c02_head_eps0_133.tif\n",
      "I:\\LEO\\quasi-in_situ\\C02\\head\\eps0\\panoramic_c02_head_eps0_135.tif\n",
      "I:\\LEO\\quasi-in_situ\\C02\\head\\eps0\\panoramic_c02_head_eps0_137.tif\n",
      "I:\\LEO\\quasi-in_situ\\C02\\head\\eps0\\panoramic_c02_head_eps0_139.tif\n",
      "I:\\LEO\\quasi-in_situ\\C02\\head\\eps0\\panoramic_c02_head_eps0_141.tif\n",
      "I:\\LEO\\quasi-in_situ\\C02\\head\\eps0\\panoramic_c02_head_eps0_143.tif\n",
      "I:\\LEO\\quasi-in_situ\\C02\\head\\eps0\\panoramic_c02_head_eps0_145.tif\n",
      "I:\\LEO\\quasi-in_situ\\C02\\head\\eps0\\panoramic_c02_head_eps0_147.tif\n",
      "I:\\LEO\\quasi-in_situ\\C02\\head\\eps0\\panoramic_c02_head_eps0_149.tif\n",
      "I:\\LEO\\quasi-in_situ\\C02\\head\\eps0\\panoramic_c02_head_eps0_151.tif\n",
      "I:\\LEO\\quasi-in_situ\\C02\\head\\eps0\\panoramic_c02_head_eps0_153.tif\n",
      "I:\\LEO\\quasi-in_situ\\C02\\head\\eps0\\panoramic_c02_head_eps0_155.tif\n",
      "I:\\LEO\\quasi-in_situ\\C02\\head\\eps0\\panoramic_c02_head_eps0_157.tif\n",
      "I:\\LEO\\quasi-in_situ\\C02\\head\\eps0\\panoramic_c02_head_eps0_159.tif\n",
      "I:\\LEO\\quasi-in_situ\\C02\\head\\eps0\\panoramic_c02_head_eps0_161.tif\n",
      "I:\\LEO\\quasi-in_situ\\C02\\head\\eps0\\panoramic_c02_head_eps0_163.tif\n",
      "I:\\LEO\\quasi-in_situ\\C02\\head\\eps0\\panoramic_c02_head_eps0_165.tif\n",
      "I:\\LEO\\quasi-in_situ\\C02\\head\\eps0\\panoramic_c02_head_eps0_167.tif\n",
      "I:\\LEO\\quasi-in_situ\\C02\\head\\eps0\\panoramic_c02_head_eps0_169.tif\n",
      "I:\\LEO\\quasi-in_situ\\C02\\head\\eps0\\panoramic_c02_head_eps0_171.tif\n",
      "I:\\LEO\\quasi-in_situ\\C02\\head\\eps0\\panoramic_c02_head_eps0_173.tif\n",
      "I:\\LEO\\quasi-in_situ\\C02\\head\\eps0\\panoramic_c02_head_eps0_175.tif\n",
      "I:\\LEO\\quasi-in_situ\\C02\\head\\eps0\\panoramic_c02_head_eps0_177.tif\n",
      "I:\\LEO\\quasi-in_situ\\C02\\head\\eps0\\panoramic_c02_head_eps0_179.tif\n",
      "I:\\LEO\\quasi-in_situ\\C02\\head\\eps0\\panoramic_c02_head_eps0_181.tif\n",
      "I:\\LEO\\quasi-in_situ\\C02\\head\\eps0\\panoramic_c02_head_eps0_183.tif\n",
      "I:\\LEO\\quasi-in_situ\\C02\\head\\eps0\\panoramic_c02_head_eps0_185.tif\n",
      "I:\\LEO\\quasi-in_situ\\C02\\head\\eps0\\panoramic_c02_head_eps0_187.tif\n",
      "I:\\LEO\\quasi-in_situ\\C02\\head\\eps0\\panoramic_c02_head_eps0_189.tif\n",
      "I:\\LEO\\quasi-in_situ\\C02\\head\\eps0\\panoramic_c02_head_eps0_191.tif\n",
      "I:\\LEO\\quasi-in_situ\\C02\\head\\eps0\\panoramic_c02_head_eps0_193.tif\n",
      "I:\\LEO\\quasi-in_situ\\C02\\head\\eps0\\panoramic_c02_head_eps0_195.tif\n",
      "I:\\LEO\\quasi-in_situ\\C02\\head\\eps0\\panoramic_c02_head_eps0_197.tif\n",
      "I:\\LEO\\quasi-in_situ\\C02\\head\\eps0\\panoramic_c02_head_eps0_199.tif\n",
      "I:\\LEO\\quasi-in_situ\\C02\\head\\eps0\\panoramic_c02_head_eps0_201.tif\n",
      "I:\\LEO\\quasi-in_situ\\C02\\head\\eps0\\panoramic_c02_head_eps0_203.tif\n",
      "I:\\LEO\\quasi-in_situ\\C02\\head\\eps0\\panoramic_c02_head_eps0_205.tif\n",
      "I:\\LEO\\quasi-in_situ\\C02\\head\\eps0\\panoramic_c02_head_eps0_207.tif\n",
      "I:\\LEO\\quasi-in_situ\\C02\\head\\eps0\\panoramic_c02_head_eps0_209.tif\n",
      "I:\\LEO\\quasi-in_situ\\C02\\head\\eps0\\panoramic_c02_head_eps0_211.tif\n",
      "I:\\LEO\\quasi-in_situ\\C02\\head\\eps0\\panoramic_c02_head_eps0_213.tif\n",
      "I:\\LEO\\quasi-in_situ\\C02\\head\\eps0\\panoramic_c02_head_eps0_215.tif\n",
      "I:\\LEO\\quasi-in_situ\\C02\\head\\eps0\\panoramic_c02_head_eps0_217.tif\n",
      "I:\\LEO\\quasi-in_situ\\C02\\head\\eps0\\panoramic_c02_head_eps0_219.tif\n",
      "I:\\LEO\\quasi-in_situ\\C02\\head\\eps0\\panoramic_c02_head_eps0_221.tif\n",
      "I:\\LEO\\quasi-in_situ\\C02\\head\\eps0\\panoramic_c02_head_eps0_223.tif\n",
      "I:\\LEO\\quasi-in_situ\\C02\\head\\eps0\\panoramic_c02_head_eps0_225.tif\n",
      "I:\\LEO\\quasi-in_situ\\C02\\head\\eps0\\panoramic_c02_head_eps0_227.tif\n",
      "I:\\LEO\\quasi-in_situ\\C02\\head\\eps0\\panoramic_c02_head_eps0_229.tif\n",
      "I:\\LEO\\quasi-in_situ\\C02\\head\\eps0\\panoramic_c02_head_eps0_231.tif\n",
      "I:\\LEO\\quasi-in_situ\\C02\\head\\eps0\\panoramic_c02_head_eps0_233.tif\n"
     ]
    },
    {
     "name": "stdout",
     "output_type": "stream",
     "text": [
      "I:\\LEO\\quasi-in_situ\\C02\\head\\eps0\\panoramic_c02_head_eps0_235.tif\n",
      "I:\\LEO\\quasi-in_situ\\C02\\head\\eps0\\panoramic_c02_head_eps0_237.tif\n",
      "I:\\LEO\\quasi-in_situ\\C02\\head\\eps0\\panoramic_c02_head_eps0_239.tif\n",
      "I:\\LEO\\quasi-in_situ\\C02\\head\\eps0\\panoramic_c02_head_eps0_241.tif\n",
      "I:\\LEO\\quasi-in_situ\\C02\\head\\eps0\\panoramic_c02_head_eps0_243.tif\n",
      "I:\\LEO\\quasi-in_situ\\C02\\head\\eps0\\panoramic_c02_head_eps0_245.tif\n",
      "I:\\LEO\\quasi-in_situ\\C02\\head\\eps0\\panoramic_c02_head_eps0_247.tif\n",
      "I:\\LEO\\quasi-in_situ\\C02\\head\\eps0\\panoramic_c02_head_eps0_248.tif\n",
      "I:\\LEO\\quasi-in_situ\\C02\\head\\eps0\\panoramic_c02_head_eps0_250.tif\n",
      "I:\\LEO\\quasi-in_situ\\C02\\head\\eps0\\panoramic_c02_head_eps0_252.tif\n",
      "I:\\LEO\\quasi-in_situ\\C02\\head\\eps0\\panoramic_c02_head_eps0_254.tif\n",
      "I:\\LEO\\quasi-in_situ\\C02\\head\\eps0\\panoramic_c02_head_eps0_256.tif\n",
      "I:\\LEO\\quasi-in_situ\\C02\\head\\eps0\\panoramic_c02_head_eps0_258.tif\n",
      "I:\\LEO\\quasi-in_situ\\C02\\head\\eps0\\panoramic_c02_head_eps0_260.tif\n",
      "I:\\LEO\\quasi-in_situ\\C02\\head\\eps0\\panoramic_c02_head_eps0_262.tif\n",
      "I:\\LEO\\quasi-in_situ\\C02\\head\\eps0\\panoramic_c02_head_eps0_264.tif\n",
      "I:\\LEO\\quasi-in_situ\\C02\\head\\eps0\\panoramic_c02_head_eps0_266.tif\n",
      "I:\\LEO\\quasi-in_situ\\C02\\head\\eps0\\panoramic_c02_head_eps0_268.tif\n",
      "I:\\LEO\\quasi-in_situ\\C02\\head\\eps0\\panoramic_c02_head_eps0_270.tif\n",
      "I:\\LEO\\quasi-in_situ\\C02\\head\\eps0\\panoramic_c02_head_eps0_272.tif\n",
      "I:\\LEO\\quasi-in_situ\\C02\\head\\eps0\\panoramic_c02_head_eps0_274.tif\n",
      "I:\\LEO\\quasi-in_situ\\C02\\head\\eps0\\panoramic_c02_head_eps0_276.tif\n",
      "I:\\LEO\\quasi-in_situ\\C02\\head\\eps0\\panoramic_c02_head_eps0_278.tif\n",
      "I:\\LEO\\quasi-in_situ\\C02\\head\\eps0\\panoramic_c02_head_eps0_280.tif\n",
      "I:\\LEO\\quasi-in_situ\\C02\\head\\eps0\\panoramic_c02_head_eps0_282.tif\n",
      "I:\\LEO\\quasi-in_situ\\C02\\head\\eps0\\panoramic_c02_head_eps0_284.tif\n",
      "I:\\LEO\\quasi-in_situ\\C02\\head\\eps0\\panoramic_c02_head_eps0_286.tif\n",
      "I:\\LEO\\quasi-in_situ\\C02\\head\\eps0\\panoramic_c02_head_eps0_288.tif\n",
      "I:\\LEO\\quasi-in_situ\\C02\\head\\eps0\\panoramic_c02_head_eps0_290.tif\n",
      "I:\\LEO\\quasi-in_situ\\C02\\head\\eps0\\panoramic_c02_head_eps0_292.tif\n",
      "I:\\LEO\\quasi-in_situ\\C02\\head\\eps0\\panoramic_c02_head_eps0_294.tif\n",
      "I:\\LEO\\quasi-in_situ\\C02\\head\\eps0\\panoramic_c02_head_eps0_296.tif\n",
      "I:\\LEO\\quasi-in_situ\\C02\\head\\eps0\\panoramic_c02_head_eps0_298.tif\n",
      "I:\\LEO\\quasi-in_situ\\C02\\head\\eps0\\panoramic_c02_head_eps0_300.tif\n",
      "I:\\LEO\\quasi-in_situ\\C02\\head\\eps0\\panoramic_c02_head_eps0_302.tif\n",
      "I:\\LEO\\quasi-in_situ\\C02\\head\\eps0\\panoramic_c02_head_eps0_304.tif\n",
      "I:\\LEO\\quasi-in_situ\\C02\\head\\eps0\\panoramic_c02_head_eps0_306.tif\n",
      "I:\\LEO\\quasi-in_situ\\C02\\head\\eps0\\panoramic_c02_head_eps0_308.tif\n",
      "I:\\LEO\\quasi-in_situ\\C02\\head\\eps0\\panoramic_c02_head_eps0_310.tif\n",
      "I:\\LEO\\quasi-in_situ\\C02\\head\\eps0\\panoramic_c02_head_eps0_312.tif\n",
      "I:\\LEO\\quasi-in_situ\\C02\\head\\eps0\\panoramic_c02_head_eps0_314.tif\n",
      "I:\\LEO\\quasi-in_situ\\C02\\head\\eps0\\panoramic_c02_head_eps0_316.tif\n",
      "I:\\LEO\\quasi-in_situ\\C02\\head\\eps0\\panoramic_c02_head_eps0_318.tif\n",
      "I:\\LEO\\quasi-in_situ\\C02\\head\\eps0\\panoramic_c02_head_eps0_320.tif\n",
      "I:\\LEO\\quasi-in_situ\\C02\\head\\eps0\\panoramic_c02_head_eps0_322.tif\n",
      "I:\\LEO\\quasi-in_situ\\C02\\head\\eps0\\panoramic_c02_head_eps0_324.tif\n",
      "I:\\LEO\\quasi-in_situ\\C02\\head\\eps0\\panoramic_c02_head_eps0_326.tif\n",
      "I:\\LEO\\quasi-in_situ\\C02\\head\\eps0\\panoramic_c02_head_eps0_328.tif\n",
      "I:\\LEO\\quasi-in_situ\\C02\\head\\eps0\\panoramic_c02_head_eps0_330.tif\n",
      "I:\\LEO\\quasi-in_situ\\C02\\head\\eps0\\panoramic_c02_head_eps0_332.tif\n",
      "I:\\LEO\\quasi-in_situ\\C02\\head\\eps0\\panoramic_c02_head_eps0_334.tif\n",
      "I:\\LEO\\quasi-in_situ\\C02\\head\\eps0\\panoramic_c02_head_eps0_336.tif\n",
      "I:\\LEO\\quasi-in_situ\\C02\\head\\eps0\\panoramic_c02_head_eps0_338.tif\n",
      "I:\\LEO\\quasi-in_situ\\C02\\head\\eps0\\panoramic_c02_head_eps0_340.tif\n",
      "I:\\LEO\\quasi-in_situ\\C02\\head\\eps0\\panoramic_c02_head_eps0_342.tif\n",
      "I:\\LEO\\quasi-in_situ\\C02\\head\\eps0\\panoramic_c02_head_eps0_344.tif\n",
      "I:\\LEO\\quasi-in_situ\\C02\\head\\eps0\\panoramic_c02_head_eps0_345.tif\n",
      "I:\\LEO\\quasi-in_situ\\C02\\head\\eps0\\panoramic_c02_head_eps0_346.tif\n",
      "I:\\LEO\\quasi-in_situ\\C02\\head\\eps0\\panoramic_c02_head_eps0_347.tif\n",
      "I:\\LEO\\quasi-in_situ\\C02\\head\\eps0\\panoramic_c02_head_eps0_348.tif\n",
      "I:\\LEO\\quasi-in_situ\\C02\\head\\eps0\\panoramic_c02_head_eps0_349.tif\n",
      "I:\\LEO\\quasi-in_situ\\C02\\head\\eps0\\panoramic_c02_head_eps0_350.tif\n",
      "I:\\LEO\\quasi-in_situ\\C02\\head\\eps0\\panoramic_c02_head_eps0_351.tif\n",
      "I:\\LEO\\quasi-in_situ\\C02\\head\\eps0\\panoramic_c02_head_eps0_352.tif\n",
      "I:\\LEO\\quasi-in_situ\\C02\\head\\eps0\\panoramic_c02_head_eps0_353.tif\n",
      "I:\\LEO\\quasi-in_situ\\C02\\head\\eps0\\panoramic_c02_head_eps0_354.tif\n",
      "I:\\LEO\\quasi-in_situ\\C02\\head\\eps0\\panoramic_c02_head_eps0_355.tif\n",
      "I:\\LEO\\quasi-in_situ\\C02\\head\\eps0\\panoramic_c02_head_eps0_356.tif\n",
      "I:\\LEO\\quasi-in_situ\\C02\\head\\eps0\\panoramic_c02_head_eps0_357.tif\n",
      "I:\\LEO\\quasi-in_situ\\C02\\head\\eps0\\panoramic_c02_head_eps0_358.tif\n",
      "I:\\LEO\\quasi-in_situ\\C02\\head\\eps0\\panoramic_c02_head_eps0_359.tif\n",
      "I:\\LEO\\quasi-in_situ\\C02\\head\\eps0\\panoramic_c02_head_eps0_360.tif\n",
      "I:\\LEO\\quasi-in_situ\\C02\\head\\eps0\\panoramic_c02_head_eps0_361.tif\n",
      "I:\\LEO\\quasi-in_situ\\C02\\head\\eps0\\panoramic_c02_head_eps0_362.tif\n",
      "I:\\LEO\\quasi-in_situ\\C02\\head\\eps0\\panoramic_c02_head_eps0_363.tif\n",
      "I:\\LEO\\quasi-in_situ\\C02\\head\\eps0\\panoramic_c02_head_eps0_364.tif\n",
      "I:\\LEO\\quasi-in_situ\\C02\\head\\eps0\\panoramic_c02_head_eps0_365.tif\n",
      "I:\\LEO\\quasi-in_situ\\C02\\head\\eps0\\panoramic_c02_head_eps0_366.tif\n",
      "I:\\LEO\\quasi-in_situ\\C02\\head\\eps0\\panoramic_c02_head_eps0_367.tif\n",
      "I:\\LEO\\quasi-in_situ\\C02\\head\\eps0\\panoramic_c02_head_eps0_368.tif\n",
      "I:\\LEO\\quasi-in_situ\\C02\\head\\eps0\\panoramic_c02_head_eps0_369.tif\n",
      "I:\\LEO\\quasi-in_situ\\C02\\head\\eps0\\panoramic_c02_head_eps0_370.tif\n",
      "I:\\LEO\\quasi-in_situ\\C02\\head\\eps0\\panoramic_c02_head_eps0_371.tif\n",
      "I:\\LEO\\quasi-in_situ\\C02\\head\\eps0\\panoramic_c02_head_eps0_372.tif\n",
      "I:\\LEO\\quasi-in_situ\\C02\\head\\eps0\\panoramic_c02_head_eps0_373.tif\n",
      "I:\\LEO\\quasi-in_situ\\C02\\head\\eps0\\panoramic_c02_head_eps0_374.tif\n",
      "I:\\LEO\\quasi-in_situ\\C02\\head\\eps0\\panoramic_c02_head_eps0_375.tif\n",
      "I:\\LEO\\quasi-in_situ\\C02\\head\\eps0\\panoramic_c02_head_eps0_376.tif\n",
      "I:\\LEO\\quasi-in_situ\\C02\\head\\eps0\\panoramic_c02_head_eps0_377.tif\n",
      "I:\\LEO\\quasi-in_situ\\C02\\head\\eps0\\panoramic_c02_head_eps0_378.tif\n",
      "I:\\LEO\\quasi-in_situ\\C02\\head\\eps0\\panoramic_c02_head_eps0_379.tif\n",
      "I:\\LEO\\quasi-in_situ\\C02\\head\\eps0\\panoramic_c02_head_eps0_380.tif\n",
      "I:\\LEO\\quasi-in_situ\\C02\\head\\eps0\\panoramic_c02_head_eps0_381.tif\n",
      "I:\\LEO\\quasi-in_situ\\C02\\head\\eps0\\panoramic_c02_head_eps0_382.tif\n",
      "I:\\LEO\\quasi-in_situ\\C02\\head\\eps0\\panoramic_c02_head_eps0_383.tif\n",
      "I:\\LEO\\quasi-in_situ\\C02\\head\\eps0\\panoramic_c02_head_eps0_384.tif\n",
      "I:\\LEO\\quasi-in_situ\\C02\\head\\eps0\\panoramic_c02_head_eps0_385.tif\n",
      "I:\\LEO\\quasi-in_situ\\C02\\head\\eps0\\panoramic_c02_head_eps0_386.tif\n",
      "I:\\LEO\\quasi-in_situ\\C02\\head\\eps0\\panoramic_c02_head_eps0_387.tif\n",
      "I:\\LEO\\quasi-in_situ\\C02\\head\\eps0\\panoramic_c02_head_eps0_388.tif\n",
      "I:\\LEO\\quasi-in_situ\\C02\\head\\eps0\\panoramic_c02_head_eps0_389.tif\n",
      "I:\\LEO\\quasi-in_situ\\C02\\head\\eps0\\panoramic_c02_head_eps0_390.tif\n",
      "I:\\LEO\\quasi-in_situ\\C02\\head\\eps0\\panoramic_c02_head_eps0_391.tif\n",
      "I:\\LEO\\quasi-in_situ\\C02\\head\\eps0\\panoramic_c02_head_eps0_392.tif\n",
      "I:\\LEO\\quasi-in_situ\\C02\\head\\eps0\\panoramic_c02_head_eps0_393.tif\n",
      "I:\\LEO\\quasi-in_situ\\C02\\head\\eps0\\panoramic_c02_head_eps0_394.tif\n",
      "I:\\LEO\\quasi-in_situ\\C02\\head\\eps0\\panoramic_c02_head_eps0_395.tif\n",
      "I:\\LEO\\quasi-in_situ\\C02\\head\\eps0\\panoramic_c02_head_eps0_396.tif\n",
      "I:\\LEO\\quasi-in_situ\\C02\\head\\eps0\\panoramic_c02_head_eps0_397.tif\n",
      "I:\\LEO\\quasi-in_situ\\C02\\head\\eps0\\panoramic_c02_head_eps0_398.tif\n",
      "I:\\LEO\\quasi-in_situ\\C02\\head\\eps0\\panoramic_c02_head_eps0_399.tif\n",
      "I:\\LEO\\quasi-in_situ\\C02\\head\\eps0\\panoramic_c02_head_eps0_400.tif\n",
      "I:\\LEO\\quasi-in_situ\\C02\\head\\eps0\\panoramic_c02_head_eps0_401.tif\n",
      "I:\\LEO\\quasi-in_situ\\C02\\head\\eps0\\panoramic_c02_head_eps0_402.tif\n",
      "I:\\LEO\\quasi-in_situ\\C02\\head\\eps0\\panoramic_c02_head_eps0_403.tif\n",
      "I:\\LEO\\quasi-in_situ\\C02\\head\\eps0\\panoramic_c02_head_eps0_404.tif\n",
      "I:\\LEO\\quasi-in_situ\\C02\\head\\eps0\\panoramic_c02_head_eps0_405.tif\n",
      "I:\\LEO\\quasi-in_situ\\C02\\head\\eps0\\panoramic_c02_head_eps0_406.tif\n",
      "I:\\LEO\\quasi-in_situ\\C02\\head\\eps0\\panoramic_c02_head_eps0_407.tif\n",
      "I:\\LEO\\quasi-in_situ\\C02\\head\\eps0\\panoramic_c02_head_eps0_408.tif\n",
      "I:\\LEO\\quasi-in_situ\\C02\\head\\eps0\\panoramic_c02_head_eps0_409.tif\n",
      "I:\\LEO\\quasi-in_situ\\C02\\head\\eps0\\panoramic_c02_head_eps0_410.tif\n",
      "I:\\LEO\\quasi-in_situ\\C02\\head\\eps0\\panoramic_c02_head_eps0_411.tif\n"
     ]
    },
    {
     "name": "stdout",
     "output_type": "stream",
     "text": [
      "I:\\LEO\\quasi-in_situ\\C02\\head\\eps0\\panoramic_c02_head_eps0_412.tif\n",
      "I:\\LEO\\quasi-in_situ\\C02\\head\\eps0\\panoramic_c02_head_eps0_413.tif\n",
      "I:\\LEO\\quasi-in_situ\\C02\\head\\eps0\\panoramic_c02_head_eps0_414.tif\n",
      "I:\\LEO\\quasi-in_situ\\C02\\head\\eps0\\panoramic_c02_head_eps0_415.tif\n",
      "I:\\LEO\\quasi-in_situ\\C02\\head\\eps0\\panoramic_c02_head_eps0_416.tif\n",
      "I:\\LEO\\quasi-in_situ\\C02\\head\\eps0\\panoramic_c02_head_eps0_417.tif\n",
      "I:\\LEO\\quasi-in_situ\\C02\\head\\eps0\\panoramic_c02_head_eps0_418.tif\n",
      "I:\\LEO\\quasi-in_situ\\C02\\head\\eps0\\panoramic_c02_head_eps0_419.tif\n",
      "I:\\LEO\\quasi-in_situ\\C02\\head\\eps0\\panoramic_c02_head_eps0_420.tif\n",
      "I:\\LEO\\quasi-in_situ\\C02\\head\\eps0\\panoramic_c02_head_eps0_421.tif\n",
      "I:\\LEO\\quasi-in_situ\\C02\\head\\eps0\\panoramic_c02_head_eps0_422.tif\n",
      "I:\\LEO\\quasi-in_situ\\C02\\head\\eps0\\panoramic_c02_head_eps0_423.tif\n",
      "I:\\LEO\\quasi-in_situ\\C02\\head\\eps0\\panoramic_c02_head_eps0_424.tif\n",
      "I:\\LEO\\quasi-in_situ\\C02\\head\\eps0\\panoramic_c02_head_eps0_425.tif\n",
      "I:\\LEO\\quasi-in_situ\\C02\\head\\eps0\\panoramic_c02_head_eps0_426.tif\n",
      "I:\\LEO\\quasi-in_situ\\C02\\head\\eps0\\panoramic_c02_head_eps0_427.tif\n",
      "I:\\LEO\\quasi-in_situ\\C02\\head\\eps0\\panoramic_c02_head_eps0_428.tif\n",
      "I:\\LEO\\quasi-in_situ\\C02\\head\\eps0\\panoramic_c02_head_eps0_429.tif\n",
      "I:\\LEO\\quasi-in_situ\\C02\\head\\eps0\\panoramic_c02_head_eps0_430.tif\n",
      "I:\\LEO\\quasi-in_situ\\C02\\head\\eps0\\panoramic_c02_head_eps0_431.tif\n",
      "I:\\LEO\\quasi-in_situ\\C02\\head\\eps0\\panoramic_c02_head_eps0_432.tif\n",
      "I:\\LEO\\quasi-in_situ\\C02\\head\\eps0\\panoramic_c02_head_eps0_433.tif\n",
      "I:\\LEO\\quasi-in_situ\\C02\\head\\eps0\\panoramic_c02_head_eps0_434.tif\n",
      "I:\\LEO\\quasi-in_situ\\C02\\head\\eps0\\panoramic_c02_head_eps0_435.tif\n",
      "I:\\LEO\\quasi-in_situ\\C02\\head\\eps0\\panoramic_c02_head_eps0_436.tif\n",
      "I:\\LEO\\quasi-in_situ\\C02\\head\\eps0\\panoramic_c02_head_eps0_437.tif\n",
      "I:\\LEO\\quasi-in_situ\\C02\\head\\eps0\\panoramic_c02_head_eps0_438.tif\n",
      "I:\\LEO\\quasi-in_situ\\C02\\head\\eps0\\panoramic_c02_head_eps0_439.tif\n",
      "I:\\LEO\\quasi-in_situ\\C02\\head\\eps0\\panoramic_c02_head_eps0_440.tif\n",
      "I:\\LEO\\quasi-in_situ\\C02\\head\\eps0\\panoramic_c02_head_eps0_441.tif\n",
      "I:\\LEO\\quasi-in_situ\\C02\\head\\eps0\\panoramic_c02_head_eps0_442.tif\n",
      "I:\\LEO\\quasi-in_situ\\C02\\head\\eps0\\panoramic_c02_head_eps0_443.tif\n",
      "I:\\LEO\\quasi-in_situ\\C02\\head\\eps0\\panoramic_c02_head_eps0_444.tif\n",
      "I:\\LEO\\quasi-in_situ\\C02\\head\\eps0\\panoramic_c02_head_eps0_445.tif\n",
      "I:\\LEO\\quasi-in_situ\\C02\\head\\eps0\\panoramic_c02_head_eps0_446.tif\n",
      "I:\\LEO\\quasi-in_situ\\C02\\head\\eps0\\panoramic_c02_head_eps0_447.tif\n",
      "I:\\LEO\\quasi-in_situ\\C02\\head\\eps0\\panoramic_c02_head_eps0_448.tif\n",
      "I:\\LEO\\quasi-in_situ\\C02\\head\\eps0\\panoramic_c02_head_eps0_449.tif\n",
      "I:\\LEO\\quasi-in_situ\\C02\\head\\eps0\\panoramic_c02_head_eps0_450.tif\n",
      "I:\\LEO\\quasi-in_situ\\C02\\head\\eps0\\panoramic_c02_head_eps0_451.tif\n",
      "I:\\LEO\\quasi-in_situ\\C02\\head\\eps0\\panoramic_c02_head_eps0_452.tif\n",
      "I:\\LEO\\quasi-in_situ\\C02\\head\\eps0\\panoramic_c02_head_eps0_453.tif\n",
      "I:\\LEO\\quasi-in_situ\\C02\\head\\eps0\\panoramic_c02_head_eps0_454.tif\n",
      "I:\\LEO\\quasi-in_situ\\C02\\head\\eps0\\panoramic_c02_head_eps0_455.tif\n",
      "I:\\LEO\\quasi-in_situ\\C02\\head\\eps0\\panoramic_c02_head_eps0_456.tif\n",
      "I:\\LEO\\quasi-in_situ\\C02\\head\\eps0\\panoramic_c02_head_eps0_457.tif\n",
      "I:\\LEO\\quasi-in_situ\\C02\\head\\eps0\\panoramic_c02_head_eps0_458.tif\n",
      "I:\\LEO\\quasi-in_situ\\C02\\head\\eps0\\panoramic_c02_head_eps0_459.tif\n",
      "I:\\LEO\\quasi-in_situ\\C02\\head\\eps0\\panoramic_c02_head_eps0_460.tif\n",
      "I:\\LEO\\quasi-in_situ\\C02\\head\\eps0\\panoramic_c02_head_eps0_461.tif\n",
      "I:\\LEO\\quasi-in_situ\\C02\\head\\eps0\\panoramic_c02_head_eps0_462.tif\n",
      "I:\\LEO\\quasi-in_situ\\C02\\head\\eps0\\panoramic_c02_head_eps0_463.tif\n",
      "I:\\LEO\\quasi-in_situ\\C02\\head\\eps0\\panoramic_c02_head_eps0_464.tif\n",
      "I:\\LEO\\quasi-in_situ\\C02\\head\\eps0\\panoramic_c02_head_eps0_465.tif\n",
      "I:\\LEO\\quasi-in_situ\\C02\\head\\eps0\\panoramic_c02_head_eps0_466.tif\n",
      "I:\\LEO\\quasi-in_situ\\C02\\head\\eps0\\panoramic_c02_head_eps0_467.tif\n"
     ]
    }
   ],
   "source": [
    "for img_path in paths:\n",
    "    print(img_path)\n",
    "    #img=cv.imread(simg_path)\n",
    "    img = cv.imread(str(img_path))\n",
    "    normalizedImg = np.zeros(img.shape[0:1])\n",
    "    normalizedImg = cv.normalize(img,  normalizedImg, 0, 255, cv.NORM_MINMAX)\n",
    "    #cv.imwrite(img_path.parent /'normalised' / img_path.parts[-1])\n",
    "    cv.imwrite(str(img_path.parent /'normalised' / img_path.parts[-1]), normalizedImg)\n",
    "    #cv.imshow('dst_rt', normalizedImg)\n",
    "    #cv.waitKey(0)\n",
    "    \n",
    "    #cv.destroyAllWindows()"
   ]
  },
  {
   "cell_type": "code",
   "execution_count": 78,
   "id": "b218c19c",
   "metadata": {},
   "outputs": [
    {
     "data": {
      "text/plain": [
       "'panoramic_c02_head_eps0_467.tif'"
      ]
     },
     "execution_count": 78,
     "metadata": {},
     "output_type": "execute_result"
    }
   ],
   "source": [
    "img_path.parts[-1]"
   ]
  },
  {
   "cell_type": "code",
   "execution_count": 58,
   "id": "a8f93a33",
   "metadata": {},
   "outputs": [],
   "source": [
    "img = cv.imread(str(img_path))\n",
    "normalizedImg = np.zeros(img.shape[0:1])\n",
    "normalizedImg = cv.normalize(img,  normalizedImg, 0, 255, cv.NORM_MINMAX)\n",
    "cv.imshow('dst_rt', normalizedImg)\n",
    "cv.waitKey(0)\n",
    "cv.destroyAllWindows()"
   ]
  },
  {
   "cell_type": "code",
   "execution_count": 57,
   "id": "bf51e13f",
   "metadata": {},
   "outputs": [
    {
     "data": {
      "text/plain": [
       "(2304, 3072, 3)"
      ]
     },
     "execution_count": 57,
     "metadata": {},
     "output_type": "execute_result"
    }
   ],
   "source": [
    "img.shape"
   ]
  },
  {
   "cell_type": "code",
   "execution_count": 31,
   "id": "6f5fe1cc",
   "metadata": {},
   "outputs": [
    {
     "data": {
      "text/plain": [
       "<function glob.glob(pathname, *, recursive=False)>"
      ]
     },
     "execution_count": 31,
     "metadata": {},
     "output_type": "execute_result"
    }
   ],
   "source": [
    "glob"
   ]
  },
  {
   "cell_type": "code",
   "execution_count": 81,
   "id": "852e3acb",
   "metadata": {},
   "outputs": [
    {
     "data": {
      "text/plain": [
       "True"
      ]
     },
     "execution_count": 81,
     "metadata": {},
     "output_type": "execute_result"
    }
   ],
   "source": [
    "cv.imwrite(str(img_path.parent /'normalised' / img_path.parts[-1]), img)"
   ]
  },
  {
   "cell_type": "code",
   "execution_count": null,
   "id": "8075e9d8",
   "metadata": {},
   "outputs": [],
   "source": []
  },
  {
   "cell_type": "code",
   "execution_count": null,
   "id": "70868913",
   "metadata": {},
   "outputs": [],
   "source": []
  },
  {
   "cell_type": "code",
   "execution_count": null,
   "id": "9d3454e6",
   "metadata": {},
   "outputs": [],
   "source": []
  },
  {
   "cell_type": "code",
   "execution_count": null,
   "id": "a8df5075",
   "metadata": {},
   "outputs": [],
   "source": []
  },
  {
   "cell_type": "code",
   "execution_count": null,
   "id": "d8639eb0",
   "metadata": {},
   "outputs": [],
   "source": []
  }
 ],
 "metadata": {
  "kernelspec": {
   "display_name": "Python 3 (ipykernel)",
   "language": "python",
   "name": "python3"
  },
  "language_info": {
   "codemirror_mode": {
    "name": "ipython",
    "version": 3
   },
   "file_extension": ".py",
   "mimetype": "text/x-python",
   "name": "python",
   "nbconvert_exporter": "python",
   "pygments_lexer": "ipython3",
   "version": "3.9.7"
  },
  "varInspector": {
   "cols": {
    "lenName": 16,
    "lenType": 16,
    "lenVar": 40
   },
   "kernels_config": {
    "python": {
     "delete_cmd_postfix": "",
     "delete_cmd_prefix": "del ",
     "library": "var_list.py",
     "varRefreshCmd": "print(var_dic_list())"
    },
    "r": {
     "delete_cmd_postfix": ") ",
     "delete_cmd_prefix": "rm(",
     "library": "var_list.r",
     "varRefreshCmd": "cat(var_dic_list()) "
    }
   },
   "types_to_exclude": [
    "module",
    "function",
    "builtin_function_or_method",
    "instance",
    "_Feature"
   ],
   "window_display": false
  }
 },
 "nbformat": 4,
 "nbformat_minor": 5
}
