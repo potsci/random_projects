{
 "cells": [
  {
   "cell_type": "code",
   "execution_count": null,
   "metadata": {},
   "outputs": [
    {
     "ename": "",
     "evalue": "",
     "output_type": "error",
     "traceback": [
      "\u001b[1;31mRunning cells with 'Python 3.11.9' requires the ipykernel package.\n",
      "\u001b[1;31mRun the following command to install 'ipykernel' into the Python environment. \n",
      "\u001b[1;31mCommand: 'c:/msys64/ucrt64/bin/python.exe -m pip install ipykernel -U --user --force-reinstall'"
     ]
    }
   ],
   "source": [
    "import ncempy.io as nio\n",
    "dmData = nio.read('C:\\\\Promo\\\\TEM\\\\NRC\\\\Lucas\\\\Nb42Ni\\\\DP-2_CL0.25m, I1 3.13.dm3')\n",
    "print(dmData['data'].shape) # the shape of the data\n",
    "print(dmData['pixelSize']) # print the pixel size"
   ]
  },
  {
   "cell_type": "code",
   "execution_count": null,
   "metadata": {},
   "outputs": [
    {
     "ename": "",
     "evalue": "",
     "output_type": "error",
     "traceback": [
      "\u001b[1;31mRunning cells with 'Python 3.11.9' requires the ipykernel package.\n",
      "\u001b[1;31mRun the following command to install 'ipykernel' into the Python environment. \n",
      "\u001b[1;31mCommand: 'c:/msys64/ucrt64/bin/python.exe -m pip install ipykernel -U --user --force-reinstall'"
     ]
    }
   ],
   "source": [
    "\n",
    "tem_img=dmData['data']"
   ]
  },
  {
   "cell_type": "markdown",
   "metadata": {},
   "source": [
    "## Load the image, to see what it looks like ##\n"
   ]
  },
  {
   "cell_type": "code",
   "execution_count": null,
   "metadata": {},
   "outputs": [
    {
     "ename": "",
     "evalue": "",
     "output_type": "error",
     "traceback": [
      "\u001b[1;31mRunning cells with 'Python 3.11.9' requires the ipykernel package.\n",
      "\u001b[1;31mRun the following command to install 'ipykernel' into the Python environment. \n",
      "\u001b[1;31mCommand: 'c:/msys64/ucrt64/bin/python.exe -m pip install ipykernel -U --user --force-reinstall'"
     ]
    }
   ],
   "source": []
  },
  {
   "cell_type": "code",
   "execution_count": null,
   "metadata": {},
   "outputs": [
    {
     "ename": "",
     "evalue": "",
     "output_type": "error",
     "traceback": [
      "\u001b[1;31mRunning cells with 'Python 3.11.9' requires the ipykernel package.\n",
      "\u001b[1;31mRun the following command to install 'ipykernel' into the Python environment. \n",
      "\u001b[1;31mCommand: 'c:/msys64/ucrt64/bin/python.exe -m pip install ipykernel -U --user --force-reinstall'"
     ]
    }
   ],
   "source": [
    "import matplotlib.pyplot as plt\n",
    "fig,ax=plt.subplots(figsize=(10,10))\n",
    "# plt.imshow(tem_img,cmap='gray')\n",
    "y_crop=500\n",
    "x_crop=200\n",
    "img_new=tem_img[500:1300,200:900]\n",
    "plt.imshow(img_new)\n",
    "center_y=894.144-y_crop\n",
    "center_x=627.04-x_crop\n",
    "plt.scatter(627.04-200,894.1444-500,color='orange')"
   ]
  },
  {
   "cell_type": "markdown",
   "metadata": {},
   "source": [
    "## lets try scikit-image blob detection"
   ]
  },
  {
   "cell_type": "code",
   "execution_count": null,
   "metadata": {},
   "outputs": [
    {
     "ename": "",
     "evalue": "",
     "output_type": "error",
     "traceback": [
      "\u001b[1;31mRunning cells with 'Python 3.11.9' requires the ipykernel package.\n",
      "\u001b[1;31mRun the following command to install 'ipykernel' into the Python environment. \n",
      "\u001b[1;31mCommand: 'c:/msys64/ucrt64/bin/python.exe -m pip install ipykernel -U --user --force-reinstall'"
     ]
    }
   ],
   "source": [
    "from math import sqrt\n",
    "from skimage import data\n",
    "from skimage.feature import blob_dog, blob_log, blob_doh\n",
    "from skimage.color import rgb2gray\n",
    "\n",
    "import matplotlib.pyplot as plt\n",
    "\n",
    "import numpy as np\n",
    "\n",
    "\n",
    "image = tem_img\n",
    "image_gray = img_new\n",
    "\n",
    "blobs_log = blob_log(image_gray, max_sigma=20, num_sigma=10, threshold=0.02*np.max(image_gray),overlap=1)\n",
    "\n",
    "# Compute radii in the 3rd column.\n",
    "blobs_log[:, 2] = blobs_log[:, 2] * sqrt(2)\n",
    "\n",
    "blobs_dog = blob_dog(image_gray, max_sigma=20, threshold=0.02*np.max(image_gray),overlap=1)\n",
    "blobs_dog[:, 2] = blobs_dog[:, 2] * sqrt(2)\n",
    "\n",
    "# blobs_doh = blob_doh(image_gray, max_sigma=5, threshold=0.05*np.max(image_gray))\n",
    "\n",
    "blobs_list = [blobs_log, blobs_dog]#, blobs_doh]\n",
    "# colors = ['yellow', 'lime', 'red']\n",
    "# titles = ['Laplacian of Gaussian', 'Difference of Gaussian', 'Determinant of Hessian']\n",
    "# sequence = zip(blobs_list, colors, titles)\n",
    "\n",
    "\n",
    "\n"
   ]
  },
  {
   "cell_type": "code",
   "execution_count": null,
   "metadata": {},
   "outputs": [
    {
     "ename": "",
     "evalue": "",
     "output_type": "error",
     "traceback": [
      "\u001b[1;31mRunning cells with 'Python 3.11.9' requires the ipykernel package.\n",
      "\u001b[1;31mRun the following command to install 'ipykernel' into the Python environment. \n",
      "\u001b[1;31mCommand: 'c:/msys64/ucrt64/bin/python.exe -m pip install ipykernel -U --user --force-reinstall'"
     ]
    }
   ],
   "source": [
    "0.05*np.max(image_gray)"
   ]
  },
  {
   "cell_type": "code",
   "execution_count": null,
   "metadata": {},
   "outputs": [
    {
     "ename": "",
     "evalue": "",
     "output_type": "error",
     "traceback": [
      "\u001b[1;31mRunning cells with 'Python 3.11.9' requires the ipykernel package.\n",
      "\u001b[1;31mRun the following command to install 'ipykernel' into the Python environment. \n",
      "\u001b[1;31mCommand: 'c:/msys64/ucrt64/bin/python.exe -m pip install ipykernel -U --user --force-reinstall'"
     ]
    }
   ],
   "source": [
    "\n",
    "blobs_list = [blobs_log, blobs_dog]#, blobs_doh]\n",
    "colors = ['yellow', 'lime']\n",
    "titles = ['Laplacian of Gaussian', 'Difference of Gaussian']#, 'Determinant of Hessian']\n",
    "sequence = zip(blobs_list, colors, titles)\n",
    "fig, axes = plt.subplots(1, 2, figsize=(20,12), sharex=True, sharey=True)\n",
    "ax = axes.ravel()\n",
    "for idx, (blobs, color, title) in enumerate(sequence):\n",
    "    ax[idx].set_title(title)\n",
    "    ax[idx].imshow(image_gray,cmap='gray')\n",
    "    for blob in blobs:\n",
    "        y, x, r = blob\n",
    "        c = plt.Circle((x, y), r, color=color, linewidth=0.5, fill=False)\n",
    "        ax[idx].add_patch(c)\n",
    "    # ax[idx].set_axis_off()\n",
    "\n",
    "    ax[idx].scatter(center_x,center_y,s=100)\n",
    "\n",
    "plt.tight_layout()\n",
    "plt.show()\n"
   ]
  },
  {
   "cell_type": "code",
   "execution_count": null,
   "metadata": {},
   "outputs": [
    {
     "ename": "",
     "evalue": "",
     "output_type": "error",
     "traceback": [
      "\u001b[1;31mRunning cells with 'Python 3.11.9' requires the ipykernel package.\n",
      "\u001b[1;31mRun the following command to install 'ipykernel' into the Python environment. \n",
      "\u001b[1;31mCommand: 'c:/msys64/ucrt64/bin/python.exe -m pip install ipykernel -U --user --force-reinstall'"
     ]
    }
   ],
   "source": [
    "plt.imshow(image_gray)"
   ]
  },
  {
   "cell_type": "code",
   "execution_count": null,
   "metadata": {},
   "outputs": [
    {
     "ename": "",
     "evalue": "",
     "output_type": "error",
     "traceback": [
      "\u001b[1;31mRunning cells with 'Python 3.11.9' requires the ipykernel package.\n",
      "\u001b[1;31mRun the following command to install 'ipykernel' into the Python environment. \n",
      "\u001b[1;31mCommand: 'c:/msys64/ucrt64/bin/python.exe -m pip install ipykernel -U --user --force-reinstall'"
     ]
    }
   ],
   "source": [
    "blobs_log = blob_log(image_gray[0:300,0:300], max_sigma=5, num_sigma=10, threshold=0.05)"
   ]
  },
  {
   "cell_type": "code",
   "execution_count": null,
   "metadata": {},
   "outputs": [
    {
     "ename": "",
     "evalue": "",
     "output_type": "error",
     "traceback": [
      "\u001b[1;31mRunning cells with 'Python 3.11.9' requires the ipykernel package.\n",
      "\u001b[1;31mRun the following command to install 'ipykernel' into the Python environment. \n",
      "\u001b[1;31mCommand: 'c:/msys64/ucrt64/bin/python.exe -m pip install ipykernel -U --user --force-reinstall'"
     ]
    }
   ],
   "source": [
    "blobs_log"
   ]
  },
  {
   "cell_type": "markdown",
   "metadata": {},
   "source": [
    "## playing around with 1d peak detection ##\n"
   ]
  },
  {
   "cell_type": "code",
   "execution_count": null,
   "metadata": {},
   "outputs": [
    {
     "ename": "",
     "evalue": "",
     "output_type": "error",
     "traceback": [
      "\u001b[1;31mRunning cells with 'Python 3.11.9' requires the ipykernel package.\n",
      "\u001b[1;31mRun the following command to install 'ipykernel' into the Python environment. \n",
      "\u001b[1;31mCommand: 'c:/msys64/ucrt64/bin/python.exe -m pip install ipykernel -U --user --force-reinstall'"
     ]
    }
   ],
   "source": [
    "import scipy.signal as signal\n",
    "import numpy as np\n",
    "plt.plot(img_new[:,400])\n",
    "[peaks,peak_info]=signal.find_peaks(img_new[:,400],distance=30,prominence=0.01*np.max(img_new))\n",
    "plt.scatter(peaks,img_new[peaks,400],marker=\"x\",color='orange')"
   ]
  },
  {
   "cell_type": "code",
   "execution_count": null,
   "metadata": {},
   "outputs": [
    {
     "ename": "",
     "evalue": "",
     "output_type": "error",
     "traceback": [
      "\u001b[1;31mRunning cells with 'Python 3.11.9' requires the ipykernel package.\n",
      "\u001b[1;31mRun the following command to install 'ipykernel' into the Python environment. \n",
      "\u001b[1;31mCommand: 'c:/msys64/ucrt64/bin/python.exe -m pip install ipykernel -U --user --force-reinstall'"
     ]
    }
   ],
   "source": [
    "from numpy import matlib\n",
    "matlib.repmat(1,1,peaks.size)"
   ]
  },
  {
   "cell_type": "code",
   "execution_count": null,
   "metadata": {},
   "outputs": [
    {
     "ename": "",
     "evalue": "",
     "output_type": "error",
     "traceback": [
      "\u001b[1;31mRunning cells with 'Python 3.11.9' requires the ipykernel package.\n",
      "\u001b[1;31mRun the following command to install 'ipykernel' into the Python environment. \n",
      "\u001b[1;31mCommand: 'c:/msys64/ucrt64/bin/python.exe -m pip install ipykernel -U --user --force-reinstall'"
     ]
    }
   ],
   "source": [
    "\n",
    "from skimage.feature import peak_local_max"
   ]
  },
  {
   "cell_type": "code",
   "execution_count": null,
   "metadata": {},
   "outputs": [
    {
     "ename": "",
     "evalue": "",
     "output_type": "error",
     "traceback": [
      "\u001b[1;31mRunning cells with 'Python 3.11.9' requires the ipykernel package.\n",
      "\u001b[1;31mRun the following command to install 'ipykernel' into the Python environment. \n",
      "\u001b[1;31mCommand: 'c:/msys64/ucrt64/bin/python.exe -m pip install ipykernel -U --user --force-reinstall'"
     ]
    }
   ],
   "source": [
    "# import scipy.signal as signal\n",
    "# import numpy as np\n",
    "plt.imshow(img_new)\n",
    "for i in range(img_new.shape[1]):\n",
    "    [peaks,peak_info]=signal.find_peaks(img_new[:,i],distance=30,prominence=0.01*np.max(img_new))\n",
    "    plt.scatter(matlib.repmat(i,1,peaks.size),peaks,marker=\".\",color='orange')"
   ]
  },
  {
   "cell_type": "markdown",
   "metadata": {},
   "source": [
    "## playing around with 2d peak detection ## "
   ]
  },
  {
   "cell_type": "code",
   "execution_count": null,
   "metadata": {},
   "outputs": [
    {
     "ename": "",
     "evalue": "",
     "output_type": "error",
     "traceback": [
      "\u001b[1;31mRunning cells with 'Python 3.11.9' requires the ipykernel package.\n",
      "\u001b[1;31mRun the following command to install 'ipykernel' into the Python environment. \n",
      "\u001b[1;31mCommand: 'c:/msys64/ucrt64/bin/python.exe -m pip install ipykernel -U --user --force-reinstall'"
     ]
    }
   ],
   "source": [
    "fig,ax=plt.subplots(1,2,figsize=(15,7))\n",
    "coordinates = peak_local_max(img_new, min_distance=10,threshold_abs=0.05*np.max(img_new))\n",
    "ax[0].imshow(img_new)\n",
    "ax[0].scatter(coordinates[:,1],coordinates[:,0],marker='x',s=5,color='black')\n",
    "ax[1].imshow(img_new)"
   ]
  },
  {
   "cell_type": "code",
   "execution_count": null,
   "metadata": {},
   "outputs": [
    {
     "ename": "",
     "evalue": "",
     "output_type": "error",
     "traceback": [
      "\u001b[1;31mRunning cells with 'Python 3.11.9' requires the ipykernel package.\n",
      "\u001b[1;31mRun the following command to install 'ipykernel' into the Python environment. \n",
      "\u001b[1;31mCommand: 'c:/msys64/ucrt64/bin/python.exe -m pip install ipykernel -U --user --force-reinstall'"
     ]
    }
   ],
   "source": [
    "coordinates.shape"
   ]
  },
  {
   "cell_type": "code",
   "execution_count": null,
   "metadata": {},
   "outputs": [
    {
     "ename": "",
     "evalue": "",
     "output_type": "error",
     "traceback": [
      "\u001b[1;31mRunning cells with 'Python 3.11.9' requires the ipykernel package.\n",
      "\u001b[1;31mRun the following command to install 'ipykernel' into the Python environment. \n",
      "\u001b[1;31mCommand: 'c:/msys64/ucrt64/bin/python.exe -m pip install ipykernel -U --user --force-reinstall'"
     ]
    }
   ],
   "source": [
    "diffs=[]\n",
    "for i in range(coordinates.shape[0]):\n",
    "    for j in range(coordinates.shape[0]):\n",
    "        dist=np.sqrt((coordinates[j,0]-coordinates[i,0])**2+(coordinates[j,0]-coordinates[i,0])**2)\n",
    "        diffs.append(dist)\n"
   ]
  },
  {
   "cell_type": "code",
   "execution_count": null,
   "metadata": {},
   "outputs": [
    {
     "ename": "",
     "evalue": "",
     "output_type": "error",
     "traceback": [
      "\u001b[1;31mRunning cells with 'Python 3.11.9' requires the ipykernel package.\n",
      "\u001b[1;31mRun the following command to install 'ipykernel' into the Python environment. \n",
      "\u001b[1;31mCommand: 'c:/msys64/ucrt64/bin/python.exe -m pip install ipykernel -U --user --force-reinstall'"
     ]
    }
   ],
   "source": [
    "diffs=np.array(diffs)"
   ]
  },
  {
   "cell_type": "markdown",
   "metadata": {},
   "source": [
    "## use these as inut for a 2d gauss fit, to get the positioon of the diffractions highly accure ##\n",
    "https://lmfit.github.io/lmfit-py/examples/example_two_dimensional_peak.html\n"
   ]
  },
  {
   "cell_type": "code",
   "execution_count": null,
   "metadata": {},
   "outputs": [
    {
     "ename": "",
     "evalue": "",
     "output_type": "error",
     "traceback": [
      "\u001b[1;31mRunning cells with 'Python 3.11.9' requires the ipykernel package.\n",
      "\u001b[1;31mRun the following command to install 'ipykernel' into the Python environment. \n",
      "\u001b[1;31mCommand: 'c:/msys64/ucrt64/bin/python.exe -m pip install ipykernel -U --user --force-reinstall'"
     ]
    }
   ],
   "source": [
    "import matplotlib.pyplot as plt\n",
    "import numpy as np\n",
    "from scipy.interpolate import griddata\n",
    "\n",
    "import lmfit\n",
    "from lmfit.lineshapes import gaussian2d, lorentzian"
   ]
  },
  {
   "cell_type": "code",
   "execution_count": null,
   "metadata": {},
   "outputs": [
    {
     "ename": "",
     "evalue": "",
     "output_type": "error",
     "traceback": [
      "\u001b[1;31mRunning cells with 'Python 3.11.9' requires the ipykernel package.\n",
      "\u001b[1;31mRun the following command to install 'ipykernel' into the Python environment. \n",
      "\u001b[1;31mCommand: 'c:/msys64/ucrt64/bin/python.exe -m pip install ipykernel -U --user --force-reinstall'"
     ]
    }
   ],
   "source": [
    "npoints = 10000\n",
    "np.random.seed(2021)\n",
    "x = np.random.rand(npoints)*10 - 4\n",
    "y = np.random.rand(npoints)*5 - 3\n",
    "z = gaussian2d(x, y, amplitude=30, centerx=2, centery=-.5, sigmax=.6, sigmay=.8)\n",
    "z += 2*(np.random.rand(*z.shape)-.5)\n",
    "error = np.sqrt(z+1)    "
   ]
  },
  {
   "cell_type": "code",
   "execution_count": null,
   "metadata": {},
   "outputs": [
    {
     "ename": "",
     "evalue": "",
     "output_type": "error",
     "traceback": [
      "\u001b[1;31mRunning cells with 'Python 3.11.9' requires the ipykernel package.\n",
      "\u001b[1;31mRun the following command to install 'ipykernel' into the Python environment. \n",
      "\u001b[1;31mCommand: 'c:/msys64/ucrt64/bin/python.exe -m pip install ipykernel -U --user --force-reinstall'"
     ]
    }
   ],
   "source": [
    "X, Y = np.meshgrid(np.linspace(x.min(), x.max(), 100),\n",
    "                   np.linspace(y.min(), y.max(), 100))\n",
    "Z = griddata((x, y), z, (X, Y), method='linear', fill_value=0)\n",
    "\n",
    "fig, ax = plt.subplots()\n",
    "art = ax.pcolor(X, Y, Z, shading='auto')\n",
    "plt.colorbar(art, ax=ax, label='z')\n",
    "ax.set_xlabel('x')\n",
    "ax.set_ylabel('y')\n",
    "plt.show()"
   ]
  },
  {
   "cell_type": "code",
   "execution_count": null,
   "metadata": {},
   "outputs": [
    {
     "ename": "",
     "evalue": "",
     "output_type": "error",
     "traceback": [
      "\u001b[1;31mRunning cells with 'Python 3.11.9' requires the ipykernel package.\n",
      "\u001b[1;31mRun the following command to install 'ipykernel' into the Python environment. \n",
      "\u001b[1;31mCommand: 'c:/msys64/ucrt64/bin/python.exe -m pip install ipykernel -U --user --force-reinstall'"
     ]
    }
   ],
   "source": [
    "model = lmfit.models.Gaussian2dModel()\n",
    "params = model.guess(z, x, y)\n",
    "result = model.fit(z, x=x, y=y, params=params, weights=1/error)\n",
    "# lmfit.report_fit(result)"
   ]
  },
  {
   "cell_type": "code",
   "execution_count": null,
   "metadata": {},
   "outputs": [
    {
     "ename": "",
     "evalue": "",
     "output_type": "error",
     "traceback": [
      "\u001b[1;31mRunning cells with 'Python 3.11.9' requires the ipykernel package.\n",
      "\u001b[1;31mRun the following command to install 'ipykernel' into the Python environment. \n",
      "\u001b[1;31mCommand: 'c:/msys64/ucrt64/bin/python.exe -m pip install ipykernel -U --user --force-reinstall'"
     ]
    }
   ],
   "source": [
    "fig, axs = plt.subplots(2, 2, figsize=(10, 10))\n",
    "\n",
    "vmax = np.nanpercentile(Z, 99.9)\n",
    "\n",
    "ax = axs[0, 0]\n",
    "art = ax.pcolor(X, Y, Z, vmin=0, vmax=vmax, shading='auto')\n",
    "plt.colorbar(art, ax=ax, label='z')\n",
    "ax.set_title('Data')\n",
    "\n",
    "ax = axs[0, 1]\n",
    "fit = model.func(X, Y, **result.best_values)\n",
    "art = ax.pcolor(X, Y, fit, vmin=0, vmax=vmax, shading='auto')\n",
    "plt.colorbar(art, ax=ax, label='z')\n",
    "ax.set_title('Fit')\n",
    "\n",
    "ax = axs[1, 0]\n",
    "fit = model.func(X, Y, **result.best_values)\n",
    "art = ax.pcolor(X, Y, Z-fit, vmin=0, vmax=10, shading='auto')\n",
    "plt.colorbar(art, ax=ax, label='z')\n",
    "ax.set_title('Data - Fit')\n",
    "\n",
    "for ax in axs.ravel():\n",
    "    ax.set_xlabel('x')\n",
    "    ax.set_ylabel('y')\n",
    "axs[1, 1].remove()\n",
    "plt.show()"
   ]
  },
  {
   "cell_type": "markdown",
   "metadata": {},
   "source": [
    "## now try to aplly the LMfit to our dataset ##\n"
   ]
  },
  {
   "cell_type": "markdown",
   "metadata": {},
   "source": [
    "## put it all into a function ##"
   ]
  },
  {
   "cell_type": "code",
   "execution_count": null,
   "metadata": {},
   "outputs": [
    {
     "ename": "",
     "evalue": "",
     "output_type": "error",
     "traceback": [
      "\u001b[1;31mRunning cells with 'Python 3.11.9' requires the ipykernel package.\n",
      "\u001b[1;31mRun the following command to install 'ipykernel' into the Python environment. \n",
      "\u001b[1;31mCommand: 'c:/msys64/ucrt64/bin/python.exe -m pip install ipykernel -U --user --force-reinstall'"
     ]
    }
   ],
   "source": [
    "def fit_gauss2d_to_point(reflex):\n",
    "       \n",
    "    X , Y = np.meshgrid(range(int(-np.floor(reflex.shape[0]/2)), int(+np.floor(reflex.shape[0]/2))), \n",
    "                    range(int(-np.floor(reflex.shape[1]/2)), int(+np.floor(reflex.shape[1]/2))))\n",
    "    x=X.flatten()\n",
    "    y=Y.flatten()\n",
    "    z=reflex.flatten()\n",
    "    print([x.shape,z.shape])\n",
    "    model = lmfit.models.Gaussian2dModel()\n",
    "    params = model.guess(z, x, y)\n",
    "    # params.set(centerx={'value':0,'min':-5,'max':5})\n",
    "    # params.set(centery={'value':0,'min':-5,'max':5})\n",
    "    # params.set(sigmax={'value':0.2,'min':-2,'max':2})\n",
    "    # params.set(sigmay={'value':0.2,'min':-2,'max':2})\n",
    "    result = model.fit(z, x=x, y=y, params=params)\n",
    "    return result"
   ]
  },
  {
   "cell_type": "code",
   "execution_count": null,
   "metadata": {},
   "outputs": [
    {
     "ename": "",
     "evalue": "",
     "output_type": "error",
     "traceback": [
      "\u001b[1;31mRunning cells with 'Python 3.11.9' requires the ipykernel package.\n",
      "\u001b[1;31mRun the following command to install 'ipykernel' into the Python environment. \n",
      "\u001b[1;31mCommand: 'c:/msys64/ucrt64/bin/python.exe -m pip install ipykernel -U --user --force-reinstall'"
     ]
    }
   ],
   "source": [
    "# def fit_all_gaussians(img_new):\n",
    "# coordinates = peak_local_max(img_new, min_distance=20,threshold_abs=0.05*np.max(img_new))\n",
    "results=[]\n",
    "fits=[]\n",
    "amplitudes=[]\n",
    "chisqr=[]\n",
    "for i in range(coordinates.shape[0]):\n",
    "    crop=10\n",
    "    reflex=img_new[coordinates[i,0]-crop:coordinates[i,0]+crop,coordinates[i,1]-crop:coordinates[i,1]+crop]\n",
    "    if reflex.shape[0]==reflex.shape[1] | reflex.shape[0] % 2 !=0 | reflex.shape[1] % 2 !=1 :\n",
    "        result=fit_gauss2d_to_point(reflex)\n",
    "        print(result)\n",
    "        if hasattr(result,'uvars'):\n",
    "            temp=result.uvars['amplitude']\n",
    "        else:\n",
    "            continue\n",
    "        # if temp.s/temp.n<0.4:\n",
    "        result.params['centerx'].value=result.params['centerx'].value+coordinates[i,1]\n",
    "        result.params['centery'].value=result.params['centerx'].value+coordinates[i,0]\n",
    "        result.best_values['centerx']=result.best_values['centerx']+coordinates[i,1]+0\n",
    "        result.best_values['centery']=result.best_values['centery']+coordinates[i,0]+0\n",
    "        results.append(result)\n",
    "        X, Y =  np.meshgrid(range(0,img_new.shape[1]),range(0,img_new.shape[0]))\n",
    "        amplitudes.append(result.best_values['amplitude'])\n",
    "        fit = model.func(X, Y, **result.best_values)\n",
    "        fits.append(fit)\n",
    "        # print(result.)\n",
    "        chisqr.append(result.chisqr)\n",
    "\n"
   ]
  },
  {
   "cell_type": "code",
   "execution_count": null,
   "metadata": {},
   "outputs": [
    {
     "ename": "",
     "evalue": "",
     "output_type": "error",
     "traceback": [
      "\u001b[1;31mRunning cells with 'Python 3.11.9' requires the ipykernel package.\n",
      "\u001b[1;31mRun the following command to install 'ipykernel' into the Python environment. \n",
      "\u001b[1;31mCommand: 'c:/msys64/ucrt64/bin/python.exe -m pip install ipykernel -U --user --force-reinstall'"
     ]
    }
   ],
   "source": [
    "fig,ax=plt.subplots(1,3,figsize=(20,15))\n",
    "img_fitted=np.sum(np.array(fits),axis=0)\n",
    "ax[0].imshow(img_new)\n",
    "ax[0].set_title('original image')\n",
    "\n",
    "ax[1].imshow(np.sum(np.array(fits),axis=0))\n",
    "ax[1].set_title('fitted peaks')\n",
    "\n",
    "diff_img=img_new-img_fitted\n",
    "primary=results[np.argmax(amplitudes)]\n",
    "# ax[1].scatter(primary.best_values['centerx'],primary.best_values['centery'],color='orange')\n",
    "ax[2].imshow(diff_img[250:450,200:400])\n",
    "\n",
    "ax[2].set_title('differences')\n",
    "\n",
    "# fig.colorbar(img_new-img_fitted)"
   ]
  },
  {
   "cell_type": "code",
   "execution_count": null,
   "metadata": {},
   "outputs": [
    {
     "ename": "",
     "evalue": "",
     "output_type": "error",
     "traceback": [
      "\u001b[1;31mRunning cells with 'Python 3.11.9' requires the ipykernel package.\n",
      "\u001b[1;31mRun the following command to install 'ipykernel' into the Python environment. \n",
      "\u001b[1;31mCommand: 'c:/msys64/ucrt64/bin/python.exe -m pip install ipykernel -U --user --force-reinstall'"
     ]
    }
   ],
   "source": [
    "primary"
   ]
  },
  {
   "cell_type": "code",
   "execution_count": null,
   "metadata": {},
   "outputs": [
    {
     "ename": "",
     "evalue": "",
     "output_type": "error",
     "traceback": [
      "\u001b[1;31mRunning cells with 'Python 3.11.9' requires the ipykernel package.\n",
      "\u001b[1;31mRun the following command to install 'ipykernel' into the Python environment. \n",
      "\u001b[1;31mCommand: 'c:/msys64/ucrt64/bin/python.exe -m pip install ipykernel -U --user --force-reinstall'"
     ]
    }
   ],
   "source": [
    "plt.scatter(range(0,len(amplitudes)),amplitudes)"
   ]
  },
  {
   "cell_type": "markdown",
   "metadata": {},
   "source": [
    "## now that we have done all that, we can extract the distances (our primary purpose)##"
   ]
  },
  {
   "cell_type": "code",
   "execution_count": null,
   "metadata": {},
   "outputs": [
    {
     "ename": "",
     "evalue": "",
     "output_type": "error",
     "traceback": [
      "\u001b[1;31mRunning cells with 'Python 3.11.9' requires the ipykernel package.\n",
      "\u001b[1;31mRun the following command to install 'ipykernel' into the Python environment. \n",
      "\u001b[1;31mCommand: 'c:/msys64/ucrt64/bin/python.exe -m pip install ipykernel -U --user --force-reinstall'"
     ]
    }
   ],
   "source": [
    "sorted_intensities=np.flip(np.argsort(amplitudes))"
   ]
  },
  {
   "cell_type": "code",
   "execution_count": null,
   "metadata": {},
   "outputs": [
    {
     "ename": "",
     "evalue": "",
     "output_type": "error",
     "traceback": [
      "\u001b[1;31mRunning cells with 'Python 3.11.9' requires the ipykernel package.\n",
      "\u001b[1;31mRun the following command to install 'ipykernel' into the Python environment. \n",
      "\u001b[1;31mCommand: 'c:/msys64/ucrt64/bin/python.exe -m pip install ipykernel -U --user --force-reinstall'"
     ]
    }
   ],
   "source": [
    "distances=np.zeros(len(results))\n",
    "primary_x=results[sorted_intensities[0]].best_values['centerx']\n",
    "primary_y=results[sorted_intensities[0]].best_values['centery']\n",
    "distances[sorted_intensities[0]]=0\n",
    "for index in sorted_intensities[1:]:\n",
    "    current_x=results[index].best_values['centerx']\n",
    "    current_y=results[index].best_values['centery']\n",
    "    distances[index]=np.sqrt((primary_x-current_x)**2+(primary_y-current_y)**2)\n"
   ]
  },
  {
   "cell_type": "code",
   "execution_count": null,
   "metadata": {},
   "outputs": [
    {
     "ename": "",
     "evalue": "",
     "output_type": "error",
     "traceback": [
      "\u001b[1;31mRunning cells with 'Python 3.11.9' requires the ipykernel package.\n",
      "\u001b[1;31mRun the following command to install 'ipykernel' into the Python environment. \n",
      "\u001b[1;31mCommand: 'c:/msys64/ucrt64/bin/python.exe -m pip install ipykernel -U --user --force-reinstall'"
     ]
    }
   ],
   "source": [
    "fig,ax=plt.subplots(1,1,figsize=(20,15))\n",
    "\n",
    "ax.imshow(np.sum(np.array(fits),axis=0),cmap='gray')\n",
    "ax.set_title('fitted peaks')\n",
    "\n",
    "diff_img=img_new-img_fitted\n",
    "primary=results[np.argmax(amplitudes)]\n",
    "for index in sorted_intensities[0:]:\n",
    "    ax.scatter(results[index].best_values['centerx'],results[index].best_values['centery'],color=[0.7,0,0.7],marker='.',s=50)\n",
    "    ax.annotate(f'{distances[index]:.1f}',(results[index].best_values['centerx']+2,results[index].best_values['centery']+2),color='white')"
   ]
  },
  {
   "cell_type": "code",
   "execution_count": null,
   "metadata": {},
   "outputs": [
    {
     "ename": "",
     "evalue": "",
     "output_type": "error",
     "traceback": [
      "\u001b[1;31mRunning cells with 'Python 3.11.9' requires the ipykernel package.\n",
      "\u001b[1;31mRun the following command to install 'ipykernel' into the Python environment. \n",
      "\u001b[1;31mCommand: 'c:/msys64/ucrt64/bin/python.exe -m pip install ipykernel -U --user --force-reinstall'"
     ]
    }
   ],
   "source": [
    "figure\n"
   ]
  }
 ],
 "metadata": {
  "kernelspec": {
   "display_name": "Python 3",
   "language": "python",
   "name": "python3"
  },
  "language_info": {
   "codemirror_mode": {
    "name": "ipython",
    "version": 3
   },
   "file_extension": ".py",
   "mimetype": "text/x-python",
   "name": "python",
   "nbconvert_exporter": "python",
   "pygments_lexer": "ipython3",
   "version": "3.11.9"
  }
 },
 "nbformat": 4,
 "nbformat_minor": 2
}
