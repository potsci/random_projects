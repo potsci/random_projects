{
 "cells": [
  {
   "cell_type": "code",
   "execution_count": 114,
   "metadata": {},
   "outputs": [],
   "source": [
    "import numpy as np\n",
    "import pandas as pd\n",
    "import matplotlib.pyplot as plt\n",
    "from pathlib import *\n",
    "from itertools import zip_longest\n",
    "from skimage import io\n",
    "import re\n"
   ]
  },
  {
   "cell_type": "code",
   "execution_count": 115,
   "metadata": {},
   "outputs": [],
   "source": [
    "path=Path('I:\\\\XRD\\XCT_CARL\\summed')"
   ]
  },
  {
   "cell_type": "code",
   "execution_count": 116,
   "metadata": {},
   "outputs": [],
   "source": [
    "pores=list(path.glob('**/*sample*_pores_z_uint16.tiff'))\n",
    "contours=list(path.glob('**/*sample*_contour_z_eroded_filled.tiff'))\n",
    "oxides=list(path.glob('**/*sample*_oxides_z_uint16.tiff'))\n",
    "pores_y=list(path.glob('**/*sample*_oxides_y.tiff'))"
   ]
  },
  {
   "cell_type": "code",
   "execution_count": 117,
   "metadata": {},
   "outputs": [
    {
     "data": {
      "text/plain": [
       "([WindowsPath('I:/XRD/XCT_CARL/summed/3mm/230928_SFB1394_IMM_BERNERS_5048_6um_80kV_4s_LE3_recon_8bit_median_sample_1_pores_z_uint16.tiff'),\n",
       "  WindowsPath('I:/XRD/XCT_CARL/summed/3mm/230928_SFB1394_IMM_BERNERS_5048_6um_80kV_4s_LE3_recon_8bit_median_sample_2_pores_z_uint16.tiff'),\n",
       "  WindowsPath('I:/XRD/XCT_CARL/summed/3mm/230928_SFB1394_IMM_BERNERS_5048_6um_80kV_4s_LE3_recon_8bit_median_sample_3_pores_z_uint16.tiff'),\n",
       "  WindowsPath('I:/XRD/XCT_CARL/summed/3mm/230928_SFB1394_IMM_BERNERS_5048_6um_80kV_4s_LE3_recon_8bit_median_sample_4_pores_z_uint16.tiff'),\n",
       "  WindowsPath('I:/XRD/XCT_CARL/summed/head/230928_SFB_IMM_BERNERS_V50-45_6um_80kV_5s_LE3_recon_8bit_median_sample_1_pores_z_uint16.tiff'),\n",
       "  WindowsPath('I:/XRD/XCT_CARL/summed/head/230928_SFB_IMM_BERNERS_V50-45_6um_80kV_5s_LE3_recon_8bit_median_sample_2_pores_z_uint16.tiff'),\n",
       "  WindowsPath('I:/XRD/XCT_CARL/summed/head/230928_SFB_IMM_BERNERS_V50-45_6um_80kV_5s_LE3_recon_8bit_median_sample_3_pores_z_uint16.tiff'),\n",
       "  WindowsPath('I:/XRD/XCT_CARL/summed/head/230928_SFB_IMM_BERNERS_V50-45_6um_80kV_5s_LE3_recon_8bit_median_sample_4_pores_z_uint16.tiff')],\n",
       " [WindowsPath('I:/XRD/XCT_CARL/summed/3mm/230928_SFB1394_IMM_BERNERS_5048_6um_80kV_4s_LE3_recon_8bit_median_sample_1_pores_contour_z_eroded_filled.tiff'),\n",
       "  WindowsPath('I:/XRD/XCT_CARL/summed/3mm/230928_SFB1394_IMM_BERNERS_5048_6um_80kV_4s_LE3_recon_8bit_median_sample_2_pores_contour_z_eroded_filled.tiff'),\n",
       "  WindowsPath('I:/XRD/XCT_CARL/summed/3mm/230928_SFB1394_IMM_BERNERS_5048_6um_80kV_4s_LE3_recon_8bit_median_sample_3_pores_contour_z_eroded_filled.tiff'),\n",
       "  WindowsPath('I:/XRD/XCT_CARL/summed/3mm/230928_SFB1394_IMM_BERNERS_5048_6um_80kV_4s_LE3_recon_8bit_median_sample_4_pores_contour_z_eroded_filled.tiff'),\n",
       "  WindowsPath('I:/XRD/XCT_CARL/summed/head/230928_SFB_IMM_BERNERS_V50-45_6um_80kV_5s_LE3_recon_8bit_median_sample_1_pores_contour_z_eroded_filled.tiff'),\n",
       "  WindowsPath('I:/XRD/XCT_CARL/summed/head/230928_SFB_IMM_BERNERS_V50-45_6um_80kV_5s_LE3_recon_8bit_median_sample_2_pores_contour_z_eroded_filled.tiff'),\n",
       "  WindowsPath('I:/XRD/XCT_CARL/summed/head/230928_SFB_IMM_BERNERS_V50-45_6um_80kV_5s_LE3_recon_8bit_median_sample_3_pores_contour_z_eroded_filled.tiff'),\n",
       "  WindowsPath('I:/XRD/XCT_CARL/summed/head/230928_SFB_IMM_BERNERS_V50-45_6um_80kV_5s_LE3_recon_8bit_median_sample_4_pores_contour_z_eroded_filled.tiff')],\n",
       " [WindowsPath('I:/XRD/XCT_CARL/summed/3mm/230928_SFB1394_IMM_BERNERS_5048_6um_80kV_4s_LE3_recon_8bit_median_sample_1_oxides_z_uint16.tiff'),\n",
       "  WindowsPath('I:/XRD/XCT_CARL/summed/3mm/230928_SFB1394_IMM_BERNERS_5048_6um_80kV_4s_LE3_recon_8bit_median_sample_2_oxides_z_uint16.tiff'),\n",
       "  WindowsPath('I:/XRD/XCT_CARL/summed/3mm/230928_SFB1394_IMM_BERNERS_5048_6um_80kV_4s_LE3_recon_8bit_median_sample_3_oxides_z_uint16.tiff'),\n",
       "  WindowsPath('I:/XRD/XCT_CARL/summed/3mm/230928_SFB1394_IMM_BERNERS_5048_6um_80kV_4s_LE3_recon_8bit_median_sample_4_oxides_z_uint16.tiff'),\n",
       "  WindowsPath('I:/XRD/XCT_CARL/summed/head/230928_SFB_IMM_BERNERS_V50-45_6um_80kV_5s_LE3_recon_8bit_median_sample_1_oxides_z_uint16.tiff'),\n",
       "  WindowsPath('I:/XRD/XCT_CARL/summed/head/230928_SFB_IMM_BERNERS_V50-45_6um_80kV_5s_LE3_recon_8bit_median_sample_2_oxides_z_uint16.tiff'),\n",
       "  WindowsPath('I:/XRD/XCT_CARL/summed/head/230928_SFB_IMM_BERNERS_V50-45_6um_80kV_5s_LE3_recon_8bit_median_sample_3_oxides_z_uint16.tiff'),\n",
       "  WindowsPath('I:/XRD/XCT_CARL/summed/head/230928_SFB_IMM_BERNERS_V50-45_6um_80kV_5s_LE3_recon_8bit_median_sample_4_oxides_z_uint16.tiff')],\n",
       " [WindowsPath('I:/XRD/XCT_CARL/summed/3mm/230928_SFB1394_IMM_BERNERS_5048_6um_80kV_4s_LE3_recon_8bit_median_sample_1_oxides_y.tiff'),\n",
       "  WindowsPath('I:/XRD/XCT_CARL/summed/3mm/230928_SFB1394_IMM_BERNERS_5048_6um_80kV_4s_LE3_recon_8bit_median_sample_2_oxides_y.tiff'),\n",
       "  WindowsPath('I:/XRD/XCT_CARL/summed/3mm/230928_SFB1394_IMM_BERNERS_5048_6um_80kV_4s_LE3_recon_8bit_median_sample_3_oxides_y.tiff'),\n",
       "  WindowsPath('I:/XRD/XCT_CARL/summed/3mm/230928_SFB1394_IMM_BERNERS_5048_6um_80kV_4s_LE3_recon_8bit_median_sample_4_oxides_y.tiff'),\n",
       "  WindowsPath('I:/XRD/XCT_CARL/summed/head/230928_SFB_IMM_BERNERS_V50-45_6um_80kV_5s_LE3_recon_8bit_median_sample_1_oxides_y.tiff'),\n",
       "  WindowsPath('I:/XRD/XCT_CARL/summed/head/230928_SFB_IMM_BERNERS_V50-45_6um_80kV_5s_LE3_recon_8bit_median_sample_2_oxides_y.tiff'),\n",
       "  WindowsPath('I:/XRD/XCT_CARL/summed/head/230928_SFB_IMM_BERNERS_V50-45_6um_80kV_5s_LE3_recon_8bit_median_sample_3_oxides_y.tiff'),\n",
       "  WindowsPath('I:/XRD/XCT_CARL/summed/head/230928_SFB_IMM_BERNERS_V50-45_6um_80kV_5s_LE3_recon_8bit_median_sample_4_oxides_y.tiff')])"
      ]
     },
     "execution_count": 117,
     "metadata": {},
     "output_type": "execute_result"
    }
   ],
   "source": [
    "pores,contours,oxides,pores_y"
   ]
  },
  {
   "cell_type": "code",
   "execution_count": 118,
   "metadata": {},
   "outputs": [],
   "source": [
    "df=pd.DataFrame()\n",
    "fnames=[]\n",
    "folder=[]\n",
    "oxide_px=[]\n",
    "pore_px=[]\n",
    "contour_px=[]\n",
    "stack_height=[]\n",
    "for p in zip_longest(pores,contours,oxides,pores_y):\n",
    "    pores_img=io.imread(p[0])\n",
    "    contour_img=io.imread(p[1])\n",
    "    oxides_img=io.imread(p[2])\n",
    "    file_name=m=re.search('sample.*\\d',p[0].stem)\n",
    "    fnames.append(file_name.group(0))\n",
    "    folder.append(p[0].parent.stem)\n",
    "    pore_px.append(np.sum(pores_img))\n",
    "    oxide_px.append(np.sum(oxides_img))\n",
    "    contour_px.append(np.sum(contour_img)/255)\n",
    "    stack_height.append(io.imread(p[3]).shape[0])"
   ]
  },
  {
   "cell_type": "code",
   "execution_count": 119,
   "metadata": {},
   "outputs": [
    {
     "data": {
      "text/plain": [
       "WindowsPath('I:/XRD/XCT_CARL/summed/3mm/230928_SFB1394_IMM_BERNERS_5048_6um_80kV_4s_LE3_recon_8bit_median_sample_1_pores_z_uint16.tiff')"
      ]
     },
     "execution_count": 119,
     "metadata": {},
     "output_type": "execute_result"
    }
   ],
   "source": [
    "pores[0]"
   ]
  },
  {
   "cell_type": "code",
   "execution_count": 120,
   "metadata": {},
   "outputs": [
    {
     "data": {
      "text/plain": [
       "<matplotlib.colorbar.Colorbar at 0x1f70cfd82b0>"
      ]
     },
     "execution_count": 120,
     "metadata": {},
     "output_type": "execute_result"
    },
    {
     "data": {
      "image/png": "[encoded data removed]",
      "text/plain": [
       "<Figure size 640x480 with 2 Axes>"
      ]
     },
     "metadata": {},
     "output_type": "display_data"
    }
   ],
   "source": [
    "pores_img=io.imread(pores[2])\n",
    "plt.imshow(pores_img)\n",
    "plt.colorbar()"
   ]
  },
  {
   "cell_type": "code",
   "execution_count": 121,
   "metadata": {},
   "outputs": [
    {
     "data": {
      "text/plain": [
       "array([  0, 255], dtype=uint8)"
      ]
     },
     "execution_count": 121,
     "metadata": {},
     "output_type": "execute_result"
    }
   ],
   "source": [
    "np.unique(contour_img)"
   ]
  },
  {
   "cell_type": "code",
   "execution_count": 122,
   "metadata": {},
   "outputs": [
    {
     "data": {
      "text/plain": [
       "(466, 388)"
      ]
     },
     "execution_count": 122,
     "metadata": {},
     "output_type": "execute_result"
    }
   ],
   "source": [
    "\n",
    "pores_img.shape"
   ]
  },
  {
   "cell_type": "code",
   "execution_count": null,
   "metadata": {},
   "outputs": [],
   "source": []
  },
  {
   "cell_type": "code",
   "execution_count": 123,
   "metadata": {},
   "outputs": [
    {
     "name": "stdout",
     "output_type": "stream",
     "text": [
      "Empty DataFrame\n",
      "Columns: []\n",
      "Index: []\n"
     ]
    }
   ],
   "source": [
    "print(df)"
   ]
  },
  {
   "cell_type": "code",
   "execution_count": 124,
   "metadata": {},
   "outputs": [
    {
     "data": {
      "text/plain": [
       "(466, 388)"
      ]
     },
     "execution_count": 124,
     "metadata": {},
     "output_type": "execute_result"
    }
   ],
   "source": [
    "pores_img.shape"
   ]
  },
  {
   "cell_type": "code",
   "execution_count": null,
   "metadata": {},
   "outputs": [],
   "source": []
  },
  {
   "cell_type": "code",
   "execution_count": 125,
   "metadata": {},
   "outputs": [],
   "source": [
    "df=pd.DataFrame({'fname': fnames,'folder': folder,'oxide_px': oxide_px,'pore_px':pore_px,'contour_px':contour_px,'stack_height':stack_height})\n",
    "                "
   ]
  },
  {
   "cell_type": "code",
   "execution_count": 126,
   "metadata": {},
   "outputs": [],
   "source": [
    "df['oxide_percentage']=df['oxide_px']/(df['contour_px']*df['stack_height'])\n",
    "df['pore_percentage']=df['pore_px']/(df['contour_px']*df['stack_height'])"
   ]
  },
  {
   "cell_type": "code",
   "execution_count": 127,
   "metadata": {},
   "outputs": [
    {
     "data": {
      "text/html": [
       "<div>\n",
       "<style scoped>\n",
       "    .dataframe tbody tr th:only-of-type {\n",
       "        vertical-align: middle;\n",
       "    }\n",
       "\n",
       "    .dataframe tbody tr th {\n",
       "        vertical-align: top;\n",
       "    }\n",
       "\n",
       "    .dataframe thead th {\n",
       "        text-align: right;\n",
       "    }\n",
       "</style>\n",
       "<table border=\"1\" class=\"dataframe\">\n",
       "  <thead>\n",
       "    <tr style=\"text-align: right;\">\n",
       "      <th></th>\n",
       "      <th>fname</th>\n",
       "      <th>folder</th>\n",
       "      <th>oxide_px</th>\n",
       "      <th>pore_px</th>\n",
       "      <th>contour_px</th>\n",
       "      <th>stack_height</th>\n",
       "      <th>oxide_percentage</th>\n",
       "      <th>pore_percentage</th>\n",
       "    </tr>\n",
       "  </thead>\n",
       "  <tbody>\n",
       "    <tr>\n",
       "      <th>0</th>\n",
       "      <td>sample_1_pores_z_uint16</td>\n",
       "      <td>3mm</td>\n",
       "      <td>194</td>\n",
       "      <td>2433</td>\n",
       "      <td>416721.0</td>\n",
       "      <td>466</td>\n",
       "      <td>9.990114e-07</td>\n",
       "      <td>1.252884e-05</td>\n",
       "    </tr>\n",
       "    <tr>\n",
       "      <th>1</th>\n",
       "      <td>sample_2_pores_z_uint16</td>\n",
       "      <td>3mm</td>\n",
       "      <td>959</td>\n",
       "      <td>3088744</td>\n",
       "      <td>403733.0</td>\n",
       "      <td>466</td>\n",
       "      <td>5.097279e-06</td>\n",
       "      <td>1.641730e-02</td>\n",
       "    </tr>\n",
       "    <tr>\n",
       "      <th>2</th>\n",
       "      <td>sample_3_pores_z_uint16</td>\n",
       "      <td>3mm</td>\n",
       "      <td>5296</td>\n",
       "      <td>13196</td>\n",
       "      <td>402640.0</td>\n",
       "      <td>466</td>\n",
       "      <td>2.822573e-05</td>\n",
       "      <td>7.032981e-05</td>\n",
       "    </tr>\n",
       "    <tr>\n",
       "      <th>3</th>\n",
       "      <td>sample_4_pores_z_uint16</td>\n",
       "      <td>3mm</td>\n",
       "      <td>1073</td>\n",
       "      <td>48234</td>\n",
       "      <td>390508.0</td>\n",
       "      <td>466</td>\n",
       "      <td>5.896358e-06</td>\n",
       "      <td>2.650559e-04</td>\n",
       "    </tr>\n",
       "    <tr>\n",
       "      <th>4</th>\n",
       "      <td>sample_1_pores_z_uint16</td>\n",
       "      <td>head</td>\n",
       "      <td>7240</td>\n",
       "      <td>52</td>\n",
       "      <td>366680.0</td>\n",
       "      <td>389</td>\n",
       "      <td>5.075768e-05</td>\n",
       "      <td>3.645579e-07</td>\n",
       "    </tr>\n",
       "    <tr>\n",
       "      <th>5</th>\n",
       "      <td>sample_2_pores_z_uint16</td>\n",
       "      <td>head</td>\n",
       "      <td>810</td>\n",
       "      <td>1214</td>\n",
       "      <td>443124.0</td>\n",
       "      <td>531</td>\n",
       "      <td>3.442431e-06</td>\n",
       "      <td>5.159396e-06</td>\n",
       "    </tr>\n",
       "    <tr>\n",
       "      <th>6</th>\n",
       "      <td>sample_3_pores_z_uint16</td>\n",
       "      <td>head</td>\n",
       "      <td>3365</td>\n",
       "      <td>1677</td>\n",
       "      <td>373274.0</td>\n",
       "      <td>389</td>\n",
       "      <td>2.317436e-05</td>\n",
       "      <td>1.154930e-05</td>\n",
       "    </tr>\n",
       "    <tr>\n",
       "      <th>7</th>\n",
       "      <td>sample_4_pores_z_uint16</td>\n",
       "      <td>head</td>\n",
       "      <td>121016</td>\n",
       "      <td>107</td>\n",
       "      <td>391134.0</td>\n",
       "      <td>411</td>\n",
       "      <td>7.527927e-04</td>\n",
       "      <td>6.656047e-07</td>\n",
       "    </tr>\n",
       "  </tbody>\n",
       "</table>\n",
       "</div>"
      ],
      "text/plain": [
       "                     fname folder  oxide_px  pore_px  contour_px   \n",
       "0  sample_1_pores_z_uint16    3mm       194     2433    416721.0  \\\n",
       "1  sample_2_pores_z_uint16    3mm       959  3088744    403733.0   \n",
       "2  sample_3_pores_z_uint16    3mm      5296    13196    402640.0   \n",
       "3  sample_4_pores_z_uint16    3mm      1073    48234    390508.0   \n",
       "4  sample_1_pores_z_uint16   head      7240       52    366680.0   \n",
       "5  sample_2_pores_z_uint16   head       810     1214    443124.0   \n",
       "6  sample_3_pores_z_uint16   head      3365     1677    373274.0   \n",
       "7  sample_4_pores_z_uint16   head    121016      107    391134.0   \n",
       "\n",
       "   stack_height  oxide_percentage  pore_percentage  \n",
       "0           466      9.990114e-07     1.252884e-05  \n",
       "1           466      5.097279e-06     1.641730e-02  \n",
       "2           466      2.822573e-05     7.032981e-05  \n",
       "3           466      5.896358e-06     2.650559e-04  \n",
       "4           389      5.075768e-05     3.645579e-07  \n",
       "5           531      3.442431e-06     5.159396e-06  \n",
       "6           389      2.317436e-05     1.154930e-05  \n",
       "7           411      7.527927e-04     6.656047e-07  "
      ]
     },
     "execution_count": 127,
     "metadata": {},
     "output_type": "execute_result"
    }
   ],
   "source": [
    "df"
   ]
  },
  {
   "cell_type": "code",
   "execution_count": 130,
   "metadata": {},
   "outputs": [],
   "source": [
    "import seaborn as sns"
   ]
  },
  {
   "cell_type": "code",
   "execution_count": 133,
   "metadata": {},
   "outputs": [
    {
     "data": {
      "image/png": "[encoded data removed]",
      "text/plain": [
       "<Figure size 640x480 with 1 Axes>"
      ]
     },
     "metadata": {},
     "output_type": "display_data"
    }
   ],
   "source": [
    "sns.barplot(data=df,hue='folder',x='fname',y='pore_percentage')\n",
    "plt.yscale('log')"
   ]
  },
  {
   "cell_type": "code",
   "execution_count": 132,
   "metadata": {},
   "outputs": [
    {
     "data": {
      "image/png": "[encoded data removed]",
      "text/plain": [
       "<Figure size 640x480 with 1 Axes>"
      ]
     },
     "metadata": {},
     "output_type": "display_data"
    }
   ],
   "source": [
    "sns.barplot(data=df,hue='folder',x='fname',y='oxide_percentage')\n",
    "plt.yscale('log')"
   ]
  },
  {
   "cell_type": "code",
   "execution_count": 107,
   "metadata": {},
   "outputs": [
    {
     "data": {
      "text/plain": [
       "'sample_4'"
      ]
     },
     "execution_count": 107,
     "metadata": {},
     "output_type": "execute_result"
    }
   ],
   "source": [
    "m=re.search('sample.*\\d','sample_4')    \n",
    "# p[0].stem\n",
    "m.group(0)"
   ]
  },
  {
   "cell_type": "code",
   "execution_count": 60,
   "metadata": {},
   "outputs": [
    {
     "ename": "TypeError",
     "evalue": "Image data of dtype object cannot be converted to float",
     "output_type": "error",
     "traceback": [
      "\u001b[1;31m---------------------------------------------------------------------------\u001b[0m",
      "\u001b[1;31mTypeError\u001b[0m                                 Traceback (most recent call last)",
      "\u001b[1;32mi:\\python\\Notebooks\\random_projects_lukas\\xrd\\analyse_xct_carl.ipynb Zelle 7\u001b[0m line \u001b[0;36m1\n\u001b[1;32m----> <a href='vscode-notebook-cell:/i%3A/python/Notebooks/random_projects_lukas/xrd/analyse_xct_carl.ipynb#X10sZmlsZQ%3D%3D?line=0'>1</a>\u001b[0m plt\u001b[39m.\u001b[39;49mimshow(pores)\n\u001b[0;32m      <a href='vscode-notebook-cell:/i%3A/python/Notebooks/random_projects_lukas/xrd/analyse_xct_carl.ipynb#X10sZmlsZQ%3D%3D?line=1'>2</a>\u001b[0m plt\u001b[39m.\u001b[39mcolorbar()\n\u001b[0;32m      <a href='vscode-notebook-cell:/i%3A/python/Notebooks/random_projects_lukas/xrd/analyse_xct_carl.ipynb#X10sZmlsZQ%3D%3D?line=2'>3</a>\u001b[0m \u001b[39m# np.sum(pores)/np.sum()\u001b[39;00m\n",
      "File \u001b[1;32mc:\\Users\\berners\\AppData\\Local\\Programs\\Python\\Python39\\lib\\site-packages\\matplotlib\\pyplot.py:2668\u001b[0m, in \u001b[0;36mimshow\u001b[1;34m(X, cmap, norm, aspect, interpolation, alpha, vmin, vmax, origin, extent, interpolation_stage, filternorm, filterrad, resample, url, data, **kwargs)\u001b[0m\n\u001b[0;32m   2662\u001b[0m \u001b[39m@_copy_docstring_and_deprecators\u001b[39m(Axes\u001b[39m.\u001b[39mimshow)\n\u001b[0;32m   2663\u001b[0m \u001b[39mdef\u001b[39;00m \u001b[39mimshow\u001b[39m(\n\u001b[0;32m   2664\u001b[0m         X, cmap\u001b[39m=\u001b[39m\u001b[39mNone\u001b[39;00m, norm\u001b[39m=\u001b[39m\u001b[39mNone\u001b[39;00m, \u001b[39m*\u001b[39m, aspect\u001b[39m=\u001b[39m\u001b[39mNone\u001b[39;00m, interpolation\u001b[39m=\u001b[39m\u001b[39mNone\u001b[39;00m,\n\u001b[0;32m   2665\u001b[0m         alpha\u001b[39m=\u001b[39m\u001b[39mNone\u001b[39;00m, vmin\u001b[39m=\u001b[39m\u001b[39mNone\u001b[39;00m, vmax\u001b[39m=\u001b[39m\u001b[39mNone\u001b[39;00m, origin\u001b[39m=\u001b[39m\u001b[39mNone\u001b[39;00m, extent\u001b[39m=\u001b[39m\u001b[39mNone\u001b[39;00m,\n\u001b[0;32m   2666\u001b[0m         interpolation_stage\u001b[39m=\u001b[39m\u001b[39mNone\u001b[39;00m, filternorm\u001b[39m=\u001b[39m\u001b[39mTrue\u001b[39;00m, filterrad\u001b[39m=\u001b[39m\u001b[39m4.0\u001b[39m,\n\u001b[0;32m   2667\u001b[0m         resample\u001b[39m=\u001b[39m\u001b[39mNone\u001b[39;00m, url\u001b[39m=\u001b[39m\u001b[39mNone\u001b[39;00m, data\u001b[39m=\u001b[39m\u001b[39mNone\u001b[39;00m, \u001b[39m*\u001b[39m\u001b[39m*\u001b[39mkwargs):\n\u001b[1;32m-> 2668\u001b[0m     __ret \u001b[39m=\u001b[39m gca()\u001b[39m.\u001b[39mimshow(\n\u001b[0;32m   2669\u001b[0m         X, cmap\u001b[39m=\u001b[39mcmap, norm\u001b[39m=\u001b[39mnorm, aspect\u001b[39m=\u001b[39maspect,\n\u001b[0;32m   2670\u001b[0m         interpolation\u001b[39m=\u001b[39minterpolation, alpha\u001b[39m=\u001b[39malpha, vmin\u001b[39m=\u001b[39mvmin,\n\u001b[0;32m   2671\u001b[0m         vmax\u001b[39m=\u001b[39mvmax, origin\u001b[39m=\u001b[39morigin, extent\u001b[39m=\u001b[39mextent,\n\u001b[0;32m   2672\u001b[0m         interpolation_stage\u001b[39m=\u001b[39minterpolation_stage,\n\u001b[0;32m   2673\u001b[0m         filternorm\u001b[39m=\u001b[39mfilternorm, filterrad\u001b[39m=\u001b[39mfilterrad, resample\u001b[39m=\u001b[39mresample,\n\u001b[0;32m   2674\u001b[0m         url\u001b[39m=\u001b[39murl, \u001b[39m*\u001b[39m\u001b[39m*\u001b[39m({\u001b[39m\"\u001b[39m\u001b[39mdata\u001b[39m\u001b[39m\"\u001b[39m: data} \u001b[39mif\u001b[39;00m data \u001b[39mis\u001b[39;00m \u001b[39mnot\u001b[39;00m \u001b[39mNone\u001b[39;00m \u001b[39melse\u001b[39;00m {}),\n\u001b[0;32m   2675\u001b[0m         \u001b[39m*\u001b[39m\u001b[39m*\u001b[39mkwargs)\n\u001b[0;32m   2676\u001b[0m     sci(__ret)\n\u001b[0;32m   2677\u001b[0m     \u001b[39mreturn\u001b[39;00m __ret\n",
      "File \u001b[1;32mc:\\Users\\berners\\AppData\\Local\\Programs\\Python\\Python39\\lib\\site-packages\\matplotlib\\__init__.py:1472\u001b[0m, in \u001b[0;36m_preprocess_data.<locals>.inner\u001b[1;34m(ax, data, *args, **kwargs)\u001b[0m\n\u001b[0;32m   1469\u001b[0m \u001b[39m@functools\u001b[39m\u001b[39m.\u001b[39mwraps(func)\n\u001b[0;32m   1470\u001b[0m \u001b[39mdef\u001b[39;00m \u001b[39minner\u001b[39m(ax, \u001b[39m*\u001b[39margs, data\u001b[39m=\u001b[39m\u001b[39mNone\u001b[39;00m, \u001b[39m*\u001b[39m\u001b[39m*\u001b[39mkwargs):\n\u001b[0;32m   1471\u001b[0m     \u001b[39mif\u001b[39;00m data \u001b[39mis\u001b[39;00m \u001b[39mNone\u001b[39;00m:\n\u001b[1;32m-> 1472\u001b[0m         \u001b[39mreturn\u001b[39;00m func(ax, \u001b[39m*\u001b[39m\u001b[39mmap\u001b[39m(sanitize_sequence, args), \u001b[39m*\u001b[39m\u001b[39m*\u001b[39mkwargs)\n\u001b[0;32m   1474\u001b[0m     bound \u001b[39m=\u001b[39m new_sig\u001b[39m.\u001b[39mbind(ax, \u001b[39m*\u001b[39margs, \u001b[39m*\u001b[39m\u001b[39m*\u001b[39mkwargs)\n\u001b[0;32m   1475\u001b[0m     auto_label \u001b[39m=\u001b[39m (bound\u001b[39m.\u001b[39marguments\u001b[39m.\u001b[39mget(label_namer)\n\u001b[0;32m   1476\u001b[0m                   \u001b[39mor\u001b[39;00m bound\u001b[39m.\u001b[39mkwargs\u001b[39m.\u001b[39mget(label_namer))\n",
      "File \u001b[1;32mc:\\Users\\berners\\AppData\\Local\\Programs\\Python\\Python39\\lib\\site-packages\\matplotlib\\axes\\_axes.py:5665\u001b[0m, in \u001b[0;36mAxes.imshow\u001b[1;34m(self, X, cmap, norm, aspect, interpolation, alpha, vmin, vmax, origin, extent, interpolation_stage, filternorm, filterrad, resample, url, **kwargs)\u001b[0m\n\u001b[0;32m   5657\u001b[0m \u001b[39mself\u001b[39m\u001b[39m.\u001b[39mset_aspect(aspect)\n\u001b[0;32m   5658\u001b[0m im \u001b[39m=\u001b[39m mimage\u001b[39m.\u001b[39mAxesImage(\u001b[39mself\u001b[39m, cmap\u001b[39m=\u001b[39mcmap, norm\u001b[39m=\u001b[39mnorm,\n\u001b[0;32m   5659\u001b[0m                       interpolation\u001b[39m=\u001b[39minterpolation, origin\u001b[39m=\u001b[39morigin,\n\u001b[0;32m   5660\u001b[0m                       extent\u001b[39m=\u001b[39mextent, filternorm\u001b[39m=\u001b[39mfilternorm,\n\u001b[0;32m   5661\u001b[0m                       filterrad\u001b[39m=\u001b[39mfilterrad, resample\u001b[39m=\u001b[39mresample,\n\u001b[0;32m   5662\u001b[0m                       interpolation_stage\u001b[39m=\u001b[39minterpolation_stage,\n\u001b[0;32m   5663\u001b[0m                       \u001b[39m*\u001b[39m\u001b[39m*\u001b[39mkwargs)\n\u001b[1;32m-> 5665\u001b[0m im\u001b[39m.\u001b[39;49mset_data(X)\n\u001b[0;32m   5666\u001b[0m im\u001b[39m.\u001b[39mset_alpha(alpha)\n\u001b[0;32m   5667\u001b[0m \u001b[39mif\u001b[39;00m im\u001b[39m.\u001b[39mget_clip_path() \u001b[39mis\u001b[39;00m \u001b[39mNone\u001b[39;00m:\n\u001b[0;32m   5668\u001b[0m     \u001b[39m# image does not already have clipping set, clip to axes patch\u001b[39;00m\n",
      "File \u001b[1;32mc:\\Users\\berners\\AppData\\Local\\Programs\\Python\\Python39\\lib\\site-packages\\matplotlib\\image.py:701\u001b[0m, in \u001b[0;36m_ImageBase.set_data\u001b[1;34m(self, A)\u001b[0m\n\u001b[0;32m    697\u001b[0m \u001b[39mself\u001b[39m\u001b[39m.\u001b[39m_A \u001b[39m=\u001b[39m cbook\u001b[39m.\u001b[39msafe_masked_invalid(A, copy\u001b[39m=\u001b[39m\u001b[39mTrue\u001b[39;00m)\n\u001b[0;32m    699\u001b[0m \u001b[39mif\u001b[39;00m (\u001b[39mself\u001b[39m\u001b[39m.\u001b[39m_A\u001b[39m.\u001b[39mdtype \u001b[39m!=\u001b[39m np\u001b[39m.\u001b[39muint8 \u001b[39mand\u001b[39;00m\n\u001b[0;32m    700\u001b[0m         \u001b[39mnot\u001b[39;00m np\u001b[39m.\u001b[39mcan_cast(\u001b[39mself\u001b[39m\u001b[39m.\u001b[39m_A\u001b[39m.\u001b[39mdtype, \u001b[39mfloat\u001b[39m, \u001b[39m\"\u001b[39m\u001b[39msame_kind\u001b[39m\u001b[39m\"\u001b[39m)):\n\u001b[1;32m--> 701\u001b[0m     \u001b[39mraise\u001b[39;00m \u001b[39mTypeError\u001b[39;00m(\u001b[39m\"\u001b[39m\u001b[39mImage data of dtype \u001b[39m\u001b[39m{}\u001b[39;00m\u001b[39m cannot be converted to \u001b[39m\u001b[39m\"\u001b[39m\n\u001b[0;32m    702\u001b[0m                     \u001b[39m\"\u001b[39m\u001b[39mfloat\u001b[39m\u001b[39m\"\u001b[39m\u001b[39m.\u001b[39mformat(\u001b[39mself\u001b[39m\u001b[39m.\u001b[39m_A\u001b[39m.\u001b[39mdtype))\n\u001b[0;32m    704\u001b[0m \u001b[39mif\u001b[39;00m \u001b[39mself\u001b[39m\u001b[39m.\u001b[39m_A\u001b[39m.\u001b[39mndim \u001b[39m==\u001b[39m \u001b[39m3\u001b[39m \u001b[39mand\u001b[39;00m \u001b[39mself\u001b[39m\u001b[39m.\u001b[39m_A\u001b[39m.\u001b[39mshape[\u001b[39m-\u001b[39m\u001b[39m1\u001b[39m] \u001b[39m==\u001b[39m \u001b[39m1\u001b[39m:\n\u001b[0;32m    705\u001b[0m     \u001b[39m# If just one dimension assume scalar and apply colormap\u001b[39;00m\n\u001b[0;32m    706\u001b[0m     \u001b[39mself\u001b[39m\u001b[39m.\u001b[39m_A \u001b[39m=\u001b[39m \u001b[39mself\u001b[39m\u001b[39m.\u001b[39m_A[:, :, \u001b[39m0\u001b[39m]\n",
      "\u001b[1;31mTypeError\u001b[0m: Image data of dtype object cannot be converted to float"
     ]
    },
    {
     "data": {
      "image/png": "[encoded data removed]",
      "text/plain": [
       "<Figure size 640x480 with 1 Axes>"
      ]
     },
     "metadata": {},
     "output_type": "display_data"
    }
   ],
   "source": [
    "plt.imshow(pores)\n",
    "plt.colorbar()\n",
    "# np.sum(pores)/np.sum()"
   ]
  },
  {
   "cell_type": "code",
   "execution_count": 38,
   "metadata": {},
   "outputs": [
    {
     "data": {
      "text/plain": [
       "(164227, 4)"
      ]
     },
     "execution_count": 38,
     "metadata": {},
     "output_type": "execute_result"
    }
   ],
   "source": [
    "pores[np.where(pores<50)[0],np.where(pores<50)[1]].shape"
   ]
  },
  {
   "cell_type": "code",
   "execution_count": 35,
   "metadata": {},
   "outputs": [
    {
     "data": {
      "text/plain": [
       "(411, 436, 4)"
      ]
     },
     "execution_count": 35,
     "metadata": {},
     "output_type": "execute_result"
    }
   ],
   "source": [
    "pores.shape"
   ]
  },
  {
   "cell_type": "code",
   "execution_count": null,
   "metadata": {},
   "outputs": [],
   "source": []
  },
  {
   "cell_type": "code",
   "execution_count": 26,
   "metadata": {},
   "outputs": [
    {
     "data": {
      "text/plain": [
       "(WindowsPath('I:/XRD/XCT_CARL/summed/head/230928_SFB_IMM_BERNERS_V50-45_6um_80kV_5s_LE3_recon_8bit_median_sample4_pores_z.tiff'),\n",
       " WindowsPath('I:/XRD/XCT_CARL/summed/head/230928_SFB_IMM_BERNERS_V50-45_6um_80kV_5s_LE3_recon_8bit_median_sample4_pores_contour_z_eroded_filled.tiff'),\n",
       " WindowsPath('I:/XRD/XCT_CARL/summed/head/230928_SFB_IMM_BERNERS_V50-45_6um_80kV_5s_LE3_recon_8bit_median_sample4_oxides_z.tiff'))"
      ]
     },
     "execution_count": 26,
     "metadata": {},
     "output_type": "execute_result"
    }
   ],
   "source": [
    "path"
   ]
  },
  {
   "cell_type": "code",
   "execution_count": null,
   "metadata": {},
   "outputs": [],
   "source": []
  },
  {
   "cell_type": "code",
   "execution_count": null,
   "metadata": {},
   "outputs": [],
   "source": []
  },
  {
   "cell_type": "code",
   "execution_count": null,
   "metadata": {},
   "outputs": [],
   "source": []
  },
  {
   "cell_type": "code",
   "execution_count": 15,
   "metadata": {},
   "outputs": [
    {
     "name": "stdout",
     "output_type": "stream",
     "text": [
      ":)\n",
      ":)\n",
      ":)\n"
     ]
    }
   ],
   "source": [
    "for path in [pores,contours,oxides]:\n",
    "    print(':)')"
   ]
  }
 ],
 "metadata": {
  "kernelspec": {
   "display_name": "Python 3",
   "language": "python",
   "name": "python3"
  },
  "language_info": {
   "codemirror_mode": {
    "name": "ipython",
    "version": 3
   },
   "file_extension": ".py",
   "mimetype": "text/x-python",
   "name": "python",
   "nbconvert_exporter": "python",
   "pygments_lexer": "ipython3",
   "version": "3.9.13"
  }
 },
 "nbformat": 4,
 "nbformat_minor": 2
}
