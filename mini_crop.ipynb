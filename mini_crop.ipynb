{
 "cells": [
  {
   "cell_type": "code",
   "execution_count": 1,
   "metadata": {},
   "outputs": [],
   "source": [
    "from PIL import Image\n",
    "from pathlib import *"
   ]
  },
  {
   "cell_type": "code",
   "execution_count": 2,
   "metadata": {},
   "outputs": [],
   "source": [
    "Image.MAX_IMAGE_PIXELS = None"
   ]
  },
  {
   "cell_type": "code",
   "execution_count": 17,
   "metadata": {},
   "outputs": [],
   "source": [
    "path=Path('J:\\\\Users\\Berners_Lukas\\LEO\\yolov5\\\\50_45\\man_slip\\head\\eps5_recheck\\\\area1\\stitch')\n",
    "plist=list(path.glob('*.png'))\n"
   ]
  },
  {
   "cell_type": "code",
   "execution_count": 18,
   "metadata": {},
   "outputs": [
    {
     "data": {
      "text/plain": [
       "WindowsPath('J:/Users/Berners_Lukas/LEO/yolov5/50_45/man_slip/head/eps5_recheck/area1/stitch')"
      ]
     },
     "execution_count": 18,
     "metadata": {},
     "output_type": "execute_result"
    }
   ],
   "source": [
    "path"
   ]
  },
  {
   "cell_type": "code",
   "execution_count": 20,
   "metadata": {},
   "outputs": [],
   "source": [
    "plist\n",
    "ps=plist[0]#,plist[1],plist[3]"
   ]
  },
  {
   "cell_type": "code",
   "execution_count": 21,
   "metadata": {},
   "outputs": [
    {
     "ename": "TypeError",
     "evalue": "'WindowsPath' object is not iterable",
     "output_type": "error",
     "traceback": [
      "\u001b[1;31m---------------------------------------------------------------------------\u001b[0m",
      "\u001b[1;31mTypeError\u001b[0m                                 Traceback (most recent call last)",
      "\u001b[1;32mi:\\python\\Notebooks\\random_projects_lukas\\mini_crop.ipynb Zelle 6\u001b[0m line \u001b[0;36m1\n\u001b[1;32m----> <a href='vscode-notebook-cell:/i%3A/python/Notebooks/random_projects_lukas/mini_crop.ipynb#W4sZmlsZQ%3D%3D?line=0'>1</a>\u001b[0m \u001b[39mfor\u001b[39;00m p \u001b[39min\u001b[39;00m ps:\n\u001b[0;32m      <a href='vscode-notebook-cell:/i%3A/python/Notebooks/random_projects_lukas/mini_crop.ipynb#W4sZmlsZQ%3D%3D?line=1'>2</a>\u001b[0m    \u001b[39mwith\u001b[39;00m Image\u001b[39m.\u001b[39mopen(p) \u001b[39mas\u001b[39;00m im:\n\u001b[0;32m      <a href='vscode-notebook-cell:/i%3A/python/Notebooks/random_projects_lukas/mini_crop.ipynb#W4sZmlsZQ%3D%3D?line=2'>3</a>\u001b[0m         im\u001b[39m=\u001b[39mim\u001b[39m.\u001b[39mcrop([\u001b[39m0\u001b[39m,\u001b[39m0\u001b[39m,\u001b[39m4000\u001b[39m,\u001b[39m4000\u001b[39m])\n",
      "\u001b[1;31mTypeError\u001b[0m: 'WindowsPath' object is not iterable"
     ]
    }
   ],
   "source": [
    "for p in ps:\n",
    "   with Image.open(p) as im:\n",
    "        im=im.crop([0,0,4000,4000])\n",
    "        im.save(p.parent.joinpath(f'cropped{p.stem[-1]}.png'))\n",
    "    "
   ]
  },
  {
   "cell_type": "code",
   "execution_count": 38,
   "metadata": {},
   "outputs": [],
   "source": []
  },
  {
   "cell_type": "code",
   "execution_count": 36,
   "metadata": {},
   "outputs": [
    {
     "data": {
      "text/plain": [
       "WindowsPath('J:/Users/Berners_Lukas/LEO/quasi-in_situ/C02/50_45/head/cropped2')"
      ]
     },
     "execution_count": 36,
     "metadata": {},
     "output_type": "execute_result"
    }
   ],
   "source": [
    "p.parent.joinpath(f'cropped{p.stem[-1]}')"
   ]
  },
  {
   "cell_type": "code",
   "execution_count": null,
   "metadata": {},
   "outputs": [],
   "source": []
  }
 ],
 "metadata": {
  "kernelspec": {
   "display_name": "Python 3",
   "language": "python",
   "name": "python3"
  },
  "language_info": {
   "codemirror_mode": {
    "name": "ipython",
    "version": 3
   },
   "file_extension": ".py",
   "mimetype": "text/x-python",
   "name": "python",
   "nbconvert_exporter": "python",
   "pygments_lexer": "ipython3",
   "version": "3.9.13"
  },
  "orig_nbformat": 4
 },
 "nbformat": 4,
 "nbformat_minor": 2
}
