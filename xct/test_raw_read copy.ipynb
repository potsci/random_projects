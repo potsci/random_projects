{
 "cells": [
  {
   "cell_type": "code",
   "execution_count": 137,
   "metadata": {},
   "outputs": [],
   "source": [
    "import tifffile as tiff\n",
    "import numpy as np\n",
    "\n",
    "import os\n",
    "\n",
    "\n",
    "from pathlib import *\n",
    "from skimage import io\n",
    "import matplotlib.pyplot as plt"
   ]
  },
  {
   "cell_type": "code",
   "execution_count": 138,
   "metadata": {},
   "outputs": [],
   "source": [
    "impath=Path(\"I:\\\\XRD\\XCT_CARL\\\\2023_10_3mm_tens_5047\\\\230928_SFB_IMM_BERNERS_5048-Export\\Export\")\n",
    "# impath=Path('test_dust_remove_2.tiff')\n",
    "tifs=impath.glob('*.tif')\n",
    "asdf=list(tifs)"
   ]
  },
  {
   "cell_type": "code",
   "execution_count": null,
   "metadata": {},
   "outputs": [],
   "source": []
  },
  {
   "cell_type": "code",
   "execution_count": 139,
   "metadata": {},
   "outputs": [
    {
     "data": {
      "text/plain": [
       "WindowsPath('I:/XRD/XCT_CARL/2023_10_3mm_tens_5047/230928_SFB_IMM_BERNERS_5048-Export/Export')"
      ]
     },
     "execution_count": 139,
     "metadata": {},
     "output_type": "execute_result"
    }
   ],
   "source": [
    "img_path=impath\n",
    "img_path"
   ]
  },
  {
   "cell_type": "code",
   "execution_count": 143,
   "metadata": {},
   "outputs": [
    {
     "data": {
      "text/plain": [
       "[WindowsPath('I:/XRD/XCT_CARL/2023_10_3mm_tens_5047/230928_SFB_IMM_BERNERS_5048-Export/Export/230928_SFB1394_IMM_BERNERS_5048_6um_80kV_4s_LE3_recon-1.tif'),\n",
       " WindowsPath('I:/XRD/XCT_CARL/2023_10_3mm_tens_5047/230928_SFB_IMM_BERNERS_5048-Export/Export/230928_SFB1394_IMM_BERNERS_5048_6um_80kV_4s_LE3_recon-2.tif'),\n",
       " WindowsPath('I:/XRD/XCT_CARL/2023_10_3mm_tens_5047/230928_SFB_IMM_BERNERS_5048-Export/Export/230928_SFB1394_IMM_BERNERS_5048_6um_80kV_4s_LE3_recon_8bit.tif'),\n",
       " WindowsPath('I:/XRD/XCT_CARL/2023_10_3mm_tens_5047/230928_SFB_IMM_BERNERS_5048-Export/Export/230928_SFB1394_IMM_BERNERS_5048_6um_80kV_4s_LE3_recon_8bit_median.tif'),\n",
       " WindowsPath('I:/XRD/XCT_CARL/2023_10_3mm_tens_5047/230928_SFB_IMM_BERNERS_5048-Export/Export/230928_SFB1394_IMM_BERNERS_5048_6um_80kV_4s_LE3_recon_8bit_oxides.tif'),\n",
       " WindowsPath('I:/XRD/XCT_CARL/2023_10_3mm_tens_5047/230928_SFB_IMM_BERNERS_5048-Export/Export/230928_SFB1394_IMM_BERNERS_5048_6um_80kV_4s_LE3_recon_8bit_pores.tif')]"
      ]
     },
     "execution_count": 143,
     "metadata": {},
     "output_type": "execute_result"
    }
   ],
   "source": [
    "img_path=asdf[5]\n",
    "asdf"
   ]
  },
  {
   "cell_type": "code",
   "execution_count": null,
   "metadata": {},
   "outputs": [],
   "source": []
  },
  {
   "cell_type": "code",
   "execution_count": 144,
   "metadata": {},
   "outputs": [],
   "source": [
    "img=io.imread(img_path)"
   ]
  },
  {
   "cell_type": "code",
   "execution_count": 145,
   "metadata": {},
   "outputs": [],
   "source": [
    "img_cropped=img[0:500,0:500,0:500]"
   ]
  },
  {
   "cell_type": "code",
   "execution_count": 147,
   "metadata": {},
   "outputs": [
    {
     "data": {
      "text/plain": [
       "array([[[1., 1., 1., ..., 1., 1., 1.],\n",
       "        [1., 1., 1., ..., 1., 1., 1.],\n",
       "        [1., 1., 1., ..., 1., 1., 1.],\n",
       "        ...,\n",
       "        [1., 1., 1., ..., 1., 1., 1.],\n",
       "        [1., 1., 1., ..., 1., 1., 1.],\n",
       "        [1., 1., 1., ..., 1., 1., 1.]],\n",
       "\n",
       "       [[1., 1., 1., ..., 1., 1., 1.],\n",
       "        [1., 1., 1., ..., 1., 1., 1.],\n",
       "        [1., 1., 1., ..., 1., 1., 1.],\n",
       "        ...,\n",
       "        [1., 1., 1., ..., 1., 1., 1.],\n",
       "        [1., 1., 1., ..., 1., 1., 1.],\n",
       "        [1., 1., 1., ..., 1., 1., 1.]],\n",
       "\n",
       "       [[1., 1., 1., ..., 1., 1., 1.],\n",
       "        [1., 1., 1., ..., 1., 1., 1.],\n",
       "        [1., 1., 1., ..., 1., 1., 1.],\n",
       "        ...,\n",
       "        [1., 1., 1., ..., 1., 1., 1.],\n",
       "        [1., 1., 1., ..., 1., 1., 1.],\n",
       "        [1., 1., 1., ..., 1., 1., 1.]],\n",
       "\n",
       "       ...,\n",
       "\n",
       "       [[1., 1., 1., ..., 0., 0., 0.],\n",
       "        [1., 1., 1., ..., 0., 0., 0.],\n",
       "        [1., 1., 1., ..., 0., 0., 0.],\n",
       "        ...,\n",
       "        [1., 1., 1., ..., 0., 0., 0.],\n",
       "        [1., 1., 1., ..., 0., 0., 0.],\n",
       "        [1., 1., 1., ..., 0., 0., 0.]],\n",
       "\n",
       "       [[1., 1., 1., ..., 0., 0., 0.],\n",
       "        [1., 1., 1., ..., 0., 0., 0.],\n",
       "        [1., 1., 1., ..., 0., 0., 0.],\n",
       "        ...,\n",
       "        [1., 1., 1., ..., 0., 0., 0.],\n",
       "        [1., 1., 1., ..., 0., 0., 0.],\n",
       "        [1., 1., 1., ..., 0., 0., 0.]],\n",
       "\n",
       "       [[1., 1., 1., ..., 0., 0., 0.],\n",
       "        [1., 1., 1., ..., 1., 0., 0.],\n",
       "        [1., 1., 1., ..., 1., 1., 0.],\n",
       "        ...,\n",
       "        [1., 1., 1., ..., 0., 0., 0.],\n",
       "        [1., 1., 1., ..., 0., 0., 0.],\n",
       "        [1., 1., 1., ..., 0., 0., 0.]]])"
      ]
     },
     "execution_count": 147,
     "metadata": {},
     "output_type": "execute_result"
    }
   ],
   "source": [
    "img_cropped/255"
   ]
  },
  {
   "cell_type": "code",
   "execution_count": null,
   "metadata": {},
   "outputs": [],
   "source": [
    "def label"
   ]
  },
  {
   "cell_type": "code",
   "execution_count": null,
   "metadata": {},
   "outputs": [],
   "source": []
  },
  {
   "cell_type": "code",
   "execution_count": 19,
   "metadata": {},
   "outputs": [],
   "source": [
    "# img.astype(float)"
   ]
  },
  {
   "cell_type": "code",
   "execution_count": null,
   "metadata": {},
   "outputs": [],
   "source": []
  },
  {
   "cell_type": "code",
   "execution_count": 20,
   "metadata": {},
   "outputs": [],
   "source": [
    "# img_float=img.astype('float16')"
   ]
  },
  {
   "cell_type": "code",
   "execution_count": 21,
   "metadata": {},
   "outputs": [],
   "source": [
    "# img_float=img/255"
   ]
  },
  {
   "cell_type": "code",
   "execution_count": 22,
   "metadata": {},
   "outputs": [],
   "source": [
    "img_bin=img<250\n"
   ]
  },
  {
   "cell_type": "code",
   "execution_count": 23,
   "metadata": {},
   "outputs": [
    {
     "data": {
      "text/plain": [
       "((31, 546, 768), (31, 546, 768))"
      ]
     },
     "execution_count": 23,
     "metadata": {},
     "output_type": "execute_result"
    }
   ],
   "source": [
    "img.shape,img_bin.shape"
   ]
  },
  {
   "cell_type": "code",
   "execution_count": 24,
   "metadata": {},
   "outputs": [],
   "source": [
    "img_bits=img_bin/1"
   ]
  },
  {
   "cell_type": "code",
   "execution_count": 25,
   "metadata": {},
   "outputs": [],
   "source": [
    "img_float=img_bin.astype(np.float16)"
   ]
  },
  {
   "cell_type": "code",
   "execution_count": 26,
   "metadata": {},
   "outputs": [],
   "source": [
    "# np.save('img_bin.npy',img_bin)"
   ]
  },
  {
   "cell_type": "code",
   "execution_count": null,
   "metadata": {},
   "outputs": [],
   "source": []
  },
  {
   "cell_type": "code",
   "execution_count": 27,
   "metadata": {},
   "outputs": [
    {
     "ename": "IndexError",
     "evalue": "index 400 is out of bounds for axis 0 with size 31",
     "output_type": "error",
     "traceback": [
      "\u001b[1;31m---------------------------------------------------------------------------\u001b[0m",
      "\u001b[1;31mIndexError\u001b[0m                                Traceback (most recent call last)",
      "\u001b[1;32mi:\\python\\Notebooks\\random_projects_lukas\\xct\\test_raw_read copy.ipynb Zelle 17\u001b[0m line \u001b[0;36m1\n\u001b[1;32m----> <a href='vscode-notebook-cell:/i%3A/python/Notebooks/random_projects_lukas/xct/test_raw_read%20copy.ipynb#X22sZmlsZQ%3D%3D?line=0'>1</a>\u001b[0m plt\u001b[39m.\u001b[39mimshow(img_bin[\u001b[39m400\u001b[39;49m,:,:])\n",
      "\u001b[1;31mIndexError\u001b[0m: index 400 is out of bounds for axis 0 with size 31"
     ]
    }
   ],
   "source": [
    "plt.imshow(img_bin[400,:,:])"
   ]
  },
  {
   "cell_type": "code",
   "execution_count": 34,
   "metadata": {},
   "outputs": [],
   "source": [
    "# img_sel=img_bin[300:500,500:1000,500:1000]\n",
    "img_sel=img_bin"
   ]
  },
  {
   "cell_type": "code",
   "execution_count": 35,
   "metadata": {},
   "outputs": [
    {
     "data": {
      "text/plain": [
       "(31, 546, 768)"
      ]
     },
     "execution_count": 35,
     "metadata": {},
     "output_type": "execute_result"
    }
   ],
   "source": [
    "img_sel.shape"
   ]
  },
  {
   "cell_type": "code",
   "execution_count": 36,
   "metadata": {},
   "outputs": [
    {
     "data": {
      "text/plain": [
       "array([[[1., 1., 1., ..., 1., 1., 1.],\n",
       "        [1., 1., 1., ..., 1., 1., 1.],\n",
       "        [1., 1., 1., ..., 1., 1., 1.],\n",
       "        ...,\n",
       "        [1., 1., 1., ..., 1., 1., 1.],\n",
       "        [1., 1., 1., ..., 1., 1., 1.],\n",
       "        [1., 1., 1., ..., 1., 1., 1.]],\n",
       "\n",
       "       [[1., 1., 1., ..., 1., 1., 1.],\n",
       "        [1., 1., 1., ..., 1., 1., 1.],\n",
       "        [1., 1., 1., ..., 1., 1., 1.],\n",
       "        ...,\n",
       "        [1., 1., 1., ..., 1., 1., 1.],\n",
       "        [1., 1., 1., ..., 1., 1., 1.],\n",
       "        [1., 1., 1., ..., 1., 1., 1.]],\n",
       "\n",
       "       [[1., 1., 1., ..., 1., 1., 1.],\n",
       "        [1., 1., 1., ..., 1., 1., 1.],\n",
       "        [1., 1., 1., ..., 1., 1., 1.],\n",
       "        ...,\n",
       "        [1., 1., 1., ..., 1., 1., 1.],\n",
       "        [1., 1., 1., ..., 1., 1., 1.],\n",
       "        [1., 1., 1., ..., 1., 1., 1.]],\n",
       "\n",
       "       ...,\n",
       "\n",
       "       [[1., 1., 1., ..., 1., 1., 1.],\n",
       "        [1., 1., 1., ..., 1., 1., 1.],\n",
       "        [1., 1., 1., ..., 1., 1., 1.],\n",
       "        ...,\n",
       "        [1., 1., 1., ..., 1., 1., 1.],\n",
       "        [1., 1., 1., ..., 1., 1., 1.],\n",
       "        [1., 1., 1., ..., 1., 1., 1.]],\n",
       "\n",
       "       [[1., 1., 1., ..., 1., 1., 1.],\n",
       "        [1., 1., 1., ..., 1., 1., 1.],\n",
       "        [1., 1., 1., ..., 1., 1., 1.],\n",
       "        ...,\n",
       "        [1., 1., 1., ..., 1., 1., 1.],\n",
       "        [1., 1., 1., ..., 1., 1., 1.],\n",
       "        [1., 1., 1., ..., 1., 1., 1.]],\n",
       "\n",
       "       [[1., 1., 1., ..., 1., 1., 1.],\n",
       "        [1., 1., 1., ..., 1., 1., 1.],\n",
       "        [1., 1., 1., ..., 1., 1., 1.],\n",
       "        ...,\n",
       "        [1., 1., 1., ..., 1., 1., 1.],\n",
       "        [1., 1., 1., ..., 1., 1., 1.],\n",
       "        [1., 1., 1., ..., 1., 1., 1.]]])"
      ]
     },
     "execution_count": 36,
     "metadata": {},
     "output_type": "execute_result"
    }
   ],
   "source": [
    "img_sel/1"
   ]
  },
  {
   "cell_type": "code",
   "execution_count": 37,
   "metadata": {},
   "outputs": [
    {
     "ename": "TypeError",
     "evalue": "'tuple' object is not callable",
     "output_type": "error",
     "traceback": [
      "\u001b[1;31m---------------------------------------------------------------------------\u001b[0m",
      "\u001b[1;31mTypeError\u001b[0m                                 Traceback (most recent call last)",
      "\u001b[1;32mi:\\python\\Notebooks\\random_projects_lukas\\xct\\test_raw_read copy.ipynb Zelle 21\u001b[0m line \u001b[0;36m1\n\u001b[1;32m----> <a href='vscode-notebook-cell:/i%3A/python/Notebooks/random_projects_lukas/xct/test_raw_read%20copy.ipynb#X26sZmlsZQ%3D%3D?line=0'>1</a>\u001b[0m img\u001b[39m.\u001b[39;49mshape()\n",
      "\u001b[1;31mTypeError\u001b[0m: 'tuple' object is not callable"
     ]
    }
   ],
   "source": [
    "img.shape()"
   ]
  },
  {
   "cell_type": "code",
   "execution_count": 38,
   "metadata": {},
   "outputs": [],
   "source": [
    "import numpy as np\n",
    "from matplotlib import pyplot as plt\n",
    "from scipy import ndimage as ndi\n",
    "from skimage import (filters, io, measure,\n",
    "                      morphology, segmentation, transform,\n",
    "                      util)\n",
    "# import napari\n"
   ]
  },
  {
   "cell_type": "code",
   "execution_count": 39,
   "metadata": {},
   "outputs": [],
   "source": [
    "# ndi.binary_fill_holes(img)\n",
    "labels = measure.label(img_sel)"
   ]
  },
  {
   "cell_type": "code",
   "execution_count": 40,
   "metadata": {},
   "outputs": [
    {
     "name": "stderr",
     "output_type": "stream",
     "text": [
      "C:\\Users\\berners\\AppData\\Local\\Temp\\ipykernel_23404\\405463662.py:1: UserWarning: Any labeled images will be returned as a boolean array. Did you mean to use a boolean array?\n",
      "  remove_holes = morphology.remove_small_holes(\n"
     ]
    }
   ],
   "source": [
    "\n",
    "remove_holes = morphology.remove_small_holes(\n",
    "    labels, \n",
    "    area_threshold=3\n",
    ")"
   ]
  },
  {
   "cell_type": "code",
   "execution_count": 41,
   "metadata": {},
   "outputs": [
    {
     "data": {
      "text/plain": [
       "array([[[ True,  True,  True, ...,  True,  True,  True],\n",
       "        [ True,  True,  True, ...,  True,  True,  True],\n",
       "        [ True,  True,  True, ...,  True,  True,  True],\n",
       "        ...,\n",
       "        [ True,  True,  True, ...,  True,  True,  True],\n",
       "        [ True,  True,  True, ...,  True,  True,  True],\n",
       "        [ True,  True,  True, ...,  True,  True,  True]],\n",
       "\n",
       "       [[ True,  True,  True, ...,  True,  True,  True],\n",
       "        [ True,  True,  True, ...,  True,  True,  True],\n",
       "        [ True,  True,  True, ...,  True,  True,  True],\n",
       "        ...,\n",
       "        [ True,  True,  True, ...,  True,  True,  True],\n",
       "        [ True,  True,  True, ...,  True,  True,  True],\n",
       "        [ True,  True,  True, ...,  True,  True,  True]],\n",
       "\n",
       "       [[ True,  True,  True, ...,  True,  True,  True],\n",
       "        [ True,  True,  True, ...,  True,  True,  True],\n",
       "        [ True,  True,  True, ...,  True,  True,  True],\n",
       "        ...,\n",
       "        [ True,  True,  True, ...,  True,  True,  True],\n",
       "        [ True,  True,  True, ...,  True,  True,  True],\n",
       "        [ True,  True,  True, ...,  True,  True,  True]],\n",
       "\n",
       "       ...,\n",
       "\n",
       "       [[ True,  True,  True, ...,  True,  True,  True],\n",
       "        [ True,  True,  True, ...,  True,  True,  True],\n",
       "        [ True,  True,  True, ...,  True,  True,  True],\n",
       "        ...,\n",
       "        [ True,  True,  True, ...,  True,  True,  True],\n",
       "        [ True,  True,  True, ...,  True,  True,  True],\n",
       "        [ True,  True,  True, ...,  True,  True,  True]],\n",
       "\n",
       "       [[ True,  True,  True, ...,  True,  True,  True],\n",
       "        [ True,  True,  True, ...,  True,  True,  True],\n",
       "        [ True,  True,  True, ...,  True,  True,  True],\n",
       "        ...,\n",
       "        [ True,  True,  True, ...,  True,  True,  True],\n",
       "        [ True,  True,  True, ...,  True,  True,  True],\n",
       "        [ True,  True,  True, ...,  True,  True,  True]],\n",
       "\n",
       "       [[ True,  True,  True, ...,  True,  True,  True],\n",
       "        [ True,  True,  True, ...,  True,  True,  True],\n",
       "        [ True,  True,  True, ...,  True,  True,  True],\n",
       "        ...,\n",
       "        [ True,  True,  True, ...,  True,  True,  True],\n",
       "        [ True,  True,  True, ...,  True,  True,  True],\n",
       "        [ True,  True,  True, ...,  True,  True,  True]]])"
      ]
     },
     "execution_count": 41,
     "metadata": {},
     "output_type": "execute_result"
    }
   ],
   "source": [
    "remove_holes"
   ]
  },
  {
   "cell_type": "code",
   "execution_count": 42,
   "metadata": {},
   "outputs": [
    {
     "data": {
      "text/plain": [
       "<matplotlib.image.AxesImage at 0x2198282c340>"
      ]
     },
     "execution_count": 42,
     "metadata": {},
     "output_type": "execute_result"
    },
    {
     "data": {
      "image/png": "[encoded data removed]",
      "text/plain": [
       "<Figure size 640x480 with 1 Axes>"
      ]
     },
     "metadata": {},
     "output_type": "display_data"
    }
   ],
   "source": [
    "plt.imshow(labels[:,300,:])"
   ]
  },
  {
   "cell_type": "code",
   "execution_count": 43,
   "metadata": {},
   "outputs": [
    {
     "data": {
      "text/plain": [
       "<matplotlib.image.AxesImage at 0x2198687e9d0>"
      ]
     },
     "execution_count": 43,
     "metadata": {},
     "output_type": "execute_result"
    },
    {
     "data": {
      "image/png": "[encoded data removed]",
      "text/plain": [
       "<Figure size 640x480 with 1 Axes>"
      ]
     },
     "metadata": {},
     "output_type": "display_data"
    }
   ],
   "source": [
    "plt.imshow(remove_holes[:,:,1])"
   ]
  },
  {
   "cell_type": "code",
   "execution_count": 148,
   "metadata": {},
   "outputs": [
    {
     "data": {
      "text/plain": [
       "array([[[ True,  True,  True, ...,  True,  True,  True],\n",
       "        [ True,  True,  True, ...,  True,  True,  True],\n",
       "        [ True,  True,  True, ...,  True,  True,  True],\n",
       "        ...,\n",
       "        [ True,  True,  True, ...,  True,  True,  True],\n",
       "        [ True,  True,  True, ...,  True,  True,  True],\n",
       "        [ True,  True,  True, ...,  True,  True,  True]],\n",
       "\n",
       "       [[ True,  True,  True, ...,  True,  True,  True],\n",
       "        [ True,  True,  True, ...,  True,  True,  True],\n",
       "        [ True,  True,  True, ...,  True,  True,  True],\n",
       "        ...,\n",
       "        [ True,  True,  True, ...,  True,  True,  True],\n",
       "        [ True,  True,  True, ...,  True,  True,  True],\n",
       "        [ True,  True,  True, ...,  True,  True,  True]],\n",
       "\n",
       "       [[ True,  True,  True, ...,  True,  True,  True],\n",
       "        [ True,  True,  True, ...,  True,  True,  True],\n",
       "        [ True,  True,  True, ...,  True,  True,  True],\n",
       "        ...,\n",
       "        [ True,  True,  True, ...,  True,  True,  True],\n",
       "        [ True,  True,  True, ...,  True,  True,  True],\n",
       "        [ True,  True,  True, ...,  True,  True,  True]],\n",
       "\n",
       "       ...,\n",
       "\n",
       "       [[ True,  True,  True, ...,  True,  True,  True],\n",
       "        [ True,  True,  True, ...,  True,  True,  True],\n",
       "        [ True,  True,  True, ...,  True,  True,  True],\n",
       "        ...,\n",
       "        [ True,  True,  True, ...,  True,  True,  True],\n",
       "        [ True,  True,  True, ...,  True,  True,  True],\n",
       "        [ True,  True,  True, ...,  True,  True,  True]],\n",
       "\n",
       "       [[ True,  True,  True, ...,  True,  True,  True],\n",
       "        [ True,  True,  True, ...,  True,  True,  True],\n",
       "        [ True,  True,  True, ...,  True,  True,  True],\n",
       "        ...,\n",
       "        [ True,  True,  True, ...,  True,  True,  True],\n",
       "        [ True,  True,  True, ...,  True,  True,  True],\n",
       "        [ True,  True,  True, ...,  True,  True,  True]],\n",
       "\n",
       "       [[ True,  True,  True, ...,  True,  True,  True],\n",
       "        [ True,  True,  True, ...,  True,  True,  True],\n",
       "        [ True,  True,  True, ...,  True,  True,  True],\n",
       "        ...,\n",
       "        [ True,  True,  True, ...,  True,  True,  True],\n",
       "        [ True,  True,  True, ...,  True,  True,  True],\n",
       "        [ True,  True,  True, ...,  True,  True,  True]]])"
      ]
     },
     "execution_count": 148,
     "metadata": {},
     "output_type": "execute_result"
    }
   ],
   "source": [
    "img_sel"
   ]
  },
  {
   "cell_type": "code",
   "execution_count": 149,
   "metadata": {},
   "outputs": [
    {
     "data": {
      "text/plain": [
       "<matplotlib.image.AxesImage at 0x219d116d160>"
      ]
     },
     "execution_count": 149,
     "metadata": {},
     "output_type": "execute_result"
    },
    {
     "data": {
      "image/png": "[encoded data removed]",
      "text/plain": [
       "<Figure size 640x480 with 1 Axes>"
      ]
     },
     "metadata": {},
     "output_type": "display_data"
    }
   ],
   "source": [
    "plt.imshow(img_sel[1,:,:])"
   ]
  },
  {
   "cell_type": "code",
   "execution_count": 156,
   "metadata": {},
   "outputs": [],
   "source": [
    "img_sel_1=img_sel[1:15,:,:]\n",
    "img_sel_2=img_sel[15:,:,:]"
   ]
  },
  {
   "cell_type": "code",
   "execution_count": 157,
   "metadata": {},
   "outputs": [],
   "source": [
    "label_1=measure.label(img_sel_1)\n",
    "label_2=measure.label(img_sel_2)\n",
    "label_2=measure.label(img_sel_2)"
   ]
  },
  {
   "cell_type": "code",
   "execution_count": 158,
   "metadata": {},
   "outputs": [
    {
     "data": {
      "text/plain": [
       "array([[[1, 1, 1, ..., 3, 3, 3],\n",
       "        [1, 1, 1, ..., 3, 3, 3],\n",
       "        [1, 1, 1, ..., 3, 3, 3],\n",
       "        ...,\n",
       "        [1, 1, 1, ..., 3, 3, 3],\n",
       "        [1, 1, 1, ..., 3, 3, 3],\n",
       "        [1, 1, 1, ..., 3, 3, 3]],\n",
       "\n",
       "       [[1, 1, 1, ..., 3, 3, 3],\n",
       "        [1, 1, 1, ..., 3, 3, 3],\n",
       "        [1, 1, 1, ..., 3, 3, 3],\n",
       "        ...,\n",
       "        [1, 1, 1, ..., 3, 3, 3],\n",
       "        [1, 1, 1, ..., 3, 3, 3],\n",
       "        [1, 1, 1, ..., 3, 3, 3]],\n",
       "\n",
       "       [[1, 1, 1, ..., 3, 3, 3],\n",
       "        [1, 1, 1, ..., 3, 3, 3],\n",
       "        [1, 1, 1, ..., 3, 3, 3],\n",
       "        ...,\n",
       "        [1, 1, 1, ..., 3, 3, 3],\n",
       "        [1, 1, 1, ..., 3, 3, 3],\n",
       "        [1, 1, 1, ..., 3, 3, 3]],\n",
       "\n",
       "       ...,\n",
       "\n",
       "       [[1, 1, 1, ..., 3, 3, 3],\n",
       "        [1, 1, 1, ..., 3, 3, 3],\n",
       "        [1, 1, 1, ..., 3, 3, 3],\n",
       "        ...,\n",
       "        [1, 1, 1, ..., 3, 3, 3],\n",
       "        [1, 1, 1, ..., 3, 3, 3],\n",
       "        [1, 1, 1, ..., 3, 3, 3]],\n",
       "\n",
       "       [[1, 1, 1, ..., 3, 3, 3],\n",
       "        [1, 1, 1, ..., 3, 3, 3],\n",
       "        [1, 1, 1, ..., 3, 3, 3],\n",
       "        ...,\n",
       "        [1, 1, 1, ..., 3, 3, 3],\n",
       "        [1, 1, 1, ..., 3, 3, 3],\n",
       "        [1, 1, 1, ..., 3, 3, 3]],\n",
       "\n",
       "       [[1, 1, 1, ..., 3, 3, 3],\n",
       "        [1, 1, 1, ..., 3, 3, 3],\n",
       "        [1, 1, 1, ..., 3, 3, 3],\n",
       "        ...,\n",
       "        [1, 1, 1, ..., 3, 3, 3],\n",
       "        [1, 1, 1, ..., 3, 3, 3],\n",
       "        [1, 1, 1, ..., 3, 3, 3]]])"
      ]
     },
     "execution_count": 158,
     "metadata": {},
     "output_type": "execute_result"
    }
   ],
   "source": [
    "label_2"
   ]
  },
  {
   "cell_type": "code",
   "execution_count": 164,
   "metadata": {},
   "outputs": [],
   "source": [
    "np.unique(label_1)\n",
    "np.unique(label_2)\n",
    "label_2[label_2!=0]+=3"
   ]
  },
  {
   "cell_type": "code",
   "execution_count": 170,
   "metadata": {},
   "outputs": [],
   "source": [
    "joined_l=np.zeros(img_sel.shape)\n",
    "joined_l[1:15,:,:]=label_1\n",
    "joined_l[15:,:,:]=label_2"
   ]
  },
  {
   "cell_type": "code",
   "execution_count": 171,
   "metadata": {},
   "outputs": [
    {
     "data": {
      "text/plain": [
       "<matplotlib.image.AxesImage at 0x21a28350460>"
      ]
     },
     "execution_count": 171,
     "metadata": {},
     "output_type": "execute_result"
    },
    {
     "data": {
      "image/png": "[encoded data removed]",
      "text/plain": [
       "<Figure size 640x480 with 1 Axes>"
      ]
     },
     "metadata": {},
     "output_type": "display_data"
    }
   ],
   "source": [
    "plt.imshow(label_2[1,:,:]==0)"
   ]
  },
  {
   "cell_type": "code",
   "execution_count": 172,
   "metadata": {},
   "outputs": [
    {
     "data": {
      "text/plain": [
       "<matplotlib.image.AxesImage at 0x21a283c7e20>"
      ]
     },
     "execution_count": 172,
     "metadata": {},
     "output_type": "execute_result"
    },
    {
     "data": {
      "image/png": "[encoded data removed]",
      "text/plain": [
       "<Figure size 640x480 with 1 Axes>"
      ]
     },
     "metadata": {},
     "output_type": "display_data"
    }
   ],
   "source": [
    "plt.imshow(joined_l[:,1,:])"
   ]
  },
  {
   "cell_type": "code",
   "execution_count": 179,
   "metadata": {},
   "outputs": [],
   "source": [
    "joining=joined_l[14:16,:,:]"
   ]
  },
  {
   "cell_type": "code",
   "execution_count": 211,
   "metadata": {},
   "outputs": [],
   "source": [
    "joining[joining==0]=np.nan"
   ]
  },
  {
   "cell_type": "code",
   "execution_count": 213,
   "metadata": {},
   "outputs": [
    {
     "data": {
      "text/plain": [
       "<matplotlib.image.AxesImage at 0x21a285a4430>"
      ]
     },
     "execution_count": 213,
     "metadata": {},
     "output_type": "execute_result"
    },
    {
     "data": {
      "image/png": "[encoded data removed]",
      "text/plain": [
       "<Figure size 640x480 with 2 Axes>"
      ]
     },
     "metadata": {},
     "output_type": "display_data"
    }
   ],
   "source": [
    "fig,ax=plt.subplots(1,2)\n",
    "ax[0].imshow(joining[0,:,:])\n",
    "ax[1].imshow(joining[:,:,1])\n",
    "# ax[1].set_xlim[0:200]"
   ]
  },
  {
   "cell_type": "code",
   "execution_count": 215,
   "metadata": {},
   "outputs": [
    {
     "data": {
      "text/plain": [
       "array([[3., 3., 3., ..., 3., 3., 3.],\n",
       "       [3., 3., 3., ..., 3., 3., 3.],\n",
       "       [3., 3., 3., ..., 3., 3., 3.],\n",
       "       ...,\n",
       "       [3., 3., 3., ..., 3., 3., 3.],\n",
       "       [3., 3., 3., ..., 3., 3., 3.],\n",
       "       [3., 3., 3., ..., 3., 3., 3.]])"
      ]
     },
     "execution_count": 215,
     "metadata": {},
     "output_type": "execute_result"
    }
   ],
   "source": [
    "np.diff(joining,axis=0)[0,:,:]"
   ]
  },
  {
   "cell_type": "code",
   "execution_count": 216,
   "metadata": {},
   "outputs": [],
   "source": [
    "overlap=np.sum(joining,axis=0)"
   ]
  },
  {
   "cell_type": "code",
   "execution_count": 217,
   "metadata": {},
   "outputs": [
    {
     "data": {
      "text/plain": [
       "array([[4., 4., 4., ..., 8., 8., 8.],\n",
       "       [4., 4., 4., ..., 8., 8., 8.],\n",
       "       [4., 4., 4., ..., 8., 8., 8.],\n",
       "       ...,\n",
       "       [4., 4., 4., ..., 8., 8., 8.],\n",
       "       [4., 4., 4., ..., 8., 8., 8.],\n",
       "       [4., 4., 4., ..., 8., 8., 8.]])"
      ]
     },
     "execution_count": 217,
     "metadata": {},
     "output_type": "execute_result"
    }
   ],
   "source": [
    "overlap-1"
   ]
  },
  {
   "cell_type": "code",
   "execution_count": 232,
   "metadata": {},
   "outputs": [],
   "source": [
    "labels_first=np.unique(label_1[label_1!=0])\n",
    "labels_second=np.unique(label_2[label_2!=0])"
   ]
  },
  {
   "cell_type": "code",
   "execution_count": 233,
   "metadata": {},
   "outputs": [
    {
     "data": {
      "text/plain": [
       "array([1, 2, 3])"
      ]
     },
     "execution_count": 233,
     "metadata": {},
     "output_type": "execute_result"
    }
   ],
   "source": [
    "labels_first"
   ]
  },
  {
   "cell_type": "code",
   "execution_count": 234,
   "metadata": {},
   "outputs": [
    {
     "data": {
      "text/plain": [
       "array([4, 5, 6])"
      ]
     },
     "execution_count": 234,
     "metadata": {},
     "output_type": "execute_result"
    }
   ],
   "source": [
    "labels_second"
   ]
  },
  {
   "cell_type": "code",
   "execution_count": null,
   "metadata": {},
   "outputs": [],
   "source": [
    "def"
   ]
  },
  {
   "cell_type": "code",
   "execution_count": 221,
   "metadata": {},
   "outputs": [
    {
     "data": {
      "text/plain": [
       "<matplotlib.image.AxesImage at 0x219b4d5f370>"
      ]
     },
     "execution_count": 221,
     "metadata": {},
     "output_type": "execute_result"
    },
    {
     "data": {
      "image/png": "[encoded data removed]",
      "text/plain": [
       "<Figure size 640x480 with 1 Axes>"
      ]
     },
     "metadata": {},
     "output_type": "display_data"
    }
   ],
   "source": [
    "plt.imshow(overlap==9)"
   ]
  },
  {
   "cell_type": "code",
   "execution_count": null,
   "metadata": {},
   "outputs": [],
   "source": []
  },
  {
   "cell_type": "code",
   "execution_count": 235,
   "metadata": {},
   "outputs": [
    {
     "data": {
      "text/plain": [
       "array([[ True,  True,  True, ...,  True,  True,  True],\n",
       "       [ True,  True,  True, ...,  True,  True,  True],\n",
       "       [ True,  True,  True, ...,  True,  True,  True],\n",
       "       ...,\n",
       "       [ True,  True,  True, ...,  True,  True,  True],\n",
       "       [ True,  True,  True, ...,  True,  True,  True],\n",
       "       [ True,  True,  True, ...,  True,  True,  True]])"
      ]
     },
     "execution_count": 235,
     "metadata": {},
     "output_type": "execute_result"
    }
   ],
   "source": [
    "overlap!=0"
   ]
  },
  {
   "cell_type": "code",
   "execution_count": 236,
   "metadata": {},
   "outputs": [
    {
     "data": {
      "text/plain": [
       "array([ 5.,  7.,  9., nan])"
      ]
     },
     "execution_count": 236,
     "metadata": {},
     "output_type": "execute_result"
    }
   ],
   "source": [
    "np.unique(overlap)"
   ]
  },
  {
   "cell_type": "code",
   "execution_count": 198,
   "metadata": {},
   "outputs": [
    {
     "data": {
      "text/plain": [
       "<matplotlib.colorbar.Colorbar at 0x219aee8dbb0>"
      ]
     },
     "execution_count": 198,
     "metadata": {},
     "output_type": "execute_result"
    },
    {
     "data": {
      "image/png": "[encoded data removed]",
      "text/plain": [
       "<Figure size 640x480 with 2 Axes>"
      ]
     },
     "metadata": {},
     "output_type": "display_data"
    }
   ],
   "source": [
    "plt.imshow(np.diff(joining,axis=0)[0,:,:])\n",
    "plt.colorbar()"
   ]
  },
  {
   "cell_type": "code",
   "execution_count": 188,
   "metadata": {},
   "outputs": [
    {
     "data": {
      "text/plain": [
       "[<matplotlib.lines.Line2D at 0x21a32f959d0>,\n",
       " <matplotlib.lines.Line2D at 0x21a32f95a30>,\n",
       " <matplotlib.lines.Line2D at 0x21a32f95a60>,\n",
       " <matplotlib.lines.Line2D at 0x21a32f95b50>,\n",
       " <matplotlib.lines.Line2D at 0x21a32f95c40>,\n",
       " <matplotlib.lines.Line2D at 0x21a30d39a00>,\n",
       " <matplotlib.lines.Line2D at 0x21a30cfadf0>,\n",
       " <matplotlib.lines.Line2D at 0x21a28487490>,\n",
       " <matplotlib.lines.Line2D at 0x21a30d24dc0>,\n",
       " <matplotlib.lines.Line2D at 0x21a32f95f40>,\n",
       " <matplotlib.lines.Line2D at 0x21a32f95a00>,\n",
       " <matplotlib.lines.Line2D at 0x21a32f9e070>,\n",
       " <matplotlib.lines.Line2D at 0x21a32f9e160>,\n",
       " <matplotlib.lines.Line2D at 0x21a32f9e310>,\n",
       " <matplotlib.lines.Line2D at 0x21a32f9e400>,\n",
       " <matplotlib.lines.Line2D at 0x21a32f9e4f0>,\n",
       " <matplotlib.lines.Line2D at 0x21a32f9e5e0>,\n",
       " <matplotlib.lines.Line2D at 0x21a32f9e6d0>,\n",
       " <matplotlib.lines.Line2D at 0x21a32f9e7c0>,\n",
       " <matplotlib.lines.Line2D at 0x21a32f9e8b0>,\n",
       " <matplotlib.lines.Line2D at 0x21a32f9e9a0>,\n",
       " <matplotlib.lines.Line2D at 0x21a32f9ea90>,\n",
       " <matplotlib.lines.Line2D at 0x21a32f9eb80>,\n",
       " <matplotlib.lines.Line2D at 0x21a32f9ec70>,\n",
       " <matplotlib.lines.Line2D at 0x21a32f9ed60>,\n",
       " <matplotlib.lines.Line2D at 0x21a32f9ee50>,\n",
       " <matplotlib.lines.Line2D at 0x21a32f9ef40>,\n",
       " <matplotlib.lines.Line2D at 0x21a32fa5070>,\n",
       " <matplotlib.lines.Line2D at 0x21a32fa5160>,\n",
       " <matplotlib.lines.Line2D at 0x21a32fa5250>,\n",
       " <matplotlib.lines.Line2D at 0x21a32fa5340>,\n",
       " <matplotlib.lines.Line2D at 0x21a32fa5430>,\n",
       " <matplotlib.lines.Line2D at 0x21a32fa5520>,\n",
       " <matplotlib.lines.Line2D at 0x21a32fa5610>,\n",
       " <matplotlib.lines.Line2D at 0x21a32fa5700>,\n",
       " <matplotlib.lines.Line2D at 0x21a32fa57f0>,\n",
       " <matplotlib.lines.Line2D at 0x21a32fa58e0>,\n",
       " <matplotlib.lines.Line2D at 0x21a32fa59d0>,\n",
       " <matplotlib.lines.Line2D at 0x21a32fa5ac0>,\n",
       " <matplotlib.lines.Line2D at 0x21a32fa5bb0>,\n",
       " <matplotlib.lines.Line2D at 0x21a32fa5ca0>,\n",
       " <matplotlib.lines.Line2D at 0x21a32fa5d90>,\n",
       " <matplotlib.lines.Line2D at 0x21a32fa5e80>,\n",
       " <matplotlib.lines.Line2D at 0x21a32fa5f70>,\n",
       " <matplotlib.lines.Line2D at 0x21a32fad0a0>,\n",
       " <matplotlib.lines.Line2D at 0x21a32fad190>,\n",
       " <matplotlib.lines.Line2D at 0x21a32fad280>,\n",
       " <matplotlib.lines.Line2D at 0x21a32fad370>,\n",
       " <matplotlib.lines.Line2D at 0x21a32fad460>,\n",
       " <matplotlib.lines.Line2D at 0x21a32fad550>,\n",
       " <matplotlib.lines.Line2D at 0x21a32fad640>,\n",
       " <matplotlib.lines.Line2D at 0x21a32fad730>,\n",
       " <matplotlib.lines.Line2D at 0x21a32fad820>,\n",
       " <matplotlib.lines.Line2D at 0x21a32fad910>,\n",
       " <matplotlib.lines.Line2D at 0x21a32fada00>,\n",
       " <matplotlib.lines.Line2D at 0x21a32fadaf0>,\n",
       " <matplotlib.lines.Line2D at 0x21a32fadbe0>,\n",
       " <matplotlib.lines.Line2D at 0x21a32fadcd0>,\n",
       " <matplotlib.lines.Line2D at 0x21a32faddc0>,\n",
       " <matplotlib.lines.Line2D at 0x21a32fadeb0>,\n",
       " <matplotlib.lines.Line2D at 0x21a32fadfa0>,\n",
       " <matplotlib.lines.Line2D at 0x21a32fb40d0>,\n",
       " <matplotlib.lines.Line2D at 0x21a32fb41c0>,\n",
       " <matplotlib.lines.Line2D at 0x21a32fb42b0>,\n",
       " <matplotlib.lines.Line2D at 0x21a32fb43a0>,\n",
       " <matplotlib.lines.Line2D at 0x21a32fb4490>,\n",
       " <matplotlib.lines.Line2D at 0x21a32fb4580>,\n",
       " <matplotlib.lines.Line2D at 0x21a32fb4670>,\n",
       " <matplotlib.lines.Line2D at 0x21a32fb4760>,\n",
       " <matplotlib.lines.Line2D at 0x21a32fb4850>,\n",
       " <matplotlib.lines.Line2D at 0x21a32fb4940>,\n",
       " <matplotlib.lines.Line2D at 0x21a32fb4a30>,\n",
       " <matplotlib.lines.Line2D at 0x21a32fb4b20>,\n",
       " <matplotlib.lines.Line2D at 0x21a32fb4c10>,\n",
       " <matplotlib.lines.Line2D at 0x21a32fb4d00>,\n",
       " <matplotlib.lines.Line2D at 0x21a32fb4df0>,\n",
       " <matplotlib.lines.Line2D at 0x21a32fb4ee0>,\n",
       " <matplotlib.lines.Line2D at 0x21a32fb4fd0>,\n",
       " <matplotlib.lines.Line2D at 0x21a32fbc100>,\n",
       " <matplotlib.lines.Line2D at 0x21a32fbc1f0>,\n",
       " <matplotlib.lines.Line2D at 0x21a32fbc2e0>,\n",
       " <matplotlib.lines.Line2D at 0x21a32fbc3d0>,\n",
       " <matplotlib.lines.Line2D at 0x21a32fbc4c0>,\n",
       " <matplotlib.lines.Line2D at 0x21a32fbc5b0>,\n",
       " <matplotlib.lines.Line2D at 0x21a32fbc6a0>,\n",
       " <matplotlib.lines.Line2D at 0x21a32fbc790>,\n",
       " <matplotlib.lines.Line2D at 0x21a32fbc880>,\n",
       " <matplotlib.lines.Line2D at 0x21a32fbc970>,\n",
       " <matplotlib.lines.Line2D at 0x21a32fbca60>,\n",
       " <matplotlib.lines.Line2D at 0x21a32fbcb50>,\n",
       " <matplotlib.lines.Line2D at 0x21a32fbcc40>,\n",
       " <matplotlib.lines.Line2D at 0x21a32fbcd30>,\n",
       " <matplotlib.lines.Line2D at 0x21a32fbce20>,\n",
       " <matplotlib.lines.Line2D at 0x21a32fbcf10>,\n",
       " <matplotlib.lines.Line2D at 0x21a32e44040>,\n",
       " <matplotlib.lines.Line2D at 0x21a32e44130>,\n",
       " <matplotlib.lines.Line2D at 0x21a32e44220>,\n",
       " <matplotlib.lines.Line2D at 0x21a32e44310>,\n",
       " <matplotlib.lines.Line2D at 0x21a32e44400>,\n",
       " <matplotlib.lines.Line2D at 0x21a32e444f0>,\n",
       " <matplotlib.lines.Line2D at 0x21a32e445e0>,\n",
       " <matplotlib.lines.Line2D at 0x21a32e446d0>,\n",
       " <matplotlib.lines.Line2D at 0x21a32e447c0>,\n",
       " <matplotlib.lines.Line2D at 0x21a32e448b0>,\n",
       " <matplotlib.lines.Line2D at 0x21a32e449a0>,\n",
       " <matplotlib.lines.Line2D at 0x21a32e44a90>,\n",
       " <matplotlib.lines.Line2D at 0x21a32e44b80>,\n",
       " <matplotlib.lines.Line2D at 0x21a32e44c70>,\n",
       " <matplotlib.lines.Line2D at 0x21a32e44d60>,\n",
       " <matplotlib.lines.Line2D at 0x21a32e44e50>,\n",
       " <matplotlib.lines.Line2D at 0x21a32e44f40>,\n",
       " <matplotlib.lines.Line2D at 0x21a32e4c070>,\n",
       " <matplotlib.lines.Line2D at 0x21a32e4c160>,\n",
       " <matplotlib.lines.Line2D at 0x21a32e4c250>,\n",
       " <matplotlib.lines.Line2D at 0x21a32e4c340>,\n",
       " <matplotlib.lines.Line2D at 0x21a32e4c430>,\n",
       " <matplotlib.lines.Line2D at 0x21a32e4c520>,\n",
       " <matplotlib.lines.Line2D at 0x21a32e4c610>,\n",
       " <matplotlib.lines.Line2D at 0x21a32e4c700>,\n",
       " <matplotlib.lines.Line2D at 0x21a32e4c7f0>,\n",
       " <matplotlib.lines.Line2D at 0x21a32e4c8e0>,\n",
       " <matplotlib.lines.Line2D at 0x21a32e4c9d0>,\n",
       " <matplotlib.lines.Line2D at 0x21a32e4cac0>,\n",
       " <matplotlib.lines.Line2D at 0x21a32e4cbb0>,\n",
       " <matplotlib.lines.Line2D at 0x21a32e4cca0>,\n",
       " <matplotlib.lines.Line2D at 0x21a32e4cd90>,\n",
       " <matplotlib.lines.Line2D at 0x21a32e4ce80>,\n",
       " <matplotlib.lines.Line2D at 0x21a32e4cf70>,\n",
       " <matplotlib.lines.Line2D at 0x21a32e530a0>,\n",
       " <matplotlib.lines.Line2D at 0x21a32e53190>,\n",
       " <matplotlib.lines.Line2D at 0x21a32e53280>,\n",
       " <matplotlib.lines.Line2D at 0x21a32e53370>,\n",
       " <matplotlib.lines.Line2D at 0x21a32e53460>,\n",
       " <matplotlib.lines.Line2D at 0x21a32e53550>,\n",
       " <matplotlib.lines.Line2D at 0x21a32e53640>,\n",
       " <matplotlib.lines.Line2D at 0x21a32e53730>,\n",
       " <matplotlib.lines.Line2D at 0x21a32e53820>,\n",
       " <matplotlib.lines.Line2D at 0x21a32e53910>,\n",
       " <matplotlib.lines.Line2D at 0x21a32e53a00>,\n",
       " <matplotlib.lines.Line2D at 0x21a32e53af0>,\n",
       " <matplotlib.lines.Line2D at 0x21a32e53be0>,\n",
       " <matplotlib.lines.Line2D at 0x21a32e53cd0>,\n",
       " <matplotlib.lines.Line2D at 0x21a32e53dc0>,\n",
       " <matplotlib.lines.Line2D at 0x21a32e53eb0>,\n",
       " <matplotlib.lines.Line2D at 0x21a32e53fa0>,\n",
       " <matplotlib.lines.Line2D at 0x21a32e5a0d0>,\n",
       " <matplotlib.lines.Line2D at 0x21a32e5a1c0>,\n",
       " <matplotlib.lines.Line2D at 0x21a32e5a2b0>,\n",
       " <matplotlib.lines.Line2D at 0x21a32e5a3a0>,\n",
       " <matplotlib.lines.Line2D at 0x21a32e5a490>,\n",
       " <matplotlib.lines.Line2D at 0x21a32e5a580>,\n",
       " <matplotlib.lines.Line2D at 0x21a32e5a670>,\n",
       " <matplotlib.lines.Line2D at 0x21a32e5a760>,\n",
       " <matplotlib.lines.Line2D at 0x21a32e5a850>,\n",
       " <matplotlib.lines.Line2D at 0x21a32e5a940>,\n",
       " <matplotlib.lines.Line2D at 0x21a32e5aa30>,\n",
       " <matplotlib.lines.Line2D at 0x21a32e5ab20>,\n",
       " <matplotlib.lines.Line2D at 0x21a32e5ac10>,\n",
       " <matplotlib.lines.Line2D at 0x21a32e5ad00>,\n",
       " <matplotlib.lines.Line2D at 0x21a32e5adf0>,\n",
       " <matplotlib.lines.Line2D at 0x21a32e5aee0>,\n",
       " <matplotlib.lines.Line2D at 0x21a32e5afd0>,\n",
       " <matplotlib.lines.Line2D at 0x21a32e62100>,\n",
       " <matplotlib.lines.Line2D at 0x21a32e621f0>,\n",
       " <matplotlib.lines.Line2D at 0x21a32e622e0>,\n",
       " <matplotlib.lines.Line2D at 0x21a32e623d0>,\n",
       " <matplotlib.lines.Line2D at 0x21a32e624c0>,\n",
       " <matplotlib.lines.Line2D at 0x21a32e625b0>,\n",
       " <matplotlib.lines.Line2D at 0x21a32e626a0>,\n",
       " <matplotlib.lines.Line2D at 0x21a32e62790>,\n",
       " <matplotlib.lines.Line2D at 0x21a32e62880>,\n",
       " <matplotlib.lines.Line2D at 0x21a32e62970>,\n",
       " <matplotlib.lines.Line2D at 0x21a32e62a60>,\n",
       " <matplotlib.lines.Line2D at 0x21a32e62b50>,\n",
       " <matplotlib.lines.Line2D at 0x21a32e62c40>,\n",
       " <matplotlib.lines.Line2D at 0x21a32e62d30>,\n",
       " <matplotlib.lines.Line2D at 0x21a32e62e20>,\n",
       " <matplotlib.lines.Line2D at 0x21a32e62f10>,\n",
       " <matplotlib.lines.Line2D at 0x21a32e69040>,\n",
       " <matplotlib.lines.Line2D at 0x21a32e69130>,\n",
       " <matplotlib.lines.Line2D at 0x21a32e69220>,\n",
       " <matplotlib.lines.Line2D at 0x21a32e69310>,\n",
       " <matplotlib.lines.Line2D at 0x21a32e69400>,\n",
       " <matplotlib.lines.Line2D at 0x21a32e694f0>,\n",
       " <matplotlib.lines.Line2D at 0x21a32e695e0>,\n",
       " <matplotlib.lines.Line2D at 0x21a32e696d0>,\n",
       " <matplotlib.lines.Line2D at 0x21a32e697c0>,\n",
       " <matplotlib.lines.Line2D at 0x21a32e698b0>,\n",
       " <matplotlib.lines.Line2D at 0x21a32e699a0>,\n",
       " <matplotlib.lines.Line2D at 0x21a32e69a90>,\n",
       " <matplotlib.lines.Line2D at 0x21a32e69b80>,\n",
       " <matplotlib.lines.Line2D at 0x21a32e69c70>,\n",
       " <matplotlib.lines.Line2D at 0x21a32e69d60>,\n",
       " <matplotlib.lines.Line2D at 0x21a32e69e50>,\n",
       " <matplotlib.lines.Line2D at 0x21a32e69f40>,\n",
       " <matplotlib.lines.Line2D at 0x21a32e72070>,\n",
       " <matplotlib.lines.Line2D at 0x21a32e72160>,\n",
       " <matplotlib.lines.Line2D at 0x21a32e72250>,\n",
       " <matplotlib.lines.Line2D at 0x21a32e72340>,\n",
       " <matplotlib.lines.Line2D at 0x21a32e72430>,\n",
       " <matplotlib.lines.Line2D at 0x21a32e72520>,\n",
       " <matplotlib.lines.Line2D at 0x21a32e72610>,\n",
       " <matplotlib.lines.Line2D at 0x21a32e72700>,\n",
       " <matplotlib.lines.Line2D at 0x21a32e727f0>,\n",
       " <matplotlib.lines.Line2D at 0x21a32e728e0>,\n",
       " <matplotlib.lines.Line2D at 0x21a32e729d0>,\n",
       " <matplotlib.lines.Line2D at 0x21a32e72ac0>,\n",
       " <matplotlib.lines.Line2D at 0x21a32e72bb0>,\n",
       " <matplotlib.lines.Line2D at 0x21a32e72ca0>,\n",
       " <matplotlib.lines.Line2D at 0x21a32e72d90>,\n",
       " <matplotlib.lines.Line2D at 0x21a32e72e80>,\n",
       " <matplotlib.lines.Line2D at 0x21a32e72f70>,\n",
       " <matplotlib.lines.Line2D at 0x21a32e770a0>,\n",
       " <matplotlib.lines.Line2D at 0x21a32e77190>,\n",
       " <matplotlib.lines.Line2D at 0x21a32e77280>,\n",
       " <matplotlib.lines.Line2D at 0x21a32e77370>,\n",
       " <matplotlib.lines.Line2D at 0x21a32e77460>,\n",
       " <matplotlib.lines.Line2D at 0x21a32e77550>,\n",
       " <matplotlib.lines.Line2D at 0x21a32e77640>,\n",
       " <matplotlib.lines.Line2D at 0x21a32e77730>,\n",
       " <matplotlib.lines.Line2D at 0x21a32e77820>,\n",
       " <matplotlib.lines.Line2D at 0x21a32e77910>,\n",
       " <matplotlib.lines.Line2D at 0x21a32e77a00>,\n",
       " <matplotlib.lines.Line2D at 0x21a32e77af0>,\n",
       " <matplotlib.lines.Line2D at 0x21a32e77be0>,\n",
       " <matplotlib.lines.Line2D at 0x21a32e77cd0>,\n",
       " <matplotlib.lines.Line2D at 0x21a32e77dc0>,\n",
       " <matplotlib.lines.Line2D at 0x21a32e77eb0>,\n",
       " <matplotlib.lines.Line2D at 0x21a32e77fa0>,\n",
       " <matplotlib.lines.Line2D at 0x21a32e7f0d0>,\n",
       " <matplotlib.lines.Line2D at 0x21a32e7f1c0>,\n",
       " <matplotlib.lines.Line2D at 0x21a32e7f2b0>,\n",
       " <matplotlib.lines.Line2D at 0x21a32e7f3a0>,\n",
       " <matplotlib.lines.Line2D at 0x21a32e7f490>,\n",
       " <matplotlib.lines.Line2D at 0x21a32e7f580>,\n",
       " <matplotlib.lines.Line2D at 0x21a32e7f670>,\n",
       " <matplotlib.lines.Line2D at 0x21a32e7f760>,\n",
       " <matplotlib.lines.Line2D at 0x21a32e7f850>,\n",
       " <matplotlib.lines.Line2D at 0x21a32e7f940>,\n",
       " <matplotlib.lines.Line2D at 0x21a32e7fa30>,\n",
       " <matplotlib.lines.Line2D at 0x21a32e7fb20>,\n",
       " <matplotlib.lines.Line2D at 0x21a32e7fc10>,\n",
       " <matplotlib.lines.Line2D at 0x21a32e7fd00>,\n",
       " <matplotlib.lines.Line2D at 0x21a32e7fdf0>,\n",
       " <matplotlib.lines.Line2D at 0x21a32e7fee0>,\n",
       " <matplotlib.lines.Line2D at 0x21a32e7ffd0>,\n",
       " <matplotlib.lines.Line2D at 0x21a32e87100>,\n",
       " <matplotlib.lines.Line2D at 0x21a32e871f0>,\n",
       " <matplotlib.lines.Line2D at 0x21a32e872e0>,\n",
       " <matplotlib.lines.Line2D at 0x21a32e873d0>,\n",
       " <matplotlib.lines.Line2D at 0x21a32e874c0>,\n",
       " <matplotlib.lines.Line2D at 0x21a32e875b0>,\n",
       " <matplotlib.lines.Line2D at 0x21a32e876a0>,\n",
       " <matplotlib.lines.Line2D at 0x21a32e87790>,\n",
       " <matplotlib.lines.Line2D at 0x21a32e87880>,\n",
       " <matplotlib.lines.Line2D at 0x21a32e87970>,\n",
       " <matplotlib.lines.Line2D at 0x21a32e87a60>,\n",
       " <matplotlib.lines.Line2D at 0x21a32e87b50>,\n",
       " <matplotlib.lines.Line2D at 0x21a32e87c40>,\n",
       " <matplotlib.lines.Line2D at 0x21a32e87d30>,\n",
       " <matplotlib.lines.Line2D at 0x21a32e87e20>,\n",
       " <matplotlib.lines.Line2D at 0x21a32e87f10>,\n",
       " <matplotlib.lines.Line2D at 0x21a32e8f040>,\n",
       " <matplotlib.lines.Line2D at 0x21a32e8f130>,\n",
       " <matplotlib.lines.Line2D at 0x21a32e8f220>,\n",
       " <matplotlib.lines.Line2D at 0x21a32e8f310>,\n",
       " <matplotlib.lines.Line2D at 0x21a32e8f400>,\n",
       " <matplotlib.lines.Line2D at 0x21a32e8f4f0>,\n",
       " <matplotlib.lines.Line2D at 0x21a32e8f5e0>,\n",
       " <matplotlib.lines.Line2D at 0x21a32e8f6d0>,\n",
       " <matplotlib.lines.Line2D at 0x21a32e8f7c0>,\n",
       " <matplotlib.lines.Line2D at 0x21a32e8f8b0>,\n",
       " <matplotlib.lines.Line2D at 0x21a32e8f9a0>,\n",
       " <matplotlib.lines.Line2D at 0x21a32e8fa90>,\n",
       " <matplotlib.lines.Line2D at 0x21a32e8fb80>,\n",
       " <matplotlib.lines.Line2D at 0x21a32e8fc70>,\n",
       " <matplotlib.lines.Line2D at 0x21a32e8fd60>,\n",
       " <matplotlib.lines.Line2D at 0x21a32e8fe50>,\n",
       " <matplotlib.lines.Line2D at 0x21a32e8ff40>,\n",
       " <matplotlib.lines.Line2D at 0x21a32e96070>,\n",
       " <matplotlib.lines.Line2D at 0x21a32e96160>,\n",
       " <matplotlib.lines.Line2D at 0x21a32e96250>,\n",
       " <matplotlib.lines.Line2D at 0x21a32e96340>,\n",
       " <matplotlib.lines.Line2D at 0x21a32e96430>,\n",
       " <matplotlib.lines.Line2D at 0x21a32e96520>,\n",
       " <matplotlib.lines.Line2D at 0x21a32e96610>,\n",
       " <matplotlib.lines.Line2D at 0x21a32e96700>,\n",
       " <matplotlib.lines.Line2D at 0x21a32e967f0>,\n",
       " <matplotlib.lines.Line2D at 0x21a32e968e0>,\n",
       " <matplotlib.lines.Line2D at 0x21a32e969d0>,\n",
       " <matplotlib.lines.Line2D at 0x21a32e96ac0>,\n",
       " <matplotlib.lines.Line2D at 0x21a32e96bb0>,\n",
       " <matplotlib.lines.Line2D at 0x21a32e96ca0>,\n",
       " <matplotlib.lines.Line2D at 0x21a32e96d90>,\n",
       " <matplotlib.lines.Line2D at 0x21a32e96e80>,\n",
       " <matplotlib.lines.Line2D at 0x21a32e96f70>,\n",
       " <matplotlib.lines.Line2D at 0x21a32e9e0a0>,\n",
       " <matplotlib.lines.Line2D at 0x21a32e9e190>,\n",
       " <matplotlib.lines.Line2D at 0x21a32e9e280>,\n",
       " <matplotlib.lines.Line2D at 0x21a32e9e370>,\n",
       " <matplotlib.lines.Line2D at 0x21a32e9e460>,\n",
       " <matplotlib.lines.Line2D at 0x21a32e9e550>,\n",
       " <matplotlib.lines.Line2D at 0x21a32e9e640>,\n",
       " <matplotlib.lines.Line2D at 0x21a32e9e730>,\n",
       " <matplotlib.lines.Line2D at 0x21a32e9e820>,\n",
       " <matplotlib.lines.Line2D at 0x21a32e9e910>,\n",
       " <matplotlib.lines.Line2D at 0x21a32e9ea00>,\n",
       " <matplotlib.lines.Line2D at 0x21a32e9eaf0>,\n",
       " <matplotlib.lines.Line2D at 0x21a32e9ebe0>,\n",
       " <matplotlib.lines.Line2D at 0x21a32e9ecd0>,\n",
       " <matplotlib.lines.Line2D at 0x21a32e9edc0>,\n",
       " <matplotlib.lines.Line2D at 0x21a32e9eeb0>,\n",
       " <matplotlib.lines.Line2D at 0x21a32e9efa0>,\n",
       " <matplotlib.lines.Line2D at 0x21a32ea50d0>,\n",
       " <matplotlib.lines.Line2D at 0x21a32ea51c0>,\n",
       " <matplotlib.lines.Line2D at 0x21a32ea52b0>,\n",
       " <matplotlib.lines.Line2D at 0x21a32ea53a0>,\n",
       " <matplotlib.lines.Line2D at 0x21a32ea5490>,\n",
       " <matplotlib.lines.Line2D at 0x21a32ea5580>,\n",
       " <matplotlib.lines.Line2D at 0x21a32ea5670>,\n",
       " <matplotlib.lines.Line2D at 0x21a32ea5760>,\n",
       " <matplotlib.lines.Line2D at 0x21a32ea5850>,\n",
       " <matplotlib.lines.Line2D at 0x21a32ea5940>,\n",
       " <matplotlib.lines.Line2D at 0x21a32ea5a30>,\n",
       " <matplotlib.lines.Line2D at 0x21a32ea5b20>,\n",
       " <matplotlib.lines.Line2D at 0x21a32ea5c10>,\n",
       " <matplotlib.lines.Line2D at 0x21a32ea5d00>,\n",
       " <matplotlib.lines.Line2D at 0x21a32ea5df0>,\n",
       " <matplotlib.lines.Line2D at 0x21a32ea5ee0>,\n",
       " <matplotlib.lines.Line2D at 0x21a32ea5fd0>,\n",
       " <matplotlib.lines.Line2D at 0x21a32eac100>,\n",
       " <matplotlib.lines.Line2D at 0x21a32eac1f0>,\n",
       " <matplotlib.lines.Line2D at 0x21a32eac2e0>,\n",
       " <matplotlib.lines.Line2D at 0x21a32eac3d0>,\n",
       " <matplotlib.lines.Line2D at 0x21a32eac4c0>,\n",
       " <matplotlib.lines.Line2D at 0x21a32eac5b0>,\n",
       " <matplotlib.lines.Line2D at 0x21a32eac6a0>,\n",
       " <matplotlib.lines.Line2D at 0x21a32eac790>,\n",
       " <matplotlib.lines.Line2D at 0x21a32eac880>,\n",
       " <matplotlib.lines.Line2D at 0x21a32eac970>,\n",
       " <matplotlib.lines.Line2D at 0x21a32eaca60>,\n",
       " <matplotlib.lines.Line2D at 0x21a32eacb50>,\n",
       " <matplotlib.lines.Line2D at 0x21a32eacc40>,\n",
       " <matplotlib.lines.Line2D at 0x21a32eacd30>,\n",
       " <matplotlib.lines.Line2D at 0x21a32eace20>,\n",
       " <matplotlib.lines.Line2D at 0x21a32eacf10>,\n",
       " <matplotlib.lines.Line2D at 0x21a32eb4040>,\n",
       " <matplotlib.lines.Line2D at 0x21a32eb4130>,\n",
       " <matplotlib.lines.Line2D at 0x21a32eb4220>,\n",
       " <matplotlib.lines.Line2D at 0x21a32eb4310>,\n",
       " <matplotlib.lines.Line2D at 0x21a32eb4400>,\n",
       " <matplotlib.lines.Line2D at 0x21a32eb44f0>,\n",
       " <matplotlib.lines.Line2D at 0x21a32eb45e0>,\n",
       " <matplotlib.lines.Line2D at 0x21a32eb46d0>,\n",
       " <matplotlib.lines.Line2D at 0x21a32eb47c0>,\n",
       " <matplotlib.lines.Line2D at 0x21a32eb48b0>,\n",
       " <matplotlib.lines.Line2D at 0x21a32eb49a0>,\n",
       " <matplotlib.lines.Line2D at 0x21a32eb4a90>,\n",
       " <matplotlib.lines.Line2D at 0x21a32eb4b80>,\n",
       " <matplotlib.lines.Line2D at 0x21a32eb4c70>,\n",
       " <matplotlib.lines.Line2D at 0x21a32eb4d60>,\n",
       " <matplotlib.lines.Line2D at 0x21a32eb4e50>,\n",
       " <matplotlib.lines.Line2D at 0x21a32eb4f40>,\n",
       " <matplotlib.lines.Line2D at 0x21a32ebc070>,\n",
       " <matplotlib.lines.Line2D at 0x21a32ebc160>,\n",
       " <matplotlib.lines.Line2D at 0x21a32ebc250>,\n",
       " <matplotlib.lines.Line2D at 0x21a32ebc340>,\n",
       " <matplotlib.lines.Line2D at 0x21a32ebc430>,\n",
       " <matplotlib.lines.Line2D at 0x21a32ebc520>,\n",
       " <matplotlib.lines.Line2D at 0x21a32ebc610>,\n",
       " <matplotlib.lines.Line2D at 0x21a32ebc700>,\n",
       " <matplotlib.lines.Line2D at 0x21a32ebc7f0>,\n",
       " <matplotlib.lines.Line2D at 0x21a32ebc8e0>,\n",
       " <matplotlib.lines.Line2D at 0x21a32ebc9d0>,\n",
       " <matplotlib.lines.Line2D at 0x21a32f8b400>,\n",
       " <matplotlib.lines.Line2D at 0x21a32ebcac0>,\n",
       " <matplotlib.lines.Line2D at 0x21a32ebcbb0>,\n",
       " <matplotlib.lines.Line2D at 0x21a32ebcd00>,\n",
       " <matplotlib.lines.Line2D at 0x21a32ebcdf0>,\n",
       " <matplotlib.lines.Line2D at 0x21a32ebcee0>,\n",
       " <matplotlib.lines.Line2D at 0x21a32ebcfd0>,\n",
       " <matplotlib.lines.Line2D at 0x21a32ec3100>,\n",
       " <matplotlib.lines.Line2D at 0x21a32ec31f0>,\n",
       " <matplotlib.lines.Line2D at 0x21a32ec32e0>,\n",
       " <matplotlib.lines.Line2D at 0x21a32ec33d0>,\n",
       " <matplotlib.lines.Line2D at 0x21a32ec34c0>,\n",
       " <matplotlib.lines.Line2D at 0x21a32ec35b0>,\n",
       " <matplotlib.lines.Line2D at 0x21a32ec36a0>,\n",
       " <matplotlib.lines.Line2D at 0x21a32ec3790>,\n",
       " <matplotlib.lines.Line2D at 0x21a32ec3880>,\n",
       " <matplotlib.lines.Line2D at 0x21a32ec3970>,\n",
       " <matplotlib.lines.Line2D at 0x21a32ec3a60>,\n",
       " <matplotlib.lines.Line2D at 0x21a32ec3b50>,\n",
       " <matplotlib.lines.Line2D at 0x21a32ec3c40>,\n",
       " <matplotlib.lines.Line2D at 0x21a32ec3d30>,\n",
       " <matplotlib.lines.Line2D at 0x21a32ec3e20>,\n",
       " <matplotlib.lines.Line2D at 0x21a32ec3f10>,\n",
       " <matplotlib.lines.Line2D at 0x21a32eca040>,\n",
       " <matplotlib.lines.Line2D at 0x21a32eca130>,\n",
       " <matplotlib.lines.Line2D at 0x21a32eca220>,\n",
       " <matplotlib.lines.Line2D at 0x21a32eca310>,\n",
       " <matplotlib.lines.Line2D at 0x21a32eca400>,\n",
       " <matplotlib.lines.Line2D at 0x21a32eca4f0>,\n",
       " <matplotlib.lines.Line2D at 0x21a32eca5e0>,\n",
       " <matplotlib.lines.Line2D at 0x21a32eca6d0>,\n",
       " <matplotlib.lines.Line2D at 0x21a32eca7c0>,\n",
       " <matplotlib.lines.Line2D at 0x21a32eca8b0>,\n",
       " <matplotlib.lines.Line2D at 0x21a32eca9a0>,\n",
       " <matplotlib.lines.Line2D at 0x21a32ecaa90>,\n",
       " <matplotlib.lines.Line2D at 0x21a32ecab80>,\n",
       " <matplotlib.lines.Line2D at 0x21a32ecac70>,\n",
       " <matplotlib.lines.Line2D at 0x21a32ecad60>,\n",
       " <matplotlib.lines.Line2D at 0x21a32ecae50>,\n",
       " <matplotlib.lines.Line2D at 0x21a32ecaf40>,\n",
       " <matplotlib.lines.Line2D at 0x21a32ed2070>,\n",
       " <matplotlib.lines.Line2D at 0x21a32ed2160>,\n",
       " <matplotlib.lines.Line2D at 0x21a32ed2250>,\n",
       " <matplotlib.lines.Line2D at 0x21a32ed2340>,\n",
       " <matplotlib.lines.Line2D at 0x21a32ed2430>,\n",
       " <matplotlib.lines.Line2D at 0x21a32ed2520>,\n",
       " <matplotlib.lines.Line2D at 0x21a32ed2610>,\n",
       " <matplotlib.lines.Line2D at 0x21a32ed2700>,\n",
       " <matplotlib.lines.Line2D at 0x21a32ed27f0>,\n",
       " <matplotlib.lines.Line2D at 0x21a32ed28e0>,\n",
       " <matplotlib.lines.Line2D at 0x21a32ed29d0>,\n",
       " <matplotlib.lines.Line2D at 0x21a32ed2ac0>,\n",
       " <matplotlib.lines.Line2D at 0x21a32ed2bb0>,\n",
       " <matplotlib.lines.Line2D at 0x21a32ed2ca0>,\n",
       " <matplotlib.lines.Line2D at 0x21a32ed2d90>,\n",
       " <matplotlib.lines.Line2D at 0x21a32ed2e80>,\n",
       " <matplotlib.lines.Line2D at 0x21a32ed2f70>,\n",
       " <matplotlib.lines.Line2D at 0x21a32ed90a0>,\n",
       " <matplotlib.lines.Line2D at 0x21a32ed9190>,\n",
       " <matplotlib.lines.Line2D at 0x21a32ed9280>,\n",
       " <matplotlib.lines.Line2D at 0x21a32ed9370>,\n",
       " <matplotlib.lines.Line2D at 0x21a32ed9460>,\n",
       " <matplotlib.lines.Line2D at 0x21a32ed9550>,\n",
       " <matplotlib.lines.Line2D at 0x21a32ed9640>,\n",
       " <matplotlib.lines.Line2D at 0x21a32ed9730>,\n",
       " <matplotlib.lines.Line2D at 0x21a32ed9820>,\n",
       " <matplotlib.lines.Line2D at 0x21a32ed9910>,\n",
       " <matplotlib.lines.Line2D at 0x21a32ed9a00>,\n",
       " <matplotlib.lines.Line2D at 0x21a32ed9af0>,\n",
       " <matplotlib.lines.Line2D at 0x21a32ed9be0>,\n",
       " <matplotlib.lines.Line2D at 0x21a32ed9cd0>,\n",
       " <matplotlib.lines.Line2D at 0x21a32ed9dc0>,\n",
       " <matplotlib.lines.Line2D at 0x21a32ed9eb0>,\n",
       " <matplotlib.lines.Line2D at 0x21a32ed9fa0>,\n",
       " <matplotlib.lines.Line2D at 0x21a32ee10d0>,\n",
       " <matplotlib.lines.Line2D at 0x21a32ee11c0>,\n",
       " <matplotlib.lines.Line2D at 0x21a32ee12b0>,\n",
       " <matplotlib.lines.Line2D at 0x21a32ee13a0>,\n",
       " <matplotlib.lines.Line2D at 0x21a32ee1490>,\n",
       " <matplotlib.lines.Line2D at 0x21a32ee1580>,\n",
       " <matplotlib.lines.Line2D at 0x21a32ee1670>,\n",
       " <matplotlib.lines.Line2D at 0x21a32ee1760>,\n",
       " <matplotlib.lines.Line2D at 0x21a32ee1850>,\n",
       " <matplotlib.lines.Line2D at 0x21a32ee1940>,\n",
       " <matplotlib.lines.Line2D at 0x21a32ee1a30>,\n",
       " <matplotlib.lines.Line2D at 0x21a32ee1b20>,\n",
       " <matplotlib.lines.Line2D at 0x21a32ee1c10>,\n",
       " <matplotlib.lines.Line2D at 0x21a32ee1d00>,\n",
       " <matplotlib.lines.Line2D at 0x21a32ee1df0>,\n",
       " <matplotlib.lines.Line2D at 0x21a32ee1ee0>,\n",
       " <matplotlib.lines.Line2D at 0x21a32ee1fd0>,\n",
       " <matplotlib.lines.Line2D at 0x21a32ee7100>,\n",
       " <matplotlib.lines.Line2D at 0x21a32ee71f0>,\n",
       " <matplotlib.lines.Line2D at 0x21a32ee72e0>,\n",
       " <matplotlib.lines.Line2D at 0x21a32ee73d0>,\n",
       " <matplotlib.lines.Line2D at 0x21a32ee74c0>,\n",
       " <matplotlib.lines.Line2D at 0x21a32ee75b0>,\n",
       " <matplotlib.lines.Line2D at 0x21a32ee76a0>,\n",
       " <matplotlib.lines.Line2D at 0x21a32ee7790>,\n",
       " <matplotlib.lines.Line2D at 0x21a32ee7880>,\n",
       " <matplotlib.lines.Line2D at 0x21a32ee7970>,\n",
       " <matplotlib.lines.Line2D at 0x21a32ee7a60>,\n",
       " <matplotlib.lines.Line2D at 0x21a32ee7b50>,\n",
       " <matplotlib.lines.Line2D at 0x21a32ee7c40>,\n",
       " <matplotlib.lines.Line2D at 0x21a32ee7d30>,\n",
       " <matplotlib.lines.Line2D at 0x21a32ee7e20>,\n",
       " <matplotlib.lines.Line2D at 0x21a32ee7f10>,\n",
       " <matplotlib.lines.Line2D at 0x21a32eef040>,\n",
       " <matplotlib.lines.Line2D at 0x21a32eef130>,\n",
       " <matplotlib.lines.Line2D at 0x21a32eef220>,\n",
       " <matplotlib.lines.Line2D at 0x21a32eef310>,\n",
       " <matplotlib.lines.Line2D at 0x21a32eef400>,\n",
       " <matplotlib.lines.Line2D at 0x21a32eef4f0>,\n",
       " <matplotlib.lines.Line2D at 0x21a32eef5e0>,\n",
       " <matplotlib.lines.Line2D at 0x21a32eef6d0>,\n",
       " <matplotlib.lines.Line2D at 0x21a32eef7c0>,\n",
       " <matplotlib.lines.Line2D at 0x21a32eef8b0>,\n",
       " <matplotlib.lines.Line2D at 0x21a32eef9a0>,\n",
       " <matplotlib.lines.Line2D at 0x21a32eefa90>,\n",
       " <matplotlib.lines.Line2D at 0x21a32eefb80>,\n",
       " <matplotlib.lines.Line2D at 0x21a32eefc70>,\n",
       " <matplotlib.lines.Line2D at 0x21a32eefd60>,\n",
       " <matplotlib.lines.Line2D at 0x21a32eefe50>,\n",
       " <matplotlib.lines.Line2D at 0x21a32eeff40>,\n",
       " <matplotlib.lines.Line2D at 0x21a32ef9070>,\n",
       " <matplotlib.lines.Line2D at 0x21a32ef9160>,\n",
       " <matplotlib.lines.Line2D at 0x21a32ef9250>,\n",
       " <matplotlib.lines.Line2D at 0x21a32ef9340>,\n",
       " <matplotlib.lines.Line2D at 0x21a32ef9430>,\n",
       " <matplotlib.lines.Line2D at 0x21a32ef9520>,\n",
       " <matplotlib.lines.Line2D at 0x21a32ef9610>,\n",
       " <matplotlib.lines.Line2D at 0x21a32ef9700>,\n",
       " <matplotlib.lines.Line2D at 0x21a32ef97f0>,\n",
       " <matplotlib.lines.Line2D at 0x21a32ef98e0>,\n",
       " <matplotlib.lines.Line2D at 0x21a32ef99d0>,\n",
       " <matplotlib.lines.Line2D at 0x21a32ef9ac0>,\n",
       " <matplotlib.lines.Line2D at 0x21a32ef9bb0>,\n",
       " <matplotlib.lines.Line2D at 0x21a32ef9ca0>,\n",
       " <matplotlib.lines.Line2D at 0x21a32ef9d90>,\n",
       " <matplotlib.lines.Line2D at 0x21a32ef9e80>,\n",
       " <matplotlib.lines.Line2D at 0x21a32ef9f70>,\n",
       " <matplotlib.lines.Line2D at 0x21a32eff0a0>,\n",
       " <matplotlib.lines.Line2D at 0x21a32eff190>,\n",
       " <matplotlib.lines.Line2D at 0x21a32eff280>,\n",
       " <matplotlib.lines.Line2D at 0x21a32eff370>,\n",
       " <matplotlib.lines.Line2D at 0x21a32eff460>,\n",
       " <matplotlib.lines.Line2D at 0x21a32eff550>,\n",
       " <matplotlib.lines.Line2D at 0x21a32eff640>,\n",
       " <matplotlib.lines.Line2D at 0x21a32eff730>,\n",
       " <matplotlib.lines.Line2D at 0x21a32eff820>,\n",
       " <matplotlib.lines.Line2D at 0x21a32eff910>,\n",
       " <matplotlib.lines.Line2D at 0x21a32effa00>,\n",
       " <matplotlib.lines.Line2D at 0x21a32effaf0>,\n",
       " <matplotlib.lines.Line2D at 0x21a32effbe0>,\n",
       " <matplotlib.lines.Line2D at 0x21a32effcd0>,\n",
       " <matplotlib.lines.Line2D at 0x21a32effdc0>,\n",
       " <matplotlib.lines.Line2D at 0x21a32effeb0>,\n",
       " <matplotlib.lines.Line2D at 0x21a32efffa0>,\n",
       " <matplotlib.lines.Line2D at 0x21a32f060d0>,\n",
       " <matplotlib.lines.Line2D at 0x21a32f061c0>,\n",
       " <matplotlib.lines.Line2D at 0x21a32f062b0>,\n",
       " <matplotlib.lines.Line2D at 0x21a32f063a0>,\n",
       " <matplotlib.lines.Line2D at 0x21a32f06490>,\n",
       " <matplotlib.lines.Line2D at 0x21a32f06580>,\n",
       " <matplotlib.lines.Line2D at 0x21a32f06670>,\n",
       " <matplotlib.lines.Line2D at 0x21a32f06760>,\n",
       " <matplotlib.lines.Line2D at 0x21a32f06850>,\n",
       " <matplotlib.lines.Line2D at 0x21a32f06940>,\n",
       " <matplotlib.lines.Line2D at 0x21a32f06a30>,\n",
       " <matplotlib.lines.Line2D at 0x21a32f06b20>,\n",
       " <matplotlib.lines.Line2D at 0x21a32f06c10>,\n",
       " <matplotlib.lines.Line2D at 0x21a32f06d00>,\n",
       " <matplotlib.lines.Line2D at 0x21a32f06df0>,\n",
       " <matplotlib.lines.Line2D at 0x21a32f06ee0>,\n",
       " <matplotlib.lines.Line2D at 0x21a32f06fd0>,\n",
       " <matplotlib.lines.Line2D at 0x21a32f0e100>,\n",
       " <matplotlib.lines.Line2D at 0x21a32f0e1f0>,\n",
       " <matplotlib.lines.Line2D at 0x21a32f0e2e0>,\n",
       " <matplotlib.lines.Line2D at 0x21a32f0e3d0>,\n",
       " <matplotlib.lines.Line2D at 0x21a32f0e4c0>,\n",
       " <matplotlib.lines.Line2D at 0x21a32f0e5b0>,\n",
       " <matplotlib.lines.Line2D at 0x21a32f0e6a0>,\n",
       " <matplotlib.lines.Line2D at 0x21a32f0e790>,\n",
       " <matplotlib.lines.Line2D at 0x21a32f0e880>,\n",
       " <matplotlib.lines.Line2D at 0x21a32f0e970>,\n",
       " <matplotlib.lines.Line2D at 0x21a32f0ea60>,\n",
       " <matplotlib.lines.Line2D at 0x21a32f0eb50>,\n",
       " <matplotlib.lines.Line2D at 0x21a32f0ec40>,\n",
       " <matplotlib.lines.Line2D at 0x21a32f0ed30>,\n",
       " <matplotlib.lines.Line2D at 0x21a32f0ee20>,\n",
       " <matplotlib.lines.Line2D at 0x21a32f0ef10>,\n",
       " <matplotlib.lines.Line2D at 0x21a32f15040>,\n",
       " <matplotlib.lines.Line2D at 0x21a32f15130>,\n",
       " <matplotlib.lines.Line2D at 0x21a32f15220>,\n",
       " <matplotlib.lines.Line2D at 0x21a32f15310>,\n",
       " <matplotlib.lines.Line2D at 0x21a32f15400>,\n",
       " <matplotlib.lines.Line2D at 0x21a32f154f0>,\n",
       " <matplotlib.lines.Line2D at 0x21a32f155e0>,\n",
       " <matplotlib.lines.Line2D at 0x21a32f156d0>,\n",
       " <matplotlib.lines.Line2D at 0x21a32f157c0>,\n",
       " <matplotlib.lines.Line2D at 0x21a32f158b0>,\n",
       " <matplotlib.lines.Line2D at 0x21a32f159a0>,\n",
       " <matplotlib.lines.Line2D at 0x21a32f15a90>,\n",
       " <matplotlib.lines.Line2D at 0x21a32f15b80>,\n",
       " <matplotlib.lines.Line2D at 0x21a32f15c70>,\n",
       " <matplotlib.lines.Line2D at 0x21a32f15d60>,\n",
       " <matplotlib.lines.Line2D at 0x21a32f15e50>,\n",
       " <matplotlib.lines.Line2D at 0x21a32f15f40>,\n",
       " <matplotlib.lines.Line2D at 0x21a32f1c070>,\n",
       " <matplotlib.lines.Line2D at 0x21a32f1c160>,\n",
       " <matplotlib.lines.Line2D at 0x21a32f1c250>,\n",
       " <matplotlib.lines.Line2D at 0x21a32f1c340>,\n",
       " <matplotlib.lines.Line2D at 0x21a32f1c430>,\n",
       " <matplotlib.lines.Line2D at 0x21a32f1c520>,\n",
       " <matplotlib.lines.Line2D at 0x21a32f1c610>,\n",
       " <matplotlib.lines.Line2D at 0x21a32f1c700>,\n",
       " <matplotlib.lines.Line2D at 0x21a32f1c7f0>,\n",
       " <matplotlib.lines.Line2D at 0x21a32f1c8e0>,\n",
       " <matplotlib.lines.Line2D at 0x21a32f1c9d0>,\n",
       " <matplotlib.lines.Line2D at 0x21a32f1cac0>,\n",
       " <matplotlib.lines.Line2D at 0x21a32f1cbb0>,\n",
       " <matplotlib.lines.Line2D at 0x21a32f1cca0>,\n",
       " <matplotlib.lines.Line2D at 0x21a32f1cd90>,\n",
       " <matplotlib.lines.Line2D at 0x21a32f1ce80>,\n",
       " <matplotlib.lines.Line2D at 0x21a32f1cf70>,\n",
       " <matplotlib.lines.Line2D at 0x21a32f240a0>,\n",
       " <matplotlib.lines.Line2D at 0x21a32f24190>,\n",
       " <matplotlib.lines.Line2D at 0x21a32f24280>,\n",
       " <matplotlib.lines.Line2D at 0x21a32f24370>,\n",
       " <matplotlib.lines.Line2D at 0x21a32f24460>,\n",
       " <matplotlib.lines.Line2D at 0x21a32f24550>,\n",
       " <matplotlib.lines.Line2D at 0x21a32f24640>,\n",
       " <matplotlib.lines.Line2D at 0x21a32f24730>,\n",
       " <matplotlib.lines.Line2D at 0x21a32f24820>,\n",
       " <matplotlib.lines.Line2D at 0x21a32f24910>,\n",
       " <matplotlib.lines.Line2D at 0x21a32f24a00>,\n",
       " <matplotlib.lines.Line2D at 0x21a32f24af0>,\n",
       " <matplotlib.lines.Line2D at 0x21a32f24be0>,\n",
       " <matplotlib.lines.Line2D at 0x21a32f24cd0>,\n",
       " <matplotlib.lines.Line2D at 0x21a32f24dc0>,\n",
       " <matplotlib.lines.Line2D at 0x21a32f24eb0>,\n",
       " <matplotlib.lines.Line2D at 0x21a32f24fa0>,\n",
       " <matplotlib.lines.Line2D at 0x21a32f2c0d0>,\n",
       " <matplotlib.lines.Line2D at 0x21a32f2c1c0>,\n",
       " <matplotlib.lines.Line2D at 0x21a32f2c2b0>,\n",
       " <matplotlib.lines.Line2D at 0x21a32f2c3a0>,\n",
       " <matplotlib.lines.Line2D at 0x21a32f2c490>,\n",
       " <matplotlib.lines.Line2D at 0x21a32f2c580>,\n",
       " <matplotlib.lines.Line2D at 0x21a32f2c670>,\n",
       " <matplotlib.lines.Line2D at 0x21a32f2c760>,\n",
       " <matplotlib.lines.Line2D at 0x21a32f2c850>,\n",
       " <matplotlib.lines.Line2D at 0x21a32f2c940>,\n",
       " <matplotlib.lines.Line2D at 0x21a32f2ca30>,\n",
       " <matplotlib.lines.Line2D at 0x21a32f2cb20>,\n",
       " <matplotlib.lines.Line2D at 0x21a32f2cc10>,\n",
       " <matplotlib.lines.Line2D at 0x21a32f2cd00>,\n",
       " <matplotlib.lines.Line2D at 0x21a32f2cdf0>,\n",
       " <matplotlib.lines.Line2D at 0x21a32f2cee0>,\n",
       " <matplotlib.lines.Line2D at 0x21a32f2cfd0>,\n",
       " <matplotlib.lines.Line2D at 0x21a32f32100>,\n",
       " <matplotlib.lines.Line2D at 0x21a32f321f0>,\n",
       " <matplotlib.lines.Line2D at 0x21a32f322e0>,\n",
       " <matplotlib.lines.Line2D at 0x21a32f323d0>,\n",
       " <matplotlib.lines.Line2D at 0x21a32f324c0>,\n",
       " <matplotlib.lines.Line2D at 0x21a32f325b0>,\n",
       " <matplotlib.lines.Line2D at 0x21a32f326a0>,\n",
       " <matplotlib.lines.Line2D at 0x21a32f32790>,\n",
       " <matplotlib.lines.Line2D at 0x21a32f32880>,\n",
       " <matplotlib.lines.Line2D at 0x21a32f32970>,\n",
       " <matplotlib.lines.Line2D at 0x21a32f32a60>,\n",
       " <matplotlib.lines.Line2D at 0x21a32f32b50>,\n",
       " <matplotlib.lines.Line2D at 0x21a32f32c40>,\n",
       " <matplotlib.lines.Line2D at 0x21a32f32d30>,\n",
       " <matplotlib.lines.Line2D at 0x21a32f32e20>,\n",
       " <matplotlib.lines.Line2D at 0x21a32f32f10>,\n",
       " <matplotlib.lines.Line2D at 0x21a32f3a040>,\n",
       " <matplotlib.lines.Line2D at 0x21a32f3a130>,\n",
       " <matplotlib.lines.Line2D at 0x21a32f3a220>,\n",
       " <matplotlib.lines.Line2D at 0x21a32f3a310>,\n",
       " <matplotlib.lines.Line2D at 0x21a32f3a400>,\n",
       " <matplotlib.lines.Line2D at 0x21a32f3a4f0>,\n",
       " <matplotlib.lines.Line2D at 0x21a32f3a5e0>,\n",
       " <matplotlib.lines.Line2D at 0x21a32f3a6d0>,\n",
       " <matplotlib.lines.Line2D at 0x21a32f3a7c0>,\n",
       " <matplotlib.lines.Line2D at 0x21a32f3a8b0>,\n",
       " <matplotlib.lines.Line2D at 0x21a32f3a9a0>,\n",
       " <matplotlib.lines.Line2D at 0x21a32f3aa90>,\n",
       " <matplotlib.lines.Line2D at 0x21a32f3ab80>,\n",
       " <matplotlib.lines.Line2D at 0x21a32f3ac70>,\n",
       " <matplotlib.lines.Line2D at 0x21a32f3ad60>,\n",
       " <matplotlib.lines.Line2D at 0x21a32f3ae50>,\n",
       " <matplotlib.lines.Line2D at 0x21a32f3af40>,\n",
       " <matplotlib.lines.Line2D at 0x21a32f42070>,\n",
       " <matplotlib.lines.Line2D at 0x21a32f42160>,\n",
       " <matplotlib.lines.Line2D at 0x21a32f42250>,\n",
       " <matplotlib.lines.Line2D at 0x21a32f42340>,\n",
       " <matplotlib.lines.Line2D at 0x21a32f42430>,\n",
       " <matplotlib.lines.Line2D at 0x21a32f42520>,\n",
       " <matplotlib.lines.Line2D at 0x21a32f42610>,\n",
       " <matplotlib.lines.Line2D at 0x21a32f42700>,\n",
       " <matplotlib.lines.Line2D at 0x21a32f427f0>,\n",
       " <matplotlib.lines.Line2D at 0x21a32f428e0>,\n",
       " <matplotlib.lines.Line2D at 0x21a32f429d0>,\n",
       " <matplotlib.lines.Line2D at 0x21a32f42ac0>,\n",
       " <matplotlib.lines.Line2D at 0x21a32f42bb0>,\n",
       " <matplotlib.lines.Line2D at 0x21a32f42ca0>,\n",
       " <matplotlib.lines.Line2D at 0x21a32f42d90>,\n",
       " <matplotlib.lines.Line2D at 0x21a32f42e80>,\n",
       " <matplotlib.lines.Line2D at 0x21a32f42f70>,\n",
       " <matplotlib.lines.Line2D at 0x21a32f490a0>,\n",
       " <matplotlib.lines.Line2D at 0x21a32f49190>,\n",
       " <matplotlib.lines.Line2D at 0x21a32f49280>,\n",
       " <matplotlib.lines.Line2D at 0x21a32f49370>,\n",
       " <matplotlib.lines.Line2D at 0x21a32f49460>,\n",
       " <matplotlib.lines.Line2D at 0x21a32f49550>,\n",
       " <matplotlib.lines.Line2D at 0x21a32f49640>,\n",
       " <matplotlib.lines.Line2D at 0x21a32f49730>,\n",
       " <matplotlib.lines.Line2D at 0x21a32f49820>,\n",
       " <matplotlib.lines.Line2D at 0x21a32f49910>,\n",
       " <matplotlib.lines.Line2D at 0x21a32f49a00>,\n",
       " <matplotlib.lines.Line2D at 0x21a32f49af0>,\n",
       " <matplotlib.lines.Line2D at 0x21a32f49be0>,\n",
       " <matplotlib.lines.Line2D at 0x21a32f49cd0>,\n",
       " <matplotlib.lines.Line2D at 0x21a32f49dc0>,\n",
       " <matplotlib.lines.Line2D at 0x21a32f49eb0>,\n",
       " <matplotlib.lines.Line2D at 0x21a32f49fa0>,\n",
       " <matplotlib.lines.Line2D at 0x21a32f510d0>,\n",
       " <matplotlib.lines.Line2D at 0x21a32f511c0>,\n",
       " <matplotlib.lines.Line2D at 0x21a32f512b0>,\n",
       " <matplotlib.lines.Line2D at 0x21a32f513a0>,\n",
       " <matplotlib.lines.Line2D at 0x21a32f51490>,\n",
       " <matplotlib.lines.Line2D at 0x21a32f51580>,\n",
       " <matplotlib.lines.Line2D at 0x21a32f51670>,\n",
       " <matplotlib.lines.Line2D at 0x21a32f51760>,\n",
       " <matplotlib.lines.Line2D at 0x21a32f51850>,\n",
       " <matplotlib.lines.Line2D at 0x21a32f51940>,\n",
       " <matplotlib.lines.Line2D at 0x21a32f51a30>,\n",
       " <matplotlib.lines.Line2D at 0x21a32f51b20>,\n",
       " <matplotlib.lines.Line2D at 0x21a32f51c10>,\n",
       " <matplotlib.lines.Line2D at 0x21a32f51d00>,\n",
       " <matplotlib.lines.Line2D at 0x21a32f51df0>,\n",
       " <matplotlib.lines.Line2D at 0x21a32f51ee0>,\n",
       " <matplotlib.lines.Line2D at 0x21a32f51fd0>,\n",
       " <matplotlib.lines.Line2D at 0x21a32f57100>,\n",
       " <matplotlib.lines.Line2D at 0x21a32f571f0>,\n",
       " <matplotlib.lines.Line2D at 0x21a32f572e0>,\n",
       " <matplotlib.lines.Line2D at 0x21a32f573d0>,\n",
       " <matplotlib.lines.Line2D at 0x21a32f574c0>,\n",
       " <matplotlib.lines.Line2D at 0x21a32f575b0>,\n",
       " <matplotlib.lines.Line2D at 0x21a32f576a0>,\n",
       " <matplotlib.lines.Line2D at 0x21a32f57790>,\n",
       " <matplotlib.lines.Line2D at 0x21a32f57880>,\n",
       " <matplotlib.lines.Line2D at 0x21a32f57970>,\n",
       " <matplotlib.lines.Line2D at 0x21a32f57a60>,\n",
       " <matplotlib.lines.Line2D at 0x21a32f57b50>,\n",
       " <matplotlib.lines.Line2D at 0x21a32f57c40>,\n",
       " <matplotlib.lines.Line2D at 0x21a32f57d30>,\n",
       " <matplotlib.lines.Line2D at 0x21a32f57e20>,\n",
       " <matplotlib.lines.Line2D at 0x21a32f57f10>,\n",
       " <matplotlib.lines.Line2D at 0x21a32f5f040>,\n",
       " <matplotlib.lines.Line2D at 0x21a32f5f130>,\n",
       " <matplotlib.lines.Line2D at 0x21a32f5f220>,\n",
       " <matplotlib.lines.Line2D at 0x21a32f5f310>,\n",
       " <matplotlib.lines.Line2D at 0x21a32f5f400>,\n",
       " <matplotlib.lines.Line2D at 0x21a32f5f4f0>,\n",
       " <matplotlib.lines.Line2D at 0x21a32f5f5e0>,\n",
       " <matplotlib.lines.Line2D at 0x21a32f5f6d0>,\n",
       " <matplotlib.lines.Line2D at 0x21a32f5f7c0>,\n",
       " <matplotlib.lines.Line2D at 0x21a32f5f8b0>,\n",
       " <matplotlib.lines.Line2D at 0x21a32f5f9a0>,\n",
       " <matplotlib.lines.Line2D at 0x21a32f5fa90>,\n",
       " <matplotlib.lines.Line2D at 0x21a32f5fb80>,\n",
       " <matplotlib.lines.Line2D at 0x21a32f5fc70>,\n",
       " <matplotlib.lines.Line2D at 0x21a32f5fd60>,\n",
       " <matplotlib.lines.Line2D at 0x21a32f5fe50>,\n",
       " <matplotlib.lines.Line2D at 0x21a32f5ff40>,\n",
       " <matplotlib.lines.Line2D at 0x21a32f69070>,\n",
       " <matplotlib.lines.Line2D at 0x21a32f69160>,\n",
       " <matplotlib.lines.Line2D at 0x21a32f69250>,\n",
       " <matplotlib.lines.Line2D at 0x21a32f69340>,\n",
       " <matplotlib.lines.Line2D at 0x21a32f69430>,\n",
       " <matplotlib.lines.Line2D at 0x21a32f69520>,\n",
       " <matplotlib.lines.Line2D at 0x21a32f69610>,\n",
       " <matplotlib.lines.Line2D at 0x21a32f69700>,\n",
       " <matplotlib.lines.Line2D at 0x21a32f697f0>,\n",
       " <matplotlib.lines.Line2D at 0x21a32f698e0>,\n",
       " <matplotlib.lines.Line2D at 0x21a32f699d0>,\n",
       " <matplotlib.lines.Line2D at 0x21a32f69ac0>,\n",
       " <matplotlib.lines.Line2D at 0x21a32f69bb0>,\n",
       " <matplotlib.lines.Line2D at 0x21a32f69ca0>,\n",
       " <matplotlib.lines.Line2D at 0x21a32f69d90>,\n",
       " <matplotlib.lines.Line2D at 0x21a32f69e80>,\n",
       " <matplotlib.lines.Line2D at 0x21a32f69f70>,\n",
       " <matplotlib.lines.Line2D at 0x21a32f6f0a0>]"
      ]
     },
     "execution_count": 188,
     "metadata": {},
     "output_type": "execute_result"
    },
    {
     "data": {
      "image/png": "[encoded data removed]",
      "text/plain": [
       "<Figure size 640x480 with 1 Axes>"
      ]
     },
     "metadata": {},
     "output_type": "display_data"
    }
   ],
   "source": [
    "plt.scatter(joining[1,1,:])"
   ]
  },
  {
   "cell_type": "code",
   "execution_count": 173,
   "metadata": {},
   "outputs": [
    {
     "data": {
      "text/plain": [
       "array([0., 1., 2., 3., 4., 5., 6.])"
      ]
     },
     "execution_count": 173,
     "metadata": {},
     "output_type": "execute_result"
    }
   ],
   "source": [
    "np.unique(joined_l)"
   ]
  },
  {
   "cell_type": "code",
   "execution_count": null,
   "metadata": {},
   "outputs": [],
   "source": []
  },
  {
   "cell_type": "code",
   "execution_count": 161,
   "metadata": {},
   "outputs": [
    {
     "ename": "MemoryError",
     "evalue": "Unable to allocate 24.8 GiB for an array with shape (817, 2032, 2004) and data type int64",
     "output_type": "error",
     "traceback": [
      "\u001b[1;31m---------------------------------------------------------------------------\u001b[0m",
      "\u001b[1;31mMemoryError\u001b[0m                               Traceback (most recent call last)",
      "\u001b[1;32mi:\\python\\Notebooks\\random_projects_lukas\\xct\\test_raw_read copy.ipynb Zelle 39\u001b[0m line \u001b[0;36m1\n\u001b[1;32m----> <a href='vscode-notebook-cell:/i%3A/python/Notebooks/random_projects_lukas/xct/test_raw_read%20copy.ipynb#Y113sZmlsZQ%3D%3D?line=0'>1</a>\u001b[0m measure\u001b[39m.\u001b[39;49mlabel(img)\n",
      "File \u001b[1;32mc:\\Users\\berners\\AppData\\Local\\Programs\\Python\\Python39\\lib\\site-packages\\skimage\\measure\\_label.py:120\u001b[0m, in \u001b[0;36mlabel\u001b[1;34m(label_image, background, return_num, connectivity)\u001b[0m\n\u001b[0;32m    117\u001b[0m     \u001b[39mreturn\u001b[39;00m _label_bool(label_image, background\u001b[39m=\u001b[39mbackground,\n\u001b[0;32m    118\u001b[0m                        return_num\u001b[39m=\u001b[39mreturn_num, connectivity\u001b[39m=\u001b[39mconnectivity)\n\u001b[0;32m    119\u001b[0m \u001b[39melse\u001b[39;00m:\n\u001b[1;32m--> 120\u001b[0m     \u001b[39mreturn\u001b[39;00m clabel(label_image, background, return_num, connectivity)\n",
      "File \u001b[1;32m_ccomp.pyx:360\u001b[0m, in \u001b[0;36mskimage.measure._ccomp.label_cython\u001b[1;34m()\u001b[0m\n",
      "\u001b[1;31mMemoryError\u001b[0m: Unable to allocate 24.8 GiB for an array with shape (817, 2032, 2004) and data type int64"
     ]
    }
   ],
   "source": [
    "# measure.label(img)"
   ]
  },
  {
   "cell_type": "code",
   "execution_count": 44,
   "metadata": {},
   "outputs": [],
   "source": [
    "sum_img=np.sum(img_bin[:,1:6,:]==False,axis=1)"
   ]
  },
  {
   "cell_type": "code",
   "execution_count": 45,
   "metadata": {},
   "outputs": [
    {
     "data": {
      "text/plain": [
       "(31, 546, 768)"
      ]
     },
     "execution_count": 45,
     "metadata": {},
     "output_type": "execute_result"
    }
   ],
   "source": [
    "img_sel.shape"
   ]
  },
  {
   "cell_type": "code",
   "execution_count": 48,
   "metadata": {},
   "outputs": [
    {
     "data": {
      "text/plain": [
       "<matplotlib.image.AxesImage at 0x21986cfe7f0>"
      ]
     },
     "execution_count": 48,
     "metadata": {},
     "output_type": "execute_result"
    },
    {
     "data": {
      "image/png": "[encoded data removed]",
      "text/plain": [
       "<Figure size 1000x500 with 4 Axes>"
      ]
     },
     "metadata": {},
     "output_type": "display_data"
    }
   ],
   "source": [
    "# sum_img=np.sum(img_sel[1,:,:]==False,axis=1)\n",
    "fig,ax=plt.subplots(2,2,figsize=(10,5),)\n",
    "ax[0,0].imshow(sum_img)\n",
    "ax[0,0].set_xlim(250,500)\n",
    "ax[0,0].set_ylim(250,500)\n",
    "ax[1,0].imshow(img_sel[1,:,:])\n",
    "ax[1,0].set_xlim(250,500)\n",
    "ax[1,0].set_ylim(250,500)\n",
    "ax[0,1].imshow(labels[:,:,1]>0)\n",
    "# ax[0,1].imshow(labels[:,1,:])\n",
    "ax[1,1].imshow(remove_holes[:,:,1])\n",
    "ax[1,1].imshow(remove_holes[:,:,1])"
   ]
  },
  {
   "cell_type": "code",
   "execution_count": 116,
   "metadata": {},
   "outputs": [],
   "source": [
    "import scipy.ndimage\n",
    "tmp = scipy.ndimage.convolve(1-img_sel/1, np.ones((3,1,1)), mode='constant')\n",
    "# out = np.logical_and(tmp >= 3, img_sel).astype(np.float32)\n",
    "out=tmp>=3"
   ]
  },
  {
   "cell_type": "code",
   "execution_count": 94,
   "metadata": {},
   "outputs": [
    {
     "ename": "AttributeError",
     "evalue": "'Axes' object has no attribute 'colorbar'",
     "output_type": "error",
     "traceback": [
      "\u001b[1;31m---------------------------------------------------------------------------\u001b[0m",
      "\u001b[1;31mAttributeError\u001b[0m                            Traceback (most recent call last)",
      "\u001b[1;32mi:\\python\\Notebooks\\random_projects_lukas\\xct\\test_raw_read copy.ipynb Zelle 32\u001b[0m line \u001b[0;36m3\n\u001b[0;32m      <a href='vscode-notebook-cell:/i%3A/python/Notebooks/random_projects_lukas/xct/test_raw_read%20copy.ipynb#X43sZmlsZQ%3D%3D?line=0'>1</a>\u001b[0m fig,ax\u001b[39m=\u001b[39mplt\u001b[39m.\u001b[39msubplots(figsize\u001b[39m=\u001b[39m(\u001b[39m10\u001b[39m,\u001b[39m10\u001b[39m))\n\u001b[0;32m      <a href='vscode-notebook-cell:/i%3A/python/Notebooks/random_projects_lukas/xct/test_raw_read%20copy.ipynb#X43sZmlsZQ%3D%3D?line=1'>2</a>\u001b[0m ax\u001b[39m.\u001b[39mimshow(tmp[\u001b[39m1\u001b[39m,:,:])\n\u001b[1;32m----> <a href='vscode-notebook-cell:/i%3A/python/Notebooks/random_projects_lukas/xct/test_raw_read%20copy.ipynb#X43sZmlsZQ%3D%3D?line=2'>3</a>\u001b[0m ax\u001b[39m.\u001b[39;49mcolorbar()\n",
      "\u001b[1;31mAttributeError\u001b[0m: 'Axes' object has no attribute 'colorbar'"
     ]
    },
    {
     "data": {
      "image/png": "[encoded data removed]",
      "text/plain": [
       "<Figure size 1000x1000 with 1 Axes>"
      ]
     },
     "metadata": {},
     "output_type": "display_data"
    }
   ],
   "source": [
    "fig,ax=plt.subplots(figsize=(10,10))\n",
    "ax.imshow(tmp[1,:,:])\n",
    "ax.colorbar()"
   ]
  },
  {
   "cell_type": "code",
   "execution_count": 95,
   "metadata": {},
   "outputs": [
    {
     "data": {
      "text/plain": [
       "<matplotlib.image.AxesImage at 0x2198dc813a0>"
      ]
     },
     "execution_count": 95,
     "metadata": {},
     "output_type": "execute_result"
    },
    {
     "data": {
      "image/png": "[encoded data removed]",
      "text/plain": [
       "<Figure size 1000x1000 with 1 Axes>"
      ]
     },
     "metadata": {},
     "output_type": "display_data"
    }
   ],
   "source": [
    "fig,ax=plt.subplots(figsize=(10,10))\n",
    "# ax.imshow(tmp[1,:,:])\n",
    "ax.imshow(tmp[1,:,:]>=3)"
   ]
  },
  {
   "cell_type": "code",
   "execution_count": 134,
   "metadata": {},
   "outputs": [],
   "source": [
    "labels = measure.label(img_sel)"
   ]
  },
  {
   "cell_type": "code",
   "execution_count": 123,
   "metadata": {},
   "outputs": [
    {
     "data": {
      "text/plain": [
       "array([0, 1], dtype=int64)"
      ]
     },
     "execution_count": 123,
     "metadata": {},
     "output_type": "execute_result"
    }
   ],
   "source": [
    "np.unique(labels)"
   ]
  },
  {
   "cell_type": "code",
   "execution_count": 124,
   "metadata": {},
   "outputs": [],
   "source": [
    "viewer = napari.view_image(img_sel, contrast_limits=[0, 1],\n",
    "                           scale=[1,1,1])"
   ]
  },
  {
   "cell_type": "code",
   "execution_count": 135,
   "metadata": {},
   "outputs": [
    {
     "data": {
      "text/plain": [
       "<Image layer 'labels [3]' at 0x219adb52b50>"
      ]
     },
     "execution_count": 135,
     "metadata": {},
     "output_type": "execute_result"
    }
   ],
   "source": [
    "viewer.add_image(labels)"
   ]
  },
  {
   "cell_type": "code",
   "execution_count": 126,
   "metadata": {},
   "outputs": [],
   "source": [
    "\n",
    "import napari\n"
   ]
  },
  {
   "cell_type": "code",
   "execution_count": 127,
   "metadata": {},
   "outputs": [
    {
     "data": {
      "text/plain": [
       "(0.0, 0.0, 90.0)"
      ]
     },
     "execution_count": 127,
     "metadata": {},
     "output_type": "execute_result"
    }
   ],
   "source": [
    "viewer.camera.angles"
   ]
  },
  {
   "cell_type": "code",
   "execution_count": 128,
   "metadata": {},
   "outputs": [
    {
     "data": {
      "text/plain": [
       "array([0, 1], dtype=int64)"
      ]
     },
     "execution_count": 128,
     "metadata": {},
     "output_type": "execute_result"
    }
   ],
   "source": [
    "np.unique(labels)"
   ]
  },
  {
   "cell_type": "code",
   "execution_count": 129,
   "metadata": {},
   "outputs": [
    {
     "data": {
      "text/plain": [
       "array([0, 1], dtype=int64)"
      ]
     },
     "execution_count": 129,
     "metadata": {},
     "output_type": "execute_result"
    }
   ],
   "source": [
    "np.unique(labels)"
   ]
  },
  {
   "cell_type": "code",
   "execution_count": null,
   "metadata": {},
   "outputs": [
    {
     "ename": "TypeError",
     "evalue": "Invalid shape (817, 3, 2004) for image data",
     "output_type": "error",
     "traceback": [
      "\u001b[1;31m---------------------------------------------------------------------------\u001b[0m",
      "\u001b[1;31mTypeError\u001b[0m                                 Traceback (most recent call last)",
      "\u001b[1;32mi:\\python\\Notebooks\\random_projects_lukas\\xct\\test_raw_read copy.ipynb Zelle 23\u001b[0m line \u001b[0;36m1\n\u001b[1;32m----> <a href='vscode-notebook-cell:/i%3A/python/Notebooks/random_projects_lukas/xct/test_raw_read%20copy.ipynb#X36sZmlsZQ%3D%3D?line=0'>1</a>\u001b[0m plt\u001b[39m.\u001b[39;49mimshow(img_bin[:,\u001b[39m2\u001b[39;49m:\u001b[39m5\u001b[39;49m,:])\n",
      "File \u001b[1;32mc:\\Users\\berners\\AppData\\Local\\Programs\\Python\\Python39\\lib\\site-packages\\matplotlib\\pyplot.py:2668\u001b[0m, in \u001b[0;36mimshow\u001b[1;34m(X, cmap, norm, aspect, interpolation, alpha, vmin, vmax, origin, extent, interpolation_stage, filternorm, filterrad, resample, url, data, **kwargs)\u001b[0m\n\u001b[0;32m   2662\u001b[0m \u001b[39m@_copy_docstring_and_deprecators\u001b[39m(Axes\u001b[39m.\u001b[39mimshow)\n\u001b[0;32m   2663\u001b[0m \u001b[39mdef\u001b[39;00m \u001b[39mimshow\u001b[39m(\n\u001b[0;32m   2664\u001b[0m         X, cmap\u001b[39m=\u001b[39m\u001b[39mNone\u001b[39;00m, norm\u001b[39m=\u001b[39m\u001b[39mNone\u001b[39;00m, \u001b[39m*\u001b[39m, aspect\u001b[39m=\u001b[39m\u001b[39mNone\u001b[39;00m, interpolation\u001b[39m=\u001b[39m\u001b[39mNone\u001b[39;00m,\n\u001b[0;32m   2665\u001b[0m         alpha\u001b[39m=\u001b[39m\u001b[39mNone\u001b[39;00m, vmin\u001b[39m=\u001b[39m\u001b[39mNone\u001b[39;00m, vmax\u001b[39m=\u001b[39m\u001b[39mNone\u001b[39;00m, origin\u001b[39m=\u001b[39m\u001b[39mNone\u001b[39;00m, extent\u001b[39m=\u001b[39m\u001b[39mNone\u001b[39;00m,\n\u001b[0;32m   2666\u001b[0m         interpolation_stage\u001b[39m=\u001b[39m\u001b[39mNone\u001b[39;00m, filternorm\u001b[39m=\u001b[39m\u001b[39mTrue\u001b[39;00m, filterrad\u001b[39m=\u001b[39m\u001b[39m4.0\u001b[39m,\n\u001b[0;32m   2667\u001b[0m         resample\u001b[39m=\u001b[39m\u001b[39mNone\u001b[39;00m, url\u001b[39m=\u001b[39m\u001b[39mNone\u001b[39;00m, data\u001b[39m=\u001b[39m\u001b[39mNone\u001b[39;00m, \u001b[39m*\u001b[39m\u001b[39m*\u001b[39mkwargs):\n\u001b[1;32m-> 2668\u001b[0m     __ret \u001b[39m=\u001b[39m gca()\u001b[39m.\u001b[39mimshow(\n\u001b[0;32m   2669\u001b[0m         X, cmap\u001b[39m=\u001b[39mcmap, norm\u001b[39m=\u001b[39mnorm, aspect\u001b[39m=\u001b[39maspect,\n\u001b[0;32m   2670\u001b[0m         interpolation\u001b[39m=\u001b[39minterpolation, alpha\u001b[39m=\u001b[39malpha, vmin\u001b[39m=\u001b[39mvmin,\n\u001b[0;32m   2671\u001b[0m         vmax\u001b[39m=\u001b[39mvmax, origin\u001b[39m=\u001b[39morigin, extent\u001b[39m=\u001b[39mextent,\n\u001b[0;32m   2672\u001b[0m         interpolation_stage\u001b[39m=\u001b[39minterpolation_stage,\n\u001b[0;32m   2673\u001b[0m         filternorm\u001b[39m=\u001b[39mfilternorm, filterrad\u001b[39m=\u001b[39mfilterrad, resample\u001b[39m=\u001b[39mresample,\n\u001b[0;32m   2674\u001b[0m         url\u001b[39m=\u001b[39murl, \u001b[39m*\u001b[39m\u001b[39m*\u001b[39m({\u001b[39m\"\u001b[39m\u001b[39mdata\u001b[39m\u001b[39m\"\u001b[39m: data} \u001b[39mif\u001b[39;00m data \u001b[39mis\u001b[39;00m \u001b[39mnot\u001b[39;00m \u001b[39mNone\u001b[39;00m \u001b[39melse\u001b[39;00m {}),\n\u001b[0;32m   2675\u001b[0m         \u001b[39m*\u001b[39m\u001b[39m*\u001b[39mkwargs)\n\u001b[0;32m   2676\u001b[0m     sci(__ret)\n\u001b[0;32m   2677\u001b[0m     \u001b[39mreturn\u001b[39;00m __ret\n",
      "File \u001b[1;32mc:\\Users\\berners\\AppData\\Local\\Programs\\Python\\Python39\\lib\\site-packages\\matplotlib\\__init__.py:1472\u001b[0m, in \u001b[0;36m_preprocess_data.<locals>.inner\u001b[1;34m(ax, data, *args, **kwargs)\u001b[0m\n\u001b[0;32m   1469\u001b[0m \u001b[39m@functools\u001b[39m\u001b[39m.\u001b[39mwraps(func)\n\u001b[0;32m   1470\u001b[0m \u001b[39mdef\u001b[39;00m \u001b[39minner\u001b[39m(ax, \u001b[39m*\u001b[39margs, data\u001b[39m=\u001b[39m\u001b[39mNone\u001b[39;00m, \u001b[39m*\u001b[39m\u001b[39m*\u001b[39mkwargs):\n\u001b[0;32m   1471\u001b[0m     \u001b[39mif\u001b[39;00m data \u001b[39mis\u001b[39;00m \u001b[39mNone\u001b[39;00m:\n\u001b[1;32m-> 1472\u001b[0m         \u001b[39mreturn\u001b[39;00m func(ax, \u001b[39m*\u001b[39m\u001b[39mmap\u001b[39m(sanitize_sequence, args), \u001b[39m*\u001b[39m\u001b[39m*\u001b[39mkwargs)\n\u001b[0;32m   1474\u001b[0m     bound \u001b[39m=\u001b[39m new_sig\u001b[39m.\u001b[39mbind(ax, \u001b[39m*\u001b[39margs, \u001b[39m*\u001b[39m\u001b[39m*\u001b[39mkwargs)\n\u001b[0;32m   1475\u001b[0m     auto_label \u001b[39m=\u001b[39m (bound\u001b[39m.\u001b[39marguments\u001b[39m.\u001b[39mget(label_namer)\n\u001b[0;32m   1476\u001b[0m                   \u001b[39mor\u001b[39;00m bound\u001b[39m.\u001b[39mkwargs\u001b[39m.\u001b[39mget(label_namer))\n",
      "File \u001b[1;32mc:\\Users\\berners\\AppData\\Local\\Programs\\Python\\Python39\\lib\\site-packages\\matplotlib\\axes\\_axes.py:5665\u001b[0m, in \u001b[0;36mAxes.imshow\u001b[1;34m(self, X, cmap, norm, aspect, interpolation, alpha, vmin, vmax, origin, extent, interpolation_stage, filternorm, filterrad, resample, url, **kwargs)\u001b[0m\n\u001b[0;32m   5657\u001b[0m \u001b[39mself\u001b[39m\u001b[39m.\u001b[39mset_aspect(aspect)\n\u001b[0;32m   5658\u001b[0m im \u001b[39m=\u001b[39m mimage\u001b[39m.\u001b[39mAxesImage(\u001b[39mself\u001b[39m, cmap\u001b[39m=\u001b[39mcmap, norm\u001b[39m=\u001b[39mnorm,\n\u001b[0;32m   5659\u001b[0m                       interpolation\u001b[39m=\u001b[39minterpolation, origin\u001b[39m=\u001b[39morigin,\n\u001b[0;32m   5660\u001b[0m                       extent\u001b[39m=\u001b[39mextent, filternorm\u001b[39m=\u001b[39mfilternorm,\n\u001b[0;32m   5661\u001b[0m                       filterrad\u001b[39m=\u001b[39mfilterrad, resample\u001b[39m=\u001b[39mresample,\n\u001b[0;32m   5662\u001b[0m                       interpolation_stage\u001b[39m=\u001b[39minterpolation_stage,\n\u001b[0;32m   5663\u001b[0m                       \u001b[39m*\u001b[39m\u001b[39m*\u001b[39mkwargs)\n\u001b[1;32m-> 5665\u001b[0m im\u001b[39m.\u001b[39;49mset_data(X)\n\u001b[0;32m   5666\u001b[0m im\u001b[39m.\u001b[39mset_alpha(alpha)\n\u001b[0;32m   5667\u001b[0m \u001b[39mif\u001b[39;00m im\u001b[39m.\u001b[39mget_clip_path() \u001b[39mis\u001b[39;00m \u001b[39mNone\u001b[39;00m:\n\u001b[0;32m   5668\u001b[0m     \u001b[39m# image does not already have clipping set, clip to axes patch\u001b[39;00m\n",
      "File \u001b[1;32mc:\\Users\\berners\\AppData\\Local\\Programs\\Python\\Python39\\lib\\site-packages\\matplotlib\\image.py:710\u001b[0m, in \u001b[0;36m_ImageBase.set_data\u001b[1;34m(self, A)\u001b[0m\n\u001b[0;32m    706\u001b[0m     \u001b[39mself\u001b[39m\u001b[39m.\u001b[39m_A \u001b[39m=\u001b[39m \u001b[39mself\u001b[39m\u001b[39m.\u001b[39m_A[:, :, \u001b[39m0\u001b[39m]\n\u001b[0;32m    708\u001b[0m \u001b[39mif\u001b[39;00m \u001b[39mnot\u001b[39;00m (\u001b[39mself\u001b[39m\u001b[39m.\u001b[39m_A\u001b[39m.\u001b[39mndim \u001b[39m==\u001b[39m \u001b[39m2\u001b[39m\n\u001b[0;32m    709\u001b[0m         \u001b[39mor\u001b[39;00m \u001b[39mself\u001b[39m\u001b[39m.\u001b[39m_A\u001b[39m.\u001b[39mndim \u001b[39m==\u001b[39m \u001b[39m3\u001b[39m \u001b[39mand\u001b[39;00m \u001b[39mself\u001b[39m\u001b[39m.\u001b[39m_A\u001b[39m.\u001b[39mshape[\u001b[39m-\u001b[39m\u001b[39m1\u001b[39m] \u001b[39min\u001b[39;00m [\u001b[39m3\u001b[39m, \u001b[39m4\u001b[39m]):\n\u001b[1;32m--> 710\u001b[0m     \u001b[39mraise\u001b[39;00m \u001b[39mTypeError\u001b[39;00m(\u001b[39m\"\u001b[39m\u001b[39mInvalid shape \u001b[39m\u001b[39m{}\u001b[39;00m\u001b[39m for image data\u001b[39m\u001b[39m\"\u001b[39m\n\u001b[0;32m    711\u001b[0m                     \u001b[39m.\u001b[39mformat(\u001b[39mself\u001b[39m\u001b[39m.\u001b[39m_A\u001b[39m.\u001b[39mshape))\n\u001b[0;32m    713\u001b[0m \u001b[39mif\u001b[39;00m \u001b[39mself\u001b[39m\u001b[39m.\u001b[39m_A\u001b[39m.\u001b[39mndim \u001b[39m==\u001b[39m \u001b[39m3\u001b[39m:\n\u001b[0;32m    714\u001b[0m     \u001b[39m# If the input data has values outside the valid range (after\u001b[39;00m\n\u001b[0;32m    715\u001b[0m     \u001b[39m# normalisation), we issue a warning and then clip X to the bounds\u001b[39;00m\n\u001b[0;32m    716\u001b[0m     \u001b[39m# - otherwise casting wraps extreme values, hiding outliers and\u001b[39;00m\n\u001b[0;32m    717\u001b[0m     \u001b[39m# making reliable interpretation impossible.\u001b[39;00m\n\u001b[0;32m    718\u001b[0m     high \u001b[39m=\u001b[39m \u001b[39m255\u001b[39m \u001b[39mif\u001b[39;00m np\u001b[39m.\u001b[39missubdtype(\u001b[39mself\u001b[39m\u001b[39m.\u001b[39m_A\u001b[39m.\u001b[39mdtype, np\u001b[39m.\u001b[39minteger) \u001b[39melse\u001b[39;00m \u001b[39m1\u001b[39m\n",
      "\u001b[1;31mTypeError\u001b[0m: Invalid shape (817, 3, 2004) for image data"
     ]
    },
    {
     "data": {
      "image/png": "[encoded data removed]",
      "text/plain": [
       "<Figure size 640x480 with 1 Axes>"
      ]
     },
     "metadata": {},
     "output_type": "display_data"
    }
   ],
   "source": [
    "plt.imshow(img_bin[:,2:5,:])"
   ]
  },
  {
   "cell_type": "code",
   "execution_count": null,
   "metadata": {},
   "outputs": [
    {
     "data": {
      "text/plain": [
       "array([[9, 9, 9, ..., 9, 9, 9],\n",
       "       [9, 9, 9, ..., 9, 9, 9],\n",
       "       [9, 9, 9, ..., 9, 9, 9],\n",
       "       ...,\n",
       "       [9, 9, 9, ..., 9, 9, 9],\n",
       "       [9, 9, 9, ..., 9, 9, 9],\n",
       "       [9, 9, 9, ..., 9, 9, 9]])"
      ]
     },
     "execution_count": 114,
     "metadata": {},
     "output_type": "execute_result"
    }
   ],
   "source": [
    "sum_img"
   ]
  },
  {
   "cell_type": "code",
   "execution_count": null,
   "metadata": {},
   "outputs": [
    {
     "data": {
      "text/plain": [
       "array([[[False, False, False, ..., False, False, False],\n",
       "        [False, False, False, ..., False, False, False],\n",
       "        [False, False, False, ..., False, False, False],\n",
       "        ...,\n",
       "        [False, False, False, ..., False, False, False],\n",
       "        [False, False, False, ..., False, False, False],\n",
       "        [False, False, False, ..., False, False, False]],\n",
       "\n",
       "       [[False, False, False, ..., False, False, False],\n",
       "        [False, False, False, ..., False, False, False],\n",
       "        [False, False, False, ..., False, False, False],\n",
       "        ...,\n",
       "        [False, False, False, ..., False, False, False],\n",
       "        [False, False, False, ..., False, False, False],\n",
       "        [False, False, False, ..., False, False, False]],\n",
       "\n",
       "       [[False, False, False, ..., False, False, False],\n",
       "        [False, False, False, ..., False, False, False],\n",
       "        [False, False, False, ..., False, False, False],\n",
       "        ...,\n",
       "        [False, False, False, ..., False, False, False],\n",
       "        [False, False, False, ..., False, False, False],\n",
       "        [False, False, False, ..., False, False, False]],\n",
       "\n",
       "       ...,\n",
       "\n",
       "       [[False, False, False, ..., False, False, False],\n",
       "        [False, False, False, ..., False, False, False],\n",
       "        [False, False, False, ..., False, False, False],\n",
       "        ...,\n",
       "        [False, False, False, ..., False, False, False],\n",
       "        [False, False, False, ..., False, False, False],\n",
       "        [False, False, False, ..., False, False, False]],\n",
       "\n",
       "       [[False, False, False, ..., False, False, False],\n",
       "        [False, False, False, ..., False, False, False],\n",
       "        [False, False, False, ..., False, False, False],\n",
       "        ...,\n",
       "        [False, False, False, ..., False, False, False],\n",
       "        [False, False, False, ..., False, False, False],\n",
       "        [False, False, False, ..., False, False, False]],\n",
       "\n",
       "       [[False, False, False, ..., False, False, False],\n",
       "        [False, False, False, ..., False, False, False],\n",
       "        [False, False, False, ..., False, False, False],\n",
       "        ...,\n",
       "        [False, False, False, ..., False, False, False],\n",
       "        [False, False, False, ..., False, False, False],\n",
       "        [False, False, False, ..., False, False, False]]])"
      ]
     },
     "execution_count": 115,
     "metadata": {},
     "output_type": "execute_result"
    }
   ],
   "source": [
    "img_bin"
   ]
  },
  {
   "cell_type": "code",
   "execution_count": null,
   "metadata": {},
   "outputs": [
    {
     "data": {
      "text/plain": [
       "<matplotlib.image.AxesImage at 0x294f7c01040>"
      ]
     },
     "execution_count": 33,
     "metadata": {},
     "output_type": "execute_result"
    },
    {
     "data": {
      "image/png": "[encoded data removed]",
      "text/plain": [
       "<Figure size 640x480 with 1 Axes>"
      ]
     },
     "metadata": {},
     "output_type": "display_data"
    }
   ],
   "source": [
    "plt.imshow(img_bin[:,300,:])"
   ]
  },
  {
   "cell_type": "code",
   "execution_count": null,
   "metadata": {},
   "outputs": [],
   "source": [
    "from tifffile import  imread"
   ]
  },
  {
   "cell_type": "code",
   "execution_count": null,
   "metadata": {},
   "outputs": [],
   "source": [
    "from skimage import util"
   ]
  }
 ],
 "metadata": {
  "kernelspec": {
   "display_name": "Python 3",
   "language": "python",
   "name": "python3"
  },
  "language_info": {
   "codemirror_mode": {
    "name": "ipython",
    "version": 3
   },
   "file_extension": ".py",
   "mimetype": "text/x-python",
   "name": "python",
   "nbconvert_exporter": "python",
   "pygments_lexer": "ipython3",
   "version": "3.9.13"
  }
 },
 "nbformat": 4,
 "nbformat_minor": 2
}
