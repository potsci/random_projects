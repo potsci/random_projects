{
 "cells": [
  {
   "cell_type": "code",
   "execution_count": 1,
   "metadata": {},
   "outputs": [],
   "source": [
    "import tifffile as tiff\n",
    "import numpy as np\n",
    "\n",
    "import os\n",
    "\n",
    "\n",
    "from pathlib import *\n",
    "from skimage import io\n",
    "import matplotlib.pyplot as plt"
   ]
  },
  {
   "cell_type": "code",
   "execution_count": 2,
   "metadata": {},
   "outputs": [],
   "source": [
    "impath=Path(\"I:\\\\XRD\\XCT_CARL\\\\2023_10_3mm_tens_5047\\\\230928_SFB_IMM_BERNERS_5048-Export\\Export\")\n",
    "# impath=Path('test_dust_remove_2.tiff')\n",
    "tifs=impath.glob('*.tif')\n",
    "asdf=list(tifs)"
   ]
  },
  {
   "cell_type": "code",
   "execution_count": 6,
   "metadata": {},
   "outputs": [
    {
     "data": {
      "text/plain": [
       "[WindowsPath('I:/XRD/XCT_CARL/2023_10_3mm_tens_5047/230928_SFB_IMM_BERNERS_5048-Export/Export/230928_SFB1394_IMM_BERNERS_5048_6um_80kV_4s_LE3_recon-1.tif'),\n",
       " WindowsPath('I:/XRD/XCT_CARL/2023_10_3mm_tens_5047/230928_SFB_IMM_BERNERS_5048-Export/Export/230928_SFB1394_IMM_BERNERS_5048_6um_80kV_4s_LE3_recon-2.tif'),\n",
       " WindowsPath('I:/XRD/XCT_CARL/2023_10_3mm_tens_5047/230928_SFB_IMM_BERNERS_5048-Export/Export/230928_SFB1394_IMM_BERNERS_5048_6um_80kV_4s_LE3_recon_8bit.tif'),\n",
       " WindowsPath('I:/XRD/XCT_CARL/2023_10_3mm_tens_5047/230928_SFB_IMM_BERNERS_5048-Export/Export/230928_SFB1394_IMM_BERNERS_5048_6um_80kV_4s_LE3_recon_8bit_median.tif'),\n",
       " WindowsPath('I:/XRD/XCT_CARL/2023_10_3mm_tens_5047/230928_SFB_IMM_BERNERS_5048-Export/Export/230928_SFB1394_IMM_BERNERS_5048_6um_80kV_4s_LE3_recon_8bit_oxides.tif'),\n",
       " WindowsPath('I:/XRD/XCT_CARL/2023_10_3mm_tens_5047/230928_SFB_IMM_BERNERS_5048-Export/Export/230928_SFB1394_IMM_BERNERS_5048_6um_80kV_4s_LE3_recon_8bit_pores.tif')]"
      ]
     },
     "execution_count": 6,
     "metadata": {},
     "output_type": "execute_result"
    }
   ],
   "source": [
    "img_path=asdf[5]\n",
    "asdf"
   ]
  },
  {
   "cell_type": "code",
   "execution_count": 5,
   "metadata": {},
   "outputs": [],
   "source": [
    "img=io.imread(img_path)"
   ]
  },
  {
   "cell_type": "code",
   "execution_count": 137,
   "metadata": {},
   "outputs": [],
   "source": [
    "img_cropped=img[300:400,500:600,600:700]\n",
    "img_cropped2=img[400:500,500:600,600:700]"
   ]
  },
  {
   "cell_type": "code",
   "execution_count": 138,
   "metadata": {},
   "outputs": [
    {
     "data": {
      "text/plain": [
       "<matplotlib.image.AxesImage at 0x2183a0ac550>"
      ]
     },
     "execution_count": 138,
     "metadata": {},
     "output_type": "execute_result"
    },
    {
     "data": {
      "image/png": "[encoded data removed]",
      "text/plain": [
       "<Figure size 640x480 with 1 Axes>"
      ]
     },
     "metadata": {},
     "output_type": "display_data"
    }
   ],
   "source": [
    "plt.imshow(img[:,500,:])"
   ]
  },
  {
   "cell_type": "code",
   "execution_count": 139,
   "metadata": {},
   "outputs": [],
   "source": [
    "img_float=img_cropped/255\n",
    "img_float2=img_cropped2/255"
   ]
  },
  {
   "cell_type": "code",
   "execution_count": 140,
   "metadata": {},
   "outputs": [],
   "source": [
    "import numpy as np\n",
    "from matplotlib import pyplot as plt\n",
    "from scipy import ndimage as ndi\n",
    "from skimage import (filters, io, measure,\n",
    "                      morphology, segmentation, transform,\n",
    "                      util)\n",
    "# import napari"
   ]
  },
  {
   "cell_type": "code",
   "execution_count": 141,
   "metadata": {},
   "outputs": [
    {
     "data": {
      "text/plain": [
       "<matplotlib.image.AxesImage at 0x218389ef9a0>"
      ]
     },
     "execution_count": 141,
     "metadata": {},
     "output_type": "execute_result"
    },
    {
     "data": {
      "image/png": "[encoded data removed]",
      "text/plain": [
       "<Figure size 640x480 with 1 Axes>"
      ]
     },
     "metadata": {},
     "output_type": "display_data"
    }
   ],
   "source": [
    "plt.imshow(img_float[:,1,:])\n",
    "plt.imshow(img_float2[:,1,:])"
   ]
  },
  {
   "cell_type": "code",
   "execution_count": 177,
   "metadata": {},
   "outputs": [],
   "source": [
    "labels=measure.label(img_float==0)\n",
    "labels2=measure.label(img_float2==0)\n",
    "labels2[labels2!=0]+=2"
   ]
  },
  {
   "cell_type": "code",
   "execution_count": 178,
   "metadata": {},
   "outputs": [
    {
     "data": {
      "text/plain": [
       "(array([0, 1, 2]), array([0, 3, 4]))"
      ]
     },
     "execution_count": 178,
     "metadata": {},
     "output_type": "execute_result"
    }
   ],
   "source": [
    "np.unique(labels),np.unique(labels2)"
   ]
  },
  {
   "cell_type": "code",
   "execution_count": 179,
   "metadata": {},
   "outputs": [
    {
     "data": {
      "text/plain": [
       "array([0, 0, 0, ..., 0, 0, 0])"
      ]
     },
     "execution_count": 179,
     "metadata": {},
     "output_type": "execute_result"
    }
   ],
   "source": [
    "labels[labels==0]\n",
    "labels2[labels2==0]"
   ]
  },
  {
   "cell_type": "code",
   "execution_count": 180,
   "metadata": {},
   "outputs": [],
   "source": [
    "joining=np.zeros((2,100,100))\n",
    "joining[0,:,:]=labels[-1,:,:]\n",
    "joining[1,:,:]=labels2[1,:,:]"
   ]
  },
  {
   "cell_type": "code",
   "execution_count": 181,
   "metadata": {},
   "outputs": [
    {
     "data": {
      "text/plain": [
       "(100, 100, 100)"
      ]
     },
     "execution_count": 181,
     "metadata": {},
     "output_type": "execute_result"
    }
   ],
   "source": [
    "labels.shape"
   ]
  },
  {
   "cell_type": "code",
   "execution_count": 182,
   "metadata": {},
   "outputs": [
    {
     "data": {
      "text/plain": [
       "(100, 100)"
      ]
     },
     "execution_count": 182,
     "metadata": {},
     "output_type": "execute_result"
    }
   ],
   "source": [
    "labels[:,:,1].shape"
   ]
  },
  {
   "cell_type": "code",
   "execution_count": 183,
   "metadata": {},
   "outputs": [
    {
     "data": {
      "text/plain": [
       "array([[[1., 1., 1., ..., 2., 2., 2.],\n",
       "        [1., 1., 1., ..., 2., 2., 2.],\n",
       "        [1., 1., 1., ..., 2., 2., 2.],\n",
       "        ...,\n",
       "        [1., 1., 1., ..., 2., 2., 2.],\n",
       "        [1., 1., 1., ..., 2., 2., 2.],\n",
       "        [1., 1., 1., ..., 2., 2., 2.]],\n",
       "\n",
       "       [[3., 3., 3., ..., 4., 4., 4.],\n",
       "        [3., 3., 3., ..., 4., 4., 4.],\n",
       "        [3., 3., 3., ..., 4., 4., 4.],\n",
       "        ...,\n",
       "        [3., 3., 3., ..., 4., 4., 4.],\n",
       "        [3., 3., 3., ..., 4., 4., 4.],\n",
       "        [3., 3., 3., ..., 4., 4., 4.]]])"
      ]
     },
     "execution_count": 183,
     "metadata": {},
     "output_type": "execute_result"
    }
   ],
   "source": [
    "joining"
   ]
  },
  {
   "cell_type": "code",
   "execution_count": 184,
   "metadata": {},
   "outputs": [
    {
     "data": {
      "text/plain": [
       "<matplotlib.image.AxesImage at 0x218383bb3d0>"
      ]
     },
     "execution_count": 184,
     "metadata": {},
     "output_type": "execute_result"
    },
    {
     "data": {
      "image/png": "[encoded data removed]",
      "text/plain": [
       "<Figure size 640x480 with 1 Axes>"
      ]
     },
     "metadata": {},
     "output_type": "display_data"
    }
   ],
   "source": [
    "# figure\n",
    "joining[joining==0]=np.nan\n",
    "plt.imshow(np.sum(joining,axis=0))"
   ]
  },
  {
   "cell_type": "code",
   "execution_count": 189,
   "metadata": {},
   "outputs": [],
   "source": [
    "j_lab=np.unique(joining)"
   ]
  },
  {
   "cell_type": "code",
   "execution_count": 194,
   "metadata": {},
   "outputs": [],
   "source": [
    "lab2_n=np.unique(labels2)\n",
    "# np.unique(labels)"
   ]
  },
  {
   "cell_type": "code",
   "execution_count": 195,
   "metadata": {},
   "outputs": [
    {
     "data": {
      "text/plain": [
       "array([-2., -1.,  0.,  1., nan])"
      ]
     },
     "execution_count": 195,
     "metadata": {},
     "output_type": "execute_result"
    }
   ],
   "source": [
    "j_lab-lab2_n[1]"
   ]
  },
  {
   "cell_type": "code",
   "execution_count": null,
   "metadata": {},
   "outputs": [],
   "source": []
  }
 ],
 "metadata": {
  "kernelspec": {
   "display_name": "Python 3",
   "language": "python",
   "name": "python3"
  },
  "language_info": {
   "codemirror_mode": {
    "name": "ipython",
    "version": 3
   },
   "file_extension": ".py",
   "mimetype": "text/x-python",
   "name": "python",
   "nbconvert_exporter": "python",
   "pygments_lexer": "ipython3",
   "version": "3.9.13"
  }
 },
 "nbformat": 4,
 "nbformat_minor": 2
}
