{
 "cells": [
  {
   "cell_type": "code",
   "execution_count": null,
   "id": "74a01b96",
   "metadata": {},
   "outputs": [],
   "source": [
    "\"\"\"\n",
    "The data in this skript is based on the publication from Gao, H. X. and Peng, L.-M.,\n",
    "Parameterization of the temperature dependence of the Debye-Waller factors, Acata Crystallographica A 1999 A55, 926-932\n",
    "https://doi.org/10.1107/S0108767399005176\n",
    "\"\"\""
   ]
  },
  {
   "cell_type": "code",
   "execution_count": 41,
   "id": "faca007c",
   "metadata": {},
   "outputs": [],
   "source": [
    "import pandas as pd\n",
    "import numpy as np"
   ]
  },
  {
   "cell_type": "code",
   "execution_count": null,
   "id": "9c0edcea",
   "metadata": {},
   "outputs": [],
   "source": []
  },
  {
   "cell_type": "code",
   "execution_count": 49,
   "id": "f2101cb5",
   "metadata": {
    "scrolled": true
   },
   "outputs": [],
   "source": [
    "df=pd.read_csv(\"Debeye Waller.txt\",sep=' ')\n"
   ]
  },
  {
   "cell_type": "code",
   "execution_count": 46,
   "id": "c69fb303",
   "metadata": {},
   "outputs": [],
   "source": [
    "def calc_U(element,T,df):\n",
    "    \"\"\"\n",
    "    Pass T in Kelvin and the parameters as described in the publication from Gao and Peng (1999)\n",
    "    \"\"\"\n",
    "    df_work=df[df['Element']=='Li']\n",
    "    a=np.reshape(df_work[['a0','a1','a2','a3','a4']].values,5)\n",
    "    #print(a)\n",
    "    return(a[0]+a[1]*T+a[2]*(T**2)+a[3]*(T**3)+a[4]*(T**4))"
   ]
  },
  {
   "cell_type": "code",
   "execution_count": 48,
   "id": "6132a632",
   "metadata": {},
   "outputs": [
    {
     "data": {
      "text/plain": [
       "4.91686780382848"
      ]
     },
     "execution_count": 48,
     "metadata": {},
     "output_type": "execute_result"
    }
   ],
   "source": [
    "calc_U('Nb',293,df)"
   ]
  },
  {
   "cell_type": "code",
   "execution_count": 16,
   "id": "a1c5fce5",
   "metadata": {
    "scrolled": true
   },
   "outputs": [
    {
     "data": {
      "text/html": [
       "<div>\n",
       "<style scoped>\n",
       "    .dataframe tbody tr th:only-of-type {\n",
       "        vertical-align: middle;\n",
       "    }\n",
       "\n",
       "    .dataframe tbody tr th {\n",
       "        vertical-align: top;\n",
       "    }\n",
       "\n",
       "    .dataframe thead th {\n",
       "        text-align: right;\n",
       "    }\n",
       "</style>\n",
       "<table border=\"1\" class=\"dataframe\">\n",
       "  <thead>\n",
       "    <tr style=\"text-align: right;\">\n",
       "      <th></th>\n",
       "      <th>Element</th>\n",
       "      <th>Z</th>\n",
       "      <th>Structure</th>\n",
       "      <th>a0</th>\n",
       "      <th>a1</th>\n",
       "      <th>a2</th>\n",
       "      <th>a3</th>\n",
       "      <th>a4</th>\n",
       "      <th>ME</th>\n",
       "      <th>(%)</th>\n",
       "    </tr>\n",
       "  </thead>\n",
       "  <tbody>\n",
       "    <tr>\n",
       "      <th>0</th>\n",
       "      <td>Li</td>\n",
       "      <td>3</td>\n",
       "      <td>B.c.c.</td>\n",
       "      <td>0.90169</td>\n",
       "      <td>0.00878</td>\n",
       "      <td>0.00003</td>\n",
       "      <td>-5.940000e-08</td>\n",
       "      <td>4.448000e-11</td>\n",
       "      <td>0.33</td>\n",
       "      <td>NaN</td>\n",
       "    </tr>\n",
       "  </tbody>\n",
       "</table>\n",
       "</div>"
      ],
      "text/plain": [
       "  Element  Z Structure       a0       a1       a2            a3            a4  \\\n",
       "0      Li  3    B.c.c.  0.90169  0.00878  0.00003 -5.940000e-08  4.448000e-11   \n",
       "\n",
       "     ME  (%)  \n",
       "0  0.33  NaN  "
      ]
     },
     "execution_count": 16,
     "metadata": {},
     "output_type": "execute_result"
    }
   ],
   "source": [
    "df[df['Element']=='Li']"
   ]
  },
  {
   "cell_type": "code",
   "execution_count": 28,
   "id": "cad83a19",
   "metadata": {},
   "outputs": [
    {
     "data": {
      "text/html": [
       "<div>\n",
       "<style scoped>\n",
       "    .dataframe tbody tr th:only-of-type {\n",
       "        vertical-align: middle;\n",
       "    }\n",
       "\n",
       "    .dataframe tbody tr th {\n",
       "        vertical-align: top;\n",
       "    }\n",
       "\n",
       "    .dataframe thead th {\n",
       "        text-align: right;\n",
       "    }\n",
       "</style>\n",
       "<table border=\"1\" class=\"dataframe\">\n",
       "  <thead>\n",
       "    <tr style=\"text-align: right;\">\n",
       "      <th></th>\n",
       "      <th>Element</th>\n",
       "      <th>Z</th>\n",
       "      <th>Structure</th>\n",
       "      <th>a0</th>\n",
       "      <th>a1</th>\n",
       "      <th>a2</th>\n",
       "      <th>a3</th>\n",
       "      <th>a4</th>\n",
       "      <th>ME</th>\n",
       "      <th>(%)</th>\n",
       "    </tr>\n",
       "  </thead>\n",
       "  <tbody>\n",
       "    <tr>\n",
       "      <th>0</th>\n",
       "      <td>Li</td>\n",
       "      <td>3</td>\n",
       "      <td>B.c.c.</td>\n",
       "      <td>0.901690</td>\n",
       "      <td>8.780000e-03</td>\n",
       "      <td>3.039000e-05</td>\n",
       "      <td>-5.940000e-08</td>\n",
       "      <td>4.448000e-11</td>\n",
       "      <td>0.33</td>\n",
       "      <td>NaN</td>\n",
       "    </tr>\n",
       "    <tr>\n",
       "      <th>1</th>\n",
       "      <td>Be</td>\n",
       "      <td>4</td>\n",
       "      <td>H.c.p.</td>\n",
       "      <td>0.358510</td>\n",
       "      <td>-1.421000e-04</td>\n",
       "      <td>3.225000e-06</td>\n",
       "      <td>-3.136000e-09</td>\n",
       "      <td>1.139000e-12</td>\n",
       "      <td>0.69</td>\n",
       "      <td>NaN</td>\n",
       "    </tr>\n",
       "    <tr>\n",
       "      <th>2</th>\n",
       "      <td>C</td>\n",
       "      <td>6</td>\n",
       "      <td>Diamond</td>\n",
       "      <td>0.120340</td>\n",
       "      <td>-2.231000e-05</td>\n",
       "      <td>3.348000e-07</td>\n",
       "      <td>-2.108000e-10</td>\n",
       "      <td>5.320000e-14</td>\n",
       "      <td>0.09</td>\n",
       "      <td>NaN</td>\n",
       "    </tr>\n",
       "    <tr>\n",
       "      <th>3</th>\n",
       "      <td>Na</td>\n",
       "      <td>11</td>\n",
       "      <td>B.c.c.</td>\n",
       "      <td>0.385310</td>\n",
       "      <td>1.831000e-02</td>\n",
       "      <td>2.176000e-05</td>\n",
       "      <td>-5.389000e-08</td>\n",
       "      <td>5.105000e-11</td>\n",
       "      <td>0.12</td>\n",
       "      <td>NaN</td>\n",
       "    </tr>\n",
       "    <tr>\n",
       "      <th>4</th>\n",
       "      <td>Mg</td>\n",
       "      <td>12</td>\n",
       "      <td>H.c.p.</td>\n",
       "      <td>0.226680</td>\n",
       "      <td>4.830000e-03</td>\n",
       "      <td>3.239000e-06</td>\n",
       "      <td>-3.499000e-09</td>\n",
       "      <td>1.362000e-12</td>\n",
       "      <td>1.00</td>\n",
       "      <td>NaN</td>\n",
       "    </tr>\n",
       "    <tr>\n",
       "      <th>...</th>\n",
       "      <td>...</td>\n",
       "      <td>...</td>\n",
       "      <td>...</td>\n",
       "      <td>...</td>\n",
       "      <td>...</td>\n",
       "      <td>...</td>\n",
       "      <td>...</td>\n",
       "      <td>...</td>\n",
       "      <td>...</td>\n",
       "      <td>...</td>\n",
       "    </tr>\n",
       "    <tr>\n",
       "      <th>59</th>\n",
       "      <td>Ir</td>\n",
       "      <td>77</td>\n",
       "      <td>0.02550</td>\n",
       "      <td>0.000199</td>\n",
       "      <td>3.339000e-07</td>\n",
       "      <td>-3.542000e-10</td>\n",
       "      <td>1.363000e-13</td>\n",
       "      <td>1.160000e+00</td>\n",
       "      <td>NaN</td>\n",
       "      <td>NaN</td>\n",
       "    </tr>\n",
       "    <tr>\n",
       "      <th>60</th>\n",
       "      <td>Hg</td>\n",
       "      <td>80</td>\n",
       "      <td>0.05788</td>\n",
       "      <td>0.010260</td>\n",
       "      <td>5.610000e-06</td>\n",
       "      <td>-1.853000e-08</td>\n",
       "      <td>2.364000e-11</td>\n",
       "      <td>3.000000e-02</td>\n",
       "      <td>NaN</td>\n",
       "      <td>NaN</td>\n",
       "    </tr>\n",
       "    <tr>\n",
       "      <th>61</th>\n",
       "      <td>Tl</td>\n",
       "      <td>81</td>\n",
       "      <td>0.03756</td>\n",
       "      <td>0.008810</td>\n",
       "      <td>1.170000e-06</td>\n",
       "      <td>-1.957000e-09</td>\n",
       "      <td>1.204000e-12</td>\n",
       "      <td>7.000000e-02</td>\n",
       "      <td>NaN</td>\n",
       "      <td>NaN</td>\n",
       "    </tr>\n",
       "    <tr>\n",
       "      <th>62</th>\n",
       "      <td>Bi</td>\n",
       "      <td>83</td>\n",
       "      <td>0.03610</td>\n",
       "      <td>0.003580</td>\n",
       "      <td>1.111000e-06</td>\n",
       "      <td>-1.855000e-09</td>\n",
       "      <td>1.140000e-12</td>\n",
       "      <td>1.900000e-01</td>\n",
       "      <td>NaN</td>\n",
       "      <td>NaN</td>\n",
       "    </tr>\n",
       "    <tr>\n",
       "      <th>63</th>\n",
       "      <td>U</td>\n",
       "      <td>92</td>\n",
       "      <td>0.02449</td>\n",
       "      <td>0.000982</td>\n",
       "      <td>3.617000e-07</td>\n",
       "      <td>-3.933000e-10</td>\n",
       "      <td>1.538000e-13</td>\n",
       "      <td>7.100000e-01</td>\n",
       "      <td>NaN</td>\n",
       "      <td>NaN</td>\n",
       "    </tr>\n",
       "  </tbody>\n",
       "</table>\n",
       "<p>64 rows × 10 columns</p>\n",
       "</div>"
      ],
      "text/plain": [
       "   Element   Z Structure        a0            a1            a2            a3  \\\n",
       "0       Li   3    B.c.c.  0.901690  8.780000e-03  3.039000e-05 -5.940000e-08   \n",
       "1       Be   4    H.c.p.  0.358510 -1.421000e-04  3.225000e-06 -3.136000e-09   \n",
       "2        C   6   Diamond  0.120340 -2.231000e-05  3.348000e-07 -2.108000e-10   \n",
       "3       Na  11    B.c.c.  0.385310  1.831000e-02  2.176000e-05 -5.389000e-08   \n",
       "4       Mg  12    H.c.p.  0.226680  4.830000e-03  3.239000e-06 -3.499000e-09   \n",
       "..     ...  ..       ...       ...           ...           ...           ...   \n",
       "59      Ir  77   0.02550  0.000199  3.339000e-07 -3.542000e-10  1.363000e-13   \n",
       "60      Hg  80   0.05788  0.010260  5.610000e-06 -1.853000e-08  2.364000e-11   \n",
       "61      Tl  81   0.03756  0.008810  1.170000e-06 -1.957000e-09  1.204000e-12   \n",
       "62      Bi  83   0.03610  0.003580  1.111000e-06 -1.855000e-09  1.140000e-12   \n",
       "63       U  92   0.02449  0.000982  3.617000e-07 -3.933000e-10  1.538000e-13   \n",
       "\n",
       "              a4    ME  (%)  \n",
       "0   4.448000e-11  0.33  NaN  \n",
       "1   1.139000e-12  0.69  NaN  \n",
       "2   5.320000e-14  0.09  NaN  \n",
       "3   5.105000e-11  0.12  NaN  \n",
       "4   1.362000e-12  1.00  NaN  \n",
       "..           ...   ...  ...  \n",
       "59  1.160000e+00   NaN  NaN  \n",
       "60  3.000000e-02   NaN  NaN  \n",
       "61  7.000000e-02   NaN  NaN  \n",
       "62  1.900000e-01   NaN  NaN  \n",
       "63  7.100000e-01   NaN  NaN  \n",
       "\n",
       "[64 rows x 10 columns]"
      ]
     },
     "execution_count": 28,
     "metadata": {},
     "output_type": "execute_result"
    }
   ],
   "source": [
    "df['a0']"
   ]
  },
  {
   "cell_type": "code",
   "execution_count": 22,
   "id": "1e93fd7b",
   "metadata": {},
   "outputs": [],
   "source": [
    "df_temp=df[df['Element']=='Li']"
   ]
  },
  {
   "cell_type": "code",
   "execution_count": 42,
   "id": "bc534e7d",
   "metadata": {},
   "outputs": [
    {
     "data": {
      "text/plain": [
       "array([ 9.0169e-01,  8.7800e-03,  3.0390e-05, -5.9400e-08,  4.4480e-11])"
      ]
     },
     "execution_count": 42,
     "metadata": {},
     "output_type": "execute_result"
    }
   ],
   "source": [
    "np.reshape(df_temp[['a0','a1','a2','a3','a4']].values, (5))"
   ]
  }
 ],
 "metadata": {
  "kernelspec": {
   "display_name": "Python 3 (ipykernel)",
   "language": "python",
   "name": "python3"
  },
  "language_info": {
   "codemirror_mode": {
    "name": "ipython",
    "version": 3
   },
   "file_extension": ".py",
   "mimetype": "text/x-python",
   "name": "python",
   "nbconvert_exporter": "python",
   "pygments_lexer": "ipython3",
   "version": "3.9.7"
  },
  "toc": {
   "base_numbering": 1,
   "nav_menu": {},
   "number_sections": false,
   "sideBar": false,
   "skip_h1_title": false,
   "title_cell": "Table of Contents",
   "title_sidebar": "Contents",
   "toc_cell": false,
   "toc_position": {},
   "toc_section_display": false,
   "toc_window_display": false
  },
  "varInspector": {
   "cols": {
    "lenName": 16,
    "lenType": 16,
    "lenVar": 40
   },
   "kernels_config": {
    "python": {
     "delete_cmd_postfix": "",
     "delete_cmd_prefix": "del ",
     "library": "var_list.py",
     "varRefreshCmd": "print(var_dic_list())"
    },
    "r": {
     "delete_cmd_postfix": ") ",
     "delete_cmd_prefix": "rm(",
     "library": "var_list.r",
     "varRefreshCmd": "cat(var_dic_list()) "
    }
   },
   "types_to_exclude": [
    "module",
    "function",
    "builtin_function_or_method",
    "instance",
    "_Feature"
   ],
   "window_display": false
  }
 },
 "nbformat": 4,
 "nbformat_minor": 5
}
