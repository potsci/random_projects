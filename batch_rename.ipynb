{
 "cells": [
  {
   "cell_type": "code",
   "execution_count": 32,
   "id": "23702ccd",
   "metadata": {},
   "outputs": [],
   "source": [
    "import numpy as np\n",
    "import tkinter\n",
    "from tkinter.filedialog import askopenfilename\n",
    "from pathlib import *\n",
    "from glob import glob\n",
    "\n",
    "import os\n",
    "import matplotlib.pyplot as plt\n",
    "from skimage import data\n",
    "from skimage import exposure\n",
    "from skimage.exposure import match_histograms\n",
    "from skimage.io import imsave, imread\n",
    "from PIL import Image\n",
    "import re "
   ]
  },
  {
   "cell_type": "code",
   "execution_count": 3,
   "id": "a60a7b7f",
   "metadata": {},
   "outputs": [],
   "source": [
    "refpath=Path(\"I:\\Fib\\quasi-in-situ\\head_yolo\\eps5_5kv\\SaveImage.tif\")"
   ]
  },
  {
   "cell_type": "code",
   "execution_count": 4,
   "id": "d2245236",
   "metadata": {},
   "outputs": [],
   "source": [
    "file = Path(askopenfilename(initialdir='I:\\Fib\\quasi-in-situ', title='´Select the folder, with images you want to normalise and select first image'))\n"
   ]
  },
  {
   "cell_type": "code",
   "execution_count": 9,
   "id": "144dcf53",
   "metadata": {},
   "outputs": [],
   "source": [
    "file = Path(askopenfilename(initialdir='I:\\Fib\\Leo', title='´Select the folder, with images you want to normalise and select first image'))\n"
   ]
  },
  {
   "cell_type": "code",
   "execution_count": 17,
   "id": "0a2ac543",
   "metadata": {},
   "outputs": [
    {
     "data": {
      "text/plain": [
       "[WindowsPath('J:/Users/Berners, Lukas/LEO/quasi-in_situ/C02/50_45/survey_2/2mm_center/pano000.tif'),\n",
       " WindowsPath('J:/Users/Berners, Lukas/LEO/quasi-in_situ/C02/50_45/survey_2/2mm_center/pano001.tif'),\n",
       " WindowsPath('J:/Users/Berners, Lukas/LEO/quasi-in_situ/C02/50_45/survey_2/2mm_center/pano002.tif'),\n",
       " WindowsPath('J:/Users/Berners, Lukas/LEO/quasi-in_situ/C02/50_45/survey_2/2mm_center/pano003.tif'),\n",
       " WindowsPath('J:/Users/Berners, Lukas/LEO/quasi-in_situ/C02/50_45/survey_2/2mm_center/pano004.tif'),\n",
       " WindowsPath('J:/Users/Berners, Lukas/LEO/quasi-in_situ/C02/50_45/survey_2/2mm_center/pano005.tif'),\n",
       " WindowsPath('J:/Users/Berners, Lukas/LEO/quasi-in_situ/C02/50_45/survey_2/2mm_center/pano006.tif'),\n",
       " WindowsPath('J:/Users/Berners, Lukas/LEO/quasi-in_situ/C02/50_45/survey_2/2mm_center/pano007.tif'),\n",
       " WindowsPath('J:/Users/Berners, Lukas/LEO/quasi-in_situ/C02/50_45/survey_2/2mm_center/pano008.tif'),\n",
       " WindowsPath('J:/Users/Berners, Lukas/LEO/quasi-in_situ/C02/50_45/survey_2/2mm_center/pano009.tif'),\n",
       " WindowsPath('J:/Users/Berners, Lukas/LEO/quasi-in_situ/C02/50_45/survey_2/2mm_center/pano010.tif'),\n",
       " WindowsPath('J:/Users/Berners, Lukas/LEO/quasi-in_situ/C02/50_45/survey_2/2mm_center/pano011.tif'),\n",
       " WindowsPath('J:/Users/Berners, Lukas/LEO/quasi-in_situ/C02/50_45/survey_2/2mm_center/pano012.tif'),\n",
       " WindowsPath('J:/Users/Berners, Lukas/LEO/quasi-in_situ/C02/50_45/survey_2/2mm_center/pano013.tif'),\n",
       " WindowsPath('J:/Users/Berners, Lukas/LEO/quasi-in_situ/C02/50_45/survey_2/2mm_center/pano014.tif'),\n",
       " WindowsPath('J:/Users/Berners, Lukas/LEO/quasi-in_situ/C02/50_45/survey_2/2mm_center/pano015.tif'),\n",
       " WindowsPath('J:/Users/Berners, Lukas/LEO/quasi-in_situ/C02/50_45/survey_2/2mm_center/pano016.tif'),\n",
       " WindowsPath('J:/Users/Berners, Lukas/LEO/quasi-in_situ/C02/50_45/survey_2/2mm_center/pano017.tif'),\n",
       " WindowsPath('J:/Users/Berners, Lukas/LEO/quasi-in_situ/C02/50_45/survey_2/2mm_center/pano018.tif'),\n",
       " WindowsPath('J:/Users/Berners, Lukas/LEO/quasi-in_situ/C02/50_45/survey_2/2mm_center/pano019.tif'),\n",
       " WindowsPath('J:/Users/Berners, Lukas/LEO/quasi-in_situ/C02/50_45/survey_2/2mm_center/pano020.tif'),\n",
       " WindowsPath('J:/Users/Berners, Lukas/LEO/quasi-in_situ/C02/50_45/survey_2/2mm_center/pano021.tif'),\n",
       " WindowsPath('J:/Users/Berners, Lukas/LEO/quasi-in_situ/C02/50_45/survey_2/2mm_center/pano022.tif'),\n",
       " WindowsPath('J:/Users/Berners, Lukas/LEO/quasi-in_situ/C02/50_45/survey_2/2mm_center/pano023.tif'),\n",
       " WindowsPath('J:/Users/Berners, Lukas/LEO/quasi-in_situ/C02/50_45/survey_2/2mm_center/pano024.tif'),\n",
       " WindowsPath('J:/Users/Berners, Lukas/LEO/quasi-in_situ/C02/50_45/survey_2/2mm_center/pano025.tif'),\n",
       " WindowsPath('J:/Users/Berners, Lukas/LEO/quasi-in_situ/C02/50_45/survey_2/2mm_center/pano026.tif'),\n",
       " WindowsPath('J:/Users/Berners, Lukas/LEO/quasi-in_situ/C02/50_45/survey_2/2mm_center/pano027.tif'),\n",
       " WindowsPath('J:/Users/Berners, Lukas/LEO/quasi-in_situ/C02/50_45/survey_2/2mm_center/pano028.tif'),\n",
       " WindowsPath('J:/Users/Berners, Lukas/LEO/quasi-in_situ/C02/50_45/survey_2/2mm_center/pano029.tif')]"
      ]
     },
     "execution_count": 17,
     "metadata": {},
     "output_type": "execute_result"
    }
   ],
   "source": [
    "paths=list(file.parent.glob(f'**/pano*.tif'))\n",
    "paths"
   ]
  },
  {
   "cell_type": "code",
   "execution_count": 19,
   "id": "674c1bdc",
   "metadata": {},
   "outputs": [
    {
     "data": {
      "text/plain": [
       "WindowsPath('J:/Users/Berners, Lukas/LEO/quasi-in_situ/C02/50_45/survey_2/2mm_center')"
      ]
     },
     "execution_count": 19,
     "metadata": {},
     "output_type": "execute_result"
    }
   ],
   "source": [
    "paths[i].parent\n"
   ]
  },
  {
   "cell_type": "code",
   "execution_count": 21,
   "id": "f45fa043",
   "metadata": {},
   "outputs": [
    {
     "data": {
      "text/plain": [
       "[]"
      ]
     },
     "execution_count": 21,
     "metadata": {},
     "output_type": "execute_result"
    }
   ],
   "source": [
    "number\n"
   ]
  },
  {
   "cell_type": "code",
   "execution_count": 33,
   "id": "9fc7996f",
   "metadata": {},
   "outputs": [
    {
     "name": "stdout",
     "output_type": "stream",
     "text": [
      "[]\n"
     ]
    },
    {
     "ename": "AttributeError",
     "evalue": "module 'numpy' has no attribute 'logical_or'",
     "output_type": "error",
     "traceback": [
      "\u001b[1;31m---------------------------------------------------------------------------\u001b[0m",
      "\u001b[1;31mAttributeError\u001b[0m                            Traceback (most recent call last)",
      "Cell \u001b[1;32mIn[33], line 12\u001b[0m\n\u001b[0;32m     10\u001b[0m     img_path\n\u001b[0;32m     11\u001b[0m     \u001b[39m# imsave(f'{paths[1].parent}/50_45_2mm_survey_pano_{int(number[-1]):03d}.png',image)\u001b[39;00m\n\u001b[1;32m---> 12\u001b[0m     imsave(\u001b[39mf\u001b[39;49m\u001b[39m'\u001b[39;49m\u001b[39m{\u001b[39;49;00mpaths[\u001b[39m1\u001b[39;49m]\u001b[39m.\u001b[39;49mparent\u001b[39m}\u001b[39;49;00m\u001b[39m/50_45_2mm_survey_pano_\u001b[39;49m\u001b[39m{\u001b[39;49;00mi\u001b[39m:\u001b[39;49;00m\u001b[39m03d\u001b[39;49m\u001b[39m}\u001b[39;49;00m\u001b[39m.tif\u001b[39;49m\u001b[39m'\u001b[39;49m,image)\u001b[39m#{int(number[-1]):03d}.png',image)\u001b[39;00m\n\u001b[0;32m     13\u001b[0m     i\u001b[39m=\u001b[39mi\u001b[39m+\u001b[39m\u001b[39m1\u001b[39m\n\u001b[0;32m     14\u001b[0m \u001b[39m#     if i > 2:\u001b[39;00m\n\u001b[0;32m     15\u001b[0m \u001b[39m#         break\u001b[39;00m\n\u001b[0;32m     16\u001b[0m     \n\u001b[0;32m     17\u001b[0m \u001b[39m#    print(str(img_path.parent /'normalised' / img_path.parts[-1]))\u001b[39;00m\n",
      "File \u001b[1;32mc:\\Users\\berners\\AppData\\Local\\Programs\\Python\\Python39\\lib\\site-packages\\skimage\\io\\_io.py:141\u001b[0m, in \u001b[0;36mimsave\u001b[1;34m(fname, arr, plugin, check_contrast, **plugin_args)\u001b[0m\n\u001b[0;32m    137\u001b[0m     warn(\u001b[39mf\u001b[39m\u001b[39m'\u001b[39m\u001b[39m{\u001b[39;00mfname\u001b[39m}\u001b[39;00m\u001b[39m is a boolean image: setting True to 255 and False to 0. \u001b[39m\u001b[39m'\u001b[39m\n\u001b[0;32m    138\u001b[0m          \u001b[39m'\u001b[39m\u001b[39mTo silence this warning, please convert the image using \u001b[39m\u001b[39m'\u001b[39m\n\u001b[0;32m    139\u001b[0m          \u001b[39m'\u001b[39m\u001b[39mimg_as_ubyte.\u001b[39m\u001b[39m'\u001b[39m, stacklevel\u001b[39m=\u001b[39m\u001b[39m2\u001b[39m)\n\u001b[0;32m    140\u001b[0m     arr \u001b[39m=\u001b[39m arr\u001b[39m.\u001b[39mastype(\u001b[39m'\u001b[39m\u001b[39muint8\u001b[39m\u001b[39m'\u001b[39m) \u001b[39m*\u001b[39m \u001b[39m255\u001b[39m\n\u001b[1;32m--> 141\u001b[0m \u001b[39mif\u001b[39;00m check_contrast \u001b[39mand\u001b[39;00m is_low_contrast(arr):\n\u001b[0;32m    142\u001b[0m     warn(\u001b[39mf\u001b[39m\u001b[39m'\u001b[39m\u001b[39m{\u001b[39;00mfname\u001b[39m}\u001b[39;00m\u001b[39m is a low contrast image\u001b[39m\u001b[39m'\u001b[39m)\n\u001b[0;32m    143\u001b[0m \u001b[39mreturn\u001b[39;00m call_plugin(\u001b[39m'\u001b[39m\u001b[39mimsave\u001b[39m\u001b[39m'\u001b[39m, fname, arr, plugin\u001b[39m=\u001b[39mplugin, \u001b[39m*\u001b[39m\u001b[39m*\u001b[39mplugin_args)\n",
      "File \u001b[1;32mc:\\Users\\berners\\AppData\\Local\\Programs\\Python\\Python39\\lib\\site-packages\\skimage\\exposure\\exposure.py:836\u001b[0m, in \u001b[0;36mis_low_contrast\u001b[1;34m(image, fraction_threshold, lower_percentile, upper_percentile, method)\u001b[0m\n\u001b[0;32m    833\u001b[0m         image \u001b[39m=\u001b[39m rgb2gray(image)\n\u001b[0;32m    835\u001b[0m dlimits \u001b[39m=\u001b[39m dtype_limits(image, clip_negative\u001b[39m=\u001b[39m\u001b[39mFalse\u001b[39;00m)\n\u001b[1;32m--> 836\u001b[0m limits \u001b[39m=\u001b[39m np\u001b[39m.\u001b[39;49mpercentile(image, [lower_percentile, upper_percentile])\n\u001b[0;32m    837\u001b[0m ratio \u001b[39m=\u001b[39m (limits[\u001b[39m1\u001b[39m] \u001b[39m-\u001b[39m limits[\u001b[39m0\u001b[39m]) \u001b[39m/\u001b[39m (dlimits[\u001b[39m1\u001b[39m] \u001b[39m-\u001b[39m dlimits[\u001b[39m0\u001b[39m])\n\u001b[0;32m    839\u001b[0m \u001b[39mreturn\u001b[39;00m ratio \u001b[39m<\u001b[39m fraction_threshold\n",
      "File \u001b[1;32m<__array_function__ internals>:200\u001b[0m, in \u001b[0;36mpercentile\u001b[1;34m(*args, **kwargs)\u001b[0m\n",
      "File \u001b[1;32mc:\\Users\\berners\\AppData\\Local\\Programs\\Python\\Python39\\lib\\site-packages\\numpy\\lib\\function_base.py:4205\u001b[0m, in \u001b[0;36mpercentile\u001b[1;34m(a, q, axis, out, overwrite_input, method, keepdims, interpolation)\u001b[0m\n\u001b[0;32m   4203\u001b[0m \u001b[39mif\u001b[39;00m \u001b[39mnot\u001b[39;00m _quantile_is_valid(q):\n\u001b[0;32m   4204\u001b[0m     \u001b[39mraise\u001b[39;00m \u001b[39mValueError\u001b[39;00m(\u001b[39m\"\u001b[39m\u001b[39mPercentiles must be in the range [0, 100]\u001b[39m\u001b[39m\"\u001b[39m)\n\u001b[1;32m-> 4205\u001b[0m \u001b[39mreturn\u001b[39;00m _quantile_unchecked(\n\u001b[0;32m   4206\u001b[0m     a, q, axis, out, overwrite_input, method, keepdims)\n",
      "File \u001b[1;32mc:\\Users\\berners\\AppData\\Local\\Programs\\Python\\Python39\\lib\\site-packages\\numpy\\lib\\function_base.py:4473\u001b[0m, in \u001b[0;36m_quantile_unchecked\u001b[1;34m(a, q, axis, out, overwrite_input, method, keepdims)\u001b[0m\n\u001b[0;32m   4465\u001b[0m \u001b[39mdef\u001b[39;00m \u001b[39m_quantile_unchecked\u001b[39m(a,\n\u001b[0;32m   4466\u001b[0m                         q,\n\u001b[0;32m   4467\u001b[0m                         axis\u001b[39m=\u001b[39m\u001b[39mNone\u001b[39;00m,\n\u001b[1;32m   (...)\u001b[0m\n\u001b[0;32m   4470\u001b[0m                         method\u001b[39m=\u001b[39m\u001b[39m\"\u001b[39m\u001b[39mlinear\u001b[39m\u001b[39m\"\u001b[39m,\n\u001b[0;32m   4471\u001b[0m                         keepdims\u001b[39m=\u001b[39m\u001b[39mFalse\u001b[39;00m):\n\u001b[0;32m   4472\u001b[0m \u001b[39m    \u001b[39m\u001b[39m\"\"\"Assumes that q is in [0, 1], and is an ndarray\"\"\"\u001b[39;00m\n\u001b[1;32m-> 4473\u001b[0m     \u001b[39mreturn\u001b[39;00m _ureduce(a,\n\u001b[0;32m   4474\u001b[0m                     func\u001b[39m=\u001b[39;49m_quantile_ureduce_func,\n\u001b[0;32m   4475\u001b[0m                     q\u001b[39m=\u001b[39;49mq,\n\u001b[0;32m   4476\u001b[0m                     keepdims\u001b[39m=\u001b[39;49mkeepdims,\n\u001b[0;32m   4477\u001b[0m                     axis\u001b[39m=\u001b[39;49maxis,\n\u001b[0;32m   4478\u001b[0m                     out\u001b[39m=\u001b[39;49mout,\n\u001b[0;32m   4479\u001b[0m                     overwrite_input\u001b[39m=\u001b[39;49moverwrite_input,\n\u001b[0;32m   4480\u001b[0m                     method\u001b[39m=\u001b[39;49mmethod)\n",
      "File \u001b[1;32mc:\\Users\\berners\\AppData\\Local\\Programs\\Python\\Python39\\lib\\site-packages\\numpy\\lib\\function_base.py:3752\u001b[0m, in \u001b[0;36m_ureduce\u001b[1;34m(a, func, keepdims, **kwargs)\u001b[0m\n\u001b[0;32m   3749\u001b[0m             index_out \u001b[39m=\u001b[39m (\u001b[39m0\u001b[39m, ) \u001b[39m*\u001b[39m nd\n\u001b[0;32m   3750\u001b[0m             kwargs[\u001b[39m'\u001b[39m\u001b[39mout\u001b[39m\u001b[39m'\u001b[39m] \u001b[39m=\u001b[39m out[(\u001b[39mEllipsis\u001b[39m, ) \u001b[39m+\u001b[39m index_out]\n\u001b[1;32m-> 3752\u001b[0m r \u001b[39m=\u001b[39m func(a, \u001b[39m*\u001b[39m\u001b[39m*\u001b[39mkwargs)\n\u001b[0;32m   3754\u001b[0m \u001b[39mif\u001b[39;00m out \u001b[39mis\u001b[39;00m \u001b[39mnot\u001b[39;00m \u001b[39mNone\u001b[39;00m:\n\u001b[0;32m   3755\u001b[0m     \u001b[39mreturn\u001b[39;00m out\n",
      "File \u001b[1;32mc:\\Users\\berners\\AppData\\Local\\Programs\\Python\\Python39\\lib\\site-packages\\numpy\\lib\\function_base.py:4639\u001b[0m, in \u001b[0;36m_quantile_ureduce_func\u001b[1;34m(a, q, axis, out, overwrite_input, method)\u001b[0m\n\u001b[0;32m   4637\u001b[0m     \u001b[39melse\u001b[39;00m:\n\u001b[0;32m   4638\u001b[0m         arr \u001b[39m=\u001b[39m a\u001b[39m.\u001b[39mcopy()\n\u001b[1;32m-> 4639\u001b[0m result \u001b[39m=\u001b[39m _quantile(arr,\n\u001b[0;32m   4640\u001b[0m                    quantiles\u001b[39m=\u001b[39;49mq,\n\u001b[0;32m   4641\u001b[0m                    axis\u001b[39m=\u001b[39;49maxis,\n\u001b[0;32m   4642\u001b[0m                    method\u001b[39m=\u001b[39;49mmethod,\n\u001b[0;32m   4643\u001b[0m                    out\u001b[39m=\u001b[39;49mout)\n\u001b[0;32m   4644\u001b[0m \u001b[39mreturn\u001b[39;00m result\n",
      "File \u001b[1;32mc:\\Users\\berners\\AppData\\Local\\Programs\\Python\\Python39\\lib\\site-packages\\numpy\\lib\\function_base.py:4760\u001b[0m, in \u001b[0;36m_quantile\u001b[1;34m(arr, quantiles, axis, method, out)\u001b[0m\n\u001b[0;32m   4755\u001b[0m     gamma \u001b[39m=\u001b[39m gamma\u001b[39m.\u001b[39mreshape(result_shape)\n\u001b[0;32m   4756\u001b[0m     result \u001b[39m=\u001b[39m _lerp(previous,\n\u001b[0;32m   4757\u001b[0m                    \u001b[39mnext\u001b[39m,\n\u001b[0;32m   4758\u001b[0m                    gamma,\n\u001b[0;32m   4759\u001b[0m                    out\u001b[39m=\u001b[39mout)\n\u001b[1;32m-> 4760\u001b[0m \u001b[39mif\u001b[39;00m np\u001b[39m.\u001b[39;49many(slices_having_nans):\n\u001b[0;32m   4761\u001b[0m     \u001b[39mif\u001b[39;00m result\u001b[39m.\u001b[39mndim \u001b[39m==\u001b[39m \u001b[39m0\u001b[39m \u001b[39mand\u001b[39;00m out \u001b[39mis\u001b[39;00m \u001b[39mNone\u001b[39;00m:\n\u001b[0;32m   4762\u001b[0m         \u001b[39m# can't write to a scalar\u001b[39;00m\n\u001b[0;32m   4763\u001b[0m         result \u001b[39m=\u001b[39m arr\u001b[39m.\u001b[39mdtype\u001b[39m.\u001b[39mtype(np\u001b[39m.\u001b[39mnan)\n",
      "File \u001b[1;32m<__array_function__ internals>:200\u001b[0m, in \u001b[0;36many\u001b[1;34m(*args, **kwargs)\u001b[0m\n",
      "File \u001b[1;32mc:\\Users\\berners\\AppData\\Local\\Programs\\Python\\Python39\\lib\\site-packages\\numpy\\core\\fromnumeric.py:2423\u001b[0m, in \u001b[0;36many\u001b[1;34m(a, axis, out, keepdims, where)\u001b[0m\n\u001b[0;32m   2333\u001b[0m \u001b[39m@array_function_dispatch\u001b[39m(_any_dispatcher)\n\u001b[0;32m   2334\u001b[0m \u001b[39mdef\u001b[39;00m \u001b[39many\u001b[39m(a, axis\u001b[39m=\u001b[39m\u001b[39mNone\u001b[39;00m, out\u001b[39m=\u001b[39m\u001b[39mNone\u001b[39;00m, keepdims\u001b[39m=\u001b[39mnp\u001b[39m.\u001b[39m_NoValue, \u001b[39m*\u001b[39m, where\u001b[39m=\u001b[39mnp\u001b[39m.\u001b[39m_NoValue):\n\u001b[0;32m   2335\u001b[0m \u001b[39m    \u001b[39m\u001b[39m\"\"\"\u001b[39;00m\n\u001b[0;32m   2336\u001b[0m \u001b[39m    Test whether any array element along a given axis evaluates to True.\u001b[39;00m\n\u001b[0;32m   2337\u001b[0m \n\u001b[1;32m   (...)\u001b[0m\n\u001b[0;32m   2421\u001b[0m \n\u001b[0;32m   2422\u001b[0m \u001b[39m    \"\"\"\u001b[39;00m\n\u001b[1;32m-> 2423\u001b[0m     \u001b[39mreturn\u001b[39;00m _wrapreduction(a, np\u001b[39m.\u001b[39;49mlogical_or, \u001b[39m'\u001b[39m\u001b[39many\u001b[39m\u001b[39m'\u001b[39m, axis, \u001b[39mNone\u001b[39;00m, out,\n\u001b[0;32m   2424\u001b[0m                           keepdims\u001b[39m=\u001b[39mkeepdims, where\u001b[39m=\u001b[39mwhere)\n",
      "\u001b[1;31mAttributeError\u001b[0m: module 'numpy' has no attribute 'logical_or'"
     ]
    }
   ],
   "source": [
    "#reference = imread(refpath)\n",
    "i=0\n",
    "for img_path in paths:   \n",
    "    image = imread(img_path)\n",
    "    #matched = match_histograms(image, reference)\n",
    "    #matched_uint8 = matched.astype(np.uint8)\n",
    "    print(re.findall('-([\\d]+)',img_path.stem))\n",
    "    number=re.findall('-([\\d]+)',img_path.stem)\n",
    "#     print(number)\n",
    "    img_path\n",
    "    # imsave(f'{paths[1].parent}/50_45_2mm_survey_pano_{int(number[-1]):03d}.png',image)\n",
    "    imsave(f'{paths[1].parent}/50_45_2mm_survey_pano_{i:03d}.tif',image)#{int(number[-1]):03d}.png',image)\n",
    "    i=i+1\n",
    "#     if i > 2:\n",
    "#         break\n",
    "    \n",
    "#    print(str(img_path.parent /'normalised' / img_path.parts[-1]))"
   ]
  },
  {
   "cell_type": "code",
   "execution_count": 39,
   "id": "dd8cc31b",
   "metadata": {},
   "outputs": [],
   "source": [
    "i=0\n",
    "for img_path in paths:   \n",
    "    with Image.open(img_path) as im:\n",
    "        #im.thumbnail(size)\n",
    "         im.save(f'{paths[1].parent}/50_45_2mm_survey_pano_{i:03d}.tif','png')#{int(number[-1]):03d}.png',image)\n",
    "    i=i+1\n",
    "    #matched = match_histograms(image, reference)\n",
    "    #matched_uint8 = matched.astype(np.uint8)\n",
    "#     print(re.findall('-([\\d]+)',img_path.stem))\n",
    "#     number=re.findall('-([\\d]+)',img_path.stem)\n",
    "# #     print(number)\n",
    "#     img_path\n",
    "#     # imsave(f'{paths[1].parent}/50_45_2mm_survey_pano_{int(number[-1]):03d}.png',image)\n",
    "#     imsave(f'{paths[1].parent}/50_45_2mm_survey_pano_{i:03d}.tif',image)#{int(number[-1]):03d}.png',image)\n",
    "#     i=i+1\n",
    "#     if i > 2:\n",
    "#         break\n",
    "    \n",
    "#    print(str(img_path.parent /'normalised' / img_path.parts[-1]))"
   ]
  },
  {
   "cell_type": "code",
   "execution_count": 36,
   "id": "eda9bf2c",
   "metadata": {},
   "outputs": [
    {
     "data": {
      "text/plain": [
       "WindowsPath('J:/Users/Berners, Lukas/LEO/quasi-in_situ/C02/50_45/survey_2/2mm_center')"
      ]
     },
     "execution_count": 36,
     "metadata": {},
     "output_type": "execute_result"
    }
   ],
   "source": [
    "paths[1].parent"
   ]
  },
  {
   "cell_type": "code",
   "execution_count": 28,
   "id": "f9a6ef91",
   "metadata": {},
   "outputs": [
    {
     "ename": "AttributeError",
     "evalue": "module 'numpy' has no attribute 'logical_or'",
     "output_type": "error",
     "traceback": [
      "\u001b[1;31m---------------------------------------------------------------------------\u001b[0m",
      "\u001b[1;31mAttributeError\u001b[0m                            Traceback (most recent call last)",
      "Cell \u001b[1;32mIn[28], line 1\u001b[0m\n\u001b[1;32m----> 1\u001b[0m plt\u001b[39m.\u001b[39;49mimshow(image)\n",
      "File \u001b[1;32mc:\\Users\\berners\\AppData\\Local\\Programs\\Python\\Python39\\lib\\site-packages\\matplotlib\\pyplot.py:2668\u001b[0m, in \u001b[0;36mimshow\u001b[1;34m(X, cmap, norm, aspect, interpolation, alpha, vmin, vmax, origin, extent, interpolation_stage, filternorm, filterrad, resample, url, data, **kwargs)\u001b[0m\n\u001b[0;32m   2662\u001b[0m \u001b[39m@_copy_docstring_and_deprecators\u001b[39m(Axes\u001b[39m.\u001b[39mimshow)\n\u001b[0;32m   2663\u001b[0m \u001b[39mdef\u001b[39;00m \u001b[39mimshow\u001b[39m(\n\u001b[0;32m   2664\u001b[0m         X, cmap\u001b[39m=\u001b[39m\u001b[39mNone\u001b[39;00m, norm\u001b[39m=\u001b[39m\u001b[39mNone\u001b[39;00m, \u001b[39m*\u001b[39m, aspect\u001b[39m=\u001b[39m\u001b[39mNone\u001b[39;00m, interpolation\u001b[39m=\u001b[39m\u001b[39mNone\u001b[39;00m,\n\u001b[0;32m   2665\u001b[0m         alpha\u001b[39m=\u001b[39m\u001b[39mNone\u001b[39;00m, vmin\u001b[39m=\u001b[39m\u001b[39mNone\u001b[39;00m, vmax\u001b[39m=\u001b[39m\u001b[39mNone\u001b[39;00m, origin\u001b[39m=\u001b[39m\u001b[39mNone\u001b[39;00m, extent\u001b[39m=\u001b[39m\u001b[39mNone\u001b[39;00m,\n\u001b[0;32m   2666\u001b[0m         interpolation_stage\u001b[39m=\u001b[39m\u001b[39mNone\u001b[39;00m, filternorm\u001b[39m=\u001b[39m\u001b[39mTrue\u001b[39;00m, filterrad\u001b[39m=\u001b[39m\u001b[39m4.0\u001b[39m,\n\u001b[0;32m   2667\u001b[0m         resample\u001b[39m=\u001b[39m\u001b[39mNone\u001b[39;00m, url\u001b[39m=\u001b[39m\u001b[39mNone\u001b[39;00m, data\u001b[39m=\u001b[39m\u001b[39mNone\u001b[39;00m, \u001b[39m*\u001b[39m\u001b[39m*\u001b[39mkwargs):\n\u001b[1;32m-> 2668\u001b[0m     __ret \u001b[39m=\u001b[39m gca()\u001b[39m.\u001b[39mimshow(\n\u001b[0;32m   2669\u001b[0m         X, cmap\u001b[39m=\u001b[39mcmap, norm\u001b[39m=\u001b[39mnorm, aspect\u001b[39m=\u001b[39maspect,\n\u001b[0;32m   2670\u001b[0m         interpolation\u001b[39m=\u001b[39minterpolation, alpha\u001b[39m=\u001b[39malpha, vmin\u001b[39m=\u001b[39mvmin,\n\u001b[0;32m   2671\u001b[0m         vmax\u001b[39m=\u001b[39mvmax, origin\u001b[39m=\u001b[39morigin, extent\u001b[39m=\u001b[39mextent,\n\u001b[0;32m   2672\u001b[0m         interpolation_stage\u001b[39m=\u001b[39minterpolation_stage,\n\u001b[0;32m   2673\u001b[0m         filternorm\u001b[39m=\u001b[39mfilternorm, filterrad\u001b[39m=\u001b[39mfilterrad, resample\u001b[39m=\u001b[39mresample,\n\u001b[0;32m   2674\u001b[0m         url\u001b[39m=\u001b[39murl, \u001b[39m*\u001b[39m\u001b[39m*\u001b[39m({\u001b[39m\"\u001b[39m\u001b[39mdata\u001b[39m\u001b[39m\"\u001b[39m: data} \u001b[39mif\u001b[39;00m data \u001b[39mis\u001b[39;00m \u001b[39mnot\u001b[39;00m \u001b[39mNone\u001b[39;00m \u001b[39melse\u001b[39;00m {}),\n\u001b[0;32m   2675\u001b[0m         \u001b[39m*\u001b[39m\u001b[39m*\u001b[39mkwargs)\n\u001b[0;32m   2676\u001b[0m     sci(__ret)\n\u001b[0;32m   2677\u001b[0m     \u001b[39mreturn\u001b[39;00m __ret\n",
      "File \u001b[1;32mc:\\Users\\berners\\AppData\\Local\\Programs\\Python\\Python39\\lib\\site-packages\\matplotlib\\pyplot.py:2282\u001b[0m, in \u001b[0;36mgca\u001b[1;34m()\u001b[0m\n\u001b[0;32m   2280\u001b[0m \u001b[39m@_copy_docstring_and_deprecators\u001b[39m(Figure\u001b[39m.\u001b[39mgca)\n\u001b[0;32m   2281\u001b[0m \u001b[39mdef\u001b[39;00m \u001b[39mgca\u001b[39m():\n\u001b[1;32m-> 2282\u001b[0m     \u001b[39mreturn\u001b[39;00m gcf()\u001b[39m.\u001b[39;49mgca()\n",
      "File \u001b[1;32mc:\\Users\\berners\\AppData\\Local\\Programs\\Python\\Python39\\lib\\site-packages\\matplotlib\\figure.py:1615\u001b[0m, in \u001b[0;36mFigureBase.gca\u001b[1;34m(self)\u001b[0m\n\u001b[0;32m   1605\u001b[0m \u001b[39m\u001b[39m\u001b[39m\"\"\"\u001b[39;00m\n\u001b[0;32m   1606\u001b[0m \u001b[39mGet the current Axes.\u001b[39;00m\n\u001b[0;32m   1607\u001b[0m \n\u001b[1;32m   (...)\u001b[0m\n\u001b[0;32m   1612\u001b[0m \u001b[39mwhether `.pyplot.get_fignums()` is empty.)\u001b[39;00m\n\u001b[0;32m   1613\u001b[0m \u001b[39m\"\"\"\u001b[39;00m\n\u001b[0;32m   1614\u001b[0m ax \u001b[39m=\u001b[39m \u001b[39mself\u001b[39m\u001b[39m.\u001b[39m_axstack\u001b[39m.\u001b[39mcurrent()\n\u001b[1;32m-> 1615\u001b[0m \u001b[39mreturn\u001b[39;00m ax \u001b[39mif\u001b[39;00m ax \u001b[39mis\u001b[39;00m \u001b[39mnot\u001b[39;00m \u001b[39mNone\u001b[39;00m \u001b[39melse\u001b[39;00m \u001b[39mself\u001b[39;49m\u001b[39m.\u001b[39;49madd_subplot()\n",
      "File \u001b[1;32mc:\\Users\\berners\\AppData\\Local\\Programs\\Python\\Python39\\lib\\site-packages\\matplotlib\\figure.py:743\u001b[0m, in \u001b[0;36mFigureBase.add_subplot\u001b[1;34m(self, *args, **kwargs)\u001b[0m\n\u001b[0;32m    740\u001b[0m         args \u001b[39m=\u001b[39m \u001b[39mtuple\u001b[39m(\u001b[39mmap\u001b[39m(\u001b[39mint\u001b[39m, \u001b[39mstr\u001b[39m(args[\u001b[39m0\u001b[39m])))\n\u001b[0;32m    741\u001b[0m     projection_class, pkw \u001b[39m=\u001b[39m \u001b[39mself\u001b[39m\u001b[39m.\u001b[39m_process_projection_requirements(\n\u001b[0;32m    742\u001b[0m         \u001b[39m*\u001b[39margs, \u001b[39m*\u001b[39m\u001b[39m*\u001b[39mkwargs)\n\u001b[1;32m--> 743\u001b[0m     ax \u001b[39m=\u001b[39m projection_class(\u001b[39mself\u001b[39m, \u001b[39m*\u001b[39margs, \u001b[39m*\u001b[39m\u001b[39m*\u001b[39mpkw)\n\u001b[0;32m    744\u001b[0m     key \u001b[39m=\u001b[39m (projection_class, pkw)\n\u001b[0;32m    745\u001b[0m \u001b[39mreturn\u001b[39;00m \u001b[39mself\u001b[39m\u001b[39m.\u001b[39m_add_axes_internal(ax, key)\n",
      "File \u001b[1;32mc:\\Users\\berners\\AppData\\Local\\Programs\\Python\\Python39\\lib\\site-packages\\matplotlib\\axes\\_base.py:661\u001b[0m, in \u001b[0;36m_AxesBase.__init__\u001b[1;34m(self, fig, facecolor, frameon, sharex, sharey, label, xscale, yscale, box_aspect, *args, **kwargs)\u001b[0m\n\u001b[0;32m    657\u001b[0m \u001b[39m# The subplotspec needs to be set after the figure (so that\u001b[39;00m\n\u001b[0;32m    658\u001b[0m \u001b[39m# figure-level subplotpars are taken into account), but the figure\u001b[39;00m\n\u001b[0;32m    659\u001b[0m \u001b[39m# needs to be set after self._position is initialized.\u001b[39;00m\n\u001b[0;32m    660\u001b[0m \u001b[39mif\u001b[39;00m subplotspec:\n\u001b[1;32m--> 661\u001b[0m     \u001b[39mself\u001b[39;49m\u001b[39m.\u001b[39;49mset_subplotspec(subplotspec)\n\u001b[0;32m    662\u001b[0m \u001b[39melse\u001b[39;00m:\n\u001b[0;32m    663\u001b[0m     \u001b[39mself\u001b[39m\u001b[39m.\u001b[39m_subplotspec \u001b[39m=\u001b[39m \u001b[39mNone\u001b[39;00m\n",
      "File \u001b[1;32mc:\\Users\\berners\\AppData\\Local\\Programs\\Python\\Python39\\lib\\site-packages\\matplotlib\\axes\\_base.py:793\u001b[0m, in \u001b[0;36m_AxesBase.set_subplotspec\u001b[1;34m(self, subplotspec)\u001b[0m\n\u001b[0;32m    791\u001b[0m \u001b[39m\u001b[39m\u001b[39m\"\"\"Set the `.SubplotSpec`. associated with the subplot.\"\"\"\u001b[39;00m\n\u001b[0;32m    792\u001b[0m \u001b[39mself\u001b[39m\u001b[39m.\u001b[39m_subplotspec \u001b[39m=\u001b[39m subplotspec\n\u001b[1;32m--> 793\u001b[0m \u001b[39mself\u001b[39;49m\u001b[39m.\u001b[39;49m_set_position(subplotspec\u001b[39m.\u001b[39;49mget_position(\u001b[39mself\u001b[39;49m\u001b[39m.\u001b[39;49mfigure))\n",
      "File \u001b[1;32mc:\\Users\\berners\\AppData\\Local\\Programs\\Python\\Python39\\lib\\site-packages\\matplotlib\\axes\\_base.py:1145\u001b[0m, in \u001b[0;36m_AxesBase._set_position\u001b[1;34m(self, pos, which)\u001b[0m\n\u001b[0;32m   1143\u001b[0m \u001b[39mfor\u001b[39;00m ax \u001b[39min\u001b[39;00m \u001b[39mself\u001b[39m\u001b[39m.\u001b[39m_twinned_axes\u001b[39m.\u001b[39mget_siblings(\u001b[39mself\u001b[39m):\n\u001b[0;32m   1144\u001b[0m     \u001b[39mif\u001b[39;00m which \u001b[39min\u001b[39;00m (\u001b[39m'\u001b[39m\u001b[39mboth\u001b[39m\u001b[39m'\u001b[39m, \u001b[39m'\u001b[39m\u001b[39mactive\u001b[39m\u001b[39m'\u001b[39m):\n\u001b[1;32m-> 1145\u001b[0m         ax\u001b[39m.\u001b[39;49m_position\u001b[39m.\u001b[39;49mset(pos)\n\u001b[0;32m   1146\u001b[0m     \u001b[39mif\u001b[39;00m which \u001b[39min\u001b[39;00m (\u001b[39m'\u001b[39m\u001b[39mboth\u001b[39m\u001b[39m'\u001b[39m, \u001b[39m'\u001b[39m\u001b[39moriginal\u001b[39m\u001b[39m'\u001b[39m):\n\u001b[0;32m   1147\u001b[0m         ax\u001b[39m.\u001b[39m_originalPosition\u001b[39m.\u001b[39mset(pos)\n",
      "File \u001b[1;32mc:\\Users\\berners\\AppData\\Local\\Programs\\Python\\Python39\\lib\\site-packages\\matplotlib\\transforms.py:1061\u001b[0m, in \u001b[0;36mBbox.set\u001b[1;34m(self, other)\u001b[0m\n\u001b[0;32m   1057\u001b[0m \u001b[39mdef\u001b[39;00m \u001b[39mset\u001b[39m(\u001b[39mself\u001b[39m, other):\n\u001b[0;32m   1058\u001b[0m \u001b[39m    \u001b[39m\u001b[39m\"\"\"\u001b[39;00m\n\u001b[0;32m   1059\u001b[0m \u001b[39m    Set this bounding box from the \"frozen\" bounds of another `Bbox`.\u001b[39;00m\n\u001b[0;32m   1060\u001b[0m \u001b[39m    \"\"\"\u001b[39;00m\n\u001b[1;32m-> 1061\u001b[0m     \u001b[39mif\u001b[39;00m np\u001b[39m.\u001b[39;49many(\u001b[39mself\u001b[39;49m\u001b[39m.\u001b[39;49m_points \u001b[39m!=\u001b[39;49m other\u001b[39m.\u001b[39;49mget_points()):\n\u001b[0;32m   1062\u001b[0m         \u001b[39mself\u001b[39m\u001b[39m.\u001b[39m_points \u001b[39m=\u001b[39m other\u001b[39m.\u001b[39mget_points()\n\u001b[0;32m   1063\u001b[0m         \u001b[39mself\u001b[39m\u001b[39m.\u001b[39minvalidate()\n",
      "File \u001b[1;32m<__array_function__ internals>:200\u001b[0m, in \u001b[0;36many\u001b[1;34m(*args, **kwargs)\u001b[0m\n",
      "File \u001b[1;32mc:\\Users\\berners\\AppData\\Local\\Programs\\Python\\Python39\\lib\\site-packages\\numpy\\core\\fromnumeric.py:2423\u001b[0m, in \u001b[0;36many\u001b[1;34m(a, axis, out, keepdims, where)\u001b[0m\n\u001b[0;32m   2333\u001b[0m \u001b[39m@array_function_dispatch\u001b[39m(_any_dispatcher)\n\u001b[0;32m   2334\u001b[0m \u001b[39mdef\u001b[39;00m \u001b[39many\u001b[39m(a, axis\u001b[39m=\u001b[39m\u001b[39mNone\u001b[39;00m, out\u001b[39m=\u001b[39m\u001b[39mNone\u001b[39;00m, keepdims\u001b[39m=\u001b[39mnp\u001b[39m.\u001b[39m_NoValue, \u001b[39m*\u001b[39m, where\u001b[39m=\u001b[39mnp\u001b[39m.\u001b[39m_NoValue):\n\u001b[0;32m   2335\u001b[0m \u001b[39m    \u001b[39m\u001b[39m\"\"\"\u001b[39;00m\n\u001b[0;32m   2336\u001b[0m \u001b[39m    Test whether any array element along a given axis evaluates to True.\u001b[39;00m\n\u001b[0;32m   2337\u001b[0m \n\u001b[1;32m   (...)\u001b[0m\n\u001b[0;32m   2421\u001b[0m \n\u001b[0;32m   2422\u001b[0m \u001b[39m    \"\"\"\u001b[39;00m\n\u001b[1;32m-> 2423\u001b[0m     \u001b[39mreturn\u001b[39;00m _wrapreduction(a, np\u001b[39m.\u001b[39;49mlogical_or, \u001b[39m'\u001b[39m\u001b[39many\u001b[39m\u001b[39m'\u001b[39m, axis, \u001b[39mNone\u001b[39;00m, out,\n\u001b[0;32m   2424\u001b[0m                           keepdims\u001b[39m=\u001b[39mkeepdims, where\u001b[39m=\u001b[39mwhere)\n",
      "\u001b[1;31mAttributeError\u001b[0m: module 'numpy' has no attribute 'logical_or'"
     ]
    },
    {
     "data": {
      "text/plain": [
       "<Figure size 640x480 with 0 Axes>"
      ]
     },
     "metadata": {},
     "output_type": "display_data"
    }
   ],
   "source": [
    "\n",
    "plt.imshow(image)"
   ]
  },
  {
   "cell_type": "code",
   "execution_count": 6,
   "id": "dcabf0a4",
   "metadata": {},
   "outputs": [
    {
     "name": "stdout",
     "output_type": "stream",
     "text": [
      "['1']\n",
      "['10']\n",
      "['100']\n",
      "['101']\n",
      "['102']\n",
      "['103']\n",
      "['104']\n",
      "['105']\n",
      "['106']\n",
      "['107']\n",
      "['108']\n",
      "['109']\n",
      "['11']\n",
      "['110']\n",
      "['111']\n",
      "['112']\n",
      "['113']\n",
      "['114']\n",
      "['115']\n",
      "['116']\n",
      "['117']\n",
      "['118']\n",
      "['119']\n",
      "['12']\n",
      "['120']\n",
      "['121']\n",
      "['122']\n",
      "['123']\n",
      "['124']\n",
      "['125']\n",
      "['126']\n",
      "['127']\n",
      "['128']\n",
      "['129']\n",
      "['13']\n",
      "['130']\n",
      "['131']\n",
      "['132']\n",
      "['133']\n",
      "['134']\n",
      "['135']\n",
      "['136']\n",
      "['137']\n",
      "['138']\n",
      "['139']\n",
      "['14']\n",
      "['140']\n",
      "['141']\n",
      "['142']\n",
      "['143']\n",
      "['144']\n",
      "['145']\n",
      "['146']\n",
      "['147']\n",
      "['148']\n",
      "['149']\n",
      "['15']\n",
      "['150']\n",
      "['151']\n",
      "['152']\n",
      "['153']\n",
      "['154']\n",
      "['155']\n",
      "['156']\n",
      "['157']\n",
      "['158']\n",
      "['159']\n",
      "['16']\n",
      "['160']\n",
      "['161']\n",
      "['162']\n",
      "['163']\n",
      "['164']\n",
      "['165']\n",
      "['166']\n",
      "['167']\n",
      "['168']\n",
      "['169']\n",
      "['17']\n",
      "['170']\n",
      "['171']\n",
      "['172']\n",
      "['173']\n",
      "['174']\n",
      "['175']\n",
      "['176']\n",
      "['177']\n",
      "['178']\n",
      "['179']\n",
      "['18']\n",
      "['180']\n",
      "['181']\n",
      "['182']\n",
      "['183']\n",
      "['184']\n",
      "['185']\n",
      "['186']\n",
      "['187']\n",
      "['188']\n",
      "['189']\n",
      "['19']\n",
      "['190']\n",
      "['191']\n",
      "['192']\n",
      "['193']\n",
      "['194']\n",
      "['195']\n",
      "['196']\n",
      "['197']\n",
      "['198']\n",
      "['199']\n",
      "['2']\n",
      "['20']\n",
      "['200']\n",
      "['201']\n",
      "['202']\n",
      "['203']\n",
      "['204']\n",
      "['205']\n",
      "['206']\n",
      "['207']\n",
      "['208']\n",
      "['209']\n",
      "['21']\n",
      "['210']\n",
      "['211']\n",
      "['212']\n",
      "['213']\n",
      "['214']\n",
      "['215']\n",
      "['216']\n",
      "['217']\n",
      "['218']\n",
      "['219']\n",
      "['22']\n",
      "['220']\n",
      "['221']\n",
      "['222']\n",
      "['223']\n",
      "['224']\n",
      "['225']\n",
      "['226']\n",
      "['227']\n",
      "['228']\n",
      "['229']\n",
      "['23']\n",
      "['230']\n",
      "['231']\n",
      "['232']\n",
      "['233']\n",
      "['234']\n",
      "['235']\n",
      "['236']\n",
      "['237']\n",
      "['238']\n",
      "['239']\n",
      "['24']\n",
      "['240']\n",
      "['241']\n",
      "['242']\n",
      "['243']\n",
      "['244']\n",
      "['245']\n",
      "['246']\n",
      "['247']\n",
      "['248']\n",
      "['249']\n",
      "['25']\n",
      "['250']\n",
      "['251']\n",
      "['252']\n",
      "['253']\n",
      "['254']\n",
      "['255']\n",
      "['256']\n",
      "['257']\n",
      "['258']\n",
      "['259']\n",
      "['26']\n",
      "['260']\n",
      "['261']\n",
      "['262']\n",
      "['263']\n",
      "['264']\n",
      "['265']\n",
      "['266']\n",
      "['267']\n",
      "['268']\n",
      "['269']\n",
      "['27']\n",
      "['270']\n",
      "['271']\n",
      "['272']\n",
      "['273']\n",
      "['274']\n",
      "['275']\n",
      "['276']\n",
      "['277']\n",
      "['278']\n",
      "['279']\n",
      "['28']\n",
      "['280']\n",
      "['281']\n",
      "['282']\n",
      "['283']\n",
      "['284']\n",
      "['285']\n",
      "['286']\n",
      "['287']\n",
      "['288']\n",
      "['289']\n",
      "['29']\n",
      "['290']\n",
      "['291']\n",
      "['292']\n",
      "['293']\n",
      "['294']\n",
      "['295']\n",
      "['296']\n",
      "['297']\n",
      "['298']\n",
      "['299']\n",
      "['3']\n",
      "['30']\n",
      "['300']\n",
      "['301']\n",
      "['302']\n",
      "['303']\n",
      "['304']\n",
      "['305']\n",
      "['306']\n",
      "['307']\n",
      "['308']\n",
      "['309']\n",
      "['31']\n",
      "['310']\n",
      "['311']\n",
      "['312']\n",
      "['313']\n",
      "['314']\n",
      "['315']\n",
      "['316']\n",
      "['317']\n",
      "['318']\n",
      "['319']\n",
      "['32']\n",
      "['320']\n",
      "['321']\n",
      "['322']\n",
      "['323']\n",
      "['324']\n",
      "['325']\n",
      "['326']\n",
      "['327']\n",
      "['328']\n",
      "['329']\n",
      "['33']\n",
      "['330']\n",
      "['331']\n",
      "['332']\n",
      "['333']\n",
      "['334']\n",
      "['335']\n",
      "['336']\n",
      "['337']\n",
      "['338']\n",
      "['339']\n",
      "['34']\n",
      "['340']\n",
      "['341']\n",
      "['342']\n",
      "['343']\n",
      "['344']\n",
      "['345']\n",
      "['346']\n",
      "['347']\n",
      "['348']\n",
      "['349']\n",
      "['35']\n",
      "['350']\n",
      "['351']\n",
      "['352']\n",
      "['353']\n",
      "['354']\n",
      "['355']\n",
      "['356']\n",
      "['357']\n",
      "['358']\n",
      "['359']\n",
      "['36']\n",
      "['360']\n",
      "['361']\n",
      "['362']\n",
      "['363']\n",
      "['364']\n",
      "['365']\n",
      "['366']\n",
      "['367']\n",
      "['368']\n",
      "['369']\n",
      "['37']\n",
      "['370']\n",
      "['371']\n",
      "['372']\n",
      "['373']\n",
      "['374']\n",
      "['375']\n",
      "['376']\n",
      "['377']\n",
      "['378']\n",
      "['379']\n",
      "['38']\n",
      "['380']\n",
      "['381']\n",
      "['382']\n",
      "['383']\n",
      "['384']\n",
      "['385']\n",
      "['386']\n",
      "['387']\n",
      "['388']\n",
      "['389']\n",
      "['39']\n",
      "['390']\n",
      "['391']\n",
      "['392']\n",
      "['393']\n",
      "['394']\n",
      "['395']\n",
      "['396']\n",
      "['397']\n",
      "['398']\n",
      "['399']\n",
      "['4']\n",
      "['40']\n",
      "['400']\n",
      "['401']\n",
      "['402']\n",
      "['403']\n",
      "['404']\n",
      "['405']\n",
      "['406']\n",
      "['407']\n",
      "['408']\n",
      "['409']\n",
      "['41']\n",
      "['410']\n",
      "['411']\n",
      "['412']\n",
      "['413']\n",
      "['414']\n",
      "['415']\n",
      "['416']\n",
      "['417']\n",
      "['418']\n",
      "['419']\n",
      "['42']\n",
      "['420']\n",
      "['421']\n",
      "['422']\n",
      "['423']\n",
      "['424']\n",
      "['425']\n",
      "['426']\n",
      "['427']\n",
      "['428']\n",
      "['429']\n",
      "['43']\n",
      "['430']\n",
      "['431']\n",
      "['432']\n",
      "['433']\n",
      "['434']\n",
      "['435']\n",
      "['436']\n",
      "['437']\n",
      "['438']\n",
      "['439']\n",
      "['44']\n",
      "['440']\n",
      "['441']\n",
      "['442']\n",
      "['443']\n",
      "['444']\n",
      "['445']\n",
      "['446']\n",
      "['447']\n",
      "['448']\n",
      "['449']\n",
      "['45']\n",
      "['46']\n",
      "['47']\n",
      "['48']\n",
      "['49']\n",
      "['5']\n",
      "['50']\n",
      "['51']\n",
      "['52']\n",
      "['53']\n",
      "['54']\n",
      "['55']\n",
      "['56']\n",
      "['57']\n",
      "['58']\n",
      "['59']\n",
      "['6']\n",
      "['60']\n",
      "['61']\n",
      "['62']\n",
      "['63']\n",
      "['64']\n",
      "['65']\n",
      "['66']\n",
      "['67']\n",
      "['68']\n",
      "['69']\n",
      "['7']\n",
      "['70']\n",
      "['71']\n",
      "['72']\n",
      "['73']\n",
      "['74']\n",
      "['75']\n",
      "['76']\n",
      "['77']\n",
      "['78']\n",
      "['79']\n",
      "['8']\n",
      "['80']\n",
      "['81']\n",
      "['82']\n",
      "['83']\n",
      "['84']\n",
      "['85']\n",
      "['86']\n",
      "['87']\n",
      "['88']\n",
      "['89']\n",
      "['9']\n",
      "['90']\n",
      "['91']\n",
      "['92']\n",
      "['93']\n",
      "['94']\n",
      "['95']\n",
      "['96']\n",
      "['97']\n",
      "['98']\n",
      "['99']\n"
     ]
    },
    {
     "ename": "FileNotFoundError",
     "evalue": "[Errno 2] No such file or directory: '\\\\\\\\FS1\\\\imm\\\\Users\\\\berners\\\\Fib\\\\quasi-in-situ\\\\2mm_yolo\\\\eps3\\\\panoSaveImage.tif'",
     "output_type": "error",
     "traceback": [
      "\u001b[1;31m---------------------------------------------------------------------------\u001b[0m",
      "\u001b[1;31mFileNotFoundError\u001b[0m                         Traceback (most recent call last)",
      "Cell \u001b[1;32mIn[6], line 4\u001b[0m\n\u001b[0;32m      2\u001b[0m i\u001b[39m=\u001b[39m\u001b[39m0\u001b[39m\n\u001b[0;32m      3\u001b[0m \u001b[39mfor\u001b[39;00m img_path \u001b[39min\u001b[39;00m paths:   \n\u001b[1;32m----> 4\u001b[0m     image \u001b[39m=\u001b[39m imread(img_path)\n\u001b[0;32m      5\u001b[0m     \u001b[39m#matched = match_histograms(image, reference)\u001b[39;00m\n\u001b[0;32m      6\u001b[0m     \u001b[39m#matched_uint8 = matched.astype(np.uint8)\u001b[39;00m\n\u001b[0;32m      7\u001b[0m     \u001b[39mprint\u001b[39m(re\u001b[39m.\u001b[39mfindall(\u001b[39m'\u001b[39m\u001b[39m-([\u001b[39m\u001b[39m\\\u001b[39m\u001b[39md]+)\u001b[39m\u001b[39m'\u001b[39m,img_path\u001b[39m.\u001b[39mstem))\n",
      "File \u001b[1;32mc:\\Users\\berners\\AppData\\Local\\Programs\\Python\\Python39\\lib\\site-packages\\skimage\\io\\_io.py:53\u001b[0m, in \u001b[0;36mimread\u001b[1;34m(fname, as_gray, plugin, **plugin_args)\u001b[0m\n\u001b[0;32m     50\u001b[0m         plugin \u001b[39m=\u001b[39m \u001b[39m'\u001b[39m\u001b[39mtifffile\u001b[39m\u001b[39m'\u001b[39m\n\u001b[0;32m     52\u001b[0m \u001b[39mwith\u001b[39;00m file_or_url_context(fname) \u001b[39mas\u001b[39;00m fname:\n\u001b[1;32m---> 53\u001b[0m     img \u001b[39m=\u001b[39m call_plugin(\u001b[39m'\u001b[39m\u001b[39mimread\u001b[39m\u001b[39m'\u001b[39m, fname, plugin\u001b[39m=\u001b[39mplugin, \u001b[39m*\u001b[39m\u001b[39m*\u001b[39mplugin_args)\n\u001b[0;32m     55\u001b[0m \u001b[39mif\u001b[39;00m \u001b[39mnot\u001b[39;00m \u001b[39mhasattr\u001b[39m(img, \u001b[39m'\u001b[39m\u001b[39mndim\u001b[39m\u001b[39m'\u001b[39m):\n\u001b[0;32m     56\u001b[0m     \u001b[39mreturn\u001b[39;00m img\n",
      "File \u001b[1;32mc:\\Users\\berners\\AppData\\Local\\Programs\\Python\\Python39\\lib\\site-packages\\skimage\\io\\manage_plugins.py:205\u001b[0m, in \u001b[0;36mcall_plugin\u001b[1;34m(kind, *args, **kwargs)\u001b[0m\n\u001b[0;32m    202\u001b[0m     \u001b[39mexcept\u001b[39;00m \u001b[39mIndexError\u001b[39;00m:\n\u001b[0;32m    203\u001b[0m         \u001b[39mraise\u001b[39;00m \u001b[39mRuntimeError\u001b[39;00m(\u001b[39mf\u001b[39m\u001b[39m'\u001b[39m\u001b[39mCould not find the plugin \u001b[39m\u001b[39m\"\u001b[39m\u001b[39m{\u001b[39;00mplugin\u001b[39m}\u001b[39;00m\u001b[39m\"\u001b[39m\u001b[39m for \u001b[39m\u001b[39m{\u001b[39;00mkind\u001b[39m}\u001b[39;00m\u001b[39m.\u001b[39m\u001b[39m'\u001b[39m)\n\u001b[1;32m--> 205\u001b[0m \u001b[39mreturn\u001b[39;00m func(\u001b[39m*\u001b[39margs, \u001b[39m*\u001b[39m\u001b[39m*\u001b[39mkwargs)\n",
      "File \u001b[1;32mc:\\Users\\berners\\AppData\\Local\\Programs\\Python\\Python39\\lib\\site-packages\\skimage\\io\\_plugins\\tifffile_plugin.py:74\u001b[0m, in \u001b[0;36mimread\u001b[1;34m(fname, **kwargs)\u001b[0m\n\u001b[0;32m     71\u001b[0m \u001b[39mif\u001b[39;00m \u001b[39m'\u001b[39m\u001b[39mimg_num\u001b[39m\u001b[39m'\u001b[39m \u001b[39min\u001b[39;00m kwargs:\n\u001b[0;32m     72\u001b[0m     kwargs[\u001b[39m'\u001b[39m\u001b[39mkey\u001b[39m\u001b[39m'\u001b[39m] \u001b[39m=\u001b[39m kwargs\u001b[39m.\u001b[39mpop(\u001b[39m'\u001b[39m\u001b[39mimg_num\u001b[39m\u001b[39m'\u001b[39m)\n\u001b[1;32m---> 74\u001b[0m \u001b[39mreturn\u001b[39;00m tifffile_imread(fname, \u001b[39m*\u001b[39m\u001b[39m*\u001b[39mkwargs)\n",
      "File \u001b[1;32mc:\\Users\\berners\\AppData\\Local\\Programs\\Python\\Python39\\lib\\site-packages\\tifffile\\tifffile.py:1062\u001b[0m, in \u001b[0;36mimread\u001b[1;34m(files, aszarr, key, series, level, squeeze, maxworkers, mode, name, offset, size, pattern, axesorder, categories, imread, sort, container, chunkshape, dtype, axestiled, ioworkers, chunkmode, fillvalue, zattrs, multiscales, omexml, out, out_inplace, _multifile, _useframes, **kwargs)\u001b[0m\n\u001b[0;32m   1057\u001b[0m     files \u001b[39m=\u001b[39m files[\u001b[39m0\u001b[39m]\n\u001b[0;32m   1059\u001b[0m \u001b[39mif\u001b[39;00m \u001b[39misinstance\u001b[39m(files, \u001b[39mstr\u001b[39m) \u001b[39mor\u001b[39;00m \u001b[39mnot\u001b[39;00m \u001b[39misinstance\u001b[39m(\n\u001b[0;32m   1060\u001b[0m     files, collections\u001b[39m.\u001b[39mabc\u001b[39m.\u001b[39mSequence\n\u001b[0;32m   1061\u001b[0m ):\n\u001b[1;32m-> 1062\u001b[0m     \u001b[39mwith\u001b[39;00m TiffFile(\n\u001b[0;32m   1063\u001b[0m         files,\n\u001b[0;32m   1064\u001b[0m         mode\u001b[39m=\u001b[39mmode,\n\u001b[0;32m   1065\u001b[0m         name\u001b[39m=\u001b[39mname,\n\u001b[0;32m   1066\u001b[0m         offset\u001b[39m=\u001b[39moffset,\n\u001b[0;32m   1067\u001b[0m         size\u001b[39m=\u001b[39msize,\n\u001b[0;32m   1068\u001b[0m         omexml\u001b[39m=\u001b[39momexml,\n\u001b[0;32m   1069\u001b[0m         _multifile\u001b[39m=\u001b[39m_multifile,\n\u001b[0;32m   1070\u001b[0m         _useframes\u001b[39m=\u001b[39m_useframes,\n\u001b[0;32m   1071\u001b[0m         \u001b[39m*\u001b[39m\u001b[39m*\u001b[39mis_flags,\n\u001b[0;32m   1072\u001b[0m     ) \u001b[39mas\u001b[39;00m tif:\n\u001b[0;32m   1073\u001b[0m         \u001b[39mif\u001b[39;00m aszarr:\n\u001b[0;32m   1074\u001b[0m             \u001b[39massert\u001b[39;00m key \u001b[39mis\u001b[39;00m \u001b[39mNone\u001b[39;00m \u001b[39mor\u001b[39;00m \u001b[39misinstance\u001b[39m(key, \u001b[39mint\u001b[39m)\n",
      "File \u001b[1;32mc:\\Users\\berners\\AppData\\Local\\Programs\\Python\\Python39\\lib\\site-packages\\tifffile\\tifffile.py:3993\u001b[0m, in \u001b[0;36mTiffFile.__init__\u001b[1;34m(self, file, mode, name, offset, size, omexml, _multifile, _useframes, _parent, **is_flags)\u001b[0m\n\u001b[0;32m   3990\u001b[0m \u001b[39mif\u001b[39;00m mode \u001b[39mnot\u001b[39;00m \u001b[39min\u001b[39;00m (\u001b[39mNone\u001b[39;00m, \u001b[39m'\u001b[39m\u001b[39mr\u001b[39m\u001b[39m'\u001b[39m, \u001b[39m'\u001b[39m\u001b[39mr+\u001b[39m\u001b[39m'\u001b[39m, \u001b[39m'\u001b[39m\u001b[39mrb\u001b[39m\u001b[39m'\u001b[39m, \u001b[39m'\u001b[39m\u001b[39mr+b\u001b[39m\u001b[39m'\u001b[39m):\n\u001b[0;32m   3991\u001b[0m     \u001b[39mraise\u001b[39;00m \u001b[39mValueError\u001b[39;00m(\u001b[39mf\u001b[39m\u001b[39m'\u001b[39m\u001b[39minvalid mode \u001b[39m\u001b[39m{\u001b[39;00mmode\u001b[39m!r}\u001b[39;00m\u001b[39m'\u001b[39m)\n\u001b[1;32m-> 3993\u001b[0m fh \u001b[39m=\u001b[39m FileHandle(file, mode\u001b[39m=\u001b[39;49mmode, name\u001b[39m=\u001b[39;49mname, offset\u001b[39m=\u001b[39;49moffset, size\u001b[39m=\u001b[39;49msize)\n\u001b[0;32m   3994\u001b[0m \u001b[39mself\u001b[39m\u001b[39m.\u001b[39m_fh \u001b[39m=\u001b[39m fh\n\u001b[0;32m   3995\u001b[0m \u001b[39mself\u001b[39m\u001b[39m.\u001b[39m_multifile \u001b[39m=\u001b[39m \u001b[39mTrue\u001b[39;00m \u001b[39mif\u001b[39;00m _multifile \u001b[39mis\u001b[39;00m \u001b[39mNone\u001b[39;00m \u001b[39melse\u001b[39;00m \u001b[39mbool\u001b[39m(_multifile)\n",
      "File \u001b[1;32mc:\\Users\\berners\\AppData\\Local\\Programs\\Python\\Python39\\lib\\site-packages\\tifffile\\tifffile.py:13929\u001b[0m, in \u001b[0;36mFileHandle.__init__\u001b[1;34m(self, file, mode, name, offset, size)\u001b[0m\n\u001b[0;32m  13927\u001b[0m \u001b[39mself\u001b[39m\u001b[39m.\u001b[39m_close \u001b[39m=\u001b[39m \u001b[39mTrue\u001b[39;00m\n\u001b[0;32m  13928\u001b[0m \u001b[39mself\u001b[39m\u001b[39m.\u001b[39m_lock \u001b[39m=\u001b[39m NullContext()\n\u001b[1;32m> 13929\u001b[0m \u001b[39mself\u001b[39;49m\u001b[39m.\u001b[39;49mopen()\n\u001b[0;32m  13930\u001b[0m \u001b[39massert\u001b[39;00m \u001b[39mself\u001b[39m\u001b[39m.\u001b[39m_fh \u001b[39mis\u001b[39;00m \u001b[39mnot\u001b[39;00m \u001b[39mNone\u001b[39;00m\n",
      "File \u001b[1;32mc:\\Users\\berners\\AppData\\Local\\Programs\\Python\\Python39\\lib\\site-packages\\tifffile\\tifffile.py:13944\u001b[0m, in \u001b[0;36mFileHandle.open\u001b[1;34m(self)\u001b[0m\n\u001b[0;32m  13942\u001b[0m \u001b[39mself\u001b[39m\u001b[39m.\u001b[39m_file \u001b[39m=\u001b[39m os\u001b[39m.\u001b[39mpath\u001b[39m.\u001b[39mrealpath(\u001b[39mself\u001b[39m\u001b[39m.\u001b[39m_file)\n\u001b[0;32m  13943\u001b[0m \u001b[39mself\u001b[39m\u001b[39m.\u001b[39m_dir, \u001b[39mself\u001b[39m\u001b[39m.\u001b[39m_name \u001b[39m=\u001b[39m os\u001b[39m.\u001b[39mpath\u001b[39m.\u001b[39msplit(\u001b[39mself\u001b[39m\u001b[39m.\u001b[39m_file)\n\u001b[1;32m> 13944\u001b[0m \u001b[39mself\u001b[39m\u001b[39m.\u001b[39m_fh \u001b[39m=\u001b[39m \u001b[39mopen\u001b[39;49m(\u001b[39mself\u001b[39;49m\u001b[39m.\u001b[39;49m_file, \u001b[39mself\u001b[39;49m\u001b[39m.\u001b[39;49m_mode)  \u001b[39m# type: ignore\u001b[39;00m\n\u001b[0;32m  13945\u001b[0m \u001b[39mself\u001b[39m\u001b[39m.\u001b[39m_close \u001b[39m=\u001b[39m \u001b[39mTrue\u001b[39;00m\n\u001b[0;32m  13946\u001b[0m \u001b[39mif\u001b[39;00m \u001b[39mself\u001b[39m\u001b[39m.\u001b[39m_offset \u001b[39m<\u001b[39m \u001b[39m0\u001b[39m:\n",
      "\u001b[1;31mFileNotFoundError\u001b[0m: [Errno 2] No such file or directory: '\\\\\\\\FS1\\\\imm\\\\Users\\\\berners\\\\Fib\\\\quasi-in-situ\\\\2mm_yolo\\\\eps3\\\\panoSaveImage.tif'"
     ]
    }
   ],
   "source": [
    "#reference = imread(refpath)\n",
    "i=0\n",
    "for img_path in paths:   \n",
    "    image = imread(img_path)\n",
    "    #matched = match_histograms(image, reference)\n",
    "    #matched_uint8 = matched.astype(np.uint8)\n",
    "    print(re.findall('-([\\d]+)',img_path.stem))\n",
    "    number=re.findall('-([\\d]+)',img_path.stem)\n",
    "#     print(number)\n",
    "    img_path\n",
    "#    imsave(f'{paths[1].parent}/pano_{int(number[-1]):03d}.png',image)\n",
    "    if int(number[-1])<269:\n",
    "        imsave(f'{paths[1].parent}/pano_{int(number[-1]):03d}.png',image)\n",
    "    else:\n",
    "        imsave(f'{paths[1].parent}/pano_{int(number[-1])+1:03d}.png',image)\n",
    "    i=i+1\n",
    "#     if i > 2:\n",
    "#         break\n",
    "    \n",
    "#    print(str(img_path.parent /'normalised' / img_path.parts[-1]))"
   ]
  },
  {
   "cell_type": "code",
   "execution_count": 11,
   "id": "c7029d63",
   "metadata": {
    "scrolled": true
   },
   "outputs": [
    {
     "data": {
      "text/plain": [
       "1"
      ]
     },
     "execution_count": 11,
     "metadata": {},
     "output_type": "execute_result"
    }
   ],
   "source": [
    "int(number[-1])+1\n"
   ]
  },
  {
   "cell_type": "code",
   "execution_count": 30,
   "id": "6298338e",
   "metadata": {},
   "outputs": [
    {
     "data": {
      "text/plain": [
       "'SaveImage-10'"
      ]
     },
     "execution_count": 30,
     "metadata": {},
     "output_type": "execute_result"
    }
   ],
   "source": [
    "img_path.stem\n"
   ]
  },
  {
   "cell_type": "code",
   "execution_count": 19,
   "id": "c70a7ee9",
   "metadata": {},
   "outputs": [
    {
     "ename": "AttributeError",
     "evalue": "'WindowsPath' object has no attribute 'split'",
     "output_type": "error",
     "traceback": [
      "\u001b[1;31m---------------------------------------------------------------------------\u001b[0m",
      "\u001b[1;31mAttributeError\u001b[0m                            Traceback (most recent call last)",
      "Cell \u001b[1;32mIn[19], line 3\u001b[0m\n\u001b[0;32m      1\u001b[0m \u001b[38;5;28;01mfrom\u001b[39;00m \u001b[38;5;21;01moperator\u001b[39;00m \u001b[38;5;28;01mimport\u001b[39;00m itemgetter\n\u001b[0;32m      2\u001b[0m paths\u001b[38;5;241m.\u001b[39msort()\n\u001b[1;32m----> 3\u001b[0m paths_sorted\u001b[38;5;241m=\u001b[39m\u001b[38;5;28;43msorted\u001b[39;49m\u001b[43m(\u001b[49m\u001b[43mpaths\u001b[49m\u001b[43m,\u001b[49m\u001b[43mkey\u001b[49m\u001b[38;5;241;43m=\u001b[39;49m\u001b[38;5;28;43;01mlambda\u001b[39;49;00m\u001b[43m \u001b[49m\u001b[43mx\u001b[49m\u001b[43m:\u001b[49m\u001b[43mitemgetter\u001b[49m\u001b[43m(\u001b[49m\u001b[38;5;241;43m1\u001b[39;49m\u001b[43m)\u001b[49m\u001b[43m(\u001b[49m\u001b[43mx\u001b[49m\u001b[38;5;241;43m.\u001b[39;49m\u001b[43msplit\u001b[49m\u001b[43m(\u001b[49m\u001b[43m)\u001b[49m\u001b[43m)\u001b[49m\u001b[43m)\u001b[49m\n",
      "Cell \u001b[1;32mIn[19], line 3\u001b[0m, in \u001b[0;36m<lambda>\u001b[1;34m(x)\u001b[0m\n\u001b[0;32m      1\u001b[0m \u001b[38;5;28;01mfrom\u001b[39;00m \u001b[38;5;21;01moperator\u001b[39;00m \u001b[38;5;28;01mimport\u001b[39;00m itemgetter\n\u001b[0;32m      2\u001b[0m paths\u001b[38;5;241m.\u001b[39msort()\n\u001b[1;32m----> 3\u001b[0m paths_sorted\u001b[38;5;241m=\u001b[39m\u001b[38;5;28msorted\u001b[39m(paths,key\u001b[38;5;241m=\u001b[39m\u001b[38;5;28;01mlambda\u001b[39;00m x:itemgetter(\u001b[38;5;241m1\u001b[39m)(\u001b[43mx\u001b[49m\u001b[38;5;241;43m.\u001b[39;49m\u001b[43msplit\u001b[49m()))\n",
      "\u001b[1;31mAttributeError\u001b[0m: 'WindowsPath' object has no attribute 'split'"
     ]
    }
   ],
   "source": [
    "from operator import itemgetter\n",
    "paths.sort()\n",
    "paths_sorted=sorted(paths,key=lambda x:itemgetter(1)(x.split()))\n"
   ]
  },
  {
   "cell_type": "code",
   "execution_count": 59,
   "id": "5366b72c",
   "metadata": {},
   "outputs": [
    {
     "ename": "FileNotFoundError",
     "evalue": "[Errno 2] No such file or directory: 'J\\\\:\\\\Users\\\\Berners, Lukas\\\\Igniter_Ofen\\\\samples\\\\Parameter_2022_12_15_10x10x2_MgAlCa_500C_setpoint_790_15min.txt'",
     "output_type": "error",
     "traceback": [
      "\u001b[1;31m---------------------------------------------------------------------------\u001b[0m",
      "\u001b[1;31mFileNotFoundError\u001b[0m                         Traceback (most recent call last)",
      "Cell \u001b[1;32mIn[59], line 2\u001b[0m\n\u001b[0;32m      1\u001b[0m \u001b[39mimport\u001b[39;00m \u001b[39mpandas\u001b[39;00m \u001b[39mas\u001b[39;00m \u001b[39mpd\u001b[39;00m\n\u001b[1;32m----> 2\u001b[0m pd\u001b[39m.\u001b[39;49mread_csv(Path(\u001b[39m'\u001b[39;49m\u001b[39mJ\u001b[39;49m\u001b[39m\\\u001b[39;49m\u001b[39m:/Users/Berners, Lukas/Igniter_Ofen/samples/Parameter_2022_12_15_10x10x2_MgAlCa_500C_setpoint_790_15min.txt\u001b[39;49m\u001b[39m'\u001b[39;49m))\n",
      "File \u001b[1;32mc:\\Users\\berners\\AppData\\Local\\Programs\\Python\\Python39\\lib\\site-packages\\pandas\\io\\parsers\\readers.py:912\u001b[0m, in \u001b[0;36mread_csv\u001b[1;34m(filepath_or_buffer, sep, delimiter, header, names, index_col, usecols, dtype, engine, converters, true_values, false_values, skipinitialspace, skiprows, skipfooter, nrows, na_values, keep_default_na, na_filter, verbose, skip_blank_lines, parse_dates, infer_datetime_format, keep_date_col, date_parser, date_format, dayfirst, cache_dates, iterator, chunksize, compression, thousands, decimal, lineterminator, quotechar, quoting, doublequote, escapechar, comment, encoding, encoding_errors, dialect, on_bad_lines, delim_whitespace, low_memory, memory_map, float_precision, storage_options, dtype_backend)\u001b[0m\n\u001b[0;32m    899\u001b[0m kwds_defaults \u001b[39m=\u001b[39m _refine_defaults_read(\n\u001b[0;32m    900\u001b[0m     dialect,\n\u001b[0;32m    901\u001b[0m     delimiter,\n\u001b[1;32m   (...)\u001b[0m\n\u001b[0;32m    908\u001b[0m     dtype_backend\u001b[39m=\u001b[39mdtype_backend,\n\u001b[0;32m    909\u001b[0m )\n\u001b[0;32m    910\u001b[0m kwds\u001b[39m.\u001b[39mupdate(kwds_defaults)\n\u001b[1;32m--> 912\u001b[0m \u001b[39mreturn\u001b[39;00m _read(filepath_or_buffer, kwds)\n",
      "File \u001b[1;32mc:\\Users\\berners\\AppData\\Local\\Programs\\Python\\Python39\\lib\\site-packages\\pandas\\io\\parsers\\readers.py:577\u001b[0m, in \u001b[0;36m_read\u001b[1;34m(filepath_or_buffer, kwds)\u001b[0m\n\u001b[0;32m    574\u001b[0m _validate_names(kwds\u001b[39m.\u001b[39mget(\u001b[39m\"\u001b[39m\u001b[39mnames\u001b[39m\u001b[39m\"\u001b[39m, \u001b[39mNone\u001b[39;00m))\n\u001b[0;32m    576\u001b[0m \u001b[39m# Create the parser.\u001b[39;00m\n\u001b[1;32m--> 577\u001b[0m parser \u001b[39m=\u001b[39m TextFileReader(filepath_or_buffer, \u001b[39m*\u001b[39m\u001b[39m*\u001b[39mkwds)\n\u001b[0;32m    579\u001b[0m \u001b[39mif\u001b[39;00m chunksize \u001b[39mor\u001b[39;00m iterator:\n\u001b[0;32m    580\u001b[0m     \u001b[39mreturn\u001b[39;00m parser\n",
      "File \u001b[1;32mc:\\Users\\berners\\AppData\\Local\\Programs\\Python\\Python39\\lib\\site-packages\\pandas\\io\\parsers\\readers.py:1407\u001b[0m, in \u001b[0;36mTextFileReader.__init__\u001b[1;34m(self, f, engine, **kwds)\u001b[0m\n\u001b[0;32m   1404\u001b[0m     \u001b[39mself\u001b[39m\u001b[39m.\u001b[39moptions[\u001b[39m\"\u001b[39m\u001b[39mhas_index_names\u001b[39m\u001b[39m\"\u001b[39m] \u001b[39m=\u001b[39m kwds[\u001b[39m\"\u001b[39m\u001b[39mhas_index_names\u001b[39m\u001b[39m\"\u001b[39m]\n\u001b[0;32m   1406\u001b[0m \u001b[39mself\u001b[39m\u001b[39m.\u001b[39mhandles: IOHandles \u001b[39m|\u001b[39m \u001b[39mNone\u001b[39;00m \u001b[39m=\u001b[39m \u001b[39mNone\u001b[39;00m\n\u001b[1;32m-> 1407\u001b[0m \u001b[39mself\u001b[39m\u001b[39m.\u001b[39m_engine \u001b[39m=\u001b[39m \u001b[39mself\u001b[39;49m\u001b[39m.\u001b[39;49m_make_engine(f, \u001b[39mself\u001b[39;49m\u001b[39m.\u001b[39;49mengine)\n",
      "File \u001b[1;32mc:\\Users\\berners\\AppData\\Local\\Programs\\Python\\Python39\\lib\\site-packages\\pandas\\io\\parsers\\readers.py:1661\u001b[0m, in \u001b[0;36mTextFileReader._make_engine\u001b[1;34m(self, f, engine)\u001b[0m\n\u001b[0;32m   1659\u001b[0m     \u001b[39mif\u001b[39;00m \u001b[39m\"\u001b[39m\u001b[39mb\u001b[39m\u001b[39m\"\u001b[39m \u001b[39mnot\u001b[39;00m \u001b[39min\u001b[39;00m mode:\n\u001b[0;32m   1660\u001b[0m         mode \u001b[39m+\u001b[39m\u001b[39m=\u001b[39m \u001b[39m\"\u001b[39m\u001b[39mb\u001b[39m\u001b[39m\"\u001b[39m\n\u001b[1;32m-> 1661\u001b[0m \u001b[39mself\u001b[39m\u001b[39m.\u001b[39mhandles \u001b[39m=\u001b[39m get_handle(\n\u001b[0;32m   1662\u001b[0m     f,\n\u001b[0;32m   1663\u001b[0m     mode,\n\u001b[0;32m   1664\u001b[0m     encoding\u001b[39m=\u001b[39;49m\u001b[39mself\u001b[39;49m\u001b[39m.\u001b[39;49moptions\u001b[39m.\u001b[39;49mget(\u001b[39m\"\u001b[39;49m\u001b[39mencoding\u001b[39;49m\u001b[39m\"\u001b[39;49m, \u001b[39mNone\u001b[39;49;00m),\n\u001b[0;32m   1665\u001b[0m     compression\u001b[39m=\u001b[39;49m\u001b[39mself\u001b[39;49m\u001b[39m.\u001b[39;49moptions\u001b[39m.\u001b[39;49mget(\u001b[39m\"\u001b[39;49m\u001b[39mcompression\u001b[39;49m\u001b[39m\"\u001b[39;49m, \u001b[39mNone\u001b[39;49;00m),\n\u001b[0;32m   1666\u001b[0m     memory_map\u001b[39m=\u001b[39;49m\u001b[39mself\u001b[39;49m\u001b[39m.\u001b[39;49moptions\u001b[39m.\u001b[39;49mget(\u001b[39m\"\u001b[39;49m\u001b[39mmemory_map\u001b[39;49m\u001b[39m\"\u001b[39;49m, \u001b[39mFalse\u001b[39;49;00m),\n\u001b[0;32m   1667\u001b[0m     is_text\u001b[39m=\u001b[39;49mis_text,\n\u001b[0;32m   1668\u001b[0m     errors\u001b[39m=\u001b[39;49m\u001b[39mself\u001b[39;49m\u001b[39m.\u001b[39;49moptions\u001b[39m.\u001b[39;49mget(\u001b[39m\"\u001b[39;49m\u001b[39mencoding_errors\u001b[39;49m\u001b[39m\"\u001b[39;49m, \u001b[39m\"\u001b[39;49m\u001b[39mstrict\u001b[39;49m\u001b[39m\"\u001b[39;49m),\n\u001b[0;32m   1669\u001b[0m     storage_options\u001b[39m=\u001b[39;49m\u001b[39mself\u001b[39;49m\u001b[39m.\u001b[39;49moptions\u001b[39m.\u001b[39;49mget(\u001b[39m\"\u001b[39;49m\u001b[39mstorage_options\u001b[39;49m\u001b[39m\"\u001b[39;49m, \u001b[39mNone\u001b[39;49;00m),\n\u001b[0;32m   1670\u001b[0m )\n\u001b[0;32m   1671\u001b[0m \u001b[39massert\u001b[39;00m \u001b[39mself\u001b[39m\u001b[39m.\u001b[39mhandles \u001b[39mis\u001b[39;00m \u001b[39mnot\u001b[39;00m \u001b[39mNone\u001b[39;00m\n\u001b[0;32m   1672\u001b[0m f \u001b[39m=\u001b[39m \u001b[39mself\u001b[39m\u001b[39m.\u001b[39mhandles\u001b[39m.\u001b[39mhandle\n",
      "File \u001b[1;32mc:\\Users\\berners\\AppData\\Local\\Programs\\Python\\Python39\\lib\\site-packages\\pandas\\io\\common.py:859\u001b[0m, in \u001b[0;36mget_handle\u001b[1;34m(path_or_buf, mode, encoding, compression, memory_map, is_text, errors, storage_options)\u001b[0m\n\u001b[0;32m    854\u001b[0m \u001b[39melif\u001b[39;00m \u001b[39misinstance\u001b[39m(handle, \u001b[39mstr\u001b[39m):\n\u001b[0;32m    855\u001b[0m     \u001b[39m# Check whether the filename is to be opened in binary mode.\u001b[39;00m\n\u001b[0;32m    856\u001b[0m     \u001b[39m# Binary mode does not support 'encoding' and 'newline'.\u001b[39;00m\n\u001b[0;32m    857\u001b[0m     \u001b[39mif\u001b[39;00m ioargs\u001b[39m.\u001b[39mencoding \u001b[39mand\u001b[39;00m \u001b[39m\"\u001b[39m\u001b[39mb\u001b[39m\u001b[39m\"\u001b[39m \u001b[39mnot\u001b[39;00m \u001b[39min\u001b[39;00m ioargs\u001b[39m.\u001b[39mmode:\n\u001b[0;32m    858\u001b[0m         \u001b[39m# Encoding\u001b[39;00m\n\u001b[1;32m--> 859\u001b[0m         handle \u001b[39m=\u001b[39m \u001b[39mopen\u001b[39;49m(\n\u001b[0;32m    860\u001b[0m             handle,\n\u001b[0;32m    861\u001b[0m             ioargs\u001b[39m.\u001b[39;49mmode,\n\u001b[0;32m    862\u001b[0m             encoding\u001b[39m=\u001b[39;49mioargs\u001b[39m.\u001b[39;49mencoding,\n\u001b[0;32m    863\u001b[0m             errors\u001b[39m=\u001b[39;49merrors,\n\u001b[0;32m    864\u001b[0m             newline\u001b[39m=\u001b[39;49m\u001b[39m\"\u001b[39;49m\u001b[39m\"\u001b[39;49m,\n\u001b[0;32m    865\u001b[0m         )\n\u001b[0;32m    866\u001b[0m     \u001b[39melse\u001b[39;00m:\n\u001b[0;32m    867\u001b[0m         \u001b[39m# Binary mode\u001b[39;00m\n\u001b[0;32m    868\u001b[0m         handle \u001b[39m=\u001b[39m \u001b[39mopen\u001b[39m(handle, ioargs\u001b[39m.\u001b[39mmode)\n",
      "\u001b[1;31mFileNotFoundError\u001b[0m: [Errno 2] No such file or directory: 'J\\\\:\\\\Users\\\\Berners, Lukas\\\\Igniter_Ofen\\\\samples\\\\Parameter_2022_12_15_10x10x2_MgAlCa_500C_setpoint_790_15min.txt'"
     ]
    }
   ],
   "source": [
    "import pandas as pd\n",
    "pd.read_csv(Path('J\\:/Users/Berners, Lukas/Igniter_Ofen/samples/Parameter_2022_12_15_10x10x2_MgAlCa_500C_setpoint_790_15min.txt'))"
   ]
  },
  {
   "cell_type": "code",
   "execution_count": 72,
   "id": "45320d4f",
   "metadata": {},
   "outputs": [
    {
     "data": {
      "text/plain": [
       "True"
      ]
     },
     "execution_count": 72,
     "metadata": {},
     "output_type": "execute_result"
    }
   ],
   "source": [
    "temp=Path('J\\:/Users/Berners, Lukas/Igniter_Ofen/samples/Parameter_2022_12_15_10x10x2_MgAlCa_500C_setpoint_790_15min.txt')\n",
    "temp=Path(\"I:\\Fib\\quasi-in-situ\\head_yolo\\eps5_5kv\\SaveImage.tif\")\n",
    "temp.parents[3].exists()"
   ]
  }
 ],
 "metadata": {
  "kernelspec": {
   "display_name": "Python 3 (ipykernel)",
   "language": "python",
   "name": "python3"
  },
  "language_info": {
   "codemirror_mode": {
    "name": "ipython",
    "version": 3
   },
   "file_extension": ".py",
   "mimetype": "text/x-python",
   "name": "python",
   "nbconvert_exporter": "python",
   "pygments_lexer": "ipython3",
   "version": "3.9.13"
  },
  "varInspector": {
   "cols": {
    "lenName": 16,
    "lenType": 16,
    "lenVar": 40
   },
   "kernels_config": {
    "python": {
     "delete_cmd_postfix": "",
     "delete_cmd_prefix": "del ",
     "library": "var_list.py",
     "varRefreshCmd": "print(var_dic_list())"
    },
    "r": {
     "delete_cmd_postfix": ") ",
     "delete_cmd_prefix": "rm(",
     "library": "var_list.r",
     "varRefreshCmd": "cat(var_dic_list()) "
    }
   },
   "types_to_exclude": [
    "module",
    "function",
    "builtin_function_or_method",
    "instance",
    "_Feature"
   ],
   "window_display": false
  }
 },
 "nbformat": 4,
 "nbformat_minor": 5
}
