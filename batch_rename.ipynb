{
 "cells": [
  {
   "cell_type": "code",
   "execution_count": 1,
   "id": "23702ccd",
   "metadata": {},
   "outputs": [],
   "source": [
    "import numpy as np\n",
    "import tkinter\n",
    "from tkinter.filedialog import askopenfilename\n",
    "from pathlib import *\n",
    "from glob import glob\n",
    "import os\n",
    "import matplotlib.pyplot as plt\n",
    "from skimage import data\n",
    "from skimage import exposure\n",
    "from skimage.exposure import match_histograms\n",
    "from skimage.io import imsave, imread"
   ]
  },
  {
   "cell_type": "code",
   "execution_count": 2,
   "id": "a60a7b7f",
   "metadata": {},
   "outputs": [],
   "source": [
    "refpath=Path(\"J:\\\\Users\\Berners, Lukas\\LEO\\quasi-in_situ\\C02\\\\4mm\\eps3\\pano\\panorama043.tif\")"
   ]
  },
  {
   "cell_type": "code",
   "execution_count": 3,
   "id": "d2245236",
   "metadata": {},
   "outputs": [
    {
     "ename": "FileExistsError",
     "evalue": "[WinError 183] Eine Datei kann nicht erstellt werden, wenn sie bereits vorhanden ist: 'I:\\\\LEO\\\\HT\\\\C02\\\\500C\\\\48h\\\\BSE2\\\\pano\\\\normalised'",
     "output_type": "error",
     "traceback": [
      "\u001b[1;31m---------------------------------------------------------------------------\u001b[0m",
      "\u001b[1;31mFileExistsError\u001b[0m                           Traceback (most recent call last)",
      "\u001b[1;32m~\\AppData\\Local\\Temp/ipykernel_1212/2343286738.py\u001b[0m in \u001b[0;36m<module>\u001b[1;34m\u001b[0m\n\u001b[0;32m      1\u001b[0m \u001b[0mfile\u001b[0m \u001b[1;33m=\u001b[0m \u001b[0mPath\u001b[0m\u001b[1;33m(\u001b[0m\u001b[0maskopenfilename\u001b[0m\u001b[1;33m(\u001b[0m\u001b[0minitialdir\u001b[0m\u001b[1;33m=\u001b[0m\u001b[1;34m'I:\\LEO'\u001b[0m\u001b[1;33m,\u001b[0m \u001b[0mtitle\u001b[0m\u001b[1;33m=\u001b[0m\u001b[1;34m'´Select the folder, with images you want to normalise and select first image'\u001b[0m\u001b[1;33m)\u001b[0m\u001b[1;33m)\u001b[0m\u001b[1;33m\u001b[0m\u001b[1;33m\u001b[0m\u001b[0m\n\u001b[0;32m      2\u001b[0m \u001b[0mpaths\u001b[0m\u001b[1;33m=\u001b[0m\u001b[0mlist\u001b[0m\u001b[1;33m(\u001b[0m\u001b[0mfile\u001b[0m\u001b[1;33m.\u001b[0m\u001b[0mparent\u001b[0m\u001b[1;33m.\u001b[0m\u001b[0mglob\u001b[0m\u001b[1;33m(\u001b[0m\u001b[1;34m'**/pano*.tif'\u001b[0m\u001b[1;33m)\u001b[0m\u001b[1;33m)\u001b[0m\u001b[1;33m\u001b[0m\u001b[1;33m\u001b[0m\u001b[0m\n\u001b[1;32m----> 3\u001b[1;33m \u001b[0mos\u001b[0m\u001b[1;33m.\u001b[0m\u001b[0mmkdir\u001b[0m\u001b[1;33m(\u001b[0m\u001b[0mfile\u001b[0m\u001b[1;33m.\u001b[0m\u001b[0mparent\u001b[0m \u001b[1;33m/\u001b[0m \u001b[1;34m'normalised'\u001b[0m\u001b[1;33m)\u001b[0m\u001b[1;33m\u001b[0m\u001b[1;33m\u001b[0m\u001b[0m\n\u001b[0m",
      "\u001b[1;31mFileExistsError\u001b[0m: [WinError 183] Eine Datei kann nicht erstellt werden, wenn sie bereits vorhanden ist: 'I:\\\\LEO\\\\HT\\\\C02\\\\500C\\\\48h\\\\BSE2\\\\pano\\\\normalised'"
     ]
    }
   ],
   "source": [
    "file = Path(askopenfilename(initialdir='I:\\LEO', title='´Select the folder, with images you want to normalise and select first image'))\n",
    "paths=list(file.parent.glob('**/pano*.tif'))\n",
    "os.mkdir(file.parent / 'normalised')"
   ]
  },
  {
   "cell_type": "code",
   "execution_count": 7,
   "id": "c9827457",
   "metadata": {
    "scrolled": true
   },
   "outputs": [
    {
     "data": {
      "text/plain": [
       "WindowsPath('I:/LEO/HT/C02/500C/48h/BSE2/pano')"
      ]
     },
     "execution_count": 7,
     "metadata": {},
     "output_type": "execute_result"
    }
   ],
   "source": [
    "paths[1].parent"
   ]
  },
  {
   "cell_type": "code",
   "execution_count": 12,
   "id": "9fc7996f",
   "metadata": {},
   "outputs": [],
   "source": [
    "#reference = imread(refpath)\n",
    "i=0\n",
    "for img_path in paths:   \n",
    "    image = imread(img_path)\n",
    "    #matched = match_histograms(image, reference)\n",
    "    #matched_uint8 = matched.astype(np.uint8)\n",
    "    imsave(f'{paths[1].parent}/pano_{i:03d}.png',image)\n",
    "    i=i+1\n",
    "    \n",
    "#    print(str(img_path.parent /'normalised' / img_path.parts[-1]))"
   ]
  },
  {
   "cell_type": "code",
   "execution_count": null,
   "id": "5366b72c",
   "metadata": {},
   "outputs": [],
   "source": []
  }
 ],
 "metadata": {
  "kernelspec": {
   "display_name": "Python 3 (ipykernel)",
   "language": "python",
   "name": "python3"
  },
  "language_info": {
   "codemirror_mode": {
    "name": "ipython",
    "version": 3
   },
   "file_extension": ".py",
   "mimetype": "text/x-python",
   "name": "python",
   "nbconvert_exporter": "python",
   "pygments_lexer": "ipython3",
   "version": "3.9.7"
  },
  "varInspector": {
   "cols": {
    "lenName": 16,
    "lenType": 16,
    "lenVar": 40
   },
   "kernels_config": {
    "python": {
     "delete_cmd_postfix": "",
     "delete_cmd_prefix": "del ",
     "library": "var_list.py",
     "varRefreshCmd": "print(var_dic_list())"
    },
    "r": {
     "delete_cmd_postfix": ") ",
     "delete_cmd_prefix": "rm(",
     "library": "var_list.r",
     "varRefreshCmd": "cat(var_dic_list()) "
    }
   },
   "types_to_exclude": [
    "module",
    "function",
    "builtin_function_or_method",
    "instance",
    "_Feature"
   ],
   "window_display": false
  }
 },
 "nbformat": 4,
 "nbformat_minor": 5
}
