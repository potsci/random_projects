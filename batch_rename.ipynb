{
 "cells": [
  {
   "cell_type": "code",
   "execution_count": 26,
   "id": "23702ccd",
   "metadata": {},
   "outputs": [],
   "source": [
    "import numpy as np\n",
    "import tkinter\n",
    "from tkinter.filedialog import askopenfilename\n",
    "from pathlib import *\n",
    "from glob import glob\n",
    "import os\n",
    "import matplotlib.pyplot as plt\n",
    "from skimage import data\n",
    "from skimage import exposure\n",
    "from skimage.exposure import match_histograms\n",
    "from skimage.io import imsave, imread\n",
    "import re "
   ]
  },
  {
   "cell_type": "code",
   "execution_count": 4,
   "id": "a60a7b7f",
   "metadata": {},
   "outputs": [],
   "source": [
    "refpath=Path(\"J:\\\\Users\\\\Berners, Lukas\\\\Fib\\\\quasi_in_situ\\\\50_45\\\\5mm_DIC\\\\2023-02-28\\\\SaveImage-0.tif\")"
   ]
  },
  {
   "cell_type": "code",
   "execution_count": 5,
   "id": "d2245236",
   "metadata": {},
   "outputs": [],
   "source": [
    "file = Path(askopenfilename(initialdir='I:\\LEO', title='´Select the folder, with images you want to normalise and select first image'))\n"
   ]
  },
  {
   "cell_type": "code",
   "execution_count": 9,
   "id": "c81c71dd",
   "metadata": {},
   "outputs": [],
   "source": [
    "paths=list(file.parent.glob('**/SaveImage*.tif'))\n",
    "# os.mkdir(file.parent / 'normalised')"
   ]
  },
  {
   "cell_type": "code",
   "execution_count": 10,
   "id": "c9827457",
   "metadata": {
    "scrolled": true
   },
   "outputs": [
    {
     "data": {
      "text/plain": [
       "WindowsPath('J:/Users/Berners, Lukas/Fib/quasi_in_situ/50_45/5mm_DIC/2023-02-28')"
      ]
     },
     "execution_count": 10,
     "metadata": {},
     "output_type": "execute_result"
    }
   ],
   "source": [
    "paths[1].parent"
   ]
  },
  {
   "cell_type": "code",
   "execution_count": null,
   "id": "9fc7996f",
   "metadata": {},
   "outputs": [
    {
     "name": "stdout",
     "output_type": "stream",
     "text": [
      "['0']\n",
      "['1']\n",
      "['10']\n",
      "['100']\n",
      "['101']\n",
      "['102']\n",
      "['103']\n",
      "['104']\n",
      "['105']\n",
      "['106']\n",
      "['107']\n",
      "['108']\n",
      "['109']\n",
      "['11']\n",
      "['110']\n",
      "['111']\n",
      "['112']\n",
      "['113']\n",
      "['114']\n",
      "['115']\n",
      "['116']\n",
      "['117']\n",
      "['118']\n",
      "['119']\n",
      "['12']\n",
      "['120']\n",
      "['121']\n",
      "['122']\n",
      "['123']\n",
      "['124']\n",
      "['125']\n",
      "['126']\n",
      "['127']\n",
      "['128']\n",
      "['129']\n",
      "['13']\n",
      "['130']\n",
      "['131']\n",
      "['132']\n",
      "['133']\n",
      "['134']\n",
      "['135']\n",
      "['136']\n",
      "['137']\n",
      "['138']\n",
      "['139']\n",
      "['14']\n",
      "['140']\n",
      "['141']\n",
      "['142']\n",
      "['143']\n",
      "['144']\n",
      "['145']\n",
      "['146']\n"
     ]
    }
   ],
   "source": [
    "#reference = imread(refpath)\n",
    "i=0\n",
    "for img_path in paths:   \n",
    "    image = imread(img_path)\n",
    "    #matched = match_histograms(image, reference)\n",
    "    #matched_uint8 = matched.astype(np.uint8)\n",
    "    print(re.findall('-([\\d]+)',img_path.stem))\n",
    "    number=re.findall('-([\\d]+)',img_path.stem)\n",
    "#     print(number)\n",
    "    img_path\n",
    "    imsave(f'{paths[1].parent}/pano_{int(number[0]):03d}.png',image)\n",
    "    i=i+1\n",
    "#     if i > 2:\n",
    "#         break\n",
    "    \n",
    "#    print(str(img_path.parent /'normalised' / img_path.parts[-1]))"
   ]
  },
  {
   "cell_type": "code",
   "execution_count": 55,
   "id": "76c2ab63",
   "metadata": {
    "scrolled": true
   },
   "outputs": [
    {
     "data": {
      "text/plain": [
       "'0'"
      ]
     },
     "execution_count": 55,
     "metadata": {},
     "output_type": "execute_result"
    }
   ],
   "source": [
    "number[0]\n"
   ]
  },
  {
   "cell_type": "code",
   "execution_count": 30,
   "id": "af7f8158",
   "metadata": {},
   "outputs": [
    {
     "data": {
      "text/plain": [
       "'SaveImage-10'"
      ]
     },
     "execution_count": 30,
     "metadata": {},
     "output_type": "execute_result"
    }
   ],
   "source": [
    "img_path.stem\n"
   ]
  },
  {
   "cell_type": "code",
   "execution_count": 19,
   "id": "275b2990",
   "metadata": {},
   "outputs": [
    {
     "ename": "AttributeError",
     "evalue": "'WindowsPath' object has no attribute 'split'",
     "output_type": "error",
     "traceback": [
      "\u001b[1;31m---------------------------------------------------------------------------\u001b[0m",
      "\u001b[1;31mAttributeError\u001b[0m                            Traceback (most recent call last)",
      "Cell \u001b[1;32mIn[19], line 3\u001b[0m\n\u001b[0;32m      1\u001b[0m \u001b[38;5;28;01mfrom\u001b[39;00m \u001b[38;5;21;01moperator\u001b[39;00m \u001b[38;5;28;01mimport\u001b[39;00m itemgetter\n\u001b[0;32m      2\u001b[0m paths\u001b[38;5;241m.\u001b[39msort()\n\u001b[1;32m----> 3\u001b[0m paths_sorted\u001b[38;5;241m=\u001b[39m\u001b[38;5;28;43msorted\u001b[39;49m\u001b[43m(\u001b[49m\u001b[43mpaths\u001b[49m\u001b[43m,\u001b[49m\u001b[43mkey\u001b[49m\u001b[38;5;241;43m=\u001b[39;49m\u001b[38;5;28;43;01mlambda\u001b[39;49;00m\u001b[43m \u001b[49m\u001b[43mx\u001b[49m\u001b[43m:\u001b[49m\u001b[43mitemgetter\u001b[49m\u001b[43m(\u001b[49m\u001b[38;5;241;43m1\u001b[39;49m\u001b[43m)\u001b[49m\u001b[43m(\u001b[49m\u001b[43mx\u001b[49m\u001b[38;5;241;43m.\u001b[39;49m\u001b[43msplit\u001b[49m\u001b[43m(\u001b[49m\u001b[43m)\u001b[49m\u001b[43m)\u001b[49m\u001b[43m)\u001b[49m\n",
      "Cell \u001b[1;32mIn[19], line 3\u001b[0m, in \u001b[0;36m<lambda>\u001b[1;34m(x)\u001b[0m\n\u001b[0;32m      1\u001b[0m \u001b[38;5;28;01mfrom\u001b[39;00m \u001b[38;5;21;01moperator\u001b[39;00m \u001b[38;5;28;01mimport\u001b[39;00m itemgetter\n\u001b[0;32m      2\u001b[0m paths\u001b[38;5;241m.\u001b[39msort()\n\u001b[1;32m----> 3\u001b[0m paths_sorted\u001b[38;5;241m=\u001b[39m\u001b[38;5;28msorted\u001b[39m(paths,key\u001b[38;5;241m=\u001b[39m\u001b[38;5;28;01mlambda\u001b[39;00m x:itemgetter(\u001b[38;5;241m1\u001b[39m)(\u001b[43mx\u001b[49m\u001b[38;5;241;43m.\u001b[39;49m\u001b[43msplit\u001b[49m()))\n",
      "\u001b[1;31mAttributeError\u001b[0m: 'WindowsPath' object has no attribute 'split'"
     ]
    }
   ],
   "source": [
    "from operator import itemgetter\n",
    "paths.sort()\n",
    "paths_sorted=sorted(paths,key=lambda x:itemgetter(1)(x.split()))\n"
   ]
  },
  {
   "cell_type": "code",
   "execution_count": null,
   "id": "5366b72c",
   "metadata": {},
   "outputs": [],
   "source": []
  }
 ],
 "metadata": {
  "kernelspec": {
   "display_name": "Python 3 (ipykernel)",
   "language": "python",
   "name": "python3"
  },
  "language_info": {
   "codemirror_mode": {
    "name": "ipython",
    "version": 3
   },
   "file_extension": ".py",
   "mimetype": "text/x-python",
   "name": "python",
   "nbconvert_exporter": "python",
   "pygments_lexer": "ipython3",
   "version": "3.9.7"
  },
  "varInspector": {
   "cols": {
    "lenName": 16,
    "lenType": 16,
    "lenVar": 40
   },
   "kernels_config": {
    "python": {
     "delete_cmd_postfix": "",
     "delete_cmd_prefix": "del ",
     "library": "var_list.py",
     "varRefreshCmd": "print(var_dic_list())"
    },
    "r": {
     "delete_cmd_postfix": ") ",
     "delete_cmd_prefix": "rm(",
     "library": "var_list.r",
     "varRefreshCmd": "cat(var_dic_list()) "
    }
   },
   "types_to_exclude": [
    "module",
    "function",
    "builtin_function_or_method",
    "instance",
    "_Feature"
   ],
   "window_display": false
  }
 },
 "nbformat": 4,
 "nbformat_minor": 5
}
